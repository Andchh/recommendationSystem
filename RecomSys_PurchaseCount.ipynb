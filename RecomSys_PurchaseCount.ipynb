{
 "cells": [
  {
   "cell_type": "markdown",
   "metadata": {},
   "source": [
    "# Product-based Recommendation System\n",
    "## Based on Moorissa Tjokro tutorial\n",
    "### Coded by Rebeca Bivar - DB: Armazem Paraíba"
   ]
  },
  {
   "cell_type": "markdown",
   "metadata": {},
   "source": [
    "### Imports and reading file (data here has only clients, products and purchase count)"
   ]
  },
  {
   "cell_type": "code",
   "execution_count": 1,
   "metadata": {},
   "outputs": [],
   "source": [
    "import pandas as pd\n",
    "import numpy as np\n",
    "import matplotlib.pyplot as plt\n",
    "import turicreate as tc\n",
    "from sklearn.model_selection import train_test_split\n"
   ]
  },
  {
   "cell_type": "code",
   "execution_count": 2,
   "metadata": {},
   "outputs": [
    {
     "data": {
      "text/html": [
       "<div>\n",
       "<style scoped>\n",
       "    .dataframe tbody tr th:only-of-type {\n",
       "        vertical-align: middle;\n",
       "    }\n",
       "\n",
       "    .dataframe tbody tr th {\n",
       "        vertical-align: top;\n",
       "    }\n",
       "\n",
       "    .dataframe thead th {\n",
       "        text-align: right;\n",
       "    }\n",
       "</style>\n",
       "<table border=\"1\" class=\"dataframe\">\n",
       "  <thead>\n",
       "    <tr style=\"text-align: right;\">\n",
       "      <th></th>\n",
       "      <th>COD_CLIENTE</th>\n",
       "      <th>COD_PRODUTO</th>\n",
       "      <th>QUANTIDADE</th>\n",
       "    </tr>\n",
       "  </thead>\n",
       "  <tbody>\n",
       "    <tr>\n",
       "      <th>0</th>\n",
       "      <td>00000301</td>\n",
       "      <td>25243</td>\n",
       "      <td>1</td>\n",
       "    </tr>\n",
       "    <tr>\n",
       "      <th>1</th>\n",
       "      <td>00001501</td>\n",
       "      <td>25726</td>\n",
       "      <td>1</td>\n",
       "    </tr>\n",
       "    <tr>\n",
       "      <th>2</th>\n",
       "      <td>00002001</td>\n",
       "      <td>21653</td>\n",
       "      <td>1</td>\n",
       "    </tr>\n",
       "    <tr>\n",
       "      <th>3</th>\n",
       "      <td>00002701</td>\n",
       "      <td>25303</td>\n",
       "      <td>1</td>\n",
       "    </tr>\n",
       "    <tr>\n",
       "      <th>4</th>\n",
       "      <td>00003101</td>\n",
       "      <td>21255</td>\n",
       "      <td>1</td>\n",
       "    </tr>\n",
       "  </tbody>\n",
       "</table>\n",
       "</div>"
      ],
      "text/plain": [
       "  COD_CLIENTE  COD_PRODUTO  QUANTIDADE\n",
       "0    00000301        25243           1\n",
       "1    00001501        25726           1\n",
       "2    00002001        21653           1\n",
       "3    00002701        25303           1\n",
       "4    00003101        21255           1"
      ]
     },
     "execution_count": 2,
     "metadata": {},
     "output_type": "execute_result"
    }
   ],
   "source": [
    "#READING A FILE WITH ONLY CLIENTS, PRODUCTS BOUGHT AND QTDE\n",
    "buyers = pd.read_csv('teste.csv', sep=';')\n",
    "buyers.head()"
   ]
  },
  {
   "cell_type": "markdown",
   "metadata": {},
   "source": [
    "##  Data preparation\n",
    "### Creating dummy table to check if the client has bought a product or not"
   ]
  },
  {
   "cell_type": "code",
   "execution_count": 3,
   "metadata": {},
   "outputs": [
    {
     "data": {
      "text/html": [
       "<div>\n",
       "<style scoped>\n",
       "    .dataframe tbody tr th:only-of-type {\n",
       "        vertical-align: middle;\n",
       "    }\n",
       "\n",
       "    .dataframe tbody tr th {\n",
       "        vertical-align: top;\n",
       "    }\n",
       "\n",
       "    .dataframe thead th {\n",
       "        text-align: right;\n",
       "    }\n",
       "</style>\n",
       "<table border=\"1\" class=\"dataframe\">\n",
       "  <thead>\n",
       "    <tr style=\"text-align: right;\">\n",
       "      <th></th>\n",
       "      <th>COD_CLIENTE</th>\n",
       "      <th>COD_PRODUTO</th>\n",
       "      <th>QUANTIDADE</th>\n",
       "      <th>purchase_dummy</th>\n",
       "    </tr>\n",
       "  </thead>\n",
       "  <tbody>\n",
       "    <tr>\n",
       "      <th>0</th>\n",
       "      <td>00000301</td>\n",
       "      <td>25243</td>\n",
       "      <td>1</td>\n",
       "      <td>1</td>\n",
       "    </tr>\n",
       "    <tr>\n",
       "      <th>1</th>\n",
       "      <td>00001501</td>\n",
       "      <td>25726</td>\n",
       "      <td>1</td>\n",
       "      <td>1</td>\n",
       "    </tr>\n",
       "    <tr>\n",
       "      <th>2</th>\n",
       "      <td>00002001</td>\n",
       "      <td>21653</td>\n",
       "      <td>1</td>\n",
       "      <td>1</td>\n",
       "    </tr>\n",
       "    <tr>\n",
       "      <th>3</th>\n",
       "      <td>00002701</td>\n",
       "      <td>25303</td>\n",
       "      <td>1</td>\n",
       "      <td>1</td>\n",
       "    </tr>\n",
       "    <tr>\n",
       "      <th>4</th>\n",
       "      <td>00003101</td>\n",
       "      <td>21255</td>\n",
       "      <td>1</td>\n",
       "      <td>1</td>\n",
       "    </tr>\n",
       "    <tr>\n",
       "      <th>...</th>\n",
       "      <td>...</td>\n",
       "      <td>...</td>\n",
       "      <td>...</td>\n",
       "      <td>...</td>\n",
       "    </tr>\n",
       "    <tr>\n",
       "      <th>311736</th>\n",
       "      <td>YZ399601</td>\n",
       "      <td>25996</td>\n",
       "      <td>1</td>\n",
       "      <td>1</td>\n",
       "    </tr>\n",
       "    <tr>\n",
       "      <th>311737</th>\n",
       "      <td>YZ399801</td>\n",
       "      <td>26327</td>\n",
       "      <td>1</td>\n",
       "      <td>1</td>\n",
       "    </tr>\n",
       "    <tr>\n",
       "      <th>311738</th>\n",
       "      <td>YZ400601</td>\n",
       "      <td>26432</td>\n",
       "      <td>1</td>\n",
       "      <td>1</td>\n",
       "    </tr>\n",
       "    <tr>\n",
       "      <th>311739</th>\n",
       "      <td>YZ401401</td>\n",
       "      <td>26432</td>\n",
       "      <td>1</td>\n",
       "      <td>1</td>\n",
       "    </tr>\n",
       "    <tr>\n",
       "      <th>311740</th>\n",
       "      <td>YZ403601</td>\n",
       "      <td>26528</td>\n",
       "      <td>1</td>\n",
       "      <td>1</td>\n",
       "    </tr>\n",
       "  </tbody>\n",
       "</table>\n",
       "<p>311741 rows × 4 columns</p>\n",
       "</div>"
      ],
      "text/plain": [
       "       COD_CLIENTE  COD_PRODUTO  QUANTIDADE purchase_dummy\n",
       "0         00000301        25243           1              1\n",
       "1         00001501        25726           1              1\n",
       "2         00002001        21653           1              1\n",
       "3         00002701        25303           1              1\n",
       "4         00003101        21255           1              1\n",
       "...            ...          ...         ...            ...\n",
       "311736    YZ399601        25996           1              1\n",
       "311737    YZ399801        26327           1              1\n",
       "311738    YZ400601        26432           1              1\n",
       "311739    YZ401401        26432           1              1\n",
       "311740    YZ403601        26528           1              1\n",
       "\n",
       "[311741 rows x 4 columns]"
      ]
     },
     "execution_count": 3,
     "metadata": {},
     "output_type": "execute_result"
    }
   ],
   "source": [
    "def create_data_dummy(db):\n",
    "    data_dummy = db.copy()\n",
    "    data_dummy['purchase_dummy'] = '1'\n",
    "    return data_dummy\n",
    "\n",
    "data_dummy = create_data_dummy(buyers)\n",
    "data_dummy\n"
   ]
  },
  {
   "cell_type": "markdown",
   "metadata": {},
   "source": [
    "### Normalizing purchase frequency of each item across users "
   ]
  },
  {
   "cell_type": "code",
   "execution_count": 4,
   "metadata": {},
   "outputs": [],
   "source": [
    "#Dummy for marking whether a customer bought that item or not\n",
    "\n",
    "df_matrix = pd.pivot_table(buyers, values = 'QUANTIDADE', index = 'COD_CLIENTE', columns = 'COD_PRODUTO')\n",
    "\n",
    "df_matrix_norm = (df_matrix-df_matrix.min())/(df_matrix.max()-df_matrix.min())\n",
    "#df_matrix_norm\n",
    "\n",
    "# create a table for input to the modeling  \n",
    "data_input = df_matrix_norm.reset_index()\n",
    "data_input.index.names = ['FREQ_COMPRAS']\n",
    "data_norm = pd.melt(data_input, id_vars=['COD_CLIENTE'], \n",
    "                    value_name='FREQ_COMPRAS')\n",
    "\n",
    "#print(data_norm.shape)\n",
    "#data_norm.head()"
   ]
  },
  {
   "cell_type": "code",
   "execution_count": 9,
   "metadata": {},
   "outputs": [
    {
     "data": {
      "text/html": [
       "<div>\n",
       "<style scoped>\n",
       "    .dataframe tbody tr th:only-of-type {\n",
       "        vertical-align: middle;\n",
       "    }\n",
       "\n",
       "    .dataframe tbody tr th {\n",
       "        vertical-align: top;\n",
       "    }\n",
       "\n",
       "    .dataframe thead th {\n",
       "        text-align: right;\n",
       "    }\n",
       "</style>\n",
       "<table border=\"1\" class=\"dataframe\">\n",
       "  <thead>\n",
       "    <tr style=\"text-align: right;\">\n",
       "      <th></th>\n",
       "      <th>COD_CLIENTE</th>\n",
       "      <th>COD_PRODUTO</th>\n",
       "      <th>FREQ_COMPRAS</th>\n",
       "    </tr>\n",
       "  </thead>\n",
       "  <tbody>\n",
       "    <tr>\n",
       "      <th>1181239</th>\n",
       "      <td>00017101</td>\n",
       "      <td>11332</td>\n",
       "      <td>0.25</td>\n",
       "    </tr>\n",
       "    <tr>\n",
       "      <th>1184028</th>\n",
       "      <td>00449301</td>\n",
       "      <td>11332</td>\n",
       "      <td>1.00</td>\n",
       "    </tr>\n",
       "    <tr>\n",
       "      <th>1184343</th>\n",
       "      <td>00846001</td>\n",
       "      <td>11332</td>\n",
       "      <td>0.00</td>\n",
       "    </tr>\n",
       "    <tr>\n",
       "      <th>1185377</th>\n",
       "      <td>02130901</td>\n",
       "      <td>11332</td>\n",
       "      <td>0.00</td>\n",
       "    </tr>\n",
       "    <tr>\n",
       "      <th>1186365</th>\n",
       "      <td>03152901</td>\n",
       "      <td>11332</td>\n",
       "      <td>0.00</td>\n",
       "    </tr>\n",
       "  </tbody>\n",
       "</table>\n",
       "</div>"
      ],
      "text/plain": [
       "        COD_CLIENTE COD_PRODUTO  FREQ_COMPRAS\n",
       "1181239    00017101       11332          0.25\n",
       "1184028    00449301       11332          1.00\n",
       "1184343    00846001       11332          0.00\n",
       "1185377    02130901       11332          0.00\n",
       "1186365    03152901       11332          0.00"
      ]
     },
     "execution_count": 9,
     "metadata": {},
     "output_type": "execute_result"
    }
   ],
   "source": [
    "#Just cleaning useless values \n",
    "data_norm = data_norm.dropna()\n",
    "data_norm.head()"
   ]
  },
  {
   "cell_type": "markdown",
   "metadata": {},
   "source": [
    "### Split data into trainning and testing (80/20)"
   ]
  },
  {
   "cell_type": "code",
   "execution_count": 12,
   "metadata": {},
   "outputs": [],
   "source": [
    "\n",
    "# Returns train and test datasets as scalable dfs\n",
    "def split_data(data):\n",
    "    train, test = train_test_split(data, test_size = .2)\n",
    "    train_data = tc.SFrame(train)\n",
    "    test_data = tc.SFrame(test)\n",
    "    return train_data, test_data\n",
    "\n",
    "# Now actually splitting purchase_counts, purchase_dummy and purchase_counts_norm\n",
    "train_data, test_data = split_data(buyers)\n",
    "train_data_dummy, test_data_dummy = split_data(data_dummy)\n",
    "train_data_norm, test_data_norm = split_data(data_norm)"
   ]
  },
  {
   "cell_type": "markdown",
   "metadata": {},
   "source": [
    "## Baseline model to compare and evaluate models\n",
    "### Popularity Model\n",
    "   Takes the most popular items for recommendation, which are the products with the highest number of sells across customers.\n"
   ]
  },
  {
   "cell_type": "code",
   "execution_count": 25,
   "metadata": {},
   "outputs": [],
   "source": [
    "# variables to define field names: \n",
    "\n",
    "user_id = 'COD_CLIENTE'\n",
    "item_id = 'COD_PRODUTO'\n",
    "users_to_recommend = list(buyers[user_id])\n",
    "n_recommendation = 10 # itens to recommend\n",
    "n_display = 30 # display the first few rows in an output dataset\n",
    "\n",
    "# Function for all models using turicreate\n",
    "def model(train_data, name, user_id, item_id, target, \n",
    "          users_to_recommend, n_rec, n_display):\n",
    "    if name == 'popularity':\n",
    "        model = tc.popularity_recommender.create(train_data, \n",
    "                                                    user_id = user_id, \n",
    "                                                    item_id = item_id,\n",
    "                                                    target = target)\n",
    "    elif name == 'cosine':\n",
    "        model = tc.item_similarity_recommender.create(train_data, \n",
    "                                                    user_id=user_id, \n",
    "                                                    item_id=item_id, \n",
    "                                                    target=target, \n",
    "                                                    similarity_type='cosine')\n",
    "    elif name == 'pearson':\n",
    "        model = tc.item_similarity_recommender.create(train_data, \n",
    "                                                    user_id=user_id, \n",
    "                                                    item_id=item_id, \n",
    "                                                    target=target, \n",
    "                                                    similarity_type='pearson')\n",
    "        \n",
    "    recom = model.recommend(users=users_to_recommend, k=n_rec)\n",
    "    recom.print_rows(n_display)\n",
    "    return model"
   ]
  },
  {
   "cell_type": "markdown",
   "metadata": {},
   "source": [
    "### Using purchase count - Buyers"
   ]
  },
  {
   "cell_type": "code",
   "execution_count": 27,
   "metadata": {},
   "outputs": [
    {
     "data": {
      "text/html": [
       "<pre>Preparing data set.</pre>"
      ],
      "text/plain": [
       "Preparing data set."
      ]
     },
     "metadata": {},
     "output_type": "display_data"
    },
    {
     "data": {
      "text/html": [
       "<pre>    Data has 249392 observations with 198072 users and 670 items.</pre>"
      ],
      "text/plain": [
       "    Data has 249392 observations with 198072 users and 670 items."
      ]
     },
     "metadata": {},
     "output_type": "display_data"
    },
    {
     "data": {
      "text/html": [
       "<pre>    Data prepared in: 0.183193s</pre>"
      ],
      "text/plain": [
       "    Data prepared in: 0.183193s"
      ]
     },
     "metadata": {},
     "output_type": "display_data"
    },
    {
     "data": {
      "text/html": [
       "<pre>249392 observations to process; with 670 unique items.</pre>"
      ],
      "text/plain": [
       "249392 observations to process; with 670 unique items."
      ]
     },
     "metadata": {},
     "output_type": "display_data"
    },
    {
     "data": {
      "text/html": [
       "<pre>recommendations finished on 1000/311741 queries. users per second: 132083</pre>"
      ],
      "text/plain": [
       "recommendations finished on 1000/311741 queries. users per second: 132083"
      ]
     },
     "metadata": {},
     "output_type": "display_data"
    },
    {
     "data": {
      "text/html": [
       "<pre>recommendations finished on 2000/311741 queries. users per second: 228284</pre>"
      ],
      "text/plain": [
       "recommendations finished on 2000/311741 queries. users per second: 228284"
      ]
     },
     "metadata": {},
     "output_type": "display_data"
    },
    {
     "data": {
      "text/html": [
       "<pre>recommendations finished on 3000/311741 queries. users per second: 301326</pre>"
      ],
      "text/plain": [
       "recommendations finished on 3000/311741 queries. users per second: 301326"
      ]
     },
     "metadata": {},
     "output_type": "display_data"
    },
    {
     "data": {
      "text/html": [
       "<pre>recommendations finished on 4000/311741 queries. users per second: 359842</pre>"
      ],
      "text/plain": [
       "recommendations finished on 4000/311741 queries. users per second: 359842"
      ]
     },
     "metadata": {},
     "output_type": "display_data"
    },
    {
     "data": {
      "text/html": [
       "<pre>recommendations finished on 5000/311741 queries. users per second: 404957</pre>"
      ],
      "text/plain": [
       "recommendations finished on 5000/311741 queries. users per second: 404957"
      ]
     },
     "metadata": {},
     "output_type": "display_data"
    },
    {
     "data": {
      "text/html": [
       "<pre>recommendations finished on 6000/311741 queries. users per second: 436554</pre>"
      ],
      "text/plain": [
       "recommendations finished on 6000/311741 queries. users per second: 436554"
      ]
     },
     "metadata": {},
     "output_type": "display_data"
    },
    {
     "data": {
      "text/html": [
       "<pre>recommendations finished on 7000/311741 queries. users per second: 468040</pre>"
      ],
      "text/plain": [
       "recommendations finished on 7000/311741 queries. users per second: 468040"
      ]
     },
     "metadata": {},
     "output_type": "display_data"
    },
    {
     "data": {
      "text/html": [
       "<pre>recommendations finished on 8000/311741 queries. users per second: 477270</pre>"
      ],
      "text/plain": [
       "recommendations finished on 8000/311741 queries. users per second: 477270"
      ]
     },
     "metadata": {},
     "output_type": "display_data"
    },
    {
     "data": {
      "text/html": [
       "<pre>recommendations finished on 9000/311741 queries. users per second: 501560</pre>"
      ],
      "text/plain": [
       "recommendations finished on 9000/311741 queries. users per second: 501560"
      ]
     },
     "metadata": {},
     "output_type": "display_data"
    },
    {
     "data": {
      "text/html": [
       "<pre>recommendations finished on 10000/311741 queries. users per second: 519238</pre>"
      ],
      "text/plain": [
       "recommendations finished on 10000/311741 queries. users per second: 519238"
      ]
     },
     "metadata": {},
     "output_type": "display_data"
    },
    {
     "data": {
      "text/html": [
       "<pre>recommendations finished on 11000/311741 queries. users per second: 534603</pre>"
      ],
      "text/plain": [
       "recommendations finished on 11000/311741 queries. users per second: 534603"
      ]
     },
     "metadata": {},
     "output_type": "display_data"
    },
    {
     "data": {
      "text/html": [
       "<pre>recommendations finished on 12000/311741 queries. users per second: 552054</pre>"
      ],
      "text/plain": [
       "recommendations finished on 12000/311741 queries. users per second: 552054"
      ]
     },
     "metadata": {},
     "output_type": "display_data"
    },
    {
     "data": {
      "text/html": [
       "<pre>recommendations finished on 13000/311741 queries. users per second: 566918</pre>"
      ],
      "text/plain": [
       "recommendations finished on 13000/311741 queries. users per second: 566918"
      ]
     },
     "metadata": {},
     "output_type": "display_data"
    },
    {
     "data": {
      "text/html": [
       "<pre>recommendations finished on 14000/311741 queries. users per second: 578226</pre>"
      ],
      "text/plain": [
       "recommendations finished on 14000/311741 queries. users per second: 578226"
      ]
     },
     "metadata": {},
     "output_type": "display_data"
    },
    {
     "data": {
      "text/html": [
       "<pre>recommendations finished on 15000/311741 queries. users per second: 591529</pre>"
      ],
      "text/plain": [
       "recommendations finished on 15000/311741 queries. users per second: 591529"
      ]
     },
     "metadata": {},
     "output_type": "display_data"
    },
    {
     "data": {
      "text/html": [
       "<pre>recommendations finished on 16000/311741 queries. users per second: 603114</pre>"
      ],
      "text/plain": [
       "recommendations finished on 16000/311741 queries. users per second: 603114"
      ]
     },
     "metadata": {},
     "output_type": "display_data"
    },
    {
     "data": {
      "text/html": [
       "<pre>recommendations finished on 17000/311741 queries. users per second: 613121</pre>"
      ],
      "text/plain": [
       "recommendations finished on 17000/311741 queries. users per second: 613121"
      ]
     },
     "metadata": {},
     "output_type": "display_data"
    },
    {
     "data": {
      "text/html": [
       "<pre>recommendations finished on 18000/311741 queries. users per second: 622859</pre>"
      ],
      "text/plain": [
       "recommendations finished on 18000/311741 queries. users per second: 622859"
      ]
     },
     "metadata": {},
     "output_type": "display_data"
    },
    {
     "data": {
      "text/html": [
       "<pre>recommendations finished on 19000/311741 queries. users per second: 630371</pre>"
      ],
      "text/plain": [
       "recommendations finished on 19000/311741 queries. users per second: 630371"
      ]
     },
     "metadata": {},
     "output_type": "display_data"
    },
    {
     "data": {
      "text/html": [
       "<pre>recommendations finished on 20000/311741 queries. users per second: 602973</pre>"
      ],
      "text/plain": [
       "recommendations finished on 20000/311741 queries. users per second: 602973"
      ]
     },
     "metadata": {},
     "output_type": "display_data"
    },
    {
     "data": {
      "text/html": [
       "<pre>recommendations finished on 21000/311741 queries. users per second: 599349</pre>"
      ],
      "text/plain": [
       "recommendations finished on 21000/311741 queries. users per second: 599349"
      ]
     },
     "metadata": {},
     "output_type": "display_data"
    },
    {
     "data": {
      "text/html": [
       "<pre>recommendations finished on 22000/311741 queries. users per second: 596141</pre>"
      ],
      "text/plain": [
       "recommendations finished on 22000/311741 queries. users per second: 596141"
      ]
     },
     "metadata": {},
     "output_type": "display_data"
    },
    {
     "data": {
      "text/html": [
       "<pre>recommendations finished on 23000/311741 queries. users per second: 602536</pre>"
      ],
      "text/plain": [
       "recommendations finished on 23000/311741 queries. users per second: 602536"
      ]
     },
     "metadata": {},
     "output_type": "display_data"
    },
    {
     "data": {
      "text/html": [
       "<pre>recommendations finished on 24000/311741 queries. users per second: 605739</pre>"
      ],
      "text/plain": [
       "recommendations finished on 24000/311741 queries. users per second: 605739"
      ]
     },
     "metadata": {},
     "output_type": "display_data"
    },
    {
     "data": {
      "text/html": [
       "<pre>recommendations finished on 25000/311741 queries. users per second: 609162</pre>"
      ],
      "text/plain": [
       "recommendations finished on 25000/311741 queries. users per second: 609162"
      ]
     },
     "metadata": {},
     "output_type": "display_data"
    },
    {
     "data": {
      "text/html": [
       "<pre>recommendations finished on 26000/311741 queries. users per second: 616128</pre>"
      ],
      "text/plain": [
       "recommendations finished on 26000/311741 queries. users per second: 616128"
      ]
     },
     "metadata": {},
     "output_type": "display_data"
    },
    {
     "data": {
      "text/html": [
       "<pre>recommendations finished on 27000/311741 queries. users per second: 622034</pre>"
      ],
      "text/plain": [
       "recommendations finished on 27000/311741 queries. users per second: 622034"
      ]
     },
     "metadata": {},
     "output_type": "display_data"
    },
    {
     "data": {
      "text/html": [
       "<pre>recommendations finished on 28000/311741 queries. users per second: 627803</pre>"
      ],
      "text/plain": [
       "recommendations finished on 28000/311741 queries. users per second: 627803"
      ]
     },
     "metadata": {},
     "output_type": "display_data"
    },
    {
     "data": {
      "text/html": [
       "<pre>recommendations finished on 29000/311741 queries. users per second: 631960</pre>"
      ],
      "text/plain": [
       "recommendations finished on 29000/311741 queries. users per second: 631960"
      ]
     },
     "metadata": {},
     "output_type": "display_data"
    },
    {
     "data": {
      "text/html": [
       "<pre>recommendations finished on 30000/311741 queries. users per second: 637051</pre>"
      ],
      "text/plain": [
       "recommendations finished on 30000/311741 queries. users per second: 637051"
      ]
     },
     "metadata": {},
     "output_type": "display_data"
    },
    {
     "data": {
      "text/html": [
       "<pre>recommendations finished on 31000/311741 queries. users per second: 642208</pre>"
      ],
      "text/plain": [
       "recommendations finished on 31000/311741 queries. users per second: 642208"
      ]
     },
     "metadata": {},
     "output_type": "display_data"
    },
    {
     "data": {
      "text/html": [
       "<pre>recommendations finished on 32000/311741 queries. users per second: 646922</pre>"
      ],
      "text/plain": [
       "recommendations finished on 32000/311741 queries. users per second: 646922"
      ]
     },
     "metadata": {},
     "output_type": "display_data"
    },
    {
     "data": {
      "text/html": [
       "<pre>recommendations finished on 33000/311741 queries. users per second: 651517</pre>"
      ],
      "text/plain": [
       "recommendations finished on 33000/311741 queries. users per second: 651517"
      ]
     },
     "metadata": {},
     "output_type": "display_data"
    },
    {
     "data": {
      "text/html": [
       "<pre>recommendations finished on 34000/311741 queries. users per second: 655890</pre>"
      ],
      "text/plain": [
       "recommendations finished on 34000/311741 queries. users per second: 655890"
      ]
     },
     "metadata": {},
     "output_type": "display_data"
    },
    {
     "data": {
      "text/html": [
       "<pre>recommendations finished on 35000/311741 queries. users per second: 660390</pre>"
      ],
      "text/plain": [
       "recommendations finished on 35000/311741 queries. users per second: 660390"
      ]
     },
     "metadata": {},
     "output_type": "display_data"
    },
    {
     "data": {
      "text/html": [
       "<pre>recommendations finished on 36000/311741 queries. users per second: 664341</pre>"
      ],
      "text/plain": [
       "recommendations finished on 36000/311741 queries. users per second: 664341"
      ]
     },
     "metadata": {},
     "output_type": "display_data"
    },
    {
     "data": {
      "text/html": [
       "<pre>recommendations finished on 37000/311741 queries. users per second: 668003</pre>"
      ],
      "text/plain": [
       "recommendations finished on 37000/311741 queries. users per second: 668003"
      ]
     },
     "metadata": {},
     "output_type": "display_data"
    },
    {
     "data": {
      "text/html": [
       "<pre>recommendations finished on 38000/311741 queries. users per second: 671497</pre>"
      ],
      "text/plain": [
       "recommendations finished on 38000/311741 queries. users per second: 671497"
      ]
     },
     "metadata": {},
     "output_type": "display_data"
    },
    {
     "data": {
      "text/html": [
       "<pre>recommendations finished on 39000/311741 queries. users per second: 672217</pre>"
      ],
      "text/plain": [
       "recommendations finished on 39000/311741 queries. users per second: 672217"
      ]
     },
     "metadata": {},
     "output_type": "display_data"
    },
    {
     "data": {
      "text/html": [
       "<pre>recommendations finished on 40000/311741 queries. users per second: 618362</pre>"
      ],
      "text/plain": [
       "recommendations finished on 40000/311741 queries. users per second: 618362"
      ]
     },
     "metadata": {},
     "output_type": "display_data"
    },
    {
     "data": {
      "text/html": [
       "<pre>recommendations finished on 41000/311741 queries. users per second: 606428</pre>"
      ],
      "text/plain": [
       "recommendations finished on 41000/311741 queries. users per second: 606428"
      ]
     },
     "metadata": {},
     "output_type": "display_data"
    },
    {
     "data": {
      "text/html": [
       "<pre>recommendations finished on 42000/311741 queries. users per second: 601073</pre>"
      ],
      "text/plain": [
       "recommendations finished on 42000/311741 queries. users per second: 601073"
      ]
     },
     "metadata": {},
     "output_type": "display_data"
    },
    {
     "data": {
      "text/html": [
       "<pre>recommendations finished on 43000/311741 queries. users per second: 601121</pre>"
      ],
      "text/plain": [
       "recommendations finished on 43000/311741 queries. users per second: 601121"
      ]
     },
     "metadata": {},
     "output_type": "display_data"
    },
    {
     "data": {
      "text/html": [
       "<pre>recommendations finished on 44000/311741 queries. users per second: 602806</pre>"
      ],
      "text/plain": [
       "recommendations finished on 44000/311741 queries. users per second: 602806"
      ]
     },
     "metadata": {},
     "output_type": "display_data"
    },
    {
     "data": {
      "text/html": [
       "<pre>recommendations finished on 45000/311741 queries. users per second: 604644</pre>"
      ],
      "text/plain": [
       "recommendations finished on 45000/311741 queries. users per second: 604644"
      ]
     },
     "metadata": {},
     "output_type": "display_data"
    },
    {
     "data": {
      "text/html": [
       "<pre>recommendations finished on 46000/311741 queries. users per second: 606548</pre>"
      ],
      "text/plain": [
       "recommendations finished on 46000/311741 queries. users per second: 606548"
      ]
     },
     "metadata": {},
     "output_type": "display_data"
    },
    {
     "data": {
      "text/html": [
       "<pre>recommendations finished on 47000/311741 queries. users per second: 607620</pre>"
      ],
      "text/plain": [
       "recommendations finished on 47000/311741 queries. users per second: 607620"
      ]
     },
     "metadata": {},
     "output_type": "display_data"
    },
    {
     "data": {
      "text/html": [
       "<pre>recommendations finished on 48000/311741 queries. users per second: 608311</pre>"
      ],
      "text/plain": [
       "recommendations finished on 48000/311741 queries. users per second: 608311"
      ]
     },
     "metadata": {},
     "output_type": "display_data"
    },
    {
     "data": {
      "text/html": [
       "<pre>recommendations finished on 49000/311741 queries. users per second: 602832</pre>"
      ],
      "text/plain": [
       "recommendations finished on 49000/311741 queries. users per second: 602832"
      ]
     },
     "metadata": {},
     "output_type": "display_data"
    },
    {
     "data": {
      "text/html": [
       "<pre>recommendations finished on 50000/311741 queries. users per second: 603195</pre>"
      ],
      "text/plain": [
       "recommendations finished on 50000/311741 queries. users per second: 603195"
      ]
     },
     "metadata": {},
     "output_type": "display_data"
    },
    {
     "data": {
      "text/html": [
       "<pre>recommendations finished on 51000/311741 queries. users per second: 604867</pre>"
      ],
      "text/plain": [
       "recommendations finished on 51000/311741 queries. users per second: 604867"
      ]
     },
     "metadata": {},
     "output_type": "display_data"
    },
    {
     "data": {
      "text/html": [
       "<pre>recommendations finished on 52000/311741 queries. users per second: 603248</pre>"
      ],
      "text/plain": [
       "recommendations finished on 52000/311741 queries. users per second: 603248"
      ]
     },
     "metadata": {},
     "output_type": "display_data"
    },
    {
     "data": {
      "text/html": [
       "<pre>recommendations finished on 53000/311741 queries. users per second: 605037</pre>"
      ],
      "text/plain": [
       "recommendations finished on 53000/311741 queries. users per second: 605037"
      ]
     },
     "metadata": {},
     "output_type": "display_data"
    },
    {
     "data": {
      "text/html": [
       "<pre>recommendations finished on 54000/311741 queries. users per second: 604284</pre>"
      ],
      "text/plain": [
       "recommendations finished on 54000/311741 queries. users per second: 604284"
      ]
     },
     "metadata": {},
     "output_type": "display_data"
    },
    {
     "data": {
      "text/html": [
       "<pre>recommendations finished on 55000/311741 queries. users per second: 601086</pre>"
      ],
      "text/plain": [
       "recommendations finished on 55000/311741 queries. users per second: 601086"
      ]
     },
     "metadata": {},
     "output_type": "display_data"
    },
    {
     "data": {
      "text/html": [
       "<pre>recommendations finished on 56000/311741 queries. users per second: 600910</pre>"
      ],
      "text/plain": [
       "recommendations finished on 56000/311741 queries. users per second: 600910"
      ]
     },
     "metadata": {},
     "output_type": "display_data"
    },
    {
     "data": {
      "text/html": [
       "<pre>recommendations finished on 57000/311741 queries. users per second: 599155</pre>"
      ],
      "text/plain": [
       "recommendations finished on 57000/311741 queries. users per second: 599155"
      ]
     },
     "metadata": {},
     "output_type": "display_data"
    },
    {
     "data": {
      "text/html": [
       "<pre>recommendations finished on 58000/311741 queries. users per second: 597987</pre>"
      ],
      "text/plain": [
       "recommendations finished on 58000/311741 queries. users per second: 597987"
      ]
     },
     "metadata": {},
     "output_type": "display_data"
    },
    {
     "data": {
      "text/html": [
       "<pre>recommendations finished on 59000/311741 queries. users per second: 597523</pre>"
      ],
      "text/plain": [
       "recommendations finished on 59000/311741 queries. users per second: 597523"
      ]
     },
     "metadata": {},
     "output_type": "display_data"
    },
    {
     "data": {
      "text/html": [
       "<pre>recommendations finished on 60000/311741 queries. users per second: 599077</pre>"
      ],
      "text/plain": [
       "recommendations finished on 60000/311741 queries. users per second: 599077"
      ]
     },
     "metadata": {},
     "output_type": "display_data"
    },
    {
     "data": {
      "text/html": [
       "<pre>recommendations finished on 61000/311741 queries. users per second: 600098</pre>"
      ],
      "text/plain": [
       "recommendations finished on 61000/311741 queries. users per second: 600098"
      ]
     },
     "metadata": {},
     "output_type": "display_data"
    },
    {
     "data": {
      "text/html": [
       "<pre>recommendations finished on 62000/311741 queries. users per second: 601498</pre>"
      ],
      "text/plain": [
       "recommendations finished on 62000/311741 queries. users per second: 601498"
      ]
     },
     "metadata": {},
     "output_type": "display_data"
    },
    {
     "data": {
      "text/html": [
       "<pre>recommendations finished on 63000/311741 queries. users per second: 600864</pre>"
      ],
      "text/plain": [
       "recommendations finished on 63000/311741 queries. users per second: 600864"
      ]
     },
     "metadata": {},
     "output_type": "display_data"
    },
    {
     "data": {
      "text/html": [
       "<pre>recommendations finished on 64000/311741 queries. users per second: 602387</pre>"
      ],
      "text/plain": [
       "recommendations finished on 64000/311741 queries. users per second: 602387"
      ]
     },
     "metadata": {},
     "output_type": "display_data"
    },
    {
     "data": {
      "text/html": [
       "<pre>recommendations finished on 65000/311741 queries. users per second: 601969</pre>"
      ],
      "text/plain": [
       "recommendations finished on 65000/311741 queries. users per second: 601969"
      ]
     },
     "metadata": {},
     "output_type": "display_data"
    },
    {
     "data": {
      "text/html": [
       "<pre>recommendations finished on 66000/311741 queries. users per second: 598884</pre>"
      ],
      "text/plain": [
       "recommendations finished on 66000/311741 queries. users per second: 598884"
      ]
     },
     "metadata": {},
     "output_type": "display_data"
    },
    {
     "data": {
      "text/html": [
       "<pre>recommendations finished on 67000/311741 queries. users per second: 595836</pre>"
      ],
      "text/plain": [
       "recommendations finished on 67000/311741 queries. users per second: 595836"
      ]
     },
     "metadata": {},
     "output_type": "display_data"
    },
    {
     "data": {
      "text/html": [
       "<pre>recommendations finished on 68000/311741 queries. users per second: 595238</pre>"
      ],
      "text/plain": [
       "recommendations finished on 68000/311741 queries. users per second: 595238"
      ]
     },
     "metadata": {},
     "output_type": "display_data"
    },
    {
     "data": {
      "text/html": [
       "<pre>recommendations finished on 69000/311741 queries. users per second: 595413</pre>"
      ],
      "text/plain": [
       "recommendations finished on 69000/311741 queries. users per second: 595413"
      ]
     },
     "metadata": {},
     "output_type": "display_data"
    },
    {
     "data": {
      "text/html": [
       "<pre>recommendations finished on 70000/311741 queries. users per second: 591126</pre>"
      ],
      "text/plain": [
       "recommendations finished on 70000/311741 queries. users per second: 591126"
      ]
     },
     "metadata": {},
     "output_type": "display_data"
    },
    {
     "data": {
      "text/html": [
       "<pre>recommendations finished on 71000/311741 queries. users per second: 588533</pre>"
      ],
      "text/plain": [
       "recommendations finished on 71000/311741 queries. users per second: 588533"
      ]
     },
     "metadata": {},
     "output_type": "display_data"
    },
    {
     "data": {
      "text/html": [
       "<pre>recommendations finished on 72000/311741 queries. users per second: 589516</pre>"
      ],
      "text/plain": [
       "recommendations finished on 72000/311741 queries. users per second: 589516"
      ]
     },
     "metadata": {},
     "output_type": "display_data"
    },
    {
     "data": {
      "text/html": [
       "<pre>recommendations finished on 73000/311741 queries. users per second: 590682</pre>"
      ],
      "text/plain": [
       "recommendations finished on 73000/311741 queries. users per second: 590682"
      ]
     },
     "metadata": {},
     "output_type": "display_data"
    },
    {
     "data": {
      "text/html": [
       "<pre>recommendations finished on 74000/311741 queries. users per second: 590385</pre>"
      ],
      "text/plain": [
       "recommendations finished on 74000/311741 queries. users per second: 590385"
      ]
     },
     "metadata": {},
     "output_type": "display_data"
    },
    {
     "data": {
      "text/html": [
       "<pre>recommendations finished on 75000/311741 queries. users per second: 586116</pre>"
      ],
      "text/plain": [
       "recommendations finished on 75000/311741 queries. users per second: 586116"
      ]
     },
     "metadata": {},
     "output_type": "display_data"
    },
    {
     "data": {
      "text/html": [
       "<pre>recommendations finished on 76000/311741 queries. users per second: 582255</pre>"
      ],
      "text/plain": [
       "recommendations finished on 76000/311741 queries. users per second: 582255"
      ]
     },
     "metadata": {},
     "output_type": "display_data"
    },
    {
     "data": {
      "text/html": [
       "<pre>recommendations finished on 77000/311741 queries. users per second: 579885</pre>"
      ],
      "text/plain": [
       "recommendations finished on 77000/311741 queries. users per second: 579885"
      ]
     },
     "metadata": {},
     "output_type": "display_data"
    },
    {
     "data": {
      "text/html": [
       "<pre>recommendations finished on 78000/311741 queries. users per second: 564587</pre>"
      ],
      "text/plain": [
       "recommendations finished on 78000/311741 queries. users per second: 564587"
      ]
     },
     "metadata": {},
     "output_type": "display_data"
    },
    {
     "data": {
      "text/html": [
       "<pre>recommendations finished on 79000/311741 queries. users per second: 564988</pre>"
      ],
      "text/plain": [
       "recommendations finished on 79000/311741 queries. users per second: 564988"
      ]
     },
     "metadata": {},
     "output_type": "display_data"
    },
    {
     "data": {
      "text/html": [
       "<pre>recommendations finished on 80000/311741 queries. users per second: 563833</pre>"
      ],
      "text/plain": [
       "recommendations finished on 80000/311741 queries. users per second: 563833"
      ]
     },
     "metadata": {},
     "output_type": "display_data"
    },
    {
     "data": {
      "text/html": [
       "<pre>recommendations finished on 81000/311741 queries. users per second: 561806</pre>"
      ],
      "text/plain": [
       "recommendations finished on 81000/311741 queries. users per second: 561806"
      ]
     },
     "metadata": {},
     "output_type": "display_data"
    },
    {
     "data": {
      "text/html": [
       "<pre>recommendations finished on 82000/311741 queries. users per second: 561586</pre>"
      ],
      "text/plain": [
       "recommendations finished on 82000/311741 queries. users per second: 561586"
      ]
     },
     "metadata": {},
     "output_type": "display_data"
    },
    {
     "data": {
      "text/html": [
       "<pre>recommendations finished on 83000/311741 queries. users per second: 561707</pre>"
      ],
      "text/plain": [
       "recommendations finished on 83000/311741 queries. users per second: 561707"
      ]
     },
     "metadata": {},
     "output_type": "display_data"
    },
    {
     "data": {
      "text/html": [
       "<pre>recommendations finished on 84000/311741 queries. users per second: 559560</pre>"
      ],
      "text/plain": [
       "recommendations finished on 84000/311741 queries. users per second: 559560"
      ]
     },
     "metadata": {},
     "output_type": "display_data"
    },
    {
     "data": {
      "text/html": [
       "<pre>recommendations finished on 85000/311741 queries. users per second: 558472</pre>"
      ],
      "text/plain": [
       "recommendations finished on 85000/311741 queries. users per second: 558472"
      ]
     },
     "metadata": {},
     "output_type": "display_data"
    },
    {
     "data": {
      "text/html": [
       "<pre>recommendations finished on 86000/311741 queries. users per second: 558913</pre>"
      ],
      "text/plain": [
       "recommendations finished on 86000/311741 queries. users per second: 558913"
      ]
     },
     "metadata": {},
     "output_type": "display_data"
    },
    {
     "data": {
      "text/html": [
       "<pre>recommendations finished on 87000/311741 queries. users per second: 560350</pre>"
      ],
      "text/plain": [
       "recommendations finished on 87000/311741 queries. users per second: 560350"
      ]
     },
     "metadata": {},
     "output_type": "display_data"
    },
    {
     "data": {
      "text/html": [
       "<pre>recommendations finished on 88000/311741 queries. users per second: 559775</pre>"
      ],
      "text/plain": [
       "recommendations finished on 88000/311741 queries. users per second: 559775"
      ]
     },
     "metadata": {},
     "output_type": "display_data"
    },
    {
     "data": {
      "text/html": [
       "<pre>recommendations finished on 89000/311741 queries. users per second: 555160</pre>"
      ],
      "text/plain": [
       "recommendations finished on 89000/311741 queries. users per second: 555160"
      ]
     },
     "metadata": {},
     "output_type": "display_data"
    },
    {
     "data": {
      "text/html": [
       "<pre>recommendations finished on 90000/311741 queries. users per second: 553904</pre>"
      ],
      "text/plain": [
       "recommendations finished on 90000/311741 queries. users per second: 553904"
      ]
     },
     "metadata": {},
     "output_type": "display_data"
    },
    {
     "data": {
      "text/html": [
       "<pre>recommendations finished on 91000/311741 queries. users per second: 553750</pre>"
      ],
      "text/plain": [
       "recommendations finished on 91000/311741 queries. users per second: 553750"
      ]
     },
     "metadata": {},
     "output_type": "display_data"
    },
    {
     "data": {
      "text/html": [
       "<pre>recommendations finished on 92000/311741 queries. users per second: 551245</pre>"
      ],
      "text/plain": [
       "recommendations finished on 92000/311741 queries. users per second: 551245"
      ]
     },
     "metadata": {},
     "output_type": "display_data"
    },
    {
     "data": {
      "text/html": [
       "<pre>recommendations finished on 93000/311741 queries. users per second: 550498</pre>"
      ],
      "text/plain": [
       "recommendations finished on 93000/311741 queries. users per second: 550498"
      ]
     },
     "metadata": {},
     "output_type": "display_data"
    },
    {
     "data": {
      "text/html": [
       "<pre>recommendations finished on 94000/311741 queries. users per second: 549923</pre>"
      ],
      "text/plain": [
       "recommendations finished on 94000/311741 queries. users per second: 549923"
      ]
     },
     "metadata": {},
     "output_type": "display_data"
    },
    {
     "data": {
      "text/html": [
       "<pre>recommendations finished on 95000/311741 queries. users per second: 550709</pre>"
      ],
      "text/plain": [
       "recommendations finished on 95000/311741 queries. users per second: 550709"
      ]
     },
     "metadata": {},
     "output_type": "display_data"
    },
    {
     "data": {
      "text/html": [
       "<pre>recommendations finished on 96000/311741 queries. users per second: 549989</pre>"
      ],
      "text/plain": [
       "recommendations finished on 96000/311741 queries. users per second: 549989"
      ]
     },
     "metadata": {},
     "output_type": "display_data"
    },
    {
     "data": {
      "text/html": [
       "<pre>recommendations finished on 97000/311741 queries. users per second: 550351</pre>"
      ],
      "text/plain": [
       "recommendations finished on 97000/311741 queries. users per second: 550351"
      ]
     },
     "metadata": {},
     "output_type": "display_data"
    },
    {
     "data": {
      "text/html": [
       "<pre>recommendations finished on 98000/311741 queries. users per second: 550819</pre>"
      ],
      "text/plain": [
       "recommendations finished on 98000/311741 queries. users per second: 550819"
      ]
     },
     "metadata": {},
     "output_type": "display_data"
    },
    {
     "data": {
      "text/html": [
       "<pre>recommendations finished on 99000/311741 queries. users per second: 550517</pre>"
      ],
      "text/plain": [
       "recommendations finished on 99000/311741 queries. users per second: 550517"
      ]
     },
     "metadata": {},
     "output_type": "display_data"
    },
    {
     "data": {
      "text/html": [
       "<pre>recommendations finished on 100000/311741 queries. users per second: 550764</pre>"
      ],
      "text/plain": [
       "recommendations finished on 100000/311741 queries. users per second: 550764"
      ]
     },
     "metadata": {},
     "output_type": "display_data"
    },
    {
     "data": {
      "text/html": [
       "<pre>recommendations finished on 101000/311741 queries. users per second: 551307</pre>"
      ],
      "text/plain": [
       "recommendations finished on 101000/311741 queries. users per second: 551307"
      ]
     },
     "metadata": {},
     "output_type": "display_data"
    },
    {
     "data": {
      "text/html": [
       "<pre>recommendations finished on 102000/311741 queries. users per second: 551993</pre>"
      ],
      "text/plain": [
       "recommendations finished on 102000/311741 queries. users per second: 551993"
      ]
     },
     "metadata": {},
     "output_type": "display_data"
    },
    {
     "data": {
      "text/html": [
       "<pre>recommendations finished on 103000/311741 queries. users per second: 552018</pre>"
      ],
      "text/plain": [
       "recommendations finished on 103000/311741 queries. users per second: 552018"
      ]
     },
     "metadata": {},
     "output_type": "display_data"
    },
    {
     "data": {
      "text/html": [
       "<pre>recommendations finished on 104000/311741 queries. users per second: 551256</pre>"
      ],
      "text/plain": [
       "recommendations finished on 104000/311741 queries. users per second: 551256"
      ]
     },
     "metadata": {},
     "output_type": "display_data"
    },
    {
     "data": {
      "text/html": [
       "<pre>recommendations finished on 105000/311741 queries. users per second: 546295</pre>"
      ],
      "text/plain": [
       "recommendations finished on 105000/311741 queries. users per second: 546295"
      ]
     },
     "metadata": {},
     "output_type": "display_data"
    },
    {
     "data": {
      "text/html": [
       "<pre>recommendations finished on 106000/311741 queries. users per second: 541200</pre>"
      ],
      "text/plain": [
       "recommendations finished on 106000/311741 queries. users per second: 541200"
      ]
     },
     "metadata": {},
     "output_type": "display_data"
    },
    {
     "data": {
      "text/html": [
       "<pre>recommendations finished on 107000/311741 queries. users per second: 535648</pre>"
      ],
      "text/plain": [
       "recommendations finished on 107000/311741 queries. users per second: 535648"
      ]
     },
     "metadata": {},
     "output_type": "display_data"
    },
    {
     "data": {
      "text/html": [
       "<pre>recommendations finished on 108000/311741 queries. users per second: 533787</pre>"
      ],
      "text/plain": [
       "recommendations finished on 108000/311741 queries. users per second: 533787"
      ]
     },
     "metadata": {},
     "output_type": "display_data"
    },
    {
     "data": {
      "text/html": [
       "<pre>recommendations finished on 109000/311741 queries. users per second: 532828</pre>"
      ],
      "text/plain": [
       "recommendations finished on 109000/311741 queries. users per second: 532828"
      ]
     },
     "metadata": {},
     "output_type": "display_data"
    },
    {
     "data": {
      "text/html": [
       "<pre>recommendations finished on 110000/311741 queries. users per second: 533401</pre>"
      ],
      "text/plain": [
       "recommendations finished on 110000/311741 queries. users per second: 533401"
      ]
     },
     "metadata": {},
     "output_type": "display_data"
    },
    {
     "data": {
      "text/html": [
       "<pre>recommendations finished on 111000/311741 queries. users per second: 531945</pre>"
      ],
      "text/plain": [
       "recommendations finished on 111000/311741 queries. users per second: 531945"
      ]
     },
     "metadata": {},
     "output_type": "display_data"
    },
    {
     "data": {
      "text/html": [
       "<pre>recommendations finished on 112000/311741 queries. users per second: 531440</pre>"
      ],
      "text/plain": [
       "recommendations finished on 112000/311741 queries. users per second: 531440"
      ]
     },
     "metadata": {},
     "output_type": "display_data"
    },
    {
     "data": {
      "text/html": [
       "<pre>recommendations finished on 113000/311741 queries. users per second: 532150</pre>"
      ],
      "text/plain": [
       "recommendations finished on 113000/311741 queries. users per second: 532150"
      ]
     },
     "metadata": {},
     "output_type": "display_data"
    },
    {
     "data": {
      "text/html": [
       "<pre>recommendations finished on 114000/311741 queries. users per second: 532389</pre>"
      ],
      "text/plain": [
       "recommendations finished on 114000/311741 queries. users per second: 532389"
      ]
     },
     "metadata": {},
     "output_type": "display_data"
    },
    {
     "data": {
      "text/html": [
       "<pre>recommendations finished on 115000/311741 queries. users per second: 532353</pre>"
      ],
      "text/plain": [
       "recommendations finished on 115000/311741 queries. users per second: 532353"
      ]
     },
     "metadata": {},
     "output_type": "display_data"
    },
    {
     "data": {
      "text/html": [
       "<pre>recommendations finished on 116000/311741 queries. users per second: 533625</pre>"
      ],
      "text/plain": [
       "recommendations finished on 116000/311741 queries. users per second: 533625"
      ]
     },
     "metadata": {},
     "output_type": "display_data"
    },
    {
     "data": {
      "text/html": [
       "<pre>recommendations finished on 117000/311741 queries. users per second: 534786</pre>"
      ],
      "text/plain": [
       "recommendations finished on 117000/311741 queries. users per second: 534786"
      ]
     },
     "metadata": {},
     "output_type": "display_data"
    },
    {
     "data": {
      "text/html": [
       "<pre>recommendations finished on 118000/311741 queries. users per second: 535903</pre>"
      ],
      "text/plain": [
       "recommendations finished on 118000/311741 queries. users per second: 535903"
      ]
     },
     "metadata": {},
     "output_type": "display_data"
    },
    {
     "data": {
      "text/html": [
       "<pre>recommendations finished on 119000/311741 queries. users per second: 536790</pre>"
      ],
      "text/plain": [
       "recommendations finished on 119000/311741 queries. users per second: 536790"
      ]
     },
     "metadata": {},
     "output_type": "display_data"
    },
    {
     "data": {
      "text/html": [
       "<pre>recommendations finished on 120000/311741 queries. users per second: 537813</pre>"
      ],
      "text/plain": [
       "recommendations finished on 120000/311741 queries. users per second: 537813"
      ]
     },
     "metadata": {},
     "output_type": "display_data"
    },
    {
     "data": {
      "text/html": [
       "<pre>recommendations finished on 121000/311741 queries. users per second: 538299</pre>"
      ],
      "text/plain": [
       "recommendations finished on 121000/311741 queries. users per second: 538299"
      ]
     },
     "metadata": {},
     "output_type": "display_data"
    },
    {
     "data": {
      "text/html": [
       "<pre>recommendations finished on 122000/311741 queries. users per second: 538953</pre>"
      ],
      "text/plain": [
       "recommendations finished on 122000/311741 queries. users per second: 538953"
      ]
     },
     "metadata": {},
     "output_type": "display_data"
    },
    {
     "data": {
      "text/html": [
       "<pre>recommendations finished on 123000/311741 queries. users per second: 540130</pre>"
      ],
      "text/plain": [
       "recommendations finished on 123000/311741 queries. users per second: 540130"
      ]
     },
     "metadata": {},
     "output_type": "display_data"
    },
    {
     "data": {
      "text/html": [
       "<pre>recommendations finished on 124000/311741 queries. users per second: 540911</pre>"
      ],
      "text/plain": [
       "recommendations finished on 124000/311741 queries. users per second: 540911"
      ]
     },
     "metadata": {},
     "output_type": "display_data"
    },
    {
     "data": {
      "text/html": [
       "<pre>recommendations finished on 125000/311741 queries. users per second: 541785</pre>"
      ],
      "text/plain": [
       "recommendations finished on 125000/311741 queries. users per second: 541785"
      ]
     },
     "metadata": {},
     "output_type": "display_data"
    },
    {
     "data": {
      "text/html": [
       "<pre>recommendations finished on 126000/311741 queries. users per second: 542874</pre>"
      ],
      "text/plain": [
       "recommendations finished on 126000/311741 queries. users per second: 542874"
      ]
     },
     "metadata": {},
     "output_type": "display_data"
    },
    {
     "data": {
      "text/html": [
       "<pre>recommendations finished on 127000/311741 queries. users per second: 543932</pre>"
      ],
      "text/plain": [
       "recommendations finished on 127000/311741 queries. users per second: 543932"
      ]
     },
     "metadata": {},
     "output_type": "display_data"
    },
    {
     "data": {
      "text/html": [
       "<pre>recommendations finished on 128000/311741 queries. users per second: 544982</pre>"
      ],
      "text/plain": [
       "recommendations finished on 128000/311741 queries. users per second: 544982"
      ]
     },
     "metadata": {},
     "output_type": "display_data"
    },
    {
     "data": {
      "text/html": [
       "<pre>recommendations finished on 129000/311741 queries. users per second: 546025</pre>"
      ],
      "text/plain": [
       "recommendations finished on 129000/311741 queries. users per second: 546025"
      ]
     },
     "metadata": {},
     "output_type": "display_data"
    },
    {
     "data": {
      "text/html": [
       "<pre>recommendations finished on 130000/311741 queries. users per second: 546968</pre>"
      ],
      "text/plain": [
       "recommendations finished on 130000/311741 queries. users per second: 546968"
      ]
     },
     "metadata": {},
     "output_type": "display_data"
    },
    {
     "data": {
      "text/html": [
       "<pre>recommendations finished on 131000/311741 queries. users per second: 547380</pre>"
      ],
      "text/plain": [
       "recommendations finished on 131000/311741 queries. users per second: 547380"
      ]
     },
     "metadata": {},
     "output_type": "display_data"
    },
    {
     "data": {
      "text/html": [
       "<pre>recommendations finished on 132000/311741 queries. users per second: 546659</pre>"
      ],
      "text/plain": [
       "recommendations finished on 132000/311741 queries. users per second: 546659"
      ]
     },
     "metadata": {},
     "output_type": "display_data"
    },
    {
     "data": {
      "text/html": [
       "<pre>recommendations finished on 133000/311741 queries. users per second: 545755</pre>"
      ],
      "text/plain": [
       "recommendations finished on 133000/311741 queries. users per second: 545755"
      ]
     },
     "metadata": {},
     "output_type": "display_data"
    },
    {
     "data": {
      "text/html": [
       "<pre>recommendations finished on 134000/311741 queries. users per second: 545576</pre>"
      ],
      "text/plain": [
       "recommendations finished on 134000/311741 queries. users per second: 545576"
      ]
     },
     "metadata": {},
     "output_type": "display_data"
    },
    {
     "data": {
      "text/html": [
       "<pre>recommendations finished on 135000/311741 queries. users per second: 543196</pre>"
      ],
      "text/plain": [
       "recommendations finished on 135000/311741 queries. users per second: 543196"
      ]
     },
     "metadata": {},
     "output_type": "display_data"
    },
    {
     "data": {
      "text/html": [
       "<pre>recommendations finished on 136000/311741 queries. users per second: 542901</pre>"
      ],
      "text/plain": [
       "recommendations finished on 136000/311741 queries. users per second: 542901"
      ]
     },
     "metadata": {},
     "output_type": "display_data"
    },
    {
     "data": {
      "text/html": [
       "<pre>recommendations finished on 137000/311741 queries. users per second: 543977</pre>"
      ],
      "text/plain": [
       "recommendations finished on 137000/311741 queries. users per second: 543977"
      ]
     },
     "metadata": {},
     "output_type": "display_data"
    },
    {
     "data": {
      "text/html": [
       "<pre>recommendations finished on 138000/311741 queries. users per second: 545011</pre>"
      ],
      "text/plain": [
       "recommendations finished on 138000/311741 queries. users per second: 545011"
      ]
     },
     "metadata": {},
     "output_type": "display_data"
    },
    {
     "data": {
      "text/html": [
       "<pre>recommendations finished on 139000/311741 queries. users per second: 546053</pre>"
      ],
      "text/plain": [
       "recommendations finished on 139000/311741 queries. users per second: 546053"
      ]
     },
     "metadata": {},
     "output_type": "display_data"
    },
    {
     "data": {
      "text/html": [
       "<pre>recommendations finished on 140000/311741 queries. users per second: 530916</pre>"
      ],
      "text/plain": [
       "recommendations finished on 140000/311741 queries. users per second: 530916"
      ]
     },
     "metadata": {},
     "output_type": "display_data"
    },
    {
     "data": {
      "text/html": [
       "<pre>recommendations finished on 141000/311741 queries. users per second: 530830</pre>"
      ],
      "text/plain": [
       "recommendations finished on 141000/311741 queries. users per second: 530830"
      ]
     },
     "metadata": {},
     "output_type": "display_data"
    },
    {
     "data": {
      "text/html": [
       "<pre>recommendations finished on 142000/311741 queries. users per second: 531350</pre>"
      ],
      "text/plain": [
       "recommendations finished on 142000/311741 queries. users per second: 531350"
      ]
     },
     "metadata": {},
     "output_type": "display_data"
    },
    {
     "data": {
      "text/html": [
       "<pre>recommendations finished on 143000/311741 queries. users per second: 530433</pre>"
      ],
      "text/plain": [
       "recommendations finished on 143000/311741 queries. users per second: 530433"
      ]
     },
     "metadata": {},
     "output_type": "display_data"
    },
    {
     "data": {
      "text/html": [
       "<pre>recommendations finished on 144000/311741 queries. users per second: 529303</pre>"
      ],
      "text/plain": [
       "recommendations finished on 144000/311741 queries. users per second: 529303"
      ]
     },
     "metadata": {},
     "output_type": "display_data"
    },
    {
     "data": {
      "text/html": [
       "<pre>recommendations finished on 145000/311741 queries. users per second: 527885</pre>"
      ],
      "text/plain": [
       "recommendations finished on 145000/311741 queries. users per second: 527885"
      ]
     },
     "metadata": {},
     "output_type": "display_data"
    },
    {
     "data": {
      "text/html": [
       "<pre>recommendations finished on 146000/311741 queries. users per second: 527367</pre>"
      ],
      "text/plain": [
       "recommendations finished on 146000/311741 queries. users per second: 527367"
      ]
     },
     "metadata": {},
     "output_type": "display_data"
    },
    {
     "data": {
      "text/html": [
       "<pre>recommendations finished on 147000/311741 queries. users per second: 527294</pre>"
      ],
      "text/plain": [
       "recommendations finished on 147000/311741 queries. users per second: 527294"
      ]
     },
     "metadata": {},
     "output_type": "display_data"
    },
    {
     "data": {
      "text/html": [
       "<pre>recommendations finished on 148000/311741 queries. users per second: 528307</pre>"
      ],
      "text/plain": [
       "recommendations finished on 148000/311741 queries. users per second: 528307"
      ]
     },
     "metadata": {},
     "output_type": "display_data"
    },
    {
     "data": {
      "text/html": [
       "<pre>recommendations finished on 149000/311741 queries. users per second: 528832</pre>"
      ],
      "text/plain": [
       "recommendations finished on 149000/311741 queries. users per second: 528832"
      ]
     },
     "metadata": {},
     "output_type": "display_data"
    },
    {
     "data": {
      "text/html": [
       "<pre>recommendations finished on 150000/311741 queries. users per second: 529831</pre>"
      ],
      "text/plain": [
       "recommendations finished on 150000/311741 queries. users per second: 529831"
      ]
     },
     "metadata": {},
     "output_type": "display_data"
    },
    {
     "data": {
      "text/html": [
       "<pre>recommendations finished on 151000/311741 queries. users per second: 530773</pre>"
      ],
      "text/plain": [
       "recommendations finished on 151000/311741 queries. users per second: 530773"
      ]
     },
     "metadata": {},
     "output_type": "display_data"
    },
    {
     "data": {
      "text/html": [
       "<pre>recommendations finished on 152000/311741 queries. users per second: 531361</pre>"
      ],
      "text/plain": [
       "recommendations finished on 152000/311741 queries. users per second: 531361"
      ]
     },
     "metadata": {},
     "output_type": "display_data"
    },
    {
     "data": {
      "text/html": [
       "<pre>recommendations finished on 153000/311741 queries. users per second: 531978</pre>"
      ],
      "text/plain": [
       "recommendations finished on 153000/311741 queries. users per second: 531978"
      ]
     },
     "metadata": {},
     "output_type": "display_data"
    },
    {
     "data": {
      "text/html": [
       "<pre>recommendations finished on 154000/311741 queries. users per second: 531805</pre>"
      ],
      "text/plain": [
       "recommendations finished on 154000/311741 queries. users per second: 531805"
      ]
     },
     "metadata": {},
     "output_type": "display_data"
    },
    {
     "data": {
      "text/html": [
       "<pre>recommendations finished on 155000/311741 queries. users per second: 531217</pre>"
      ],
      "text/plain": [
       "recommendations finished on 155000/311741 queries. users per second: 531217"
      ]
     },
     "metadata": {},
     "output_type": "display_data"
    },
    {
     "data": {
      "text/html": [
       "<pre>recommendations finished on 156000/311741 queries. users per second: 531140</pre>"
      ],
      "text/plain": [
       "recommendations finished on 156000/311741 queries. users per second: 531140"
      ]
     },
     "metadata": {},
     "output_type": "display_data"
    },
    {
     "data": {
      "text/html": [
       "<pre>recommendations finished on 157000/311741 queries. users per second: 531235</pre>"
      ],
      "text/plain": [
       "recommendations finished on 157000/311741 queries. users per second: 531235"
      ]
     },
     "metadata": {},
     "output_type": "display_data"
    },
    {
     "data": {
      "text/html": [
       "<pre>recommendations finished on 158000/311741 queries. users per second: 531936</pre>"
      ],
      "text/plain": [
       "recommendations finished on 158000/311741 queries. users per second: 531936"
      ]
     },
     "metadata": {},
     "output_type": "display_data"
    },
    {
     "data": {
      "text/html": [
       "<pre>recommendations finished on 159000/311741 queries. users per second: 532640</pre>"
      ],
      "text/plain": [
       "recommendations finished on 159000/311741 queries. users per second: 532640"
      ]
     },
     "metadata": {},
     "output_type": "display_data"
    },
    {
     "data": {
      "text/html": [
       "<pre>recommendations finished on 160000/311741 queries. users per second: 533714</pre>"
      ],
      "text/plain": [
       "recommendations finished on 160000/311741 queries. users per second: 533714"
      ]
     },
     "metadata": {},
     "output_type": "display_data"
    },
    {
     "data": {
      "text/html": [
       "<pre>recommendations finished on 161000/311741 queries. users per second: 534596</pre>"
      ],
      "text/plain": [
       "recommendations finished on 161000/311741 queries. users per second: 534596"
      ]
     },
     "metadata": {},
     "output_type": "display_data"
    },
    {
     "data": {
      "text/html": [
       "<pre>recommendations finished on 162000/311741 queries. users per second: 535652</pre>"
      ],
      "text/plain": [
       "recommendations finished on 162000/311741 queries. users per second: 535652"
      ]
     },
     "metadata": {},
     "output_type": "display_data"
    },
    {
     "data": {
      "text/html": [
       "<pre>recommendations finished on 163000/311741 queries. users per second: 536301</pre>"
      ],
      "text/plain": [
       "recommendations finished on 163000/311741 queries. users per second: 536301"
      ]
     },
     "metadata": {},
     "output_type": "display_data"
    },
    {
     "data": {
      "text/html": [
       "<pre>recommendations finished on 164000/311741 queries. users per second: 536611</pre>"
      ],
      "text/plain": [
       "recommendations finished on 164000/311741 queries. users per second: 536611"
      ]
     },
     "metadata": {},
     "output_type": "display_data"
    },
    {
     "data": {
      "text/html": [
       "<pre>recommendations finished on 165000/311741 queries. users per second: 535803</pre>"
      ],
      "text/plain": [
       "recommendations finished on 165000/311741 queries. users per second: 535803"
      ]
     },
     "metadata": {},
     "output_type": "display_data"
    },
    {
     "data": {
      "text/html": [
       "<pre>recommendations finished on 166000/311741 queries. users per second: 534375</pre>"
      ],
      "text/plain": [
       "recommendations finished on 166000/311741 queries. users per second: 534375"
      ]
     },
     "metadata": {},
     "output_type": "display_data"
    },
    {
     "data": {
      "text/html": [
       "<pre>recommendations finished on 167000/311741 queries. users per second: 534468</pre>"
      ],
      "text/plain": [
       "recommendations finished on 167000/311741 queries. users per second: 534468"
      ]
     },
     "metadata": {},
     "output_type": "display_data"
    },
    {
     "data": {
      "text/html": [
       "<pre>recommendations finished on 168000/311741 queries. users per second: 534838</pre>"
      ],
      "text/plain": [
       "recommendations finished on 168000/311741 queries. users per second: 534838"
      ]
     },
     "metadata": {},
     "output_type": "display_data"
    },
    {
     "data": {
      "text/html": [
       "<pre>recommendations finished on 169000/311741 queries. users per second: 535505</pre>"
      ],
      "text/plain": [
       "recommendations finished on 169000/311741 queries. users per second: 535505"
      ]
     },
     "metadata": {},
     "output_type": "display_data"
    },
    {
     "data": {
      "text/html": [
       "<pre>recommendations finished on 170000/311741 queries. users per second: 535843</pre>"
      ],
      "text/plain": [
       "recommendations finished on 170000/311741 queries. users per second: 535843"
      ]
     },
     "metadata": {},
     "output_type": "display_data"
    },
    {
     "data": {
      "text/html": [
       "<pre>recommendations finished on 171000/311741 queries. users per second: 536629</pre>"
      ],
      "text/plain": [
       "recommendations finished on 171000/311741 queries. users per second: 536629"
      ]
     },
     "metadata": {},
     "output_type": "display_data"
    },
    {
     "data": {
      "text/html": [
       "<pre>recommendations finished on 172000/311741 queries. users per second: 537641</pre>"
      ],
      "text/plain": [
       "recommendations finished on 172000/311741 queries. users per second: 537641"
      ]
     },
     "metadata": {},
     "output_type": "display_data"
    },
    {
     "data": {
      "text/html": [
       "<pre>recommendations finished on 173000/311741 queries. users per second: 538780</pre>"
      ],
      "text/plain": [
       "recommendations finished on 173000/311741 queries. users per second: 538780"
      ]
     },
     "metadata": {},
     "output_type": "display_data"
    },
    {
     "data": {
      "text/html": [
       "<pre>recommendations finished on 174000/311741 queries. users per second: 539547</pre>"
      ],
      "text/plain": [
       "recommendations finished on 174000/311741 queries. users per second: 539547"
      ]
     },
     "metadata": {},
     "output_type": "display_data"
    },
    {
     "data": {
      "text/html": [
       "<pre>recommendations finished on 175000/311741 queries. users per second: 539504</pre>"
      ],
      "text/plain": [
       "recommendations finished on 175000/311741 queries. users per second: 539504"
      ]
     },
     "metadata": {},
     "output_type": "display_data"
    },
    {
     "data": {
      "text/html": [
       "<pre>recommendations finished on 176000/311741 queries. users per second: 536554</pre>"
      ],
      "text/plain": [
       "recommendations finished on 176000/311741 queries. users per second: 536554"
      ]
     },
     "metadata": {},
     "output_type": "display_data"
    },
    {
     "data": {
      "text/html": [
       "<pre>recommendations finished on 177000/311741 queries. users per second: 534243</pre>"
      ],
      "text/plain": [
       "recommendations finished on 177000/311741 queries. users per second: 534243"
      ]
     },
     "metadata": {},
     "output_type": "display_data"
    },
    {
     "data": {
      "text/html": [
       "<pre>recommendations finished on 178000/311741 queries. users per second: 531258</pre>"
      ],
      "text/plain": [
       "recommendations finished on 178000/311741 queries. users per second: 531258"
      ]
     },
     "metadata": {},
     "output_type": "display_data"
    },
    {
     "data": {
      "text/html": [
       "<pre>recommendations finished on 179000/311741 queries. users per second: 530069</pre>"
      ],
      "text/plain": [
       "recommendations finished on 179000/311741 queries. users per second: 530069"
      ]
     },
     "metadata": {},
     "output_type": "display_data"
    },
    {
     "data": {
      "text/html": [
       "<pre>recommendations finished on 180000/311741 queries. users per second: 530587</pre>"
      ],
      "text/plain": [
       "recommendations finished on 180000/311741 queries. users per second: 530587"
      ]
     },
     "metadata": {},
     "output_type": "display_data"
    },
    {
     "data": {
      "text/html": [
       "<pre>recommendations finished on 181000/311741 queries. users per second: 531353</pre>"
      ],
      "text/plain": [
       "recommendations finished on 181000/311741 queries. users per second: 531353"
      ]
     },
     "metadata": {},
     "output_type": "display_data"
    },
    {
     "data": {
      "text/html": [
       "<pre>recommendations finished on 182000/311741 queries. users per second: 530051</pre>"
      ],
      "text/plain": [
       "recommendations finished on 182000/311741 queries. users per second: 530051"
      ]
     },
     "metadata": {},
     "output_type": "display_data"
    },
    {
     "data": {
      "text/html": [
       "<pre>recommendations finished on 183000/311741 queries. users per second: 530481</pre>"
      ],
      "text/plain": [
       "recommendations finished on 183000/311741 queries. users per second: 530481"
      ]
     },
     "metadata": {},
     "output_type": "display_data"
    },
    {
     "data": {
      "text/html": [
       "<pre>recommendations finished on 184000/311741 queries. users per second: 531374</pre>"
      ],
      "text/plain": [
       "recommendations finished on 184000/311741 queries. users per second: 531374"
      ]
     },
     "metadata": {},
     "output_type": "display_data"
    },
    {
     "data": {
      "text/html": [
       "<pre>recommendations finished on 185000/311741 queries. users per second: 532469</pre>"
      ],
      "text/plain": [
       "recommendations finished on 185000/311741 queries. users per second: 532469"
      ]
     },
     "metadata": {},
     "output_type": "display_data"
    },
    {
     "data": {
      "text/html": [
       "<pre>recommendations finished on 186000/311741 queries. users per second: 531022</pre>"
      ],
      "text/plain": [
       "recommendations finished on 186000/311741 queries. users per second: 531022"
      ]
     },
     "metadata": {},
     "output_type": "display_data"
    },
    {
     "data": {
      "text/html": [
       "<pre>recommendations finished on 187000/311741 queries. users per second: 532034</pre>"
      ],
      "text/plain": [
       "recommendations finished on 187000/311741 queries. users per second: 532034"
      ]
     },
     "metadata": {},
     "output_type": "display_data"
    },
    {
     "data": {
      "text/html": [
       "<pre>recommendations finished on 188000/311741 queries. users per second: 533057</pre>"
      ],
      "text/plain": [
       "recommendations finished on 188000/311741 queries. users per second: 533057"
      ]
     },
     "metadata": {},
     "output_type": "display_data"
    },
    {
     "data": {
      "text/html": [
       "<pre>recommendations finished on 189000/311741 queries. users per second: 534113</pre>"
      ],
      "text/plain": [
       "recommendations finished on 189000/311741 queries. users per second: 534113"
      ]
     },
     "metadata": {},
     "output_type": "display_data"
    },
    {
     "data": {
      "text/html": [
       "<pre>recommendations finished on 190000/311741 queries. users per second: 535154</pre>"
      ],
      "text/plain": [
       "recommendations finished on 190000/311741 queries. users per second: 535154"
      ]
     },
     "metadata": {},
     "output_type": "display_data"
    },
    {
     "data": {
      "text/html": [
       "<pre>recommendations finished on 191000/311741 queries. users per second: 536228</pre>"
      ],
      "text/plain": [
       "recommendations finished on 191000/311741 queries. users per second: 536228"
      ]
     },
     "metadata": {},
     "output_type": "display_data"
    },
    {
     "data": {
      "text/html": [
       "<pre>recommendations finished on 192000/311741 queries. users per second: 536601</pre>"
      ],
      "text/plain": [
       "recommendations finished on 192000/311741 queries. users per second: 536601"
      ]
     },
     "metadata": {},
     "output_type": "display_data"
    },
    {
     "data": {
      "text/html": [
       "<pre>recommendations finished on 193000/311741 queries. users per second: 537346</pre>"
      ],
      "text/plain": [
       "recommendations finished on 193000/311741 queries. users per second: 537346"
      ]
     },
     "metadata": {},
     "output_type": "display_data"
    },
    {
     "data": {
      "text/html": [
       "<pre>recommendations finished on 194000/311741 queries. users per second: 538351</pre>"
      ],
      "text/plain": [
       "recommendations finished on 194000/311741 queries. users per second: 538351"
      ]
     },
     "metadata": {},
     "output_type": "display_data"
    },
    {
     "data": {
      "text/html": [
       "<pre>recommendations finished on 195000/311741 queries. users per second: 539356</pre>"
      ],
      "text/plain": [
       "recommendations finished on 195000/311741 queries. users per second: 539356"
      ]
     },
     "metadata": {},
     "output_type": "display_data"
    },
    {
     "data": {
      "text/html": [
       "<pre>recommendations finished on 196000/311741 queries. users per second: 540257</pre>"
      ],
      "text/plain": [
       "recommendations finished on 196000/311741 queries. users per second: 540257"
      ]
     },
     "metadata": {},
     "output_type": "display_data"
    },
    {
     "data": {
      "text/html": [
       "<pre>recommendations finished on 197000/311741 queries. users per second: 541230</pre>"
      ],
      "text/plain": [
       "recommendations finished on 197000/311741 queries. users per second: 541230"
      ]
     },
     "metadata": {},
     "output_type": "display_data"
    },
    {
     "data": {
      "text/html": [
       "<pre>recommendations finished on 198000/311741 queries. users per second: 540777</pre>"
      ],
      "text/plain": [
       "recommendations finished on 198000/311741 queries. users per second: 540777"
      ]
     },
     "metadata": {},
     "output_type": "display_data"
    },
    {
     "data": {
      "text/html": [
       "<pre>recommendations finished on 199000/311741 queries. users per second: 541679</pre>"
      ],
      "text/plain": [
       "recommendations finished on 199000/311741 queries. users per second: 541679"
      ]
     },
     "metadata": {},
     "output_type": "display_data"
    },
    {
     "data": {
      "text/html": [
       "<pre>recommendations finished on 200000/311741 queries. users per second: 542436</pre>"
      ],
      "text/plain": [
       "recommendations finished on 200000/311741 queries. users per second: 542436"
      ]
     },
     "metadata": {},
     "output_type": "display_data"
    },
    {
     "data": {
      "text/html": [
       "<pre>recommendations finished on 201000/311741 queries. users per second: 543164</pre>"
      ],
      "text/plain": [
       "recommendations finished on 201000/311741 queries. users per second: 543164"
      ]
     },
     "metadata": {},
     "output_type": "display_data"
    },
    {
     "data": {
      "text/html": [
       "<pre>recommendations finished on 202000/311741 queries. users per second: 543884</pre>"
      ],
      "text/plain": [
       "recommendations finished on 202000/311741 queries. users per second: 543884"
      ]
     },
     "metadata": {},
     "output_type": "display_data"
    },
    {
     "data": {
      "text/html": [
       "<pre>recommendations finished on 203000/311741 queries. users per second: 544592</pre>"
      ],
      "text/plain": [
       "recommendations finished on 203000/311741 queries. users per second: 544592"
      ]
     },
     "metadata": {},
     "output_type": "display_data"
    },
    {
     "data": {
      "text/html": [
       "<pre>recommendations finished on 204000/311741 queries. users per second: 544386</pre>"
      ],
      "text/plain": [
       "recommendations finished on 204000/311741 queries. users per second: 544386"
      ]
     },
     "metadata": {},
     "output_type": "display_data"
    },
    {
     "data": {
      "text/html": [
       "<pre>recommendations finished on 205000/311741 queries. users per second: 544593</pre>"
      ],
      "text/plain": [
       "recommendations finished on 205000/311741 queries. users per second: 544593"
      ]
     },
     "metadata": {},
     "output_type": "display_data"
    },
    {
     "data": {
      "text/html": [
       "<pre>recommendations finished on 206000/311741 queries. users per second: 544636</pre>"
      ],
      "text/plain": [
       "recommendations finished on 206000/311741 queries. users per second: 544636"
      ]
     },
     "metadata": {},
     "output_type": "display_data"
    },
    {
     "data": {
      "text/html": [
       "<pre>recommendations finished on 207000/311741 queries. users per second: 544787</pre>"
      ],
      "text/plain": [
       "recommendations finished on 207000/311741 queries. users per second: 544787"
      ]
     },
     "metadata": {},
     "output_type": "display_data"
    },
    {
     "data": {
      "text/html": [
       "<pre>recommendations finished on 208000/311741 queries. users per second: 545425</pre>"
      ],
      "text/plain": [
       "recommendations finished on 208000/311741 queries. users per second: 545425"
      ]
     },
     "metadata": {},
     "output_type": "display_data"
    },
    {
     "data": {
      "text/html": [
       "<pre>recommendations finished on 209000/311741 queries. users per second: 546095</pre>"
      ],
      "text/plain": [
       "recommendations finished on 209000/311741 queries. users per second: 546095"
      ]
     },
     "metadata": {},
     "output_type": "display_data"
    },
    {
     "data": {
      "text/html": [
       "<pre>recommendations finished on 210000/311741 queries. users per second: 546720</pre>"
      ],
      "text/plain": [
       "recommendations finished on 210000/311741 queries. users per second: 546720"
      ]
     },
     "metadata": {},
     "output_type": "display_data"
    },
    {
     "data": {
      "text/html": [
       "<pre>recommendations finished on 211000/311741 queries. users per second: 547632</pre>"
      ],
      "text/plain": [
       "recommendations finished on 211000/311741 queries. users per second: 547632"
      ]
     },
     "metadata": {},
     "output_type": "display_data"
    },
    {
     "data": {
      "text/html": [
       "<pre>recommendations finished on 212000/311741 queries. users per second: 548546</pre>"
      ],
      "text/plain": [
       "recommendations finished on 212000/311741 queries. users per second: 548546"
      ]
     },
     "metadata": {},
     "output_type": "display_data"
    },
    {
     "data": {
      "text/html": [
       "<pre>recommendations finished on 213000/311741 queries. users per second: 549473</pre>"
      ],
      "text/plain": [
       "recommendations finished on 213000/311741 queries. users per second: 549473"
      ]
     },
     "metadata": {},
     "output_type": "display_data"
    },
    {
     "data": {
      "text/html": [
       "<pre>recommendations finished on 214000/311741 queries. users per second: 550355</pre>"
      ],
      "text/plain": [
       "recommendations finished on 214000/311741 queries. users per second: 550355"
      ]
     },
     "metadata": {},
     "output_type": "display_data"
    },
    {
     "data": {
      "text/html": [
       "<pre>recommendations finished on 215000/311741 queries. users per second: 551129</pre>"
      ],
      "text/plain": [
       "recommendations finished on 215000/311741 queries. users per second: 551129"
      ]
     },
     "metadata": {},
     "output_type": "display_data"
    },
    {
     "data": {
      "text/html": [
       "<pre>recommendations finished on 216000/311741 queries. users per second: 551313</pre>"
      ],
      "text/plain": [
       "recommendations finished on 216000/311741 queries. users per second: 551313"
      ]
     },
     "metadata": {},
     "output_type": "display_data"
    },
    {
     "data": {
      "text/html": [
       "<pre>recommendations finished on 217000/311741 queries. users per second: 551529</pre>"
      ],
      "text/plain": [
       "recommendations finished on 217000/311741 queries. users per second: 551529"
      ]
     },
     "metadata": {},
     "output_type": "display_data"
    },
    {
     "data": {
      "text/html": [
       "<pre>recommendations finished on 218000/311741 queries. users per second: 552083</pre>"
      ],
      "text/plain": [
       "recommendations finished on 218000/311741 queries. users per second: 552083"
      ]
     },
     "metadata": {},
     "output_type": "display_data"
    },
    {
     "data": {
      "text/html": [
       "<pre>recommendations finished on 219000/311741 queries. users per second: 552949</pre>"
      ],
      "text/plain": [
       "recommendations finished on 219000/311741 queries. users per second: 552949"
      ]
     },
     "metadata": {},
     "output_type": "display_data"
    },
    {
     "data": {
      "text/html": [
       "<pre>recommendations finished on 220000/311741 queries. users per second: 553175</pre>"
      ],
      "text/plain": [
       "recommendations finished on 220000/311741 queries. users per second: 553175"
      ]
     },
     "metadata": {},
     "output_type": "display_data"
    },
    {
     "data": {
      "text/html": [
       "<pre>recommendations finished on 221000/311741 queries. users per second: 554028</pre>"
      ],
      "text/plain": [
       "recommendations finished on 221000/311741 queries. users per second: 554028"
      ]
     },
     "metadata": {},
     "output_type": "display_data"
    },
    {
     "data": {
      "text/html": [
       "<pre>recommendations finished on 222000/311741 queries. users per second: 554918</pre>"
      ],
      "text/plain": [
       "recommendations finished on 222000/311741 queries. users per second: 554918"
      ]
     },
     "metadata": {},
     "output_type": "display_data"
    },
    {
     "data": {
      "text/html": [
       "<pre>recommendations finished on 223000/311741 queries. users per second: 555355</pre>"
      ],
      "text/plain": [
       "recommendations finished on 223000/311741 queries. users per second: 555355"
      ]
     },
     "metadata": {},
     "output_type": "display_data"
    },
    {
     "data": {
      "text/html": [
       "<pre>recommendations finished on 224000/311741 queries. users per second: 556120</pre>"
      ],
      "text/plain": [
       "recommendations finished on 224000/311741 queries. users per second: 556120"
      ]
     },
     "metadata": {},
     "output_type": "display_data"
    },
    {
     "data": {
      "text/html": [
       "<pre>recommendations finished on 225000/311741 queries. users per second: 556796</pre>"
      ],
      "text/plain": [
       "recommendations finished on 225000/311741 queries. users per second: 556796"
      ]
     },
     "metadata": {},
     "output_type": "display_data"
    },
    {
     "data": {
      "text/html": [
       "<pre>recommendations finished on 226000/311741 queries. users per second: 557052</pre>"
      ],
      "text/plain": [
       "recommendations finished on 226000/311741 queries. users per second: 557052"
      ]
     },
     "metadata": {},
     "output_type": "display_data"
    },
    {
     "data": {
      "text/html": [
       "<pre>recommendations finished on 227000/311741 queries. users per second: 556371</pre>"
      ],
      "text/plain": [
       "recommendations finished on 227000/311741 queries. users per second: 556371"
      ]
     },
     "metadata": {},
     "output_type": "display_data"
    },
    {
     "data": {
      "text/html": [
       "<pre>recommendations finished on 228000/311741 queries. users per second: 555271</pre>"
      ],
      "text/plain": [
       "recommendations finished on 228000/311741 queries. users per second: 555271"
      ]
     },
     "metadata": {},
     "output_type": "display_data"
    },
    {
     "data": {
      "text/html": [
       "<pre>recommendations finished on 229000/311741 queries. users per second: 555215</pre>"
      ],
      "text/plain": [
       "recommendations finished on 229000/311741 queries. users per second: 555215"
      ]
     },
     "metadata": {},
     "output_type": "display_data"
    },
    {
     "data": {
      "text/html": [
       "<pre>recommendations finished on 230000/311741 queries. users per second: 554979</pre>"
      ],
      "text/plain": [
       "recommendations finished on 230000/311741 queries. users per second: 554979"
      ]
     },
     "metadata": {},
     "output_type": "display_data"
    },
    {
     "data": {
      "text/html": [
       "<pre>recommendations finished on 231000/311741 queries. users per second: 555143</pre>"
      ],
      "text/plain": [
       "recommendations finished on 231000/311741 queries. users per second: 555143"
      ]
     },
     "metadata": {},
     "output_type": "display_data"
    },
    {
     "data": {
      "text/html": [
       "<pre>recommendations finished on 232000/311741 queries. users per second: 555852</pre>"
      ],
      "text/plain": [
       "recommendations finished on 232000/311741 queries. users per second: 555852"
      ]
     },
     "metadata": {},
     "output_type": "display_data"
    },
    {
     "data": {
      "text/html": [
       "<pre>recommendations finished on 233000/311741 queries. users per second: 556487</pre>"
      ],
      "text/plain": [
       "recommendations finished on 233000/311741 queries. users per second: 556487"
      ]
     },
     "metadata": {},
     "output_type": "display_data"
    },
    {
     "data": {
      "text/html": [
       "<pre>recommendations finished on 234000/311741 queries. users per second: 557221</pre>"
      ],
      "text/plain": [
       "recommendations finished on 234000/311741 queries. users per second: 557221"
      ]
     },
     "metadata": {},
     "output_type": "display_data"
    },
    {
     "data": {
      "text/html": [
       "<pre>recommendations finished on 235000/311741 queries. users per second: 558011</pre>"
      ],
      "text/plain": [
       "recommendations finished on 235000/311741 queries. users per second: 558011"
      ]
     },
     "metadata": {},
     "output_type": "display_data"
    },
    {
     "data": {
      "text/html": [
       "<pre>recommendations finished on 236000/311741 queries. users per second: 558802</pre>"
      ],
      "text/plain": [
       "recommendations finished on 236000/311741 queries. users per second: 558802"
      ]
     },
     "metadata": {},
     "output_type": "display_data"
    },
    {
     "data": {
      "text/html": [
       "<pre>recommendations finished on 237000/311741 queries. users per second: 559587</pre>"
      ],
      "text/plain": [
       "recommendations finished on 237000/311741 queries. users per second: 559587"
      ]
     },
     "metadata": {},
     "output_type": "display_data"
    },
    {
     "data": {
      "text/html": [
       "<pre>recommendations finished on 238000/311741 queries. users per second: 559766</pre>"
      ],
      "text/plain": [
       "recommendations finished on 238000/311741 queries. users per second: 559766"
      ]
     },
     "metadata": {},
     "output_type": "display_data"
    },
    {
     "data": {
      "text/html": [
       "<pre>recommendations finished on 239000/311741 queries. users per second: 560036</pre>"
      ],
      "text/plain": [
       "recommendations finished on 239000/311741 queries. users per second: 560036"
      ]
     },
     "metadata": {},
     "output_type": "display_data"
    },
    {
     "data": {
      "text/html": [
       "<pre>recommendations finished on 240000/311741 queries. users per second: 560195</pre>"
      ],
      "text/plain": [
       "recommendations finished on 240000/311741 queries. users per second: 560195"
      ]
     },
     "metadata": {},
     "output_type": "display_data"
    },
    {
     "data": {
      "text/html": [
       "<pre>recommendations finished on 241000/311741 queries. users per second: 560772</pre>"
      ],
      "text/plain": [
       "recommendations finished on 241000/311741 queries. users per second: 560772"
      ]
     },
     "metadata": {},
     "output_type": "display_data"
    },
    {
     "data": {
      "text/html": [
       "<pre>recommendations finished on 242000/311741 queries. users per second: 561041</pre>"
      ],
      "text/plain": [
       "recommendations finished on 242000/311741 queries. users per second: 561041"
      ]
     },
     "metadata": {},
     "output_type": "display_data"
    },
    {
     "data": {
      "text/html": [
       "<pre>recommendations finished on 243000/311741 queries. users per second: 561412</pre>"
      ],
      "text/plain": [
       "recommendations finished on 243000/311741 queries. users per second: 561412"
      ]
     },
     "metadata": {},
     "output_type": "display_data"
    },
    {
     "data": {
      "text/html": [
       "<pre>recommendations finished on 244000/311741 queries. users per second: 561980</pre>"
      ],
      "text/plain": [
       "recommendations finished on 244000/311741 queries. users per second: 561980"
      ]
     },
     "metadata": {},
     "output_type": "display_data"
    },
    {
     "data": {
      "text/html": [
       "<pre>recommendations finished on 245000/311741 queries. users per second: 562722</pre>"
      ],
      "text/plain": [
       "recommendations finished on 245000/311741 queries. users per second: 562722"
      ]
     },
     "metadata": {},
     "output_type": "display_data"
    },
    {
     "data": {
      "text/html": [
       "<pre>recommendations finished on 246000/311741 queries. users per second: 563241</pre>"
      ],
      "text/plain": [
       "recommendations finished on 246000/311741 queries. users per second: 563241"
      ]
     },
     "metadata": {},
     "output_type": "display_data"
    },
    {
     "data": {
      "text/html": [
       "<pre>recommendations finished on 247000/311741 queries. users per second: 563989</pre>"
      ],
      "text/plain": [
       "recommendations finished on 247000/311741 queries. users per second: 563989"
      ]
     },
     "metadata": {},
     "output_type": "display_data"
    },
    {
     "data": {
      "text/html": [
       "<pre>recommendations finished on 248000/311741 queries. users per second: 564752</pre>"
      ],
      "text/plain": [
       "recommendations finished on 248000/311741 queries. users per second: 564752"
      ]
     },
     "metadata": {},
     "output_type": "display_data"
    },
    {
     "data": {
      "text/html": [
       "<pre>recommendations finished on 249000/311741 queries. users per second: 565444</pre>"
      ],
      "text/plain": [
       "recommendations finished on 249000/311741 queries. users per second: 565444"
      ]
     },
     "metadata": {},
     "output_type": "display_data"
    },
    {
     "data": {
      "text/html": [
       "<pre>recommendations finished on 250000/311741 queries. users per second: 565619</pre>"
      ],
      "text/plain": [
       "recommendations finished on 250000/311741 queries. users per second: 565619"
      ]
     },
     "metadata": {},
     "output_type": "display_data"
    },
    {
     "data": {
      "text/html": [
       "<pre>recommendations finished on 251000/311741 queries. users per second: 566185</pre>"
      ],
      "text/plain": [
       "recommendations finished on 251000/311741 queries. users per second: 566185"
      ]
     },
     "metadata": {},
     "output_type": "display_data"
    },
    {
     "name": "stdout",
     "output_type": "stream",
     "text": [
      "+-------------+-------------+--------------------+------+\n",
      "| COD_CLIENTE | COD_PRODUTO |       score        | rank |\n",
      "+-------------+-------------+--------------------+------+\n",
      "|   00000301  |    25099    |        4.0         |  1   |\n",
      "|   00000301  |    21601    |        2.0         |  2   |\n",
      "|   00000301  |    21126    |        2.0         |  3   |\n",
      "|   00000301  |    18941    |        1.5         |  4   |\n",
      "|   00000301  |    21602    | 1.3333333333333333 |  5   |\n",
      "|   00000301  |    22313    | 1.3333333333333333 |  6   |\n",
      "|   00000301  |    20503    | 1.3333333333333333 |  7   |\n",
      "|   00000301  |    23813    | 1.263157894736842  |  8   |\n",
      "|   00000301  |    24598    |        1.25        |  9   |\n",
      "|   00000301  |    19729    | 1.1617999042604117 |  10  |\n",
      "|   00001501  |    25099    |        4.0         |  1   |\n",
      "|   00001501  |    21601    |        2.0         |  2   |\n",
      "|   00001501  |    21126    |        2.0         |  3   |\n",
      "|   00001501  |    18941    |        1.5         |  4   |\n",
      "|   00001501  |    21602    | 1.3333333333333333 |  5   |\n",
      "|   00001501  |    22313    | 1.3333333333333333 |  6   |\n",
      "|   00001501  |    20503    | 1.3333333333333333 |  7   |\n",
      "|   00001501  |    23813    | 1.263157894736842  |  8   |\n",
      "|   00001501  |    24598    |        1.25        |  9   |\n",
      "|   00001501  |    19729    | 1.1617999042604117 |  10  |\n",
      "|   00002001  |    25099    |        4.0         |  1   |\n",
      "|   00002001  |    21601    |        2.0         |  2   |\n",
      "|   00002001  |    21126    |        2.0         |  3   |\n",
      "|   00002001  |    18941    |        1.5         |  4   |\n",
      "|   00002001  |    21602    | 1.3333333333333333 |  5   |\n",
      "|   00002001  |    22313    | 1.3333333333333333 |  6   |\n",
      "|   00002001  |    20503    | 1.3333333333333333 |  7   |\n",
      "|   00002001  |    23813    | 1.263157894736842  |  8   |\n",
      "|   00002001  |    24598    |        1.25        |  9   |\n",
      "|   00002001  |    19729    | 1.1617999042604117 |  10  |\n",
      "+-------------+-------------+--------------------+------+\n",
      "[3117410 rows x 4 columns]\n",
      "\n"
     ]
    },
    {
     "data": {
      "text/html": [
       "<pre>recommendations finished on 252000/311741 queries. users per second: 566960</pre>"
      ],
      "text/plain": [
       "recommendations finished on 252000/311741 queries. users per second: 566960"
      ]
     },
     "metadata": {},
     "output_type": "display_data"
    },
    {
     "data": {
      "text/html": [
       "<pre>recommendations finished on 253000/311741 queries. users per second: 567617</pre>"
      ],
      "text/plain": [
       "recommendations finished on 253000/311741 queries. users per second: 567617"
      ]
     },
     "metadata": {},
     "output_type": "display_data"
    },
    {
     "data": {
      "text/html": [
       "<pre>recommendations finished on 254000/311741 queries. users per second: 568309</pre>"
      ],
      "text/plain": [
       "recommendations finished on 254000/311741 queries. users per second: 568309"
      ]
     },
     "metadata": {},
     "output_type": "display_data"
    },
    {
     "data": {
      "text/html": [
       "<pre>recommendations finished on 255000/311741 queries. users per second: 569003</pre>"
      ],
      "text/plain": [
       "recommendations finished on 255000/311741 queries. users per second: 569003"
      ]
     },
     "metadata": {},
     "output_type": "display_data"
    },
    {
     "data": {
      "text/html": [
       "<pre>recommendations finished on 256000/311741 queries. users per second: 569702</pre>"
      ],
      "text/plain": [
       "recommendations finished on 256000/311741 queries. users per second: 569702"
      ]
     },
     "metadata": {},
     "output_type": "display_data"
    },
    {
     "data": {
      "text/plain": [
       "Class                            : PopularityRecommender\n",
       "\n",
       "Schema\n",
       "------\n",
       "User ID                          : COD_CLIENTE\n",
       "Item ID                          : COD_PRODUTO\n",
       "Target                           : QUANTIDADE\n",
       "Additional observation features  : 0\n",
       "User side features               : []\n",
       "Item side features               : []\n",
       "\n",
       "Statistics\n",
       "----------\n",
       "Number of observations           : 249392\n",
       "Number of users                  : 198072\n",
       "Number of items                  : 670\n",
       "\n",
       "Training summary\n",
       "----------------\n",
       "Training time                    : 0.0083\n",
       "\n",
       "Model Parameters\n",
       "----------------\n",
       "Model class                      : PopularityRecommender"
      ]
     },
     "execution_count": 27,
     "metadata": {},
     "output_type": "execute_result"
    },
    {
     "data": {
      "text/html": [
       "<pre>recommendations finished on 257000/311741 queries. users per second: 570322</pre>"
      ],
      "text/plain": [
       "recommendations finished on 257000/311741 queries. users per second: 570322"
      ]
     },
     "metadata": {},
     "output_type": "display_data"
    },
    {
     "data": {
      "text/html": [
       "<pre>recommendations finished on 258000/311741 queries. users per second: 570891</pre>"
      ],
      "text/plain": [
       "recommendations finished on 258000/311741 queries. users per second: 570891"
      ]
     },
     "metadata": {},
     "output_type": "display_data"
    },
    {
     "data": {
      "text/html": [
       "<pre>recommendations finished on 259000/311741 queries. users per second: 571434</pre>"
      ],
      "text/plain": [
       "recommendations finished on 259000/311741 queries. users per second: 571434"
      ]
     },
     "metadata": {},
     "output_type": "display_data"
    },
    {
     "data": {
      "text/html": [
       "<pre>recommendations finished on 260000/311741 queries. users per second: 572154</pre>"
      ],
      "text/plain": [
       "recommendations finished on 260000/311741 queries. users per second: 572154"
      ]
     },
     "metadata": {},
     "output_type": "display_data"
    },
    {
     "data": {
      "text/html": [
       "<pre>recommendations finished on 261000/311741 queries. users per second: 572870</pre>"
      ],
      "text/plain": [
       "recommendations finished on 261000/311741 queries. users per second: 572870"
      ]
     },
     "metadata": {},
     "output_type": "display_data"
    },
    {
     "data": {
      "text/html": [
       "<pre>recommendations finished on 262000/311741 queries. users per second: 570698</pre>"
      ],
      "text/plain": [
       "recommendations finished on 262000/311741 queries. users per second: 570698"
      ]
     },
     "metadata": {},
     "output_type": "display_data"
    },
    {
     "data": {
      "text/html": [
       "<pre>recommendations finished on 263000/311741 queries. users per second: 571285</pre>"
      ],
      "text/plain": [
       "recommendations finished on 263000/311741 queries. users per second: 571285"
      ]
     },
     "metadata": {},
     "output_type": "display_data"
    },
    {
     "data": {
      "text/html": [
       "<pre>recommendations finished on 264000/311741 queries. users per second: 571791</pre>"
      ],
      "text/plain": [
       "recommendations finished on 264000/311741 queries. users per second: 571791"
      ]
     },
     "metadata": {},
     "output_type": "display_data"
    },
    {
     "data": {
      "text/html": [
       "<pre>recommendations finished on 265000/311741 queries. users per second: 572290</pre>"
      ],
      "text/plain": [
       "recommendations finished on 265000/311741 queries. users per second: 572290"
      ]
     },
     "metadata": {},
     "output_type": "display_data"
    },
    {
     "data": {
      "text/html": [
       "<pre>recommendations finished on 266000/311741 queries. users per second: 572437</pre>"
      ],
      "text/plain": [
       "recommendations finished on 266000/311741 queries. users per second: 572437"
      ]
     },
     "metadata": {},
     "output_type": "display_data"
    },
    {
     "data": {
      "text/html": [
       "<pre>recommendations finished on 267000/311741 queries. users per second: 572569</pre>"
      ],
      "text/plain": [
       "recommendations finished on 267000/311741 queries. users per second: 572569"
      ]
     },
     "metadata": {},
     "output_type": "display_data"
    },
    {
     "data": {
      "text/html": [
       "<pre>recommendations finished on 268000/311741 queries. users per second: 572820</pre>"
      ],
      "text/plain": [
       "recommendations finished on 268000/311741 queries. users per second: 572820"
      ]
     },
     "metadata": {},
     "output_type": "display_data"
    },
    {
     "data": {
      "text/html": [
       "<pre>recommendations finished on 269000/311741 queries. users per second: 572891</pre>"
      ],
      "text/plain": [
       "recommendations finished on 269000/311741 queries. users per second: 572891"
      ]
     },
     "metadata": {},
     "output_type": "display_data"
    },
    {
     "data": {
      "text/html": [
       "<pre>recommendations finished on 270000/311741 queries. users per second: 572824</pre>"
      ],
      "text/plain": [
       "recommendations finished on 270000/311741 queries. users per second: 572824"
      ]
     },
     "metadata": {},
     "output_type": "display_data"
    },
    {
     "data": {
      "text/html": [
       "<pre>recommendations finished on 271000/311741 queries. users per second: 573340</pre>"
      ],
      "text/plain": [
       "recommendations finished on 271000/311741 queries. users per second: 573340"
      ]
     },
     "metadata": {},
     "output_type": "display_data"
    },
    {
     "data": {
      "text/html": [
       "<pre>recommendations finished on 272000/311741 queries. users per second: 573653</pre>"
      ],
      "text/plain": [
       "recommendations finished on 272000/311741 queries. users per second: 573653"
      ]
     },
     "metadata": {},
     "output_type": "display_data"
    },
    {
     "data": {
      "text/html": [
       "<pre>recommendations finished on 273000/311741 queries. users per second: 574206</pre>"
      ],
      "text/plain": [
       "recommendations finished on 273000/311741 queries. users per second: 574206"
      ]
     },
     "metadata": {},
     "output_type": "display_data"
    },
    {
     "data": {
      "text/html": [
       "<pre>recommendations finished on 274000/311741 queries. users per second: 574534</pre>"
      ],
      "text/plain": [
       "recommendations finished on 274000/311741 queries. users per second: 574534"
      ]
     },
     "metadata": {},
     "output_type": "display_data"
    },
    {
     "data": {
      "text/html": [
       "<pre>recommendations finished on 275000/311741 queries. users per second: 574895</pre>"
      ],
      "text/plain": [
       "recommendations finished on 275000/311741 queries. users per second: 574895"
      ]
     },
     "metadata": {},
     "output_type": "display_data"
    },
    {
     "data": {
      "text/html": [
       "<pre>recommendations finished on 276000/311741 queries. users per second: 575393</pre>"
      ],
      "text/plain": [
       "recommendations finished on 276000/311741 queries. users per second: 575393"
      ]
     },
     "metadata": {},
     "output_type": "display_data"
    },
    {
     "data": {
      "text/html": [
       "<pre>recommendations finished on 277000/311741 queries. users per second: 575900</pre>"
      ],
      "text/plain": [
       "recommendations finished on 277000/311741 queries. users per second: 575900"
      ]
     },
     "metadata": {},
     "output_type": "display_data"
    },
    {
     "data": {
      "text/html": [
       "<pre>recommendations finished on 278000/311741 queries. users per second: 576249</pre>"
      ],
      "text/plain": [
       "recommendations finished on 278000/311741 queries. users per second: 576249"
      ]
     },
     "metadata": {},
     "output_type": "display_data"
    },
    {
     "data": {
      "text/html": [
       "<pre>recommendations finished on 279000/311741 queries. users per second: 575892</pre>"
      ],
      "text/plain": [
       "recommendations finished on 279000/311741 queries. users per second: 575892"
      ]
     },
     "metadata": {},
     "output_type": "display_data"
    },
    {
     "data": {
      "text/html": [
       "<pre>recommendations finished on 280000/311741 queries. users per second: 575693</pre>"
      ],
      "text/plain": [
       "recommendations finished on 280000/311741 queries. users per second: 575693"
      ]
     },
     "metadata": {},
     "output_type": "display_data"
    },
    {
     "data": {
      "text/html": [
       "<pre>recommendations finished on 281000/311741 queries. users per second: 575637</pre>"
      ],
      "text/plain": [
       "recommendations finished on 281000/311741 queries. users per second: 575637"
      ]
     },
     "metadata": {},
     "output_type": "display_data"
    },
    {
     "data": {
      "text/html": [
       "<pre>recommendations finished on 282000/311741 queries. users per second: 574346</pre>"
      ],
      "text/plain": [
       "recommendations finished on 282000/311741 queries. users per second: 574346"
      ]
     },
     "metadata": {},
     "output_type": "display_data"
    },
    {
     "data": {
      "text/html": [
       "<pre>recommendations finished on 283000/311741 queries. users per second: 573311</pre>"
      ],
      "text/plain": [
       "recommendations finished on 283000/311741 queries. users per second: 573311"
      ]
     },
     "metadata": {},
     "output_type": "display_data"
    },
    {
     "data": {
      "text/html": [
       "<pre>recommendations finished on 284000/311741 queries. users per second: 572423</pre>"
      ],
      "text/plain": [
       "recommendations finished on 284000/311741 queries. users per second: 572423"
      ]
     },
     "metadata": {},
     "output_type": "display_data"
    },
    {
     "data": {
      "text/html": [
       "<pre>recommendations finished on 285000/311741 queries. users per second: 572072</pre>"
      ],
      "text/plain": [
       "recommendations finished on 285000/311741 queries. users per second: 572072"
      ]
     },
     "metadata": {},
     "output_type": "display_data"
    },
    {
     "data": {
      "text/html": [
       "<pre>recommendations finished on 286000/311741 queries. users per second: 571734</pre>"
      ],
      "text/plain": [
       "recommendations finished on 286000/311741 queries. users per second: 571734"
      ]
     },
     "metadata": {},
     "output_type": "display_data"
    },
    {
     "data": {
      "text/html": [
       "<pre>recommendations finished on 287000/311741 queries. users per second: 570394</pre>"
      ],
      "text/plain": [
       "recommendations finished on 287000/311741 queries. users per second: 570394"
      ]
     },
     "metadata": {},
     "output_type": "display_data"
    },
    {
     "data": {
      "text/html": [
       "<pre>recommendations finished on 288000/311741 queries. users per second: 569313</pre>"
      ],
      "text/plain": [
       "recommendations finished on 288000/311741 queries. users per second: 569313"
      ]
     },
     "metadata": {},
     "output_type": "display_data"
    },
    {
     "data": {
      "text/html": [
       "<pre>recommendations finished on 289000/311741 queries. users per second: 566309</pre>"
      ],
      "text/plain": [
       "recommendations finished on 289000/311741 queries. users per second: 566309"
      ]
     },
     "metadata": {},
     "output_type": "display_data"
    },
    {
     "data": {
      "text/html": [
       "<pre>recommendations finished on 290000/311741 queries. users per second: 565258</pre>"
      ],
      "text/plain": [
       "recommendations finished on 290000/311741 queries. users per second: 565258"
      ]
     },
     "metadata": {},
     "output_type": "display_data"
    },
    {
     "data": {
      "text/html": [
       "<pre>recommendations finished on 291000/311741 queries. users per second: 565033</pre>"
      ],
      "text/plain": [
       "recommendations finished on 291000/311741 queries. users per second: 565033"
      ]
     },
     "metadata": {},
     "output_type": "display_data"
    },
    {
     "data": {
      "text/html": [
       "<pre>recommendations finished on 292000/311741 queries. users per second: 564844</pre>"
      ],
      "text/plain": [
       "recommendations finished on 292000/311741 queries. users per second: 564844"
      ]
     },
     "metadata": {},
     "output_type": "display_data"
    },
    {
     "data": {
      "text/html": [
       "<pre>recommendations finished on 293000/311741 queries. users per second: 564474</pre>"
      ],
      "text/plain": [
       "recommendations finished on 293000/311741 queries. users per second: 564474"
      ]
     },
     "metadata": {},
     "output_type": "display_data"
    },
    {
     "data": {
      "text/html": [
       "<pre>recommendations finished on 294000/311741 queries. users per second: 563861</pre>"
      ],
      "text/plain": [
       "recommendations finished on 294000/311741 queries. users per second: 563861"
      ]
     },
     "metadata": {},
     "output_type": "display_data"
    },
    {
     "data": {
      "text/html": [
       "<pre>recommendations finished on 295000/311741 queries. users per second: 562871</pre>"
      ],
      "text/plain": [
       "recommendations finished on 295000/311741 queries. users per second: 562871"
      ]
     },
     "metadata": {},
     "output_type": "display_data"
    },
    {
     "data": {
      "text/html": [
       "<pre>recommendations finished on 296000/311741 queries. users per second: 557940</pre>"
      ],
      "text/plain": [
       "recommendations finished on 296000/311741 queries. users per second: 557940"
      ]
     },
     "metadata": {},
     "output_type": "display_data"
    },
    {
     "data": {
      "text/html": [
       "<pre>recommendations finished on 297000/311741 queries. users per second: 557765</pre>"
      ],
      "text/plain": [
       "recommendations finished on 297000/311741 queries. users per second: 557765"
      ]
     },
     "metadata": {},
     "output_type": "display_data"
    },
    {
     "data": {
      "text/html": [
       "<pre>recommendations finished on 298000/311741 queries. users per second: 557532</pre>"
      ],
      "text/plain": [
       "recommendations finished on 298000/311741 queries. users per second: 557532"
      ]
     },
     "metadata": {},
     "output_type": "display_data"
    },
    {
     "data": {
      "text/html": [
       "<pre>recommendations finished on 299000/311741 queries. users per second: 557293</pre>"
      ],
      "text/plain": [
       "recommendations finished on 299000/311741 queries. users per second: 557293"
      ]
     },
     "metadata": {},
     "output_type": "display_data"
    },
    {
     "data": {
      "text/html": [
       "<pre>recommendations finished on 300000/311741 queries. users per second: 557125</pre>"
      ],
      "text/plain": [
       "recommendations finished on 300000/311741 queries. users per second: 557125"
      ]
     },
     "metadata": {},
     "output_type": "display_data"
    },
    {
     "data": {
      "text/html": [
       "<pre>recommendations finished on 301000/311741 queries. users per second: 556425</pre>"
      ],
      "text/plain": [
       "recommendations finished on 301000/311741 queries. users per second: 556425"
      ]
     },
     "metadata": {},
     "output_type": "display_data"
    },
    {
     "data": {
      "text/html": [
       "<pre>recommendations finished on 302000/311741 queries. users per second: 553732</pre>"
      ],
      "text/plain": [
       "recommendations finished on 302000/311741 queries. users per second: 553732"
      ]
     },
     "metadata": {},
     "output_type": "display_data"
    },
    {
     "data": {
      "text/html": [
       "<pre>recommendations finished on 303000/311741 queries. users per second: 552579</pre>"
      ],
      "text/plain": [
       "recommendations finished on 303000/311741 queries. users per second: 552579"
      ]
     },
     "metadata": {},
     "output_type": "display_data"
    },
    {
     "data": {
      "text/html": [
       "<pre>recommendations finished on 304000/311741 queries. users per second: 551727</pre>"
      ],
      "text/plain": [
       "recommendations finished on 304000/311741 queries. users per second: 551727"
      ]
     },
     "metadata": {},
     "output_type": "display_data"
    },
    {
     "data": {
      "text/html": [
       "<pre>recommendations finished on 305000/311741 queries. users per second: 550966</pre>"
      ],
      "text/plain": [
       "recommendations finished on 305000/311741 queries. users per second: 550966"
      ]
     },
     "metadata": {},
     "output_type": "display_data"
    },
    {
     "data": {
      "text/html": [
       "<pre>recommendations finished on 306000/311741 queries. users per second: 550204</pre>"
      ],
      "text/plain": [
       "recommendations finished on 306000/311741 queries. users per second: 550204"
      ]
     },
     "metadata": {},
     "output_type": "display_data"
    },
    {
     "data": {
      "text/html": [
       "<pre>recommendations finished on 307000/311741 queries. users per second: 548180</pre>"
      ],
      "text/plain": [
       "recommendations finished on 307000/311741 queries. users per second: 548180"
      ]
     },
     "metadata": {},
     "output_type": "display_data"
    },
    {
     "data": {
      "text/html": [
       "<pre>recommendations finished on 308000/311741 queries. users per second: 544723</pre>"
      ],
      "text/plain": [
       "recommendations finished on 308000/311741 queries. users per second: 544723"
      ]
     },
     "metadata": {},
     "output_type": "display_data"
    },
    {
     "data": {
      "text/html": [
       "<pre>recommendations finished on 309000/311741 queries. users per second: 541862</pre>"
      ],
      "text/plain": [
       "recommendations finished on 309000/311741 queries. users per second: 541862"
      ]
     },
     "metadata": {},
     "output_type": "display_data"
    },
    {
     "data": {
      "text/html": [
       "<pre>recommendations finished on 310000/311741 queries. users per second: 538838</pre>"
      ],
      "text/plain": [
       "recommendations finished on 310000/311741 queries. users per second: 538838"
      ]
     },
     "metadata": {},
     "output_type": "display_data"
    },
    {
     "data": {
      "text/html": [
       "<pre>recommendations finished on 311000/311741 queries. users per second: 535544</pre>"
      ],
      "text/plain": [
       "recommendations finished on 311000/311741 queries. users per second: 535544"
      ]
     },
     "metadata": {},
     "output_type": "display_data"
    }
   ],
   "source": [
    "name = 'popularity'\n",
    "target = 'QUANTIDADE'\n",
    "popularity = model(train_data, name, user_id, item_id, target, \n",
    "                   users_to_recommend, n_recommendation, n_display)\n",
    "popularity"
   ]
  },
  {
   "cell_type": "markdown",
   "metadata": {},
   "source": [
    "### Using scaled purchase count "
   ]
  },
  {
   "cell_type": "code",
   "execution_count": 29,
   "metadata": {},
   "outputs": [
    {
     "data": {
      "text/html": [
       "<pre>Preparing data set.</pre>"
      ],
      "text/plain": [
       "Preparing data set."
      ]
     },
     "metadata": {},
     "output_type": "display_data"
    },
    {
     "data": {
      "text/html": [
       "<pre>    Data has 245474 observations with 195699 users and 308 items.</pre>"
      ],
      "text/plain": [
       "    Data has 245474 observations with 195699 users and 308 items."
      ]
     },
     "metadata": {},
     "output_type": "display_data"
    },
    {
     "data": {
      "text/html": [
       "<pre>    Data prepared in: 0.167097s</pre>"
      ],
      "text/plain": [
       "    Data prepared in: 0.167097s"
      ]
     },
     "metadata": {},
     "output_type": "display_data"
    },
    {
     "data": {
      "text/html": [
       "<pre>245474 observations to process; with 308 unique items.</pre>"
      ],
      "text/plain": [
       "245474 observations to process; with 308 unique items."
      ]
     },
     "metadata": {},
     "output_type": "display_data"
    },
    {
     "data": {
      "text/html": [
       "<pre>recommendations finished on 1000/311741 queries. users per second: 109830</pre>"
      ],
      "text/plain": [
       "recommendations finished on 1000/311741 queries. users per second: 109830"
      ]
     },
     "metadata": {},
     "output_type": "display_data"
    },
    {
     "data": {
      "text/html": [
       "<pre>recommendations finished on 2000/311741 queries. users per second: 200040</pre>"
      ],
      "text/plain": [
       "recommendations finished on 2000/311741 queries. users per second: 200040"
      ]
     },
     "metadata": {},
     "output_type": "display_data"
    },
    {
     "data": {
      "text/html": [
       "<pre>recommendations finished on 3000/311741 queries. users per second: 274549</pre>"
      ],
      "text/plain": [
       "recommendations finished on 3000/311741 queries. users per second: 274549"
      ]
     },
     "metadata": {},
     "output_type": "display_data"
    },
    {
     "data": {
      "text/html": [
       "<pre>recommendations finished on 4000/311741 queries. users per second: 338381</pre>"
      ],
      "text/plain": [
       "recommendations finished on 4000/311741 queries. users per second: 338381"
      ]
     },
     "metadata": {},
     "output_type": "display_data"
    },
    {
     "data": {
      "text/html": [
       "<pre>recommendations finished on 5000/311741 queries. users per second: 386309</pre>"
      ],
      "text/plain": [
       "recommendations finished on 5000/311741 queries. users per second: 386309"
      ]
     },
     "metadata": {},
     "output_type": "display_data"
    },
    {
     "data": {
      "text/html": [
       "<pre>recommendations finished on 6000/311741 queries. users per second: 430571</pre>"
      ],
      "text/plain": [
       "recommendations finished on 6000/311741 queries. users per second: 430571"
      ]
     },
     "metadata": {},
     "output_type": "display_data"
    },
    {
     "data": {
      "text/html": [
       "<pre>recommendations finished on 7000/311741 queries. users per second: 471190</pre>"
      ],
      "text/plain": [
       "recommendations finished on 7000/311741 queries. users per second: 471190"
      ]
     },
     "metadata": {},
     "output_type": "display_data"
    },
    {
     "data": {
      "text/html": [
       "<pre>recommendations finished on 8000/311741 queries. users per second: 503905</pre>"
      ],
      "text/plain": [
       "recommendations finished on 8000/311741 queries. users per second: 503905"
      ]
     },
     "metadata": {},
     "output_type": "display_data"
    },
    {
     "data": {
      "text/html": [
       "<pre>recommendations finished on 9000/311741 queries. users per second: 533935</pre>"
      ],
      "text/plain": [
       "recommendations finished on 9000/311741 queries. users per second: 533935"
      ]
     },
     "metadata": {},
     "output_type": "display_data"
    },
    {
     "data": {
      "text/html": [
       "<pre>recommendations finished on 10000/311741 queries. users per second: 545494</pre>"
      ],
      "text/plain": [
       "recommendations finished on 10000/311741 queries. users per second: 545494"
      ]
     },
     "metadata": {},
     "output_type": "display_data"
    },
    {
     "data": {
      "text/html": [
       "<pre>recommendations finished on 11000/311741 queries. users per second: 561999</pre>"
      ],
      "text/plain": [
       "recommendations finished on 11000/311741 queries. users per second: 561999"
      ]
     },
     "metadata": {},
     "output_type": "display_data"
    },
    {
     "data": {
      "text/html": [
       "<pre>recommendations finished on 12000/311741 queries. users per second: 587285</pre>"
      ],
      "text/plain": [
       "recommendations finished on 12000/311741 queries. users per second: 587285"
      ]
     },
     "metadata": {},
     "output_type": "display_data"
    },
    {
     "data": {
      "text/html": [
       "<pre>recommendations finished on 13000/311741 queries. users per second: 609070</pre>"
      ],
      "text/plain": [
       "recommendations finished on 13000/311741 queries. users per second: 609070"
      ]
     },
     "metadata": {},
     "output_type": "display_data"
    },
    {
     "data": {
      "text/html": [
       "<pre>recommendations finished on 14000/311741 queries. users per second: 630120</pre>"
      ],
      "text/plain": [
       "recommendations finished on 14000/311741 queries. users per second: 630120"
      ]
     },
     "metadata": {},
     "output_type": "display_data"
    },
    {
     "data": {
      "text/html": [
       "<pre>recommendations finished on 15000/311741 queries. users per second: 649632</pre>"
      ],
      "text/plain": [
       "recommendations finished on 15000/311741 queries. users per second: 649632"
      ]
     },
     "metadata": {},
     "output_type": "display_data"
    },
    {
     "data": {
      "text/html": [
       "<pre>recommendations finished on 16000/311741 queries. users per second: 667306</pre>"
      ],
      "text/plain": [
       "recommendations finished on 16000/311741 queries. users per second: 667306"
      ]
     },
     "metadata": {},
     "output_type": "display_data"
    },
    {
     "data": {
      "text/html": [
       "<pre>recommendations finished on 17000/311741 queries. users per second: 676025</pre>"
      ],
      "text/plain": [
       "recommendations finished on 17000/311741 queries. users per second: 676025"
      ]
     },
     "metadata": {},
     "output_type": "display_data"
    },
    {
     "data": {
      "text/html": [
       "<pre>recommendations finished on 18000/311741 queries. users per second: 690475</pre>"
      ],
      "text/plain": [
       "recommendations finished on 18000/311741 queries. users per second: 690475"
      ]
     },
     "metadata": {},
     "output_type": "display_data"
    },
    {
     "data": {
      "text/html": [
       "<pre>recommendations finished on 19000/311741 queries. users per second: 702845</pre>"
      ],
      "text/plain": [
       "recommendations finished on 19000/311741 queries. users per second: 702845"
      ]
     },
     "metadata": {},
     "output_type": "display_data"
    },
    {
     "data": {
      "text/html": [
       "<pre>recommendations finished on 20000/311741 queries. users per second: 673242</pre>"
      ],
      "text/plain": [
       "recommendations finished on 20000/311741 queries. users per second: 673242"
      ]
     },
     "metadata": {},
     "output_type": "display_data"
    },
    {
     "data": {
      "text/html": [
       "<pre>recommendations finished on 21000/311741 queries. users per second: 669067</pre>"
      ],
      "text/plain": [
       "recommendations finished on 21000/311741 queries. users per second: 669067"
      ]
     },
     "metadata": {},
     "output_type": "display_data"
    },
    {
     "data": {
      "text/html": [
       "<pre>recommendations finished on 22000/311741 queries. users per second: 681748</pre>"
      ],
      "text/plain": [
       "recommendations finished on 22000/311741 queries. users per second: 681748"
      ]
     },
     "metadata": {},
     "output_type": "display_data"
    },
    {
     "data": {
      "text/html": [
       "<pre>recommendations finished on 23000/311741 queries. users per second: 692062</pre>"
      ],
      "text/plain": [
       "recommendations finished on 23000/311741 queries. users per second: 692062"
      ]
     },
     "metadata": {},
     "output_type": "display_data"
    },
    {
     "data": {
      "text/html": [
       "<pre>recommendations finished on 24000/311741 queries. users per second: 702042</pre>"
      ],
      "text/plain": [
       "recommendations finished on 24000/311741 queries. users per second: 702042"
      ]
     },
     "metadata": {},
     "output_type": "display_data"
    },
    {
     "data": {
      "text/html": [
       "<pre>recommendations finished on 25000/311741 queries. users per second: 712840</pre>"
      ],
      "text/plain": [
       "recommendations finished on 25000/311741 queries. users per second: 712840"
      ]
     },
     "metadata": {},
     "output_type": "display_data"
    },
    {
     "data": {
      "text/html": [
       "<pre>recommendations finished on 26000/311741 queries. users per second: 723368</pre>"
      ],
      "text/plain": [
       "recommendations finished on 26000/311741 queries. users per second: 723368"
      ]
     },
     "metadata": {},
     "output_type": "display_data"
    },
    {
     "data": {
      "text/html": [
       "<pre>recommendations finished on 27000/311741 queries. users per second: 725611</pre>"
      ],
      "text/plain": [
       "recommendations finished on 27000/311741 queries. users per second: 725611"
      ]
     },
     "metadata": {},
     "output_type": "display_data"
    },
    {
     "data": {
      "text/html": [
       "<pre>recommendations finished on 28000/311741 queries. users per second: 734870</pre>"
      ],
      "text/plain": [
       "recommendations finished on 28000/311741 queries. users per second: 734870"
      ]
     },
     "metadata": {},
     "output_type": "display_data"
    },
    {
     "data": {
      "text/html": [
       "<pre>recommendations finished on 29000/311741 queries. users per second: 743628</pre>"
      ],
      "text/plain": [
       "recommendations finished on 29000/311741 queries. users per second: 743628"
      ]
     },
     "metadata": {},
     "output_type": "display_data"
    },
    {
     "data": {
      "text/html": [
       "<pre>recommendations finished on 30000/311741 queries. users per second: 752483</pre>"
      ],
      "text/plain": [
       "recommendations finished on 30000/311741 queries. users per second: 752483"
      ]
     },
     "metadata": {},
     "output_type": "display_data"
    },
    {
     "data": {
      "text/html": [
       "<pre>recommendations finished on 31000/311741 queries. users per second: 760438</pre>"
      ],
      "text/plain": [
       "recommendations finished on 31000/311741 queries. users per second: 760438"
      ]
     },
     "metadata": {},
     "output_type": "display_data"
    },
    {
     "data": {
      "text/html": [
       "<pre>recommendations finished on 32000/311741 queries. users per second: 766504</pre>"
      ],
      "text/plain": [
       "recommendations finished on 32000/311741 queries. users per second: 766504"
      ]
     },
     "metadata": {},
     "output_type": "display_data"
    },
    {
     "data": {
      "text/html": [
       "<pre>recommendations finished on 33000/311741 queries. users per second: 774375</pre>"
      ],
      "text/plain": [
       "recommendations finished on 33000/311741 queries. users per second: 774375"
      ]
     },
     "metadata": {},
     "output_type": "display_data"
    },
    {
     "data": {
      "text/html": [
       "<pre>recommendations finished on 34000/311741 queries. users per second: 781987</pre>"
      ],
      "text/plain": [
       "recommendations finished on 34000/311741 queries. users per second: 781987"
      ]
     },
     "metadata": {},
     "output_type": "display_data"
    },
    {
     "data": {
      "text/html": [
       "<pre>recommendations finished on 35000/311741 queries. users per second: 788946</pre>"
      ],
      "text/plain": [
       "recommendations finished on 35000/311741 queries. users per second: 788946"
      ]
     },
     "metadata": {},
     "output_type": "display_data"
    },
    {
     "data": {
      "text/html": [
       "<pre>recommendations finished on 36000/311741 queries. users per second: 793773</pre>"
      ],
      "text/plain": [
       "recommendations finished on 36000/311741 queries. users per second: 793773"
      ]
     },
     "metadata": {},
     "output_type": "display_data"
    },
    {
     "data": {
      "text/html": [
       "<pre>recommendations finished on 37000/311741 queries. users per second: 800069</pre>"
      ],
      "text/plain": [
       "recommendations finished on 37000/311741 queries. users per second: 800069"
      ]
     },
     "metadata": {},
     "output_type": "display_data"
    },
    {
     "data": {
      "text/html": [
       "<pre>recommendations finished on 38000/311741 queries. users per second: 802772</pre>"
      ],
      "text/plain": [
       "recommendations finished on 38000/311741 queries. users per second: 802772"
      ]
     },
     "metadata": {},
     "output_type": "display_data"
    },
    {
     "data": {
      "text/html": [
       "<pre>recommendations finished on 39000/311741 queries. users per second: 804920</pre>"
      ],
      "text/plain": [
       "recommendations finished on 39000/311741 queries. users per second: 804920"
      ]
     },
     "metadata": {},
     "output_type": "display_data"
    },
    {
     "data": {
      "text/html": [
       "<pre>recommendations finished on 40000/311741 queries. users per second: 779029</pre>"
      ],
      "text/plain": [
       "recommendations finished on 40000/311741 queries. users per second: 779029"
      ]
     },
     "metadata": {},
     "output_type": "display_data"
    },
    {
     "data": {
      "text/html": [
       "<pre>recommendations finished on 41000/311741 queries. users per second: 734543</pre>"
      ],
      "text/plain": [
       "recommendations finished on 41000/311741 queries. users per second: 734543"
      ]
     },
     "metadata": {},
     "output_type": "display_data"
    },
    {
     "data": {
      "text/html": [
       "<pre>recommendations finished on 42000/311741 queries. users per second: 732652</pre>"
      ],
      "text/plain": [
       "recommendations finished on 42000/311741 queries. users per second: 732652"
      ]
     },
     "metadata": {},
     "output_type": "display_data"
    },
    {
     "data": {
      "text/html": [
       "<pre>recommendations finished on 43000/311741 queries. users per second: 736012</pre>"
      ],
      "text/plain": [
       "recommendations finished on 43000/311741 queries. users per second: 736012"
      ]
     },
     "metadata": {},
     "output_type": "display_data"
    },
    {
     "data": {
      "text/html": [
       "<pre>recommendations finished on 44000/311741 queries. users per second: 741802</pre>"
      ],
      "text/plain": [
       "recommendations finished on 44000/311741 queries. users per second: 741802"
      ]
     },
     "metadata": {},
     "output_type": "display_data"
    },
    {
     "data": {
      "text/html": [
       "<pre>recommendations finished on 45000/311741 queries. users per second: 747074</pre>"
      ],
      "text/plain": [
       "recommendations finished on 45000/311741 queries. users per second: 747074"
      ]
     },
     "metadata": {},
     "output_type": "display_data"
    },
    {
     "data": {
      "text/html": [
       "<pre>recommendations finished on 46000/311741 queries. users per second: 752593</pre>"
      ],
      "text/plain": [
       "recommendations finished on 46000/311741 queries. users per second: 752593"
      ]
     },
     "metadata": {},
     "output_type": "display_data"
    },
    {
     "data": {
      "text/html": [
       "<pre>recommendations finished on 47000/311741 queries. users per second: 757393</pre>"
      ],
      "text/plain": [
       "recommendations finished on 47000/311741 queries. users per second: 757393"
      ]
     },
     "metadata": {},
     "output_type": "display_data"
    },
    {
     "data": {
      "text/html": [
       "<pre>recommendations finished on 48000/311741 queries. users per second: 762704</pre>"
      ],
      "text/plain": [
       "recommendations finished on 48000/311741 queries. users per second: 762704"
      ]
     },
     "metadata": {},
     "output_type": "display_data"
    },
    {
     "data": {
      "text/html": [
       "<pre>recommendations finished on 49000/311741 queries. users per second: 767857</pre>"
      ],
      "text/plain": [
       "recommendations finished on 49000/311741 queries. users per second: 767857"
      ]
     },
     "metadata": {},
     "output_type": "display_data"
    },
    {
     "data": {
      "text/html": [
       "<pre>recommendations finished on 50000/311741 queries. users per second: 772260</pre>"
      ],
      "text/plain": [
       "recommendations finished on 50000/311741 queries. users per second: 772260"
      ]
     },
     "metadata": {},
     "output_type": "display_data"
    },
    {
     "data": {
      "text/html": [
       "<pre>recommendations finished on 51000/311741 queries. users per second: 765145</pre>"
      ],
      "text/plain": [
       "recommendations finished on 51000/311741 queries. users per second: 765145"
      ]
     },
     "metadata": {},
     "output_type": "display_data"
    },
    {
     "data": {
      "text/html": [
       "<pre>recommendations finished on 52000/311741 queries. users per second: 768685</pre>"
      ],
      "text/plain": [
       "recommendations finished on 52000/311741 queries. users per second: 768685"
      ]
     },
     "metadata": {},
     "output_type": "display_data"
    },
    {
     "data": {
      "text/html": [
       "<pre>recommendations finished on 53000/311741 queries. users per second: 773406</pre>"
      ],
      "text/plain": [
       "recommendations finished on 53000/311741 queries. users per second: 773406"
      ]
     },
     "metadata": {},
     "output_type": "display_data"
    },
    {
     "data": {
      "text/html": [
       "<pre>recommendations finished on 54000/311741 queries. users per second: 777583</pre>"
      ],
      "text/plain": [
       "recommendations finished on 54000/311741 queries. users per second: 777583"
      ]
     },
     "metadata": {},
     "output_type": "display_data"
    },
    {
     "data": {
      "text/html": [
       "<pre>recommendations finished on 55000/311741 queries. users per second: 782028</pre>"
      ],
      "text/plain": [
       "recommendations finished on 55000/311741 queries. users per second: 782028"
      ]
     },
     "metadata": {},
     "output_type": "display_data"
    },
    {
     "data": {
      "text/html": [
       "<pre>recommendations finished on 56000/311741 queries. users per second: 786462</pre>"
      ],
      "text/plain": [
       "recommendations finished on 56000/311741 queries. users per second: 786462"
      ]
     },
     "metadata": {},
     "output_type": "display_data"
    },
    {
     "data": {
      "text/html": [
       "<pre>recommendations finished on 57000/311741 queries. users per second: 790843</pre>"
      ],
      "text/plain": [
       "recommendations finished on 57000/311741 queries. users per second: 790843"
      ]
     },
     "metadata": {},
     "output_type": "display_data"
    },
    {
     "data": {
      "text/html": [
       "<pre>recommendations finished on 58000/311741 queries. users per second: 794521</pre>"
      ],
      "text/plain": [
       "recommendations finished on 58000/311741 queries. users per second: 794521"
      ]
     },
     "metadata": {},
     "output_type": "display_data"
    },
    {
     "data": {
      "text/html": [
       "<pre>recommendations finished on 59000/311741 queries. users per second: 798582</pre>"
      ],
      "text/plain": [
       "recommendations finished on 59000/311741 queries. users per second: 798582"
      ]
     },
     "metadata": {},
     "output_type": "display_data"
    },
    {
     "data": {
      "text/html": [
       "<pre>recommendations finished on 60000/311741 queries. users per second: 802407</pre>"
      ],
      "text/plain": [
       "recommendations finished on 60000/311741 queries. users per second: 802407"
      ]
     },
     "metadata": {},
     "output_type": "display_data"
    },
    {
     "data": {
      "text/html": [
       "<pre>recommendations finished on 61000/311741 queries. users per second: 806409</pre>"
      ],
      "text/plain": [
       "recommendations finished on 61000/311741 queries. users per second: 806409"
      ]
     },
     "metadata": {},
     "output_type": "display_data"
    },
    {
     "data": {
      "text/html": [
       "<pre>recommendations finished on 62000/311741 queries. users per second: 809748</pre>"
      ],
      "text/plain": [
       "recommendations finished on 62000/311741 queries. users per second: 809748"
      ]
     },
     "metadata": {},
     "output_type": "display_data"
    },
    {
     "data": {
      "text/html": [
       "<pre>recommendations finished on 63000/311741 queries. users per second: 811396</pre>"
      ],
      "text/plain": [
       "recommendations finished on 63000/311741 queries. users per second: 811396"
      ]
     },
     "metadata": {},
     "output_type": "display_data"
    },
    {
     "data": {
      "text/html": [
       "<pre>recommendations finished on 64000/311741 queries. users per second: 811472</pre>"
      ],
      "text/plain": [
       "recommendations finished on 64000/311741 queries. users per second: 811472"
      ]
     },
     "metadata": {},
     "output_type": "display_data"
    },
    {
     "data": {
      "text/html": [
       "<pre>recommendations finished on 65000/311741 queries. users per second: 814843</pre>"
      ],
      "text/plain": [
       "recommendations finished on 65000/311741 queries. users per second: 814843"
      ]
     },
     "metadata": {},
     "output_type": "display_data"
    },
    {
     "data": {
      "text/html": [
       "<pre>recommendations finished on 66000/311741 queries. users per second: 818107</pre>"
      ],
      "text/plain": [
       "recommendations finished on 66000/311741 queries. users per second: 818107"
      ]
     },
     "metadata": {},
     "output_type": "display_data"
    },
    {
     "data": {
      "text/html": [
       "<pre>recommendations finished on 67000/311741 queries. users per second: 821612</pre>"
      ],
      "text/plain": [
       "recommendations finished on 67000/311741 queries. users per second: 821612"
      ]
     },
     "metadata": {},
     "output_type": "display_data"
    },
    {
     "data": {
      "text/html": [
       "<pre>recommendations finished on 68000/311741 queries. users per second: 825042</pre>"
      ],
      "text/plain": [
       "recommendations finished on 68000/311741 queries. users per second: 825042"
      ]
     },
     "metadata": {},
     "output_type": "display_data"
    },
    {
     "data": {
      "text/html": [
       "<pre>recommendations finished on 69000/311741 queries. users per second: 827199</pre>"
      ],
      "text/plain": [
       "recommendations finished on 69000/311741 queries. users per second: 827199"
      ]
     },
     "metadata": {},
     "output_type": "display_data"
    },
    {
     "data": {
      "text/html": [
       "<pre>recommendations finished on 70000/311741 queries. users per second: 828736</pre>"
      ],
      "text/plain": [
       "recommendations finished on 70000/311741 queries. users per second: 828736"
      ]
     },
     "metadata": {},
     "output_type": "display_data"
    },
    {
     "data": {
      "text/html": [
       "<pre>recommendations finished on 71000/311741 queries. users per second: 829672</pre>"
      ],
      "text/plain": [
       "recommendations finished on 71000/311741 queries. users per second: 829672"
      ]
     },
     "metadata": {},
     "output_type": "display_data"
    },
    {
     "data": {
      "text/html": [
       "<pre>recommendations finished on 72000/311741 queries. users per second: 829923</pre>"
      ],
      "text/plain": [
       "recommendations finished on 72000/311741 queries. users per second: 829923"
      ]
     },
     "metadata": {},
     "output_type": "display_data"
    },
    {
     "data": {
      "text/html": [
       "<pre>recommendations finished on 73000/311741 queries. users per second: 828867</pre>"
      ],
      "text/plain": [
       "recommendations finished on 73000/311741 queries. users per second: 828867"
      ]
     },
     "metadata": {},
     "output_type": "display_data"
    },
    {
     "data": {
      "text/html": [
       "<pre>recommendations finished on 74000/311741 queries. users per second: 829541</pre>"
      ],
      "text/plain": [
       "recommendations finished on 74000/311741 queries. users per second: 829541"
      ]
     },
     "metadata": {},
     "output_type": "display_data"
    },
    {
     "data": {
      "text/html": [
       "<pre>recommendations finished on 75000/311741 queries. users per second: 827358</pre>"
      ],
      "text/plain": [
       "recommendations finished on 75000/311741 queries. users per second: 827358"
      ]
     },
     "metadata": {},
     "output_type": "display_data"
    },
    {
     "data": {
      "text/html": [
       "<pre>recommendations finished on 76000/311741 queries. users per second: 816765</pre>"
      ],
      "text/plain": [
       "recommendations finished on 76000/311741 queries. users per second: 816765"
      ]
     },
     "metadata": {},
     "output_type": "display_data"
    },
    {
     "data": {
      "text/html": [
       "<pre>recommendations finished on 77000/311741 queries. users per second: 804329</pre>"
      ],
      "text/plain": [
       "recommendations finished on 77000/311741 queries. users per second: 804329"
      ]
     },
     "metadata": {},
     "output_type": "display_data"
    },
    {
     "data": {
      "text/html": [
       "<pre>recommendations finished on 78000/311741 queries. users per second: 772652</pre>"
      ],
      "text/plain": [
       "recommendations finished on 78000/311741 queries. users per second: 772652"
      ]
     },
     "metadata": {},
     "output_type": "display_data"
    },
    {
     "data": {
      "text/html": [
       "<pre>recommendations finished on 79000/311741 queries. users per second: 761806</pre>"
      ],
      "text/plain": [
       "recommendations finished on 79000/311741 queries. users per second: 761806"
      ]
     },
     "metadata": {},
     "output_type": "display_data"
    },
    {
     "data": {
      "text/html": [
       "<pre>recommendations finished on 80000/311741 queries. users per second: 727551</pre>"
      ],
      "text/plain": [
       "recommendations finished on 80000/311741 queries. users per second: 727551"
      ]
     },
     "metadata": {},
     "output_type": "display_data"
    },
    {
     "data": {
      "text/html": [
       "<pre>recommendations finished on 81000/311741 queries. users per second: 693434</pre>"
      ],
      "text/plain": [
       "recommendations finished on 81000/311741 queries. users per second: 693434"
      ]
     },
     "metadata": {},
     "output_type": "display_data"
    },
    {
     "data": {
      "text/html": [
       "<pre>recommendations finished on 82000/311741 queries. users per second: 688861</pre>"
      ],
      "text/plain": [
       "recommendations finished on 82000/311741 queries. users per second: 688861"
      ]
     },
     "metadata": {},
     "output_type": "display_data"
    },
    {
     "data": {
      "text/html": [
       "<pre>recommendations finished on 83000/311741 queries. users per second: 684948</pre>"
      ],
      "text/plain": [
       "recommendations finished on 83000/311741 queries. users per second: 684948"
      ]
     },
     "metadata": {},
     "output_type": "display_data"
    },
    {
     "data": {
      "text/html": [
       "<pre>recommendations finished on 84000/311741 queries. users per second: 679189</pre>"
      ],
      "text/plain": [
       "recommendations finished on 84000/311741 queries. users per second: 679189"
      ]
     },
     "metadata": {},
     "output_type": "display_data"
    },
    {
     "data": {
      "text/html": [
       "<pre>recommendations finished on 85000/311741 queries. users per second: 673406</pre>"
      ],
      "text/plain": [
       "recommendations finished on 85000/311741 queries. users per second: 673406"
      ]
     },
     "metadata": {},
     "output_type": "display_data"
    },
    {
     "data": {
      "text/html": [
       "<pre>recommendations finished on 86000/311741 queries. users per second: 672590</pre>"
      ],
      "text/plain": [
       "recommendations finished on 86000/311741 queries. users per second: 672590"
      ]
     },
     "metadata": {},
     "output_type": "display_data"
    },
    {
     "data": {
      "text/html": [
       "<pre>recommendations finished on 87000/311741 queries. users per second: 674743</pre>"
      ],
      "text/plain": [
       "recommendations finished on 87000/311741 queries. users per second: 674743"
      ]
     },
     "metadata": {},
     "output_type": "display_data"
    },
    {
     "data": {
      "text/html": [
       "<pre>recommendations finished on 88000/311741 queries. users per second: 677006</pre>"
      ],
      "text/plain": [
       "recommendations finished on 88000/311741 queries. users per second: 677006"
      ]
     },
     "metadata": {},
     "output_type": "display_data"
    },
    {
     "data": {
      "text/html": [
       "<pre>recommendations finished on 89000/311741 queries. users per second: 678654</pre>"
      ],
      "text/plain": [
       "recommendations finished on 89000/311741 queries. users per second: 678654"
      ]
     },
     "metadata": {},
     "output_type": "display_data"
    },
    {
     "data": {
      "text/html": [
       "<pre>recommendations finished on 90000/311741 queries. users per second: 680890</pre>"
      ],
      "text/plain": [
       "recommendations finished on 90000/311741 queries. users per second: 680890"
      ]
     },
     "metadata": {},
     "output_type": "display_data"
    },
    {
     "data": {
      "text/html": [
       "<pre>recommendations finished on 91000/311741 queries. users per second: 683106</pre>"
      ],
      "text/plain": [
       "recommendations finished on 91000/311741 queries. users per second: 683106"
      ]
     },
     "metadata": {},
     "output_type": "display_data"
    },
    {
     "data": {
      "text/html": [
       "<pre>recommendations finished on 92000/311741 queries. users per second: 684539</pre>"
      ],
      "text/plain": [
       "recommendations finished on 92000/311741 queries. users per second: 684539"
      ]
     },
     "metadata": {},
     "output_type": "display_data"
    },
    {
     "data": {
      "text/html": [
       "<pre>recommendations finished on 93000/311741 queries. users per second: 686296</pre>"
      ],
      "text/plain": [
       "recommendations finished on 93000/311741 queries. users per second: 686296"
      ]
     },
     "metadata": {},
     "output_type": "display_data"
    },
    {
     "data": {
      "text/html": [
       "<pre>recommendations finished on 94000/311741 queries. users per second: 688347</pre>"
      ],
      "text/plain": [
       "recommendations finished on 94000/311741 queries. users per second: 688347"
      ]
     },
     "metadata": {},
     "output_type": "display_data"
    },
    {
     "data": {
      "text/html": [
       "<pre>recommendations finished on 95000/311741 queries. users per second: 689555</pre>"
      ],
      "text/plain": [
       "recommendations finished on 95000/311741 queries. users per second: 689555"
      ]
     },
     "metadata": {},
     "output_type": "display_data"
    },
    {
     "data": {
      "text/html": [
       "<pre>recommendations finished on 96000/311741 queries. users per second: 691488</pre>"
      ],
      "text/plain": [
       "recommendations finished on 96000/311741 queries. users per second: 691488"
      ]
     },
     "metadata": {},
     "output_type": "display_data"
    },
    {
     "data": {
      "text/html": [
       "<pre>recommendations finished on 97000/311741 queries. users per second: 693680</pre>"
      ],
      "text/plain": [
       "recommendations finished on 97000/311741 queries. users per second: 693680"
      ]
     },
     "metadata": {},
     "output_type": "display_data"
    },
    {
     "data": {
      "text/html": [
       "<pre>recommendations finished on 98000/311741 queries. users per second: 695593</pre>"
      ],
      "text/plain": [
       "recommendations finished on 98000/311741 queries. users per second: 695593"
      ]
     },
     "metadata": {},
     "output_type": "display_data"
    },
    {
     "data": {
      "text/html": [
       "<pre>recommendations finished on 99000/311741 queries. users per second: 695660</pre>"
      ],
      "text/plain": [
       "recommendations finished on 99000/311741 queries. users per second: 695660"
      ]
     },
     "metadata": {},
     "output_type": "display_data"
    },
    {
     "data": {
      "text/html": [
       "<pre>recommendations finished on 100000/311741 queries. users per second: 694604</pre>"
      ],
      "text/plain": [
       "recommendations finished on 100000/311741 queries. users per second: 694604"
      ]
     },
     "metadata": {},
     "output_type": "display_data"
    },
    {
     "data": {
      "text/html": [
       "<pre>recommendations finished on 101000/311741 queries. users per second: 693510</pre>"
      ],
      "text/plain": [
       "recommendations finished on 101000/311741 queries. users per second: 693510"
      ]
     },
     "metadata": {},
     "output_type": "display_data"
    },
    {
     "data": {
      "text/html": [
       "<pre>recommendations finished on 102000/311741 queries. users per second: 695036</pre>"
      ],
      "text/plain": [
       "recommendations finished on 102000/311741 queries. users per second: 695036"
      ]
     },
     "metadata": {},
     "output_type": "display_data"
    },
    {
     "data": {
      "text/html": [
       "<pre>recommendations finished on 103000/311741 queries. users per second: 696167</pre>"
      ],
      "text/plain": [
       "recommendations finished on 103000/311741 queries. users per second: 696167"
      ]
     },
     "metadata": {},
     "output_type": "display_data"
    },
    {
     "data": {
      "text/html": [
       "<pre>recommendations finished on 104000/311741 queries. users per second: 697912</pre>"
      ],
      "text/plain": [
       "recommendations finished on 104000/311741 queries. users per second: 697912"
      ]
     },
     "metadata": {},
     "output_type": "display_data"
    },
    {
     "data": {
      "text/html": [
       "<pre>recommendations finished on 105000/311741 queries. users per second: 699883</pre>"
      ],
      "text/plain": [
       "recommendations finished on 105000/311741 queries. users per second: 699883"
      ]
     },
     "metadata": {},
     "output_type": "display_data"
    },
    {
     "data": {
      "text/html": [
       "<pre>recommendations finished on 106000/311741 queries. users per second: 701508</pre>"
      ],
      "text/plain": [
       "recommendations finished on 106000/311741 queries. users per second: 701508"
      ]
     },
     "metadata": {},
     "output_type": "display_data"
    },
    {
     "data": {
      "text/html": [
       "<pre>recommendations finished on 107000/311741 queries. users per second: 703933</pre>"
      ],
      "text/plain": [
       "recommendations finished on 107000/311741 queries. users per second: 703933"
      ]
     },
     "metadata": {},
     "output_type": "display_data"
    },
    {
     "data": {
      "text/html": [
       "<pre>recommendations finished on 108000/311741 queries. users per second: 705818</pre>"
      ],
      "text/plain": [
       "recommendations finished on 108000/311741 queries. users per second: 705818"
      ]
     },
     "metadata": {},
     "output_type": "display_data"
    },
    {
     "data": {
      "text/html": [
       "<pre>recommendations finished on 109000/311741 queries. users per second: 707402</pre>"
      ],
      "text/plain": [
       "recommendations finished on 109000/311741 queries. users per second: 707402"
      ]
     },
     "metadata": {},
     "output_type": "display_data"
    },
    {
     "data": {
      "text/html": [
       "<pre>recommendations finished on 110000/311741 queries. users per second: 709010</pre>"
      ],
      "text/plain": [
       "recommendations finished on 110000/311741 queries. users per second: 709010"
      ]
     },
     "metadata": {},
     "output_type": "display_data"
    },
    {
     "data": {
      "text/html": [
       "<pre>recommendations finished on 111000/311741 queries. users per second: 710764</pre>"
      ],
      "text/plain": [
       "recommendations finished on 111000/311741 queries. users per second: 710764"
      ]
     },
     "metadata": {},
     "output_type": "display_data"
    },
    {
     "data": {
      "text/html": [
       "<pre>recommendations finished on 112000/311741 queries. users per second: 711631</pre>"
      ],
      "text/plain": [
       "recommendations finished on 112000/311741 queries. users per second: 711631"
      ]
     },
     "metadata": {},
     "output_type": "display_data"
    },
    {
     "data": {
      "text/html": [
       "<pre>recommendations finished on 113000/311741 queries. users per second: 707431</pre>"
      ],
      "text/plain": [
       "recommendations finished on 113000/311741 queries. users per second: 707431"
      ]
     },
     "metadata": {},
     "output_type": "display_data"
    },
    {
     "data": {
      "text/html": [
       "<pre>recommendations finished on 114000/311741 queries. users per second: 707824</pre>"
      ],
      "text/plain": [
       "recommendations finished on 114000/311741 queries. users per second: 707824"
      ]
     },
     "metadata": {},
     "output_type": "display_data"
    },
    {
     "data": {
      "text/html": [
       "<pre>recommendations finished on 115000/311741 queries. users per second: 708316</pre>"
      ],
      "text/plain": [
       "recommendations finished on 115000/311741 queries. users per second: 708316"
      ]
     },
     "metadata": {},
     "output_type": "display_data"
    },
    {
     "data": {
      "text/html": [
       "<pre>recommendations finished on 116000/311741 queries. users per second: 708406</pre>"
      ],
      "text/plain": [
       "recommendations finished on 116000/311741 queries. users per second: 708406"
      ]
     },
     "metadata": {},
     "output_type": "display_data"
    },
    {
     "data": {
      "text/html": [
       "<pre>recommendations finished on 117000/311741 queries. users per second: 708979</pre>"
      ],
      "text/plain": [
       "recommendations finished on 117000/311741 queries. users per second: 708979"
      ]
     },
     "metadata": {},
     "output_type": "display_data"
    },
    {
     "data": {
      "text/html": [
       "<pre>recommendations finished on 118000/311741 queries. users per second: 697647</pre>"
      ],
      "text/plain": [
       "recommendations finished on 118000/311741 queries. users per second: 697647"
      ]
     },
     "metadata": {},
     "output_type": "display_data"
    },
    {
     "data": {
      "text/html": [
       "<pre>recommendations finished on 119000/311741 queries. users per second: 698492</pre>"
      ],
      "text/plain": [
       "recommendations finished on 119000/311741 queries. users per second: 698492"
      ]
     },
     "metadata": {},
     "output_type": "display_data"
    },
    {
     "data": {
      "text/html": [
       "<pre>recommendations finished on 120000/311741 queries. users per second: 700243</pre>"
      ],
      "text/plain": [
       "recommendations finished on 120000/311741 queries. users per second: 700243"
      ]
     },
     "metadata": {},
     "output_type": "display_data"
    },
    {
     "data": {
      "text/html": [
       "<pre>recommendations finished on 121000/311741 queries. users per second: 701571</pre>"
      ],
      "text/plain": [
       "recommendations finished on 121000/311741 queries. users per second: 701571"
      ]
     },
     "metadata": {},
     "output_type": "display_data"
    },
    {
     "data": {
      "text/html": [
       "<pre>recommendations finished on 122000/311741 queries. users per second: 702907</pre>"
      ],
      "text/plain": [
       "recommendations finished on 122000/311741 queries. users per second: 702907"
      ]
     },
     "metadata": {},
     "output_type": "display_data"
    },
    {
     "data": {
      "text/html": [
       "<pre>recommendations finished on 123000/311741 queries. users per second: 703838</pre>"
      ],
      "text/plain": [
       "recommendations finished on 123000/311741 queries. users per second: 703838"
      ]
     },
     "metadata": {},
     "output_type": "display_data"
    },
    {
     "data": {
      "text/html": [
       "<pre>recommendations finished on 124000/311741 queries. users per second: 704093</pre>"
      ],
      "text/plain": [
       "recommendations finished on 124000/311741 queries. users per second: 704093"
      ]
     },
     "metadata": {},
     "output_type": "display_data"
    },
    {
     "data": {
      "text/html": [
       "<pre>recommendations finished on 125000/311741 queries. users per second: 703746</pre>"
      ],
      "text/plain": [
       "recommendations finished on 125000/311741 queries. users per second: 703746"
      ]
     },
     "metadata": {},
     "output_type": "display_data"
    },
    {
     "data": {
      "text/html": [
       "<pre>recommendations finished on 126000/311741 queries. users per second: 705108</pre>"
      ],
      "text/plain": [
       "recommendations finished on 126000/311741 queries. users per second: 705108"
      ]
     },
     "metadata": {},
     "output_type": "display_data"
    },
    {
     "data": {
      "text/html": [
       "<pre>recommendations finished on 127000/311741 queries. users per second: 705705</pre>"
      ],
      "text/plain": [
       "recommendations finished on 127000/311741 queries. users per second: 705705"
      ]
     },
     "metadata": {},
     "output_type": "display_data"
    },
    {
     "data": {
      "text/html": [
       "<pre>recommendations finished on 128000/311741 queries. users per second: 707565</pre>"
      ],
      "text/plain": [
       "recommendations finished on 128000/311741 queries. users per second: 707565"
      ]
     },
     "metadata": {},
     "output_type": "display_data"
    },
    {
     "data": {
      "text/html": [
       "<pre>recommendations finished on 129000/311741 queries. users per second: 709469</pre>"
      ],
      "text/plain": [
       "recommendations finished on 129000/311741 queries. users per second: 709469"
      ]
     },
     "metadata": {},
     "output_type": "display_data"
    },
    {
     "data": {
      "text/html": [
       "<pre>recommendations finished on 130000/311741 queries. users per second: 710907</pre>"
      ],
      "text/plain": [
       "recommendations finished on 130000/311741 queries. users per second: 710907"
      ]
     },
     "metadata": {},
     "output_type": "display_data"
    },
    {
     "data": {
      "text/html": [
       "<pre>recommendations finished on 131000/311741 queries. users per second: 712313</pre>"
      ],
      "text/plain": [
       "recommendations finished on 131000/311741 queries. users per second: 712313"
      ]
     },
     "metadata": {},
     "output_type": "display_data"
    },
    {
     "data": {
      "text/html": [
       "<pre>recommendations finished on 132000/311741 queries. users per second: 713232</pre>"
      ],
      "text/plain": [
       "recommendations finished on 132000/311741 queries. users per second: 713232"
      ]
     },
     "metadata": {},
     "output_type": "display_data"
    },
    {
     "data": {
      "text/html": [
       "<pre>recommendations finished on 133000/311741 queries. users per second: 714362</pre>"
      ],
      "text/plain": [
       "recommendations finished on 133000/311741 queries. users per second: 714362"
      ]
     },
     "metadata": {},
     "output_type": "display_data"
    },
    {
     "data": {
      "text/html": [
       "<pre>recommendations finished on 134000/311741 queries. users per second: 713487</pre>"
      ],
      "text/plain": [
       "recommendations finished on 134000/311741 queries. users per second: 713487"
      ]
     },
     "metadata": {},
     "output_type": "display_data"
    },
    {
     "data": {
      "text/html": [
       "<pre>recommendations finished on 135000/311741 queries. users per second: 713455</pre>"
      ],
      "text/plain": [
       "recommendations finished on 135000/311741 queries. users per second: 713455"
      ]
     },
     "metadata": {},
     "output_type": "display_data"
    },
    {
     "data": {
      "text/html": [
       "<pre>recommendations finished on 136000/311741 queries. users per second: 714151</pre>"
      ],
      "text/plain": [
       "recommendations finished on 136000/311741 queries. users per second: 714151"
      ]
     },
     "metadata": {},
     "output_type": "display_data"
    },
    {
     "data": {
      "text/html": [
       "<pre>recommendations finished on 137000/311741 queries. users per second: 712955</pre>"
      ],
      "text/plain": [
       "recommendations finished on 137000/311741 queries. users per second: 712955"
      ]
     },
     "metadata": {},
     "output_type": "display_data"
    },
    {
     "data": {
      "text/html": [
       "<pre>recommendations finished on 138000/311741 queries. users per second: 710293</pre>"
      ],
      "text/plain": [
       "recommendations finished on 138000/311741 queries. users per second: 710293"
      ]
     },
     "metadata": {},
     "output_type": "display_data"
    },
    {
     "data": {
      "text/html": [
       "<pre>recommendations finished on 139000/311741 queries. users per second: 709459</pre>"
      ],
      "text/plain": [
       "recommendations finished on 139000/311741 queries. users per second: 709459"
      ]
     },
     "metadata": {},
     "output_type": "display_data"
    },
    {
     "data": {
      "text/html": [
       "<pre>recommendations finished on 140000/311741 queries. users per second: 707922</pre>"
      ],
      "text/plain": [
       "recommendations finished on 140000/311741 queries. users per second: 707922"
      ]
     },
     "metadata": {},
     "output_type": "display_data"
    },
    {
     "data": {
      "text/html": [
       "<pre>recommendations finished on 141000/311741 queries. users per second: 707675</pre>"
      ],
      "text/plain": [
       "recommendations finished on 141000/311741 queries. users per second: 707675"
      ]
     },
     "metadata": {},
     "output_type": "display_data"
    },
    {
     "data": {
      "text/html": [
       "<pre>recommendations finished on 142000/311741 queries. users per second: 708880</pre>"
      ],
      "text/plain": [
       "recommendations finished on 142000/311741 queries. users per second: 708880"
      ]
     },
     "metadata": {},
     "output_type": "display_data"
    },
    {
     "data": {
      "text/html": [
       "<pre>recommendations finished on 143000/311741 queries. users per second: 710047</pre>"
      ],
      "text/plain": [
       "recommendations finished on 143000/311741 queries. users per second: 710047"
      ]
     },
     "metadata": {},
     "output_type": "display_data"
    },
    {
     "data": {
      "text/html": [
       "<pre>recommendations finished on 144000/311741 queries. users per second: 710522</pre>"
      ],
      "text/plain": [
       "recommendations finished on 144000/311741 queries. users per second: 710522"
      ]
     },
     "metadata": {},
     "output_type": "display_data"
    },
    {
     "data": {
      "text/html": [
       "<pre>recommendations finished on 145000/311741 queries. users per second: 711433</pre>"
      ],
      "text/plain": [
       "recommendations finished on 145000/311741 queries. users per second: 711433"
      ]
     },
     "metadata": {},
     "output_type": "display_data"
    },
    {
     "data": {
      "text/html": [
       "<pre>recommendations finished on 146000/311741 queries. users per second: 711598</pre>"
      ],
      "text/plain": [
       "recommendations finished on 146000/311741 queries. users per second: 711598"
      ]
     },
     "metadata": {},
     "output_type": "display_data"
    },
    {
     "data": {
      "text/html": [
       "<pre>recommendations finished on 147000/311741 queries. users per second: 711820</pre>"
      ],
      "text/plain": [
       "recommendations finished on 147000/311741 queries. users per second: 711820"
      ]
     },
     "metadata": {},
     "output_type": "display_data"
    },
    {
     "data": {
      "text/html": [
       "<pre>recommendations finished on 148000/311741 queries. users per second: 710865</pre>"
      ],
      "text/plain": [
       "recommendations finished on 148000/311741 queries. users per second: 710865"
      ]
     },
     "metadata": {},
     "output_type": "display_data"
    },
    {
     "data": {
      "text/html": [
       "<pre>recommendations finished on 149000/311741 queries. users per second: 708306</pre>"
      ],
      "text/plain": [
       "recommendations finished on 149000/311741 queries. users per second: 708306"
      ]
     },
     "metadata": {},
     "output_type": "display_data"
    },
    {
     "data": {
      "text/html": [
       "<pre>recommendations finished on 150000/311741 queries. users per second: 699996</pre>"
      ],
      "text/plain": [
       "recommendations finished on 150000/311741 queries. users per second: 699996"
      ]
     },
     "metadata": {},
     "output_type": "display_data"
    },
    {
     "data": {
      "text/html": [
       "<pre>recommendations finished on 151000/311741 queries. users per second: 694307</pre>"
      ],
      "text/plain": [
       "recommendations finished on 151000/311741 queries. users per second: 694307"
      ]
     },
     "metadata": {},
     "output_type": "display_data"
    },
    {
     "data": {
      "text/html": [
       "<pre>recommendations finished on 152000/311741 queries. users per second: 693662</pre>"
      ],
      "text/plain": [
       "recommendations finished on 152000/311741 queries. users per second: 693662"
      ]
     },
     "metadata": {},
     "output_type": "display_data"
    },
    {
     "data": {
      "text/html": [
       "<pre>recommendations finished on 153000/311741 queries. users per second: 693227</pre>"
      ],
      "text/plain": [
       "recommendations finished on 153000/311741 queries. users per second: 693227"
      ]
     },
     "metadata": {},
     "output_type": "display_data"
    },
    {
     "data": {
      "text/html": [
       "<pre>recommendations finished on 154000/311741 queries. users per second: 692748</pre>"
      ],
      "text/plain": [
       "recommendations finished on 154000/311741 queries. users per second: 692748"
      ]
     },
     "metadata": {},
     "output_type": "display_data"
    },
    {
     "data": {
      "text/html": [
       "<pre>recommendations finished on 155000/311741 queries. users per second: 691307</pre>"
      ],
      "text/plain": [
       "recommendations finished on 155000/311741 queries. users per second: 691307"
      ]
     },
     "metadata": {},
     "output_type": "display_data"
    },
    {
     "data": {
      "text/html": [
       "<pre>recommendations finished on 156000/311741 queries. users per second: 689753</pre>"
      ],
      "text/plain": [
       "recommendations finished on 156000/311741 queries. users per second: 689753"
      ]
     },
     "metadata": {},
     "output_type": "display_data"
    },
    {
     "data": {
      "text/html": [
       "<pre>recommendations finished on 157000/311741 queries. users per second: 689337</pre>"
      ],
      "text/plain": [
       "recommendations finished on 157000/311741 queries. users per second: 689337"
      ]
     },
     "metadata": {},
     "output_type": "display_data"
    },
    {
     "data": {
      "text/html": [
       "<pre>recommendations finished on 158000/311741 queries. users per second: 687926</pre>"
      ],
      "text/plain": [
       "recommendations finished on 158000/311741 queries. users per second: 687926"
      ]
     },
     "metadata": {},
     "output_type": "display_data"
    },
    {
     "data": {
      "text/html": [
       "<pre>recommendations finished on 159000/311741 queries. users per second: 682503</pre>"
      ],
      "text/plain": [
       "recommendations finished on 159000/311741 queries. users per second: 682503"
      ]
     },
     "metadata": {},
     "output_type": "display_data"
    },
    {
     "data": {
      "text/html": [
       "<pre>recommendations finished on 160000/311741 queries. users per second: 679316</pre>"
      ],
      "text/plain": [
       "recommendations finished on 160000/311741 queries. users per second: 679316"
      ]
     },
     "metadata": {},
     "output_type": "display_data"
    },
    {
     "data": {
      "text/html": [
       "<pre>recommendations finished on 161000/311741 queries. users per second: 678023</pre>"
      ],
      "text/plain": [
       "recommendations finished on 161000/311741 queries. users per second: 678023"
      ]
     },
     "metadata": {},
     "output_type": "display_data"
    },
    {
     "data": {
      "text/html": [
       "<pre>recommendations finished on 162000/311741 queries. users per second: 679163</pre>"
      ],
      "text/plain": [
       "recommendations finished on 162000/311741 queries. users per second: 679163"
      ]
     },
     "metadata": {},
     "output_type": "display_data"
    },
    {
     "data": {
      "text/html": [
       "<pre>recommendations finished on 163000/311741 queries. users per second: 680022</pre>"
      ],
      "text/plain": [
       "recommendations finished on 163000/311741 queries. users per second: 680022"
      ]
     },
     "metadata": {},
     "output_type": "display_data"
    },
    {
     "data": {
      "text/html": [
       "<pre>recommendations finished on 164000/311741 queries. users per second: 680171</pre>"
      ],
      "text/plain": [
       "recommendations finished on 164000/311741 queries. users per second: 680171"
      ]
     },
     "metadata": {},
     "output_type": "display_data"
    },
    {
     "name": "stdout",
     "output_type": "stream",
     "text": [
      "+-------------+-------------+---------------------+------+\n",
      "| COD_CLIENTE | COD_PRODUTO |        score        | rank |\n",
      "+-------------+-------------+---------------------+------+\n",
      "|   00000301  |    18941    |         0.5         |  1   |\n",
      "|   00000301  |    21126    |  0.3333333333333333 |  2   |\n",
      "|   00000301  |    21602    |  0.3333333333333333 |  3   |\n",
      "|   00000301  |    20796    |  0.2727272727272727 |  4   |\n",
      "|   00000301  |    24619    |         0.2         |  5   |\n",
      "|   00000301  |    22313    | 0.16666666666666666 |  6   |\n",
      "|   00000301  |    25418    | 0.14285714285714285 |  7   |\n",
      "|   00000301  |    23575    |        0.125        |  8   |\n",
      "|   00000301  |    23814    | 0.10526315789473684 |  9   |\n",
      "|   00000301  |    24392    |         0.1         |  10  |\n",
      "|   00001501  |    18941    |         0.5         |  1   |\n",
      "|   00001501  |    21126    |  0.3333333333333333 |  2   |\n",
      "|   00001501  |    21602    |  0.3333333333333333 |  3   |\n",
      "|   00001501  |    20796    |  0.2727272727272727 |  4   |\n",
      "|   00001501  |    24619    |         0.2         |  5   |\n",
      "|   00001501  |    22313    | 0.16666666666666666 |  6   |\n",
      "|   00001501  |    25418    | 0.14285714285714285 |  7   |\n",
      "|   00001501  |    23575    |        0.125        |  8   |\n",
      "|   00001501  |    23814    | 0.10526315789473684 |  9   |\n",
      "|   00001501  |    24392    |         0.1         |  10  |\n",
      "|   00002001  |    18941    |         0.5         |  1   |\n",
      "|   00002001  |    21126    |  0.3333333333333333 |  2   |\n",
      "|   00002001  |    21602    |  0.3333333333333333 |  3   |\n",
      "|   00002001  |    20796    |  0.2727272727272727 |  4   |\n",
      "|   00002001  |    24619    |         0.2         |  5   |\n",
      "|   00002001  |    22313    | 0.16666666666666666 |  6   |\n",
      "|   00002001  |    25418    | 0.14285714285714285 |  7   |\n",
      "|   00002001  |    23575    |        0.125        |  8   |\n",
      "|   00002001  |    23814    | 0.10526315789473684 |  9   |\n",
      "|   00002001  |    24392    |         0.1         |  10  |\n",
      "+-------------+-------------+---------------------+------+\n",
      "[3117410 rows x 4 columns]\n",
      "\n"
     ]
    },
    {
     "data": {
      "text/html": [
       "<pre>recommendations finished on 165000/311741 queries. users per second: 672616</pre>"
      ],
      "text/plain": [
       "recommendations finished on 165000/311741 queries. users per second: 672616"
      ]
     },
     "metadata": {},
     "output_type": "display_data"
    },
    {
     "data": {
      "text/html": [
       "<pre>recommendations finished on 166000/311741 queries. users per second: 672116</pre>"
      ],
      "text/plain": [
       "recommendations finished on 166000/311741 queries. users per second: 672116"
      ]
     },
     "metadata": {},
     "output_type": "display_data"
    },
    {
     "data": {
      "text/html": [
       "<pre>recommendations finished on 167000/311741 queries. users per second: 672230</pre>"
      ],
      "text/plain": [
       "recommendations finished on 167000/311741 queries. users per second: 672230"
      ]
     },
     "metadata": {},
     "output_type": "display_data"
    },
    {
     "data": {
      "text/html": [
       "<pre>recommendations finished on 168000/311741 queries. users per second: 673420</pre>"
      ],
      "text/plain": [
       "recommendations finished on 168000/311741 queries. users per second: 673420"
      ]
     },
     "metadata": {},
     "output_type": "display_data"
    },
    {
     "data": {
      "text/html": [
       "<pre>recommendations finished on 169000/311741 queries. users per second: 674667</pre>"
      ],
      "text/plain": [
       "recommendations finished on 169000/311741 queries. users per second: 674667"
      ]
     },
     "metadata": {},
     "output_type": "display_data"
    },
    {
     "data": {
      "text/html": [
       "<pre>recommendations finished on 170000/311741 queries. users per second: 676165</pre>"
      ],
      "text/plain": [
       "recommendations finished on 170000/311741 queries. users per second: 676165"
      ]
     },
     "metadata": {},
     "output_type": "display_data"
    },
    {
     "data": {
      "text/html": [
       "<pre>recommendations finished on 171000/311741 queries. users per second: 677791</pre>"
      ],
      "text/plain": [
       "recommendations finished on 171000/311741 queries. users per second: 677791"
      ]
     },
     "metadata": {},
     "output_type": "display_data"
    },
    {
     "data": {
      "text/html": [
       "<pre>recommendations finished on 172000/311741 queries. users per second: 679324</pre>"
      ],
      "text/plain": [
       "recommendations finished on 172000/311741 queries. users per second: 679324"
      ]
     },
     "metadata": {},
     "output_type": "display_data"
    },
    {
     "data": {
      "text/html": [
       "<pre>recommendations finished on 173000/311741 queries. users per second: 680869</pre>"
      ],
      "text/plain": [
       "recommendations finished on 173000/311741 queries. users per second: 680869"
      ]
     },
     "metadata": {},
     "output_type": "display_data"
    },
    {
     "data": {
      "text/html": [
       "<pre>recommendations finished on 174000/311741 queries. users per second: 679502</pre>"
      ],
      "text/plain": [
       "recommendations finished on 174000/311741 queries. users per second: 679502"
      ]
     },
     "metadata": {},
     "output_type": "display_data"
    },
    {
     "data": {
      "text/html": [
       "<pre>recommendations finished on 175000/311741 queries. users per second: 680611</pre>"
      ],
      "text/plain": [
       "recommendations finished on 175000/311741 queries. users per second: 680611"
      ]
     },
     "metadata": {},
     "output_type": "display_data"
    },
    {
     "data": {
      "text/html": [
       "<pre>recommendations finished on 176000/311741 queries. users per second: 681864</pre>"
      ],
      "text/plain": [
       "recommendations finished on 176000/311741 queries. users per second: 681864"
      ]
     },
     "metadata": {},
     "output_type": "display_data"
    },
    {
     "data": {
      "text/html": [
       "<pre>recommendations finished on 177000/311741 queries. users per second: 682749</pre>"
      ],
      "text/plain": [
       "recommendations finished on 177000/311741 queries. users per second: 682749"
      ]
     },
     "metadata": {},
     "output_type": "display_data"
    },
    {
     "data": {
      "text/html": [
       "<pre>recommendations finished on 178000/311741 queries. users per second: 683952</pre>"
      ],
      "text/plain": [
       "recommendations finished on 178000/311741 queries. users per second: 683952"
      ]
     },
     "metadata": {},
     "output_type": "display_data"
    },
    {
     "data": {
      "text/html": [
       "<pre>recommendations finished on 179000/311741 queries. users per second: 684966</pre>"
      ],
      "text/plain": [
       "recommendations finished on 179000/311741 queries. users per second: 684966"
      ]
     },
     "metadata": {},
     "output_type": "display_data"
    },
    {
     "data": {
      "text/html": [
       "<pre>recommendations finished on 180000/311741 queries. users per second: 686373</pre>"
      ],
      "text/plain": [
       "recommendations finished on 180000/311741 queries. users per second: 686373"
      ]
     },
     "metadata": {},
     "output_type": "display_data"
    },
    {
     "data": {
      "text/html": [
       "<pre>recommendations finished on 181000/311741 queries. users per second: 687889</pre>"
      ],
      "text/plain": [
       "recommendations finished on 181000/311741 queries. users per second: 687889"
      ]
     },
     "metadata": {},
     "output_type": "display_data"
    },
    {
     "data": {
      "text/html": [
       "<pre>recommendations finished on 182000/311741 queries. users per second: 689274</pre>"
      ],
      "text/plain": [
       "recommendations finished on 182000/311741 queries. users per second: 689274"
      ]
     },
     "metadata": {},
     "output_type": "display_data"
    },
    {
     "data": {
      "text/html": [
       "<pre>recommendations finished on 183000/311741 queries. users per second: 690373</pre>"
      ],
      "text/plain": [
       "recommendations finished on 183000/311741 queries. users per second: 690373"
      ]
     },
     "metadata": {},
     "output_type": "display_data"
    },
    {
     "data": {
      "text/html": [
       "<pre>recommendations finished on 184000/311741 queries. users per second: 691324</pre>"
      ],
      "text/plain": [
       "recommendations finished on 184000/311741 queries. users per second: 691324"
      ]
     },
     "metadata": {},
     "output_type": "display_data"
    },
    {
     "data": {
      "text/html": [
       "<pre>recommendations finished on 185000/311741 queries. users per second: 691044</pre>"
      ],
      "text/plain": [
       "recommendations finished on 185000/311741 queries. users per second: 691044"
      ]
     },
     "metadata": {},
     "output_type": "display_data"
    },
    {
     "data": {
      "text/html": [
       "<pre>recommendations finished on 186000/311741 queries. users per second: 690862</pre>"
      ],
      "text/plain": [
       "recommendations finished on 186000/311741 queries. users per second: 690862"
      ]
     },
     "metadata": {},
     "output_type": "display_data"
    },
    {
     "data": {
      "text/html": [
       "<pre>recommendations finished on 187000/311741 queries. users per second: 691509</pre>"
      ],
      "text/plain": [
       "recommendations finished on 187000/311741 queries. users per second: 691509"
      ]
     },
     "metadata": {},
     "output_type": "display_data"
    },
    {
     "data": {
      "text/html": [
       "<pre>recommendations finished on 188000/311741 queries. users per second: 692314</pre>"
      ],
      "text/plain": [
       "recommendations finished on 188000/311741 queries. users per second: 692314"
      ]
     },
     "metadata": {},
     "output_type": "display_data"
    },
    {
     "data": {
      "text/html": [
       "<pre>recommendations finished on 189000/311741 queries. users per second: 690777</pre>"
      ],
      "text/plain": [
       "recommendations finished on 189000/311741 queries. users per second: 690777"
      ]
     },
     "metadata": {},
     "output_type": "display_data"
    },
    {
     "data": {
      "text/html": [
       "<pre>recommendations finished on 190000/311741 queries. users per second: 691898</pre>"
      ],
      "text/plain": [
       "recommendations finished on 190000/311741 queries. users per second: 691898"
      ]
     },
     "metadata": {},
     "output_type": "display_data"
    },
    {
     "data": {
      "text/html": [
       "<pre>recommendations finished on 191000/311741 queries. users per second: 692619</pre>"
      ],
      "text/plain": [
       "recommendations finished on 191000/311741 queries. users per second: 692619"
      ]
     },
     "metadata": {},
     "output_type": "display_data"
    },
    {
     "data": {
      "text/html": [
       "<pre>recommendations finished on 192000/311741 queries. users per second: 693471</pre>"
      ],
      "text/plain": [
       "recommendations finished on 192000/311741 queries. users per second: 693471"
      ]
     },
     "metadata": {},
     "output_type": "display_data"
    },
    {
     "data": {
      "text/html": [
       "<pre>recommendations finished on 193000/311741 queries. users per second: 694117</pre>"
      ],
      "text/plain": [
       "recommendations finished on 193000/311741 queries. users per second: 694117"
      ]
     },
     "metadata": {},
     "output_type": "display_data"
    },
    {
     "data": {
      "text/html": [
       "<pre>recommendations finished on 194000/311741 queries. users per second: 695213</pre>"
      ],
      "text/plain": [
       "recommendations finished on 194000/311741 queries. users per second: 695213"
      ]
     },
     "metadata": {},
     "output_type": "display_data"
    },
    {
     "data": {
      "text/html": [
       "<pre>recommendations finished on 195000/311741 queries. users per second: 696297</pre>"
      ],
      "text/plain": [
       "recommendations finished on 195000/311741 queries. users per second: 696297"
      ]
     },
     "metadata": {},
     "output_type": "display_data"
    },
    {
     "data": {
      "text/html": [
       "<pre>recommendations finished on 196000/311741 queries. users per second: 697100</pre>"
      ],
      "text/plain": [
       "recommendations finished on 196000/311741 queries. users per second: 697100"
      ]
     },
     "metadata": {},
     "output_type": "display_data"
    },
    {
     "data": {
      "text/html": [
       "<pre>recommendations finished on 197000/311741 queries. users per second: 697528</pre>"
      ],
      "text/plain": [
       "recommendations finished on 197000/311741 queries. users per second: 697528"
      ]
     },
     "metadata": {},
     "output_type": "display_data"
    },
    {
     "data": {
      "text/html": [
       "<pre>recommendations finished on 198000/311741 queries. users per second: 698886</pre>"
      ],
      "text/plain": [
       "recommendations finished on 198000/311741 queries. users per second: 698886"
      ]
     },
     "metadata": {},
     "output_type": "display_data"
    },
    {
     "data": {
      "text/html": [
       "<pre>recommendations finished on 199000/311741 queries. users per second: 700226</pre>"
      ],
      "text/plain": [
       "recommendations finished on 199000/311741 queries. users per second: 700226"
      ]
     },
     "metadata": {},
     "output_type": "display_data"
    },
    {
     "data": {
      "text/html": [
       "<pre>recommendations finished on 200000/311741 queries. users per second: 701560</pre>"
      ],
      "text/plain": [
       "recommendations finished on 200000/311741 queries. users per second: 701560"
      ]
     },
     "metadata": {},
     "output_type": "display_data"
    },
    {
     "data": {
      "text/html": [
       "<pre>recommendations finished on 201000/311741 queries. users per second: 702955</pre>"
      ],
      "text/plain": [
       "recommendations finished on 201000/311741 queries. users per second: 702955"
      ]
     },
     "metadata": {},
     "output_type": "display_data"
    },
    {
     "data": {
      "text/html": [
       "<pre>recommendations finished on 202000/311741 queries. users per second: 704130</pre>"
      ],
      "text/plain": [
       "recommendations finished on 202000/311741 queries. users per second: 704130"
      ]
     },
     "metadata": {},
     "output_type": "display_data"
    },
    {
     "data": {
      "text/html": [
       "<pre>recommendations finished on 203000/311741 queries. users per second: 705052</pre>"
      ],
      "text/plain": [
       "recommendations finished on 203000/311741 queries. users per second: 705052"
      ]
     },
     "metadata": {},
     "output_type": "display_data"
    },
    {
     "data": {
      "text/html": [
       "<pre>recommendations finished on 204000/311741 queries. users per second: 705973</pre>"
      ],
      "text/plain": [
       "recommendations finished on 204000/311741 queries. users per second: 705973"
      ]
     },
     "metadata": {},
     "output_type": "display_data"
    },
    {
     "data": {
      "text/html": [
       "<pre>recommendations finished on 205000/311741 queries. users per second: 706616</pre>"
      ],
      "text/plain": [
       "recommendations finished on 205000/311741 queries. users per second: 706616"
      ]
     },
     "metadata": {},
     "output_type": "display_data"
    },
    {
     "data": {
      "text/html": [
       "<pre>recommendations finished on 206000/311741 queries. users per second: 707046</pre>"
      ],
      "text/plain": [
       "recommendations finished on 206000/311741 queries. users per second: 707046"
      ]
     },
     "metadata": {},
     "output_type": "display_data"
    },
    {
     "data": {
      "text/html": [
       "<pre>recommendations finished on 207000/311741 queries. users per second: 707656</pre>"
      ],
      "text/plain": [
       "recommendations finished on 207000/311741 queries. users per second: 707656"
      ]
     },
     "metadata": {},
     "output_type": "display_data"
    },
    {
     "data": {
      "text/html": [
       "<pre>recommendations finished on 208000/311741 queries. users per second: 707941</pre>"
      ],
      "text/plain": [
       "recommendations finished on 208000/311741 queries. users per second: 707941"
      ]
     },
     "metadata": {},
     "output_type": "display_data"
    },
    {
     "data": {
      "text/html": [
       "<pre>recommendations finished on 209000/311741 queries. users per second: 708280</pre>"
      ],
      "text/plain": [
       "recommendations finished on 209000/311741 queries. users per second: 708280"
      ]
     },
     "metadata": {},
     "output_type": "display_data"
    },
    {
     "data": {
      "text/html": [
       "<pre>recommendations finished on 210000/311741 queries. users per second: 706210</pre>"
      ],
      "text/plain": [
       "recommendations finished on 210000/311741 queries. users per second: 706210"
      ]
     },
     "metadata": {},
     "output_type": "display_data"
    },
    {
     "data": {
      "text/html": [
       "<pre>recommendations finished on 211000/311741 queries. users per second: 706908</pre>"
      ],
      "text/plain": [
       "recommendations finished on 211000/311741 queries. users per second: 706908"
      ]
     },
     "metadata": {},
     "output_type": "display_data"
    },
    {
     "data": {
      "text/html": [
       "<pre>recommendations finished on 212000/311741 queries. users per second: 707924</pre>"
      ],
      "text/plain": [
       "recommendations finished on 212000/311741 queries. users per second: 707924"
      ]
     },
     "metadata": {},
     "output_type": "display_data"
    },
    {
     "data": {
      "text/html": [
       "<pre>recommendations finished on 213000/311741 queries. users per second: 708920</pre>"
      ],
      "text/plain": [
       "recommendations finished on 213000/311741 queries. users per second: 708920"
      ]
     },
     "metadata": {},
     "output_type": "display_data"
    },
    {
     "data": {
      "text/html": [
       "<pre>recommendations finished on 214000/311741 queries. users per second: 709813</pre>"
      ],
      "text/plain": [
       "recommendations finished on 214000/311741 queries. users per second: 709813"
      ]
     },
     "metadata": {},
     "output_type": "display_data"
    },
    {
     "data": {
      "text/html": [
       "<pre>recommendations finished on 215000/311741 queries. users per second: 710631</pre>"
      ],
      "text/plain": [
       "recommendations finished on 215000/311741 queries. users per second: 710631"
      ]
     },
     "metadata": {},
     "output_type": "display_data"
    },
    {
     "data": {
      "text/html": [
       "<pre>recommendations finished on 216000/311741 queries. users per second: 711563</pre>"
      ],
      "text/plain": [
       "recommendations finished on 216000/311741 queries. users per second: 711563"
      ]
     },
     "metadata": {},
     "output_type": "display_data"
    },
    {
     "data": {
      "text/html": [
       "<pre>recommendations finished on 217000/311741 queries. users per second: 712454</pre>"
      ],
      "text/plain": [
       "recommendations finished on 217000/311741 queries. users per second: 712454"
      ]
     },
     "metadata": {},
     "output_type": "display_data"
    },
    {
     "data": {
      "text/html": [
       "<pre>recommendations finished on 218000/311741 queries. users per second: 713496</pre>"
      ],
      "text/plain": [
       "recommendations finished on 218000/311741 queries. users per second: 713496"
      ]
     },
     "metadata": {},
     "output_type": "display_data"
    },
    {
     "data": {
      "text/html": [
       "<pre>recommendations finished on 219000/311741 queries. users per second: 714719</pre>"
      ],
      "text/plain": [
       "recommendations finished on 219000/311741 queries. users per second: 714719"
      ]
     },
     "metadata": {},
     "output_type": "display_data"
    },
    {
     "data": {
      "text/html": [
       "<pre>recommendations finished on 220000/311741 queries. users per second: 715624</pre>"
      ],
      "text/plain": [
       "recommendations finished on 220000/311741 queries. users per second: 715624"
      ]
     },
     "metadata": {},
     "output_type": "display_data"
    },
    {
     "data": {
      "text/html": [
       "<pre>recommendations finished on 221000/311741 queries. users per second: 716509</pre>"
      ],
      "text/plain": [
       "recommendations finished on 221000/311741 queries. users per second: 716509"
      ]
     },
     "metadata": {},
     "output_type": "display_data"
    },
    {
     "data": {
      "text/html": [
       "<pre>recommendations finished on 222000/311741 queries. users per second: 717119</pre>"
      ],
      "text/plain": [
       "recommendations finished on 222000/311741 queries. users per second: 717119"
      ]
     },
     "metadata": {},
     "output_type": "display_data"
    },
    {
     "data": {
      "text/html": [
       "<pre>recommendations finished on 223000/311741 queries. users per second: 717891</pre>"
      ],
      "text/plain": [
       "recommendations finished on 223000/311741 queries. users per second: 717891"
      ]
     },
     "metadata": {},
     "output_type": "display_data"
    },
    {
     "data": {
      "text/html": [
       "<pre>recommendations finished on 224000/311741 queries. users per second: 718707</pre>"
      ],
      "text/plain": [
       "recommendations finished on 224000/311741 queries. users per second: 718707"
      ]
     },
     "metadata": {},
     "output_type": "display_data"
    },
    {
     "data": {
      "text/html": [
       "<pre>recommendations finished on 225000/311741 queries. users per second: 719475</pre>"
      ],
      "text/plain": [
       "recommendations finished on 225000/311741 queries. users per second: 719475"
      ]
     },
     "metadata": {},
     "output_type": "display_data"
    },
    {
     "data": {
      "text/html": [
       "<pre>recommendations finished on 226000/311741 queries. users per second: 720300</pre>"
      ],
      "text/plain": [
       "recommendations finished on 226000/311741 queries. users per second: 720300"
      ]
     },
     "metadata": {},
     "output_type": "display_data"
    },
    {
     "data": {
      "text/html": [
       "<pre>recommendations finished on 227000/311741 queries. users per second: 721333</pre>"
      ],
      "text/plain": [
       "recommendations finished on 227000/311741 queries. users per second: 721333"
      ]
     },
     "metadata": {},
     "output_type": "display_data"
    },
    {
     "data": {
      "text/html": [
       "<pre>recommendations finished on 228000/311741 queries. users per second: 722484</pre>"
      ],
      "text/plain": [
       "recommendations finished on 228000/311741 queries. users per second: 722484"
      ]
     },
     "metadata": {},
     "output_type": "display_data"
    },
    {
     "data": {
      "text/html": [
       "<pre>recommendations finished on 229000/311741 queries. users per second: 723530</pre>"
      ],
      "text/plain": [
       "recommendations finished on 229000/311741 queries. users per second: 723530"
      ]
     },
     "metadata": {},
     "output_type": "display_data"
    },
    {
     "data": {
      "text/html": [
       "<pre>recommendations finished on 230000/311741 queries. users per second: 724494</pre>"
      ],
      "text/plain": [
       "recommendations finished on 230000/311741 queries. users per second: 724494"
      ]
     },
     "metadata": {},
     "output_type": "display_data"
    },
    {
     "data": {
      "text/html": [
       "<pre>recommendations finished on 231000/311741 queries. users per second: 725623</pre>"
      ],
      "text/plain": [
       "recommendations finished on 231000/311741 queries. users per second: 725623"
      ]
     },
     "metadata": {},
     "output_type": "display_data"
    },
    {
     "data": {
      "text/html": [
       "<pre>recommendations finished on 232000/311741 queries. users per second: 725000</pre>"
      ],
      "text/plain": [
       "recommendations finished on 232000/311741 queries. users per second: 725000"
      ]
     },
     "metadata": {},
     "output_type": "display_data"
    },
    {
     "data": {
      "text/html": [
       "<pre>recommendations finished on 233000/311741 queries. users per second: 726040</pre>"
      ],
      "text/plain": [
       "recommendations finished on 233000/311741 queries. users per second: 726040"
      ]
     },
     "metadata": {},
     "output_type": "display_data"
    },
    {
     "data": {
      "text/html": [
       "<pre>recommendations finished on 234000/311741 queries. users per second: 726893</pre>"
      ],
      "text/plain": [
       "recommendations finished on 234000/311741 queries. users per second: 726893"
      ]
     },
     "metadata": {},
     "output_type": "display_data"
    },
    {
     "data": {
      "text/html": [
       "<pre>recommendations finished on 235000/311741 queries. users per second: 727989</pre>"
      ],
      "text/plain": [
       "recommendations finished on 235000/311741 queries. users per second: 727989"
      ]
     },
     "metadata": {},
     "output_type": "display_data"
    },
    {
     "data": {
      "text/html": [
       "<pre>recommendations finished on 236000/311741 queries. users per second: 729126</pre>"
      ],
      "text/plain": [
       "recommendations finished on 236000/311741 queries. users per second: 729126"
      ]
     },
     "metadata": {},
     "output_type": "display_data"
    },
    {
     "data": {
      "text/html": [
       "<pre>recommendations finished on 237000/311741 queries. users per second: 729242</pre>"
      ],
      "text/plain": [
       "recommendations finished on 237000/311741 queries. users per second: 729242"
      ]
     },
     "metadata": {},
     "output_type": "display_data"
    },
    {
     "data": {
      "text/html": [
       "<pre>recommendations finished on 238000/311741 queries. users per second: 729059</pre>"
      ],
      "text/plain": [
       "recommendations finished on 238000/311741 queries. users per second: 729059"
      ]
     },
     "metadata": {},
     "output_type": "display_data"
    },
    {
     "data": {
      "text/html": [
       "<pre>recommendations finished on 239000/311741 queries. users per second: 725718</pre>"
      ],
      "text/plain": [
       "recommendations finished on 239000/311741 queries. users per second: 725718"
      ]
     },
     "metadata": {},
     "output_type": "display_data"
    },
    {
     "data": {
      "text/html": [
       "<pre>recommendations finished on 240000/311741 queries. users per second: 726535</pre>"
      ],
      "text/plain": [
       "recommendations finished on 240000/311741 queries. users per second: 726535"
      ]
     },
     "metadata": {},
     "output_type": "display_data"
    },
    {
     "data": {
      "text/html": [
       "<pre>recommendations finished on 241000/311741 queries. users per second: 727205</pre>"
      ],
      "text/plain": [
       "recommendations finished on 241000/311741 queries. users per second: 727205"
      ]
     },
     "metadata": {},
     "output_type": "display_data"
    },
    {
     "data": {
      "text/html": [
       "<pre>recommendations finished on 242000/311741 queries. users per second: 727841</pre>"
      ],
      "text/plain": [
       "recommendations finished on 242000/311741 queries. users per second: 727841"
      ]
     },
     "metadata": {},
     "output_type": "display_data"
    },
    {
     "data": {
      "text/html": [
       "<pre>recommendations finished on 243000/311741 queries. users per second: 728651</pre>"
      ],
      "text/plain": [
       "recommendations finished on 243000/311741 queries. users per second: 728651"
      ]
     },
     "metadata": {},
     "output_type": "display_data"
    },
    {
     "data": {
      "text/html": [
       "<pre>recommendations finished on 244000/311741 queries. users per second: 729510</pre>"
      ],
      "text/plain": [
       "recommendations finished on 244000/311741 queries. users per second: 729510"
      ]
     },
     "metadata": {},
     "output_type": "display_data"
    },
    {
     "data": {
      "text/html": [
       "<pre>recommendations finished on 245000/311741 queries. users per second: 730395</pre>"
      ],
      "text/plain": [
       "recommendations finished on 245000/311741 queries. users per second: 730395"
      ]
     },
     "metadata": {},
     "output_type": "display_data"
    },
    {
     "data": {
      "text/html": [
       "<pre>recommendations finished on 246000/311741 queries. users per second: 731427</pre>"
      ],
      "text/plain": [
       "recommendations finished on 246000/311741 queries. users per second: 731427"
      ]
     },
     "metadata": {},
     "output_type": "display_data"
    },
    {
     "data": {
      "text/html": [
       "<pre>recommendations finished on 247000/311741 queries. users per second: 731932</pre>"
      ],
      "text/plain": [
       "recommendations finished on 247000/311741 queries. users per second: 731932"
      ]
     },
     "metadata": {},
     "output_type": "display_data"
    },
    {
     "data": {
      "text/html": [
       "<pre>recommendations finished on 248000/311741 queries. users per second: 732941</pre>"
      ],
      "text/plain": [
       "recommendations finished on 248000/311741 queries. users per second: 732941"
      ]
     },
     "metadata": {},
     "output_type": "display_data"
    },
    {
     "data": {
      "text/html": [
       "<pre>recommendations finished on 249000/311741 queries. users per second: 733743</pre>"
      ],
      "text/plain": [
       "recommendations finished on 249000/311741 queries. users per second: 733743"
      ]
     },
     "metadata": {},
     "output_type": "display_data"
    },
    {
     "data": {
      "text/html": [
       "<pre>recommendations finished on 250000/311741 queries. users per second: 734467</pre>"
      ],
      "text/plain": [
       "recommendations finished on 250000/311741 queries. users per second: 734467"
      ]
     },
     "metadata": {},
     "output_type": "display_data"
    },
    {
     "data": {
      "text/html": [
       "<pre>recommendations finished on 251000/311741 queries. users per second: 734739</pre>"
      ],
      "text/plain": [
       "recommendations finished on 251000/311741 queries. users per second: 734739"
      ]
     },
     "metadata": {},
     "output_type": "display_data"
    },
    {
     "data": {
      "text/html": [
       "<pre>recommendations finished on 252000/311741 queries. users per second: 734544</pre>"
      ],
      "text/plain": [
       "recommendations finished on 252000/311741 queries. users per second: 734544"
      ]
     },
     "metadata": {},
     "output_type": "display_data"
    },
    {
     "data": {
      "text/html": [
       "<pre>recommendations finished on 253000/311741 queries. users per second: 735059</pre>"
      ],
      "text/plain": [
       "recommendations finished on 253000/311741 queries. users per second: 735059"
      ]
     },
     "metadata": {},
     "output_type": "display_data"
    },
    {
     "data": {
      "text/html": [
       "<pre>recommendations finished on 254000/311741 queries. users per second: 736001</pre>"
      ],
      "text/plain": [
       "recommendations finished on 254000/311741 queries. users per second: 736001"
      ]
     },
     "metadata": {},
     "output_type": "display_data"
    },
    {
     "data": {
      "text/html": [
       "<pre>recommendations finished on 255000/311741 queries. users per second: 736992</pre>"
      ],
      "text/plain": [
       "recommendations finished on 255000/311741 queries. users per second: 736992"
      ]
     },
     "metadata": {},
     "output_type": "display_data"
    },
    {
     "data": {
      "text/html": [
       "<pre>recommendations finished on 256000/311741 queries. users per second: 737982</pre>"
      ],
      "text/plain": [
       "recommendations finished on 256000/311741 queries. users per second: 737982"
      ]
     },
     "metadata": {},
     "output_type": "display_data"
    },
    {
     "data": {
      "text/html": [
       "<pre>recommendations finished on 257000/311741 queries. users per second: 738629</pre>"
      ],
      "text/plain": [
       "recommendations finished on 257000/311741 queries. users per second: 738629"
      ]
     },
     "metadata": {},
     "output_type": "display_data"
    },
    {
     "data": {
      "text/html": [
       "<pre>recommendations finished on 258000/311741 queries. users per second: 739567</pre>"
      ],
      "text/plain": [
       "recommendations finished on 258000/311741 queries. users per second: 739567"
      ]
     },
     "metadata": {},
     "output_type": "display_data"
    },
    {
     "data": {
      "text/html": [
       "<pre>recommendations finished on 259000/311741 queries. users per second: 740556</pre>"
      ],
      "text/plain": [
       "recommendations finished on 259000/311741 queries. users per second: 740556"
      ]
     },
     "metadata": {},
     "output_type": "display_data"
    },
    {
     "data": {
      "text/html": [
       "<pre>recommendations finished on 260000/311741 queries. users per second: 741560</pre>"
      ],
      "text/plain": [
       "recommendations finished on 260000/311741 queries. users per second: 741560"
      ]
     },
     "metadata": {},
     "output_type": "display_data"
    },
    {
     "data": {
      "text/html": [
       "<pre>recommendations finished on 261000/311741 queries. users per second: 741627</pre>"
      ],
      "text/plain": [
       "recommendations finished on 261000/311741 queries. users per second: 741627"
      ]
     },
     "metadata": {},
     "output_type": "display_data"
    },
    {
     "data": {
      "text/html": [
       "<pre>recommendations finished on 262000/311741 queries. users per second: 742597</pre>"
      ],
      "text/plain": [
       "recommendations finished on 262000/311741 queries. users per second: 742597"
      ]
     },
     "metadata": {},
     "output_type": "display_data"
    },
    {
     "data": {
      "text/html": [
       "<pre>recommendations finished on 263000/311741 queries. users per second: 743614</pre>"
      ],
      "text/plain": [
       "recommendations finished on 263000/311741 queries. users per second: 743614"
      ]
     },
     "metadata": {},
     "output_type": "display_data"
    },
    {
     "data": {
      "text/html": [
       "<pre>recommendations finished on 264000/311741 queries. users per second: 744612</pre>"
      ],
      "text/plain": [
       "recommendations finished on 264000/311741 queries. users per second: 744612"
      ]
     },
     "metadata": {},
     "output_type": "display_data"
    },
    {
     "data": {
      "text/html": [
       "<pre>recommendations finished on 265000/311741 queries. users per second: 745609</pre>"
      ],
      "text/plain": [
       "recommendations finished on 265000/311741 queries. users per second: 745609"
      ]
     },
     "metadata": {},
     "output_type": "display_data"
    },
    {
     "data": {
      "text/html": [
       "<pre>recommendations finished on 266000/311741 queries. users per second: 746593</pre>"
      ],
      "text/plain": [
       "recommendations finished on 266000/311741 queries. users per second: 746593"
      ]
     },
     "metadata": {},
     "output_type": "display_data"
    },
    {
     "data": {
      "text/html": [
       "<pre>recommendations finished on 267000/311741 queries. users per second: 747234</pre>"
      ],
      "text/plain": [
       "recommendations finished on 267000/311741 queries. users per second: 747234"
      ]
     },
     "metadata": {},
     "output_type": "display_data"
    },
    {
     "data": {
      "text/html": [
       "<pre>recommendations finished on 268000/311741 queries. users per second: 747328</pre>"
      ],
      "text/plain": [
       "recommendations finished on 268000/311741 queries. users per second: 747328"
      ]
     },
     "metadata": {},
     "output_type": "display_data"
    },
    {
     "data": {
      "text/html": [
       "<pre>recommendations finished on 269000/311741 queries. users per second: 747220</pre>"
      ],
      "text/plain": [
       "recommendations finished on 269000/311741 queries. users per second: 747220"
      ]
     },
     "metadata": {},
     "output_type": "display_data"
    },
    {
     "data": {
      "text/html": [
       "<pre>recommendations finished on 270000/311741 queries. users per second: 747372</pre>"
      ],
      "text/plain": [
       "recommendations finished on 270000/311741 queries. users per second: 747372"
      ]
     },
     "metadata": {},
     "output_type": "display_data"
    },
    {
     "data": {
      "text/html": [
       "<pre>recommendations finished on 271000/311741 queries. users per second: 747553</pre>"
      ],
      "text/plain": [
       "recommendations finished on 271000/311741 queries. users per second: 747553"
      ]
     },
     "metadata": {},
     "output_type": "display_data"
    },
    {
     "data": {
      "text/html": [
       "<pre>recommendations finished on 272000/311741 queries. users per second: 747929</pre>"
      ],
      "text/plain": [
       "recommendations finished on 272000/311741 queries. users per second: 747929"
      ]
     },
     "metadata": {},
     "output_type": "display_data"
    },
    {
     "data": {
      "text/html": [
       "<pre>recommendations finished on 273000/311741 queries. users per second: 748152</pre>"
      ],
      "text/plain": [
       "recommendations finished on 273000/311741 queries. users per second: 748152"
      ]
     },
     "metadata": {},
     "output_type": "display_data"
    },
    {
     "data": {
      "text/html": [
       "<pre>recommendations finished on 274000/311741 queries. users per second: 748587</pre>"
      ],
      "text/plain": [
       "recommendations finished on 274000/311741 queries. users per second: 748587"
      ]
     },
     "metadata": {},
     "output_type": "display_data"
    },
    {
     "data": {
      "text/html": [
       "<pre>recommendations finished on 275000/311741 queries. users per second: 749335</pre>"
      ],
      "text/plain": [
       "recommendations finished on 275000/311741 queries. users per second: 749335"
      ]
     },
     "metadata": {},
     "output_type": "display_data"
    },
    {
     "data": {
      "text/html": [
       "<pre>recommendations finished on 276000/311741 queries. users per second: 750116</pre>"
      ],
      "text/plain": [
       "recommendations finished on 276000/311741 queries. users per second: 750116"
      ]
     },
     "metadata": {},
     "output_type": "display_data"
    },
    {
     "data": {
      "text/html": [
       "<pre>recommendations finished on 277000/311741 queries. users per second: 750834</pre>"
      ],
      "text/plain": [
       "recommendations finished on 277000/311741 queries. users per second: 750834"
      ]
     },
     "metadata": {},
     "output_type": "display_data"
    },
    {
     "data": {
      "text/html": [
       "<pre>recommendations finished on 278000/311741 queries. users per second: 751522</pre>"
      ],
      "text/plain": [
       "recommendations finished on 278000/311741 queries. users per second: 751522"
      ]
     },
     "metadata": {},
     "output_type": "display_data"
    },
    {
     "data": {
      "text/html": [
       "<pre>recommendations finished on 279000/311741 queries. users per second: 752170</pre>"
      ],
      "text/plain": [
       "recommendations finished on 279000/311741 queries. users per second: 752170"
      ]
     },
     "metadata": {},
     "output_type": "display_data"
    },
    {
     "data": {
      "text/html": [
       "<pre>recommendations finished on 280000/311741 queries. users per second: 752785</pre>"
      ],
      "text/plain": [
       "recommendations finished on 280000/311741 queries. users per second: 752785"
      ]
     },
     "metadata": {},
     "output_type": "display_data"
    },
    {
     "data": {
      "text/html": [
       "<pre>recommendations finished on 281000/311741 queries. users per second: 753495</pre>"
      ],
      "text/plain": [
       "recommendations finished on 281000/311741 queries. users per second: 753495"
      ]
     },
     "metadata": {},
     "output_type": "display_data"
    },
    {
     "data": {
      "text/html": [
       "<pre>recommendations finished on 282000/311741 queries. users per second: 754158</pre>"
      ],
      "text/plain": [
       "recommendations finished on 282000/311741 queries. users per second: 754158"
      ]
     },
     "metadata": {},
     "output_type": "display_data"
    },
    {
     "data": {
      "text/html": [
       "<pre>recommendations finished on 283000/311741 queries. users per second: 754508</pre>"
      ],
      "text/plain": [
       "recommendations finished on 283000/311741 queries. users per second: 754508"
      ]
     },
     "metadata": {},
     "output_type": "display_data"
    },
    {
     "data": {
      "text/html": [
       "<pre>recommendations finished on 284000/311741 queries. users per second: 754268</pre>"
      ],
      "text/plain": [
       "recommendations finished on 284000/311741 queries. users per second: 754268"
      ]
     },
     "metadata": {},
     "output_type": "display_data"
    },
    {
     "data": {
      "text/html": [
       "<pre>recommendations finished on 285000/311741 queries. users per second: 753825</pre>"
      ],
      "text/plain": [
       "recommendations finished on 285000/311741 queries. users per second: 753825"
      ]
     },
     "metadata": {},
     "output_type": "display_data"
    },
    {
     "data": {
      "text/html": [
       "<pre>recommendations finished on 286000/311741 queries. users per second: 753832</pre>"
      ],
      "text/plain": [
       "recommendations finished on 286000/311741 queries. users per second: 753832"
      ]
     },
     "metadata": {},
     "output_type": "display_data"
    },
    {
     "data": {
      "text/html": [
       "<pre>recommendations finished on 287000/311741 queries. users per second: 754374</pre>"
      ],
      "text/plain": [
       "recommendations finished on 287000/311741 queries. users per second: 754374"
      ]
     },
     "metadata": {},
     "output_type": "display_data"
    },
    {
     "data": {
      "text/html": [
       "<pre>recommendations finished on 288000/311741 queries. users per second: 754644</pre>"
      ],
      "text/plain": [
       "recommendations finished on 288000/311741 queries. users per second: 754644"
      ]
     },
     "metadata": {},
     "output_type": "display_data"
    },
    {
     "data": {
      "text/html": [
       "<pre>recommendations finished on 289000/311741 queries. users per second: 754963</pre>"
      ],
      "text/plain": [
       "recommendations finished on 289000/311741 queries. users per second: 754963"
      ]
     },
     "metadata": {},
     "output_type": "display_data"
    },
    {
     "data": {
      "text/html": [
       "<pre>recommendations finished on 290000/311741 queries. users per second: 753120</pre>"
      ],
      "text/plain": [
       "recommendations finished on 290000/311741 queries. users per second: 753120"
      ]
     },
     "metadata": {},
     "output_type": "display_data"
    },
    {
     "data": {
      "text/html": [
       "<pre>recommendations finished on 291000/311741 queries. users per second: 753613</pre>"
      ],
      "text/plain": [
       "recommendations finished on 291000/311741 queries. users per second: 753613"
      ]
     },
     "metadata": {},
     "output_type": "display_data"
    },
    {
     "data": {
      "text/html": [
       "<pre>recommendations finished on 292000/311741 queries. users per second: 754126</pre>"
      ],
      "text/plain": [
       "recommendations finished on 292000/311741 queries. users per second: 754126"
      ]
     },
     "metadata": {},
     "output_type": "display_data"
    },
    {
     "data": {
      "text/html": [
       "<pre>recommendations finished on 293000/311741 queries. users per second: 754587</pre>"
      ],
      "text/plain": [
       "recommendations finished on 293000/311741 queries. users per second: 754587"
      ]
     },
     "metadata": {},
     "output_type": "display_data"
    },
    {
     "data": {
      "text/html": [
       "<pre>recommendations finished on 294000/311741 queries. users per second: 755068</pre>"
      ],
      "text/plain": [
       "recommendations finished on 294000/311741 queries. users per second: 755068"
      ]
     },
     "metadata": {},
     "output_type": "display_data"
    },
    {
     "data": {
      "text/html": [
       "<pre>recommendations finished on 295000/311741 queries. users per second: 755397</pre>"
      ],
      "text/plain": [
       "recommendations finished on 295000/311741 queries. users per second: 755397"
      ]
     },
     "metadata": {},
     "output_type": "display_data"
    },
    {
     "data": {
      "text/html": [
       "<pre>recommendations finished on 296000/311741 queries. users per second: 753434</pre>"
      ],
      "text/plain": [
       "recommendations finished on 296000/311741 queries. users per second: 753434"
      ]
     },
     "metadata": {},
     "output_type": "display_data"
    },
    {
     "data": {
      "text/html": [
       "<pre>recommendations finished on 297000/311741 queries. users per second: 752592</pre>"
      ],
      "text/plain": [
       "recommendations finished on 297000/311741 queries. users per second: 752592"
      ]
     },
     "metadata": {},
     "output_type": "display_data"
    },
    {
     "data": {
      "text/html": [
       "<pre>recommendations finished on 298000/311741 queries. users per second: 752261</pre>"
      ],
      "text/plain": [
       "recommendations finished on 298000/311741 queries. users per second: 752261"
      ]
     },
     "metadata": {},
     "output_type": "display_data"
    },
    {
     "data": {
      "text/html": [
       "<pre>recommendations finished on 299000/311741 queries. users per second: 750314</pre>"
      ],
      "text/plain": [
       "recommendations finished on 299000/311741 queries. users per second: 750314"
      ]
     },
     "metadata": {},
     "output_type": "display_data"
    },
    {
     "data": {
      "text/html": [
       "<pre>recommendations finished on 300000/311741 queries. users per second: 749298</pre>"
      ],
      "text/plain": [
       "recommendations finished on 300000/311741 queries. users per second: 749298"
      ]
     },
     "metadata": {},
     "output_type": "display_data"
    },
    {
     "data": {
      "text/html": [
       "<pre>recommendations finished on 301000/311741 queries. users per second: 746917</pre>"
      ],
      "text/plain": [
       "recommendations finished on 301000/311741 queries. users per second: 746917"
      ]
     },
     "metadata": {},
     "output_type": "display_data"
    },
    {
     "data": {
      "text/html": [
       "<pre>recommendations finished on 302000/311741 queries. users per second: 744815</pre>"
      ],
      "text/plain": [
       "recommendations finished on 302000/311741 queries. users per second: 744815"
      ]
     },
     "metadata": {},
     "output_type": "display_data"
    },
    {
     "data": {
      "text/html": [
       "<pre>recommendations finished on 303000/311741 queries. users per second: 733010</pre>"
      ],
      "text/plain": [
       "recommendations finished on 303000/311741 queries. users per second: 733010"
      ]
     },
     "metadata": {},
     "output_type": "display_data"
    },
    {
     "data": {
      "text/html": [
       "<pre>recommendations finished on 304000/311741 queries. users per second: 730543</pre>"
      ],
      "text/plain": [
       "recommendations finished on 304000/311741 queries. users per second: 730543"
      ]
     },
     "metadata": {},
     "output_type": "display_data"
    },
    {
     "data": {
      "text/html": [
       "<pre>recommendations finished on 305000/311741 queries. users per second: 729676</pre>"
      ],
      "text/plain": [
       "recommendations finished on 305000/311741 queries. users per second: 729676"
      ]
     },
     "metadata": {},
     "output_type": "display_data"
    },
    {
     "data": {
      "text/html": [
       "<pre>recommendations finished on 306000/311741 queries. users per second: 729414</pre>"
      ],
      "text/plain": [
       "recommendations finished on 306000/311741 queries. users per second: 729414"
      ]
     },
     "metadata": {},
     "output_type": "display_data"
    },
    {
     "data": {
      "text/html": [
       "<pre>recommendations finished on 307000/311741 queries. users per second: 728918</pre>"
      ],
      "text/plain": [
       "recommendations finished on 307000/311741 queries. users per second: 728918"
      ]
     },
     "metadata": {},
     "output_type": "display_data"
    },
    {
     "data": {
      "text/html": [
       "<pre>recommendations finished on 308000/311741 queries. users per second: 727921</pre>"
      ],
      "text/plain": [
       "recommendations finished on 308000/311741 queries. users per second: 727921"
      ]
     },
     "metadata": {},
     "output_type": "display_data"
    },
    {
     "data": {
      "text/html": [
       "<pre>recommendations finished on 309000/311741 queries. users per second: 726522</pre>"
      ],
      "text/plain": [
       "recommendations finished on 309000/311741 queries. users per second: 726522"
      ]
     },
     "metadata": {},
     "output_type": "display_data"
    },
    {
     "data": {
      "text/html": [
       "<pre>recommendations finished on 310000/311741 queries. users per second: 723619</pre>"
      ],
      "text/plain": [
       "recommendations finished on 310000/311741 queries. users per second: 723619"
      ]
     },
     "metadata": {},
     "output_type": "display_data"
    },
    {
     "data": {
      "text/html": [
       "<pre>recommendations finished on 311000/311741 queries. users per second: 720087</pre>"
      ],
      "text/plain": [
       "recommendations finished on 311000/311741 queries. users per second: 720087"
      ]
     },
     "metadata": {},
     "output_type": "display_data"
    }
   ],
   "source": [
    "name = 'popularity'\n",
    "target = 'FREQ_COMPRAS'\n",
    "pop_norm = model(train_data_norm, name, user_id, item_id, target, \n",
    "                 users_to_recommend, n_recommendation, n_display)"
   ]
  },
  {
   "cell_type": "markdown",
   "metadata": {},
   "source": [
    "### Collaborative Filtering Model\n",
    "\n",
    "   Recommends items based on how similar clients purchase items. Meaning: if customer 1 and customer 2 bought similar items, for example, 1 bought X, Y, Z and 2 bought X, Y, we would recommend an item Z to customer 2.\n",
    "    \n",
    "   - Lets say X and Y have been rated by costumers 1 and 2. \n",
    "   - We then create two item-vectors for both items, then we find the **cosine** or **pearson** distance between these vectors. If the **cosine** value is 1, means total similarity, if it is 0, means no similarity.\n",
    "   - In this case, we will check the similarity between the target item and other items the customer already bought - using the client's purchase count to items already bought by him as weighing factor (some sort of simulated rating). "
   ]
  },
  {
   "cell_type": "markdown",
   "metadata": {},
   "source": [
    "### Using purchase count - Buyers"
   ]
  },
  {
   "cell_type": "code",
   "execution_count": 30,
   "metadata": {},
   "outputs": [
    {
     "data": {
      "text/html": [
       "<pre>Preparing data set.</pre>"
      ],
      "text/plain": [
       "Preparing data set."
      ]
     },
     "metadata": {},
     "output_type": "display_data"
    },
    {
     "data": {
      "text/html": [
       "<pre>    Data has 249392 observations with 198072 users and 670 items.</pre>"
      ],
      "text/plain": [
       "    Data has 249392 observations with 198072 users and 670 items."
      ]
     },
     "metadata": {},
     "output_type": "display_data"
    },
    {
     "data": {
      "text/html": [
       "<pre>    Data prepared in: 0.169499s</pre>"
      ],
      "text/plain": [
       "    Data prepared in: 0.169499s"
      ]
     },
     "metadata": {},
     "output_type": "display_data"
    },
    {
     "data": {
      "text/html": [
       "<pre>Training model from provided data.</pre>"
      ],
      "text/plain": [
       "Training model from provided data."
      ]
     },
     "metadata": {},
     "output_type": "display_data"
    },
    {
     "data": {
      "text/html": [
       "<pre>Gathering per-item and per-user statistics.</pre>"
      ],
      "text/plain": [
       "Gathering per-item and per-user statistics."
      ]
     },
     "metadata": {},
     "output_type": "display_data"
    },
    {
     "data": {
      "text/html": [
       "<pre>+--------------------------------+------------+</pre>"
      ],
      "text/plain": [
       "+--------------------------------+------------+"
      ]
     },
     "metadata": {},
     "output_type": "display_data"
    },
    {
     "data": {
      "text/html": [
       "<pre>| Elapsed Time (Item Statistics) | % Complete |</pre>"
      ],
      "text/plain": [
       "| Elapsed Time (Item Statistics) | % Complete |"
      ]
     },
     "metadata": {},
     "output_type": "display_data"
    },
    {
     "data": {
      "text/html": [
       "<pre>+--------------------------------+------------+</pre>"
      ],
      "text/plain": [
       "+--------------------------------+------------+"
      ]
     },
     "metadata": {},
     "output_type": "display_data"
    },
    {
     "data": {
      "text/html": [
       "<pre>| 1.847ms                        | 0.5        |</pre>"
      ],
      "text/plain": [
       "| 1.847ms                        | 0.5        |"
      ]
     },
     "metadata": {},
     "output_type": "display_data"
    },
    {
     "data": {
      "text/html": [
       "<pre>| 32.534ms                       | 100        |</pre>"
      ],
      "text/plain": [
       "| 32.534ms                       | 100        |"
      ]
     },
     "metadata": {},
     "output_type": "display_data"
    },
    {
     "data": {
      "text/html": [
       "<pre>+--------------------------------+------------+</pre>"
      ],
      "text/plain": [
       "+--------------------------------+------------+"
      ]
     },
     "metadata": {},
     "output_type": "display_data"
    },
    {
     "data": {
      "text/html": [
       "<pre>Setting up lookup tables.</pre>"
      ],
      "text/plain": [
       "Setting up lookup tables."
      ]
     },
     "metadata": {},
     "output_type": "display_data"
    },
    {
     "data": {
      "text/html": [
       "<pre>Processing data in one pass using dense lookup tables.</pre>"
      ],
      "text/plain": [
       "Processing data in one pass using dense lookup tables."
      ]
     },
     "metadata": {},
     "output_type": "display_data"
    },
    {
     "data": {
      "text/html": [
       "<pre>+-------------------------------------+------------------+-----------------+</pre>"
      ],
      "text/plain": [
       "+-------------------------------------+------------------+-----------------+"
      ]
     },
     "metadata": {},
     "output_type": "display_data"
    },
    {
     "data": {
      "text/html": [
       "<pre>| Elapsed Time (Constructing Lookups) | Total % Complete | Items Processed |</pre>"
      ],
      "text/plain": [
       "| Elapsed Time (Constructing Lookups) | Total % Complete | Items Processed |"
      ]
     },
     "metadata": {},
     "output_type": "display_data"
    },
    {
     "data": {
      "text/html": [
       "<pre>+-------------------------------------+------------------+-----------------+</pre>"
      ],
      "text/plain": [
       "+-------------------------------------+------------------+-----------------+"
      ]
     },
     "metadata": {},
     "output_type": "display_data"
    },
    {
     "data": {
      "text/html": [
       "<pre>| 39.627ms                            | 0                | 0               |</pre>"
      ],
      "text/plain": [
       "| 39.627ms                            | 0                | 0               |"
      ]
     },
     "metadata": {},
     "output_type": "display_data"
    },
    {
     "data": {
      "text/html": [
       "<pre>| 59.711ms                            | 100              | 670             |</pre>"
      ],
      "text/plain": [
       "| 59.711ms                            | 100              | 670             |"
      ]
     },
     "metadata": {},
     "output_type": "display_data"
    },
    {
     "data": {
      "text/html": [
       "<pre>+-------------------------------------+------------------+-----------------+</pre>"
      ],
      "text/plain": [
       "+-------------------------------------+------------------+-----------------+"
      ]
     },
     "metadata": {},
     "output_type": "display_data"
    },
    {
     "data": {
      "text/html": [
       "<pre>Finalizing lookup tables.</pre>"
      ],
      "text/plain": [
       "Finalizing lookup tables."
      ]
     },
     "metadata": {},
     "output_type": "display_data"
    },
    {
     "data": {
      "text/html": [
       "<pre>Generating candidate set for working with new users.</pre>"
      ],
      "text/plain": [
       "Generating candidate set for working with new users."
      ]
     },
     "metadata": {},
     "output_type": "display_data"
    },
    {
     "data": {
      "text/html": [
       "<pre>Finished training in 1.1108s</pre>"
      ],
      "text/plain": [
       "Finished training in 1.1108s"
      ]
     },
     "metadata": {},
     "output_type": "display_data"
    },
    {
     "data": {
      "text/html": [
       "<pre>recommendations finished on 1000/311741 queries. users per second: 71469.4</pre>"
      ],
      "text/plain": [
       "recommendations finished on 1000/311741 queries. users per second: 71469.4"
      ]
     },
     "metadata": {},
     "output_type": "display_data"
    },
    {
     "data": {
      "text/html": [
       "<pre>recommendations finished on 2000/311741 queries. users per second: 126064</pre>"
      ],
      "text/plain": [
       "recommendations finished on 2000/311741 queries. users per second: 126064"
      ]
     },
     "metadata": {},
     "output_type": "display_data"
    },
    {
     "data": {
      "text/html": [
       "<pre>recommendations finished on 3000/311741 queries. users per second: 170271</pre>"
      ],
      "text/plain": [
       "recommendations finished on 3000/311741 queries. users per second: 170271"
      ]
     },
     "metadata": {},
     "output_type": "display_data"
    },
    {
     "data": {
      "text/html": [
       "<pre>recommendations finished on 4000/311741 queries. users per second: 206079</pre>"
      ],
      "text/plain": [
       "recommendations finished on 4000/311741 queries. users per second: 206079"
      ]
     },
     "metadata": {},
     "output_type": "display_data"
    },
    {
     "data": {
      "text/html": [
       "<pre>recommendations finished on 5000/311741 queries. users per second: 235627</pre>"
      ],
      "text/plain": [
       "recommendations finished on 5000/311741 queries. users per second: 235627"
      ]
     },
     "metadata": {},
     "output_type": "display_data"
    },
    {
     "data": {
      "text/html": [
       "<pre>recommendations finished on 6000/311741 queries. users per second: 257478</pre>"
      ],
      "text/plain": [
       "recommendations finished on 6000/311741 queries. users per second: 257478"
      ]
     },
     "metadata": {},
     "output_type": "display_data"
    },
    {
     "data": {
      "text/html": [
       "<pre>recommendations finished on 7000/311741 queries. users per second: 276986</pre>"
      ],
      "text/plain": [
       "recommendations finished on 7000/311741 queries. users per second: 276986"
      ]
     },
     "metadata": {},
     "output_type": "display_data"
    },
    {
     "data": {
      "text/html": [
       "<pre>recommendations finished on 8000/311741 queries. users per second: 283196</pre>"
      ],
      "text/plain": [
       "recommendations finished on 8000/311741 queries. users per second: 283196"
      ]
     },
     "metadata": {},
     "output_type": "display_data"
    },
    {
     "data": {
      "text/html": [
       "<pre>recommendations finished on 9000/311741 queries. users per second: 298616</pre>"
      ],
      "text/plain": [
       "recommendations finished on 9000/311741 queries. users per second: 298616"
      ]
     },
     "metadata": {},
     "output_type": "display_data"
    },
    {
     "data": {
      "text/html": [
       "<pre>recommendations finished on 10000/311741 queries. users per second: 307929</pre>"
      ],
      "text/plain": [
       "recommendations finished on 10000/311741 queries. users per second: 307929"
      ]
     },
     "metadata": {},
     "output_type": "display_data"
    },
    {
     "data": {
      "text/html": [
       "<pre>recommendations finished on 11000/311741 queries. users per second: 319164</pre>"
      ],
      "text/plain": [
       "recommendations finished on 11000/311741 queries. users per second: 319164"
      ]
     },
     "metadata": {},
     "output_type": "display_data"
    },
    {
     "data": {
      "text/html": [
       "<pre>recommendations finished on 12000/311741 queries. users per second: 331071</pre>"
      ],
      "text/plain": [
       "recommendations finished on 12000/311741 queries. users per second: 331071"
      ]
     },
     "metadata": {},
     "output_type": "display_data"
    },
    {
     "data": {
      "text/html": [
       "<pre>recommendations finished on 13000/311741 queries. users per second: 341548</pre>"
      ],
      "text/plain": [
       "recommendations finished on 13000/311741 queries. users per second: 341548"
      ]
     },
     "metadata": {},
     "output_type": "display_data"
    },
    {
     "data": {
      "text/html": [
       "<pre>recommendations finished on 14000/311741 queries. users per second: 351027</pre>"
      ],
      "text/plain": [
       "recommendations finished on 14000/311741 queries. users per second: 351027"
      ]
     },
     "metadata": {},
     "output_type": "display_data"
    },
    {
     "data": {
      "text/html": [
       "<pre>recommendations finished on 15000/311741 queries. users per second: 360594</pre>"
      ],
      "text/plain": [
       "recommendations finished on 15000/311741 queries. users per second: 360594"
      ]
     },
     "metadata": {},
     "output_type": "display_data"
    },
    {
     "data": {
      "text/html": [
       "<pre>recommendations finished on 16000/311741 queries. users per second: 366435</pre>"
      ],
      "text/plain": [
       "recommendations finished on 16000/311741 queries. users per second: 366435"
      ]
     },
     "metadata": {},
     "output_type": "display_data"
    },
    {
     "data": {
      "text/html": [
       "<pre>recommendations finished on 17000/311741 queries. users per second: 373947</pre>"
      ],
      "text/plain": [
       "recommendations finished on 17000/311741 queries. users per second: 373947"
      ]
     },
     "metadata": {},
     "output_type": "display_data"
    },
    {
     "data": {
      "text/html": [
       "<pre>recommendations finished on 18000/311741 queries. users per second: 374438</pre>"
      ],
      "text/plain": [
       "recommendations finished on 18000/311741 queries. users per second: 374438"
      ]
     },
     "metadata": {},
     "output_type": "display_data"
    },
    {
     "data": {
      "text/html": [
       "<pre>recommendations finished on 19000/311741 queries. users per second: 380784</pre>"
      ],
      "text/plain": [
       "recommendations finished on 19000/311741 queries. users per second: 380784"
      ]
     },
     "metadata": {},
     "output_type": "display_data"
    },
    {
     "data": {
      "text/html": [
       "<pre>recommendations finished on 20000/311741 queries. users per second: 379276</pre>"
      ],
      "text/plain": [
       "recommendations finished on 20000/311741 queries. users per second: 379276"
      ]
     },
     "metadata": {},
     "output_type": "display_data"
    },
    {
     "data": {
      "text/html": [
       "<pre>recommendations finished on 21000/311741 queries. users per second: 384186</pre>"
      ],
      "text/plain": [
       "recommendations finished on 21000/311741 queries. users per second: 384186"
      ]
     },
     "metadata": {},
     "output_type": "display_data"
    },
    {
     "data": {
      "text/html": [
       "<pre>recommendations finished on 22000/311741 queries. users per second: 389898</pre>"
      ],
      "text/plain": [
       "recommendations finished on 22000/311741 queries. users per second: 389898"
      ]
     },
     "metadata": {},
     "output_type": "display_data"
    },
    {
     "data": {
      "text/html": [
       "<pre>recommendations finished on 23000/311741 queries. users per second: 395434</pre>"
      ],
      "text/plain": [
       "recommendations finished on 23000/311741 queries. users per second: 395434"
      ]
     },
     "metadata": {},
     "output_type": "display_data"
    },
    {
     "data": {
      "text/html": [
       "<pre>recommendations finished on 24000/311741 queries. users per second: 400160</pre>"
      ],
      "text/plain": [
       "recommendations finished on 24000/311741 queries. users per second: 400160"
      ]
     },
     "metadata": {},
     "output_type": "display_data"
    },
    {
     "data": {
      "text/html": [
       "<pre>recommendations finished on 25000/311741 queries. users per second: 403760</pre>"
      ],
      "text/plain": [
       "recommendations finished on 25000/311741 queries. users per second: 403760"
      ]
     },
     "metadata": {},
     "output_type": "display_data"
    },
    {
     "data": {
      "text/html": [
       "<pre>recommendations finished on 26000/311741 queries. users per second: 402982</pre>"
      ],
      "text/plain": [
       "recommendations finished on 26000/311741 queries. users per second: 402982"
      ]
     },
     "metadata": {},
     "output_type": "display_data"
    },
    {
     "data": {
      "text/html": [
       "<pre>recommendations finished on 27000/311741 queries. users per second: 407418</pre>"
      ],
      "text/plain": [
       "recommendations finished on 27000/311741 queries. users per second: 407418"
      ]
     },
     "metadata": {},
     "output_type": "display_data"
    },
    {
     "data": {
      "text/html": [
       "<pre>recommendations finished on 28000/311741 queries. users per second: 411789</pre>"
      ],
      "text/plain": [
       "recommendations finished on 28000/311741 queries. users per second: 411789"
      ]
     },
     "metadata": {},
     "output_type": "display_data"
    },
    {
     "data": {
      "text/html": [
       "<pre>recommendations finished on 29000/311741 queries. users per second: 415663</pre>"
      ],
      "text/plain": [
       "recommendations finished on 29000/311741 queries. users per second: 415663"
      ]
     },
     "metadata": {},
     "output_type": "display_data"
    },
    {
     "data": {
      "text/html": [
       "<pre>recommendations finished on 30000/311741 queries. users per second: 419264</pre>"
      ],
      "text/plain": [
       "recommendations finished on 30000/311741 queries. users per second: 419264"
      ]
     },
     "metadata": {},
     "output_type": "display_data"
    },
    {
     "data": {
      "text/html": [
       "<pre>recommendations finished on 31000/311741 queries. users per second: 421327</pre>"
      ],
      "text/plain": [
       "recommendations finished on 31000/311741 queries. users per second: 421327"
      ]
     },
     "metadata": {},
     "output_type": "display_data"
    },
    {
     "data": {
      "text/html": [
       "<pre>recommendations finished on 32000/311741 queries. users per second: 424871</pre>"
      ],
      "text/plain": [
       "recommendations finished on 32000/311741 queries. users per second: 424871"
      ]
     },
     "metadata": {},
     "output_type": "display_data"
    },
    {
     "data": {
      "text/html": [
       "<pre>recommendations finished on 33000/311741 queries. users per second: 427905</pre>"
      ],
      "text/plain": [
       "recommendations finished on 33000/311741 queries. users per second: 427905"
      ]
     },
     "metadata": {},
     "output_type": "display_data"
    },
    {
     "data": {
      "text/html": [
       "<pre>recommendations finished on 34000/311741 queries. users per second: 431144</pre>"
      ],
      "text/plain": [
       "recommendations finished on 34000/311741 queries. users per second: 431144"
      ]
     },
     "metadata": {},
     "output_type": "display_data"
    },
    {
     "data": {
      "text/html": [
       "<pre>recommendations finished on 35000/311741 queries. users per second: 431460</pre>"
      ],
      "text/plain": [
       "recommendations finished on 35000/311741 queries. users per second: 431460"
      ]
     },
     "metadata": {},
     "output_type": "display_data"
    },
    {
     "data": {
      "text/html": [
       "<pre>recommendations finished on 36000/311741 queries. users per second: 429251</pre>"
      ],
      "text/plain": [
       "recommendations finished on 36000/311741 queries. users per second: 429251"
      ]
     },
     "metadata": {},
     "output_type": "display_data"
    },
    {
     "data": {
      "text/html": [
       "<pre>recommendations finished on 37000/311741 queries. users per second: 426838</pre>"
      ],
      "text/plain": [
       "recommendations finished on 37000/311741 queries. users per second: 426838"
      ]
     },
     "metadata": {},
     "output_type": "display_data"
    },
    {
     "data": {
      "text/html": [
       "<pre>recommendations finished on 38000/311741 queries. users per second: 425460</pre>"
      ],
      "text/plain": [
       "recommendations finished on 38000/311741 queries. users per second: 425460"
      ]
     },
     "metadata": {},
     "output_type": "display_data"
    },
    {
     "data": {
      "text/html": [
       "<pre>recommendations finished on 39000/311741 queries. users per second: 424693</pre>"
      ],
      "text/plain": [
       "recommendations finished on 39000/311741 queries. users per second: 424693"
      ]
     },
     "metadata": {},
     "output_type": "display_data"
    },
    {
     "data": {
      "text/html": [
       "<pre>recommendations finished on 40000/311741 queries. users per second: 413505</pre>"
      ],
      "text/plain": [
       "recommendations finished on 40000/311741 queries. users per second: 413505"
      ]
     },
     "metadata": {},
     "output_type": "display_data"
    },
    {
     "data": {
      "text/html": [
       "<pre>recommendations finished on 41000/311741 queries. users per second: 405796</pre>"
      ],
      "text/plain": [
       "recommendations finished on 41000/311741 queries. users per second: 405796"
      ]
     },
     "metadata": {},
     "output_type": "display_data"
    },
    {
     "data": {
      "text/html": [
       "<pre>recommendations finished on 42000/311741 queries. users per second: 402137</pre>"
      ],
      "text/plain": [
       "recommendations finished on 42000/311741 queries. users per second: 402137"
      ]
     },
     "metadata": {},
     "output_type": "display_data"
    },
    {
     "data": {
      "text/html": [
       "<pre>recommendations finished on 43000/311741 queries. users per second: 403964</pre>"
      ],
      "text/plain": [
       "recommendations finished on 43000/311741 queries. users per second: 403964"
      ]
     },
     "metadata": {},
     "output_type": "display_data"
    },
    {
     "data": {
      "text/html": [
       "<pre>recommendations finished on 44000/311741 queries. users per second: 406519</pre>"
      ],
      "text/plain": [
       "recommendations finished on 44000/311741 queries. users per second: 406519"
      ]
     },
     "metadata": {},
     "output_type": "display_data"
    },
    {
     "data": {
      "text/html": [
       "<pre>recommendations finished on 45000/311741 queries. users per second: 408950</pre>"
      ],
      "text/plain": [
       "recommendations finished on 45000/311741 queries. users per second: 408950"
      ]
     },
     "metadata": {},
     "output_type": "display_data"
    },
    {
     "data": {
      "text/html": [
       "<pre>recommendations finished on 46000/311741 queries. users per second: 411552</pre>"
      ],
      "text/plain": [
       "recommendations finished on 46000/311741 queries. users per second: 411552"
      ]
     },
     "metadata": {},
     "output_type": "display_data"
    },
    {
     "data": {
      "text/html": [
       "<pre>recommendations finished on 47000/311741 queries. users per second: 409743</pre>"
      ],
      "text/plain": [
       "recommendations finished on 47000/311741 queries. users per second: 409743"
      ]
     },
     "metadata": {},
     "output_type": "display_data"
    },
    {
     "data": {
      "text/html": [
       "<pre>recommendations finished on 48000/311741 queries. users per second: 410022</pre>"
      ],
      "text/plain": [
       "recommendations finished on 48000/311741 queries. users per second: 410022"
      ]
     },
     "metadata": {},
     "output_type": "display_data"
    },
    {
     "data": {
      "text/html": [
       "<pre>recommendations finished on 49000/311741 queries. users per second: 411983</pre>"
      ],
      "text/plain": [
       "recommendations finished on 49000/311741 queries. users per second: 411983"
      ]
     },
     "metadata": {},
     "output_type": "display_data"
    },
    {
     "data": {
      "text/html": [
       "<pre>recommendations finished on 50000/311741 queries. users per second: 413575</pre>"
      ],
      "text/plain": [
       "recommendations finished on 50000/311741 queries. users per second: 413575"
      ]
     },
     "metadata": {},
     "output_type": "display_data"
    },
    {
     "data": {
      "text/html": [
       "<pre>recommendations finished on 51000/311741 queries. users per second: 415607</pre>"
      ],
      "text/plain": [
       "recommendations finished on 51000/311741 queries. users per second: 415607"
      ]
     },
     "metadata": {},
     "output_type": "display_data"
    },
    {
     "data": {
      "text/html": [
       "<pre>recommendations finished on 52000/311741 queries. users per second: 416640</pre>"
      ],
      "text/plain": [
       "recommendations finished on 52000/311741 queries. users per second: 416640"
      ]
     },
     "metadata": {},
     "output_type": "display_data"
    },
    {
     "data": {
      "text/html": [
       "<pre>recommendations finished on 53000/311741 queries. users per second: 418341</pre>"
      ],
      "text/plain": [
       "recommendations finished on 53000/311741 queries. users per second: 418341"
      ]
     },
     "metadata": {},
     "output_type": "display_data"
    },
    {
     "data": {
      "text/html": [
       "<pre>recommendations finished on 54000/311741 queries. users per second: 420191</pre>"
      ],
      "text/plain": [
       "recommendations finished on 54000/311741 queries. users per second: 420191"
      ]
     },
     "metadata": {},
     "output_type": "display_data"
    },
    {
     "data": {
      "text/html": [
       "<pre>recommendations finished on 55000/311741 queries. users per second: 421146</pre>"
      ],
      "text/plain": [
       "recommendations finished on 55000/311741 queries. users per second: 421146"
      ]
     },
     "metadata": {},
     "output_type": "display_data"
    },
    {
     "data": {
      "text/html": [
       "<pre>recommendations finished on 56000/311741 queries. users per second: 418519</pre>"
      ],
      "text/plain": [
       "recommendations finished on 56000/311741 queries. users per second: 418519"
      ]
     },
     "metadata": {},
     "output_type": "display_data"
    },
    {
     "data": {
      "text/html": [
       "<pre>recommendations finished on 57000/311741 queries. users per second: 418109</pre>"
      ],
      "text/plain": [
       "recommendations finished on 57000/311741 queries. users per second: 418109"
      ]
     },
     "metadata": {},
     "output_type": "display_data"
    },
    {
     "data": {
      "text/html": [
       "<pre>recommendations finished on 58000/311741 queries. users per second: 419718</pre>"
      ],
      "text/plain": [
       "recommendations finished on 58000/311741 queries. users per second: 419718"
      ]
     },
     "metadata": {},
     "output_type": "display_data"
    },
    {
     "data": {
      "text/html": [
       "<pre>recommendations finished on 59000/311741 queries. users per second: 421579</pre>"
      ],
      "text/plain": [
       "recommendations finished on 59000/311741 queries. users per second: 421579"
      ]
     },
     "metadata": {},
     "output_type": "display_data"
    },
    {
     "data": {
      "text/html": [
       "<pre>recommendations finished on 60000/311741 queries. users per second: 423149</pre>"
      ],
      "text/plain": [
       "recommendations finished on 60000/311741 queries. users per second: 423149"
      ]
     },
     "metadata": {},
     "output_type": "display_data"
    },
    {
     "data": {
      "text/html": [
       "<pre>recommendations finished on 61000/311741 queries. users per second: 423814</pre>"
      ],
      "text/plain": [
       "recommendations finished on 61000/311741 queries. users per second: 423814"
      ]
     },
     "metadata": {},
     "output_type": "display_data"
    },
    {
     "data": {
      "text/html": [
       "<pre>recommendations finished on 62000/311741 queries. users per second: 425526</pre>"
      ],
      "text/plain": [
       "recommendations finished on 62000/311741 queries. users per second: 425526"
      ]
     },
     "metadata": {},
     "output_type": "display_data"
    },
    {
     "data": {
      "text/html": [
       "<pre>recommendations finished on 63000/311741 queries. users per second: 425035</pre>"
      ],
      "text/plain": [
       "recommendations finished on 63000/311741 queries. users per second: 425035"
      ]
     },
     "metadata": {},
     "output_type": "display_data"
    },
    {
     "data": {
      "text/html": [
       "<pre>recommendations finished on 64000/311741 queries. users per second: 423799</pre>"
      ],
      "text/plain": [
       "recommendations finished on 64000/311741 queries. users per second: 423799"
      ]
     },
     "metadata": {},
     "output_type": "display_data"
    },
    {
     "data": {
      "text/html": [
       "<pre>recommendations finished on 65000/311741 queries. users per second: 425393</pre>"
      ],
      "text/plain": [
       "recommendations finished on 65000/311741 queries. users per second: 425393"
      ]
     },
     "metadata": {},
     "output_type": "display_data"
    },
    {
     "data": {
      "text/html": [
       "<pre>recommendations finished on 66000/311741 queries. users per second: 425768</pre>"
      ],
      "text/plain": [
       "recommendations finished on 66000/311741 queries. users per second: 425768"
      ]
     },
     "metadata": {},
     "output_type": "display_data"
    },
    {
     "data": {
      "text/html": [
       "<pre>recommendations finished on 67000/311741 queries. users per second: 426752</pre>"
      ],
      "text/plain": [
       "recommendations finished on 67000/311741 queries. users per second: 426752"
      ]
     },
     "metadata": {},
     "output_type": "display_data"
    },
    {
     "data": {
      "text/html": [
       "<pre>recommendations finished on 68000/311741 queries. users per second: 427576</pre>"
      ],
      "text/plain": [
       "recommendations finished on 68000/311741 queries. users per second: 427576"
      ]
     },
     "metadata": {},
     "output_type": "display_data"
    },
    {
     "data": {
      "text/html": [
       "<pre>recommendations finished on 69000/311741 queries. users per second: 428154</pre>"
      ],
      "text/plain": [
       "recommendations finished on 69000/311741 queries. users per second: 428154"
      ]
     },
     "metadata": {},
     "output_type": "display_data"
    },
    {
     "data": {
      "text/html": [
       "<pre>recommendations finished on 70000/311741 queries. users per second: 428662</pre>"
      ],
      "text/plain": [
       "recommendations finished on 70000/311741 queries. users per second: 428662"
      ]
     },
     "metadata": {},
     "output_type": "display_data"
    },
    {
     "data": {
      "text/html": [
       "<pre>recommendations finished on 71000/311741 queries. users per second: 427163</pre>"
      ],
      "text/plain": [
       "recommendations finished on 71000/311741 queries. users per second: 427163"
      ]
     },
     "metadata": {},
     "output_type": "display_data"
    },
    {
     "data": {
      "text/html": [
       "<pre>recommendations finished on 72000/311741 queries. users per second: 427383</pre>"
      ],
      "text/plain": [
       "recommendations finished on 72000/311741 queries. users per second: 427383"
      ]
     },
     "metadata": {},
     "output_type": "display_data"
    },
    {
     "data": {
      "text/html": [
       "<pre>recommendations finished on 73000/311741 queries. users per second: 424034</pre>"
      ],
      "text/plain": [
       "recommendations finished on 73000/311741 queries. users per second: 424034"
      ]
     },
     "metadata": {},
     "output_type": "display_data"
    },
    {
     "data": {
      "text/html": [
       "<pre>recommendations finished on 74000/311741 queries. users per second: 421941</pre>"
      ],
      "text/plain": [
       "recommendations finished on 74000/311741 queries. users per second: 421941"
      ]
     },
     "metadata": {},
     "output_type": "display_data"
    },
    {
     "data": {
      "text/html": [
       "<pre>recommendations finished on 75000/311741 queries. users per second: 419649</pre>"
      ],
      "text/plain": [
       "recommendations finished on 75000/311741 queries. users per second: 419649"
      ]
     },
     "metadata": {},
     "output_type": "display_data"
    },
    {
     "data": {
      "text/html": [
       "<pre>recommendations finished on 76000/311741 queries. users per second: 418770</pre>"
      ],
      "text/plain": [
       "recommendations finished on 76000/311741 queries. users per second: 418770"
      ]
     },
     "metadata": {},
     "output_type": "display_data"
    },
    {
     "data": {
      "text/html": [
       "<pre>recommendations finished on 77000/311741 queries. users per second: 415264</pre>"
      ],
      "text/plain": [
       "recommendations finished on 77000/311741 queries. users per second: 415264"
      ]
     },
     "metadata": {},
     "output_type": "display_data"
    },
    {
     "data": {
      "text/html": [
       "<pre>recommendations finished on 78000/311741 queries. users per second: 416609</pre>"
      ],
      "text/plain": [
       "recommendations finished on 78000/311741 queries. users per second: 416609"
      ]
     },
     "metadata": {},
     "output_type": "display_data"
    },
    {
     "data": {
      "text/html": [
       "<pre>recommendations finished on 79000/311741 queries. users per second: 417908</pre>"
      ],
      "text/plain": [
       "recommendations finished on 79000/311741 queries. users per second: 417908"
      ]
     },
     "metadata": {},
     "output_type": "display_data"
    },
    {
     "data": {
      "text/html": [
       "<pre>recommendations finished on 80000/311741 queries. users per second: 419186</pre>"
      ],
      "text/plain": [
       "recommendations finished on 80000/311741 queries. users per second: 419186"
      ]
     },
     "metadata": {},
     "output_type": "display_data"
    },
    {
     "data": {
      "text/html": [
       "<pre>recommendations finished on 81000/311741 queries. users per second: 420482</pre>"
      ],
      "text/plain": [
       "recommendations finished on 81000/311741 queries. users per second: 420482"
      ]
     },
     "metadata": {},
     "output_type": "display_data"
    },
    {
     "data": {
      "text/html": [
       "<pre>recommendations finished on 82000/311741 queries. users per second: 419287</pre>"
      ],
      "text/plain": [
       "recommendations finished on 82000/311741 queries. users per second: 419287"
      ]
     },
     "metadata": {},
     "output_type": "display_data"
    },
    {
     "data": {
      "text/html": [
       "<pre>recommendations finished on 83000/311741 queries. users per second: 417768</pre>"
      ],
      "text/plain": [
       "recommendations finished on 83000/311741 queries. users per second: 417768"
      ]
     },
     "metadata": {},
     "output_type": "display_data"
    },
    {
     "data": {
      "text/html": [
       "<pre>recommendations finished on 84000/311741 queries. users per second: 417989</pre>"
      ],
      "text/plain": [
       "recommendations finished on 84000/311741 queries. users per second: 417989"
      ]
     },
     "metadata": {},
     "output_type": "display_data"
    },
    {
     "data": {
      "text/html": [
       "<pre>recommendations finished on 85000/311741 queries. users per second: 417086</pre>"
      ],
      "text/plain": [
       "recommendations finished on 85000/311741 queries. users per second: 417086"
      ]
     },
     "metadata": {},
     "output_type": "display_data"
    },
    {
     "data": {
      "text/html": [
       "<pre>recommendations finished on 86000/311741 queries. users per second: 417821</pre>"
      ],
      "text/plain": [
       "recommendations finished on 86000/311741 queries. users per second: 417821"
      ]
     },
     "metadata": {},
     "output_type": "display_data"
    },
    {
     "data": {
      "text/html": [
       "<pre>recommendations finished on 87000/311741 queries. users per second: 419101</pre>"
      ],
      "text/plain": [
       "recommendations finished on 87000/311741 queries. users per second: 419101"
      ]
     },
     "metadata": {},
     "output_type": "display_data"
    },
    {
     "data": {
      "text/html": [
       "<pre>recommendations finished on 88000/311741 queries. users per second: 419357</pre>"
      ],
      "text/plain": [
       "recommendations finished on 88000/311741 queries. users per second: 419357"
      ]
     },
     "metadata": {},
     "output_type": "display_data"
    },
    {
     "data": {
      "text/html": [
       "<pre>recommendations finished on 89000/311741 queries. users per second: 417717</pre>"
      ],
      "text/plain": [
       "recommendations finished on 89000/311741 queries. users per second: 417717"
      ]
     },
     "metadata": {},
     "output_type": "display_data"
    },
    {
     "data": {
      "text/html": [
       "<pre>recommendations finished on 90000/311741 queries. users per second: 416972</pre>"
      ],
      "text/plain": [
       "recommendations finished on 90000/311741 queries. users per second: 416972"
      ]
     },
     "metadata": {},
     "output_type": "display_data"
    },
    {
     "data": {
      "text/html": [
       "<pre>recommendations finished on 91000/311741 queries. users per second: 418139</pre>"
      ],
      "text/plain": [
       "recommendations finished on 91000/311741 queries. users per second: 418139"
      ]
     },
     "metadata": {},
     "output_type": "display_data"
    },
    {
     "data": {
      "text/html": [
       "<pre>recommendations finished on 92000/311741 queries. users per second: 419146</pre>"
      ],
      "text/plain": [
       "recommendations finished on 92000/311741 queries. users per second: 419146"
      ]
     },
     "metadata": {},
     "output_type": "display_data"
    },
    {
     "data": {
      "text/html": [
       "<pre>recommendations finished on 93000/311741 queries. users per second: 419151</pre>"
      ],
      "text/plain": [
       "recommendations finished on 93000/311741 queries. users per second: 419151"
      ]
     },
     "metadata": {},
     "output_type": "display_data"
    },
    {
     "data": {
      "text/html": [
       "<pre>recommendations finished on 94000/311741 queries. users per second: 419399</pre>"
      ],
      "text/plain": [
       "recommendations finished on 94000/311741 queries. users per second: 419399"
      ]
     },
     "metadata": {},
     "output_type": "display_data"
    },
    {
     "data": {
      "text/html": [
       "<pre>recommendations finished on 95000/311741 queries. users per second: 420386</pre>"
      ],
      "text/plain": [
       "recommendations finished on 95000/311741 queries. users per second: 420386"
      ]
     },
     "metadata": {},
     "output_type": "display_data"
    },
    {
     "data": {
      "text/html": [
       "<pre>recommendations finished on 96000/311741 queries. users per second: 420093</pre>"
      ],
      "text/plain": [
       "recommendations finished on 96000/311741 queries. users per second: 420093"
      ]
     },
     "metadata": {},
     "output_type": "display_data"
    },
    {
     "data": {
      "text/html": [
       "<pre>recommendations finished on 97000/311741 queries. users per second: 419935</pre>"
      ],
      "text/plain": [
       "recommendations finished on 97000/311741 queries. users per second: 419935"
      ]
     },
     "metadata": {},
     "output_type": "display_data"
    },
    {
     "data": {
      "text/html": [
       "<pre>recommendations finished on 98000/311741 queries. users per second: 418956</pre>"
      ],
      "text/plain": [
       "recommendations finished on 98000/311741 queries. users per second: 418956"
      ]
     },
     "metadata": {},
     "output_type": "display_data"
    },
    {
     "data": {
      "text/html": [
       "<pre>recommendations finished on 99000/311741 queries. users per second: 419023</pre>"
      ],
      "text/plain": [
       "recommendations finished on 99000/311741 queries. users per second: 419023"
      ]
     },
     "metadata": {},
     "output_type": "display_data"
    },
    {
     "data": {
      "text/html": [
       "<pre>recommendations finished on 100000/311741 queries. users per second: 419340</pre>"
      ],
      "text/plain": [
       "recommendations finished on 100000/311741 queries. users per second: 419340"
      ]
     },
     "metadata": {},
     "output_type": "display_data"
    },
    {
     "data": {
      "text/html": [
       "<pre>recommendations finished on 101000/311741 queries. users per second: 420255</pre>"
      ],
      "text/plain": [
       "recommendations finished on 101000/311741 queries. users per second: 420255"
      ]
     },
     "metadata": {},
     "output_type": "display_data"
    },
    {
     "data": {
      "text/html": [
       "<pre>recommendations finished on 102000/311741 queries. users per second: 421049</pre>"
      ],
      "text/plain": [
       "recommendations finished on 102000/311741 queries. users per second: 421049"
      ]
     },
     "metadata": {},
     "output_type": "display_data"
    },
    {
     "data": {
      "text/html": [
       "<pre>recommendations finished on 103000/311741 queries. users per second: 420487</pre>"
      ],
      "text/plain": [
       "recommendations finished on 103000/311741 queries. users per second: 420487"
      ]
     },
     "metadata": {},
     "output_type": "display_data"
    },
    {
     "data": {
      "text/html": [
       "<pre>recommendations finished on 104000/311741 queries. users per second: 418683</pre>"
      ],
      "text/plain": [
       "recommendations finished on 104000/311741 queries. users per second: 418683"
      ]
     },
     "metadata": {},
     "output_type": "display_data"
    },
    {
     "data": {
      "text/html": [
       "<pre>recommendations finished on 105000/311741 queries. users per second: 417984</pre>"
      ],
      "text/plain": [
       "recommendations finished on 105000/311741 queries. users per second: 417984"
      ]
     },
     "metadata": {},
     "output_type": "display_data"
    },
    {
     "data": {
      "text/html": [
       "<pre>recommendations finished on 106000/311741 queries. users per second: 416976</pre>"
      ],
      "text/plain": [
       "recommendations finished on 106000/311741 queries. users per second: 416976"
      ]
     },
     "metadata": {},
     "output_type": "display_data"
    },
    {
     "data": {
      "text/html": [
       "<pre>recommendations finished on 107000/311741 queries. users per second: 417372</pre>"
      ],
      "text/plain": [
       "recommendations finished on 107000/311741 queries. users per second: 417372"
      ]
     },
     "metadata": {},
     "output_type": "display_data"
    },
    {
     "data": {
      "text/html": [
       "<pre>recommendations finished on 108000/311741 queries. users per second: 418110</pre>"
      ],
      "text/plain": [
       "recommendations finished on 108000/311741 queries. users per second: 418110"
      ]
     },
     "metadata": {},
     "output_type": "display_data"
    },
    {
     "data": {
      "text/html": [
       "<pre>recommendations finished on 109000/311741 queries. users per second: 418690</pre>"
      ],
      "text/plain": [
       "recommendations finished on 109000/311741 queries. users per second: 418690"
      ]
     },
     "metadata": {},
     "output_type": "display_data"
    },
    {
     "data": {
      "text/html": [
       "<pre>recommendations finished on 110000/311741 queries. users per second: 418773</pre>"
      ],
      "text/plain": [
       "recommendations finished on 110000/311741 queries. users per second: 418773"
      ]
     },
     "metadata": {},
     "output_type": "display_data"
    },
    {
     "data": {
      "text/html": [
       "<pre>recommendations finished on 111000/311741 queries. users per second: 416790</pre>"
      ],
      "text/plain": [
       "recommendations finished on 111000/311741 queries. users per second: 416790"
      ]
     },
     "metadata": {},
     "output_type": "display_data"
    },
    {
     "data": {
      "text/html": [
       "<pre>recommendations finished on 112000/311741 queries. users per second: 416963</pre>"
      ],
      "text/plain": [
       "recommendations finished on 112000/311741 queries. users per second: 416963"
      ]
     },
     "metadata": {},
     "output_type": "display_data"
    },
    {
     "data": {
      "text/html": [
       "<pre>recommendations finished on 113000/311741 queries. users per second: 417524</pre>"
      ],
      "text/plain": [
       "recommendations finished on 113000/311741 queries. users per second: 417524"
      ]
     },
     "metadata": {},
     "output_type": "display_data"
    },
    {
     "data": {
      "text/html": [
       "<pre>recommendations finished on 114000/311741 queries. users per second: 418235</pre>"
      ],
      "text/plain": [
       "recommendations finished on 114000/311741 queries. users per second: 418235"
      ]
     },
     "metadata": {},
     "output_type": "display_data"
    },
    {
     "data": {
      "text/html": [
       "<pre>recommendations finished on 115000/311741 queries. users per second: 418837</pre>"
      ],
      "text/plain": [
       "recommendations finished on 115000/311741 queries. users per second: 418837"
      ]
     },
     "metadata": {},
     "output_type": "display_data"
    },
    {
     "data": {
      "text/html": [
       "<pre>recommendations finished on 116000/311741 queries. users per second: 419703</pre>"
      ],
      "text/plain": [
       "recommendations finished on 116000/311741 queries. users per second: 419703"
      ]
     },
     "metadata": {},
     "output_type": "display_data"
    },
    {
     "data": {
      "text/html": [
       "<pre>recommendations finished on 117000/311741 queries. users per second: 420552</pre>"
      ],
      "text/plain": [
       "recommendations finished on 117000/311741 queries. users per second: 420552"
      ]
     },
     "metadata": {},
     "output_type": "display_data"
    },
    {
     "data": {
      "text/html": [
       "<pre>recommendations finished on 118000/311741 queries. users per second: 420938</pre>"
      ],
      "text/plain": [
       "recommendations finished on 118000/311741 queries. users per second: 420938"
      ]
     },
     "metadata": {},
     "output_type": "display_data"
    },
    {
     "data": {
      "text/html": [
       "<pre>recommendations finished on 119000/311741 queries. users per second: 421149</pre>"
      ],
      "text/plain": [
       "recommendations finished on 119000/311741 queries. users per second: 421149"
      ]
     },
     "metadata": {},
     "output_type": "display_data"
    },
    {
     "data": {
      "text/html": [
       "<pre>recommendations finished on 120000/311741 queries. users per second: 421507</pre>"
      ],
      "text/plain": [
       "recommendations finished on 120000/311741 queries. users per second: 421507"
      ]
     },
     "metadata": {},
     "output_type": "display_data"
    },
    {
     "data": {
      "text/html": [
       "<pre>recommendations finished on 121000/311741 queries. users per second: 422207</pre>"
      ],
      "text/plain": [
       "recommendations finished on 121000/311741 queries. users per second: 422207"
      ]
     },
     "metadata": {},
     "output_type": "display_data"
    },
    {
     "data": {
      "text/html": [
       "<pre>recommendations finished on 122000/311741 queries. users per second: 422795</pre>"
      ],
      "text/plain": [
       "recommendations finished on 122000/311741 queries. users per second: 422795"
      ]
     },
     "metadata": {},
     "output_type": "display_data"
    },
    {
     "data": {
      "text/html": [
       "<pre>recommendations finished on 123000/311741 queries. users per second: 423450</pre>"
      ],
      "text/plain": [
       "recommendations finished on 123000/311741 queries. users per second: 423450"
      ]
     },
     "metadata": {},
     "output_type": "display_data"
    },
    {
     "data": {
      "text/html": [
       "<pre>recommendations finished on 124000/311741 queries. users per second: 423484</pre>"
      ],
      "text/plain": [
       "recommendations finished on 124000/311741 queries. users per second: 423484"
      ]
     },
     "metadata": {},
     "output_type": "display_data"
    },
    {
     "data": {
      "text/html": [
       "<pre>recommendations finished on 125000/311741 queries. users per second: 423095</pre>"
      ],
      "text/plain": [
       "recommendations finished on 125000/311741 queries. users per second: 423095"
      ]
     },
     "metadata": {},
     "output_type": "display_data"
    },
    {
     "data": {
      "text/html": [
       "<pre>recommendations finished on 126000/311741 queries. users per second: 422762</pre>"
      ],
      "text/plain": [
       "recommendations finished on 126000/311741 queries. users per second: 422762"
      ]
     },
     "metadata": {},
     "output_type": "display_data"
    },
    {
     "data": {
      "text/html": [
       "<pre>recommendations finished on 127000/311741 queries. users per second: 422297</pre>"
      ],
      "text/plain": [
       "recommendations finished on 127000/311741 queries. users per second: 422297"
      ]
     },
     "metadata": {},
     "output_type": "display_data"
    },
    {
     "data": {
      "text/html": [
       "<pre>recommendations finished on 128000/311741 queries. users per second: 423071</pre>"
      ],
      "text/plain": [
       "recommendations finished on 128000/311741 queries. users per second: 423071"
      ]
     },
     "metadata": {},
     "output_type": "display_data"
    },
    {
     "data": {
      "text/html": [
       "<pre>recommendations finished on 129000/311741 queries. users per second: 423487</pre>"
      ],
      "text/plain": [
       "recommendations finished on 129000/311741 queries. users per second: 423487"
      ]
     },
     "metadata": {},
     "output_type": "display_data"
    },
    {
     "data": {
      "text/html": [
       "<pre>recommendations finished on 130000/311741 queries. users per second: 424173</pre>"
      ],
      "text/plain": [
       "recommendations finished on 130000/311741 queries. users per second: 424173"
      ]
     },
     "metadata": {},
     "output_type": "display_data"
    },
    {
     "data": {
      "text/html": [
       "<pre>recommendations finished on 131000/311741 queries. users per second: 424852</pre>"
      ],
      "text/plain": [
       "recommendations finished on 131000/311741 queries. users per second: 424852"
      ]
     },
     "metadata": {},
     "output_type": "display_data"
    },
    {
     "data": {
      "text/html": [
       "<pre>recommendations finished on 132000/311741 queries. users per second: 424969</pre>"
      ],
      "text/plain": [
       "recommendations finished on 132000/311741 queries. users per second: 424969"
      ]
     },
     "metadata": {},
     "output_type": "display_data"
    },
    {
     "data": {
      "text/html": [
       "<pre>recommendations finished on 133000/311741 queries. users per second: 425516</pre>"
      ],
      "text/plain": [
       "recommendations finished on 133000/311741 queries. users per second: 425516"
      ]
     },
     "metadata": {},
     "output_type": "display_data"
    },
    {
     "data": {
      "text/html": [
       "<pre>recommendations finished on 134000/311741 queries. users per second: 424713</pre>"
      ],
      "text/plain": [
       "recommendations finished on 134000/311741 queries. users per second: 424713"
      ]
     },
     "metadata": {},
     "output_type": "display_data"
    },
    {
     "data": {
      "text/html": [
       "<pre>recommendations finished on 135000/311741 queries. users per second: 425285</pre>"
      ],
      "text/plain": [
       "recommendations finished on 135000/311741 queries. users per second: 425285"
      ]
     },
     "metadata": {},
     "output_type": "display_data"
    },
    {
     "data": {
      "text/html": [
       "<pre>recommendations finished on 136000/311741 queries. users per second: 426012</pre>"
      ],
      "text/plain": [
       "recommendations finished on 136000/311741 queries. users per second: 426012"
      ]
     },
     "metadata": {},
     "output_type": "display_data"
    },
    {
     "data": {
      "text/html": [
       "<pre>recommendations finished on 137000/311741 queries. users per second: 426743</pre>"
      ],
      "text/plain": [
       "recommendations finished on 137000/311741 queries. users per second: 426743"
      ]
     },
     "metadata": {},
     "output_type": "display_data"
    },
    {
     "data": {
      "text/html": [
       "<pre>recommendations finished on 138000/311741 queries. users per second: 427332</pre>"
      ],
      "text/plain": [
       "recommendations finished on 138000/311741 queries. users per second: 427332"
      ]
     },
     "metadata": {},
     "output_type": "display_data"
    },
    {
     "data": {
      "text/html": [
       "<pre>recommendations finished on 139000/311741 queries. users per second: 426357</pre>"
      ],
      "text/plain": [
       "recommendations finished on 139000/311741 queries. users per second: 426357"
      ]
     },
     "metadata": {},
     "output_type": "display_data"
    },
    {
     "data": {
      "text/html": [
       "<pre>recommendations finished on 140000/311741 queries. users per second: 426612</pre>"
      ],
      "text/plain": [
       "recommendations finished on 140000/311741 queries. users per second: 426612"
      ]
     },
     "metadata": {},
     "output_type": "display_data"
    },
    {
     "data": {
      "text/html": [
       "<pre>recommendations finished on 141000/311741 queries. users per second: 426683</pre>"
      ],
      "text/plain": [
       "recommendations finished on 141000/311741 queries. users per second: 426683"
      ]
     },
     "metadata": {},
     "output_type": "display_data"
    },
    {
     "data": {
      "text/html": [
       "<pre>recommendations finished on 142000/311741 queries. users per second: 425263</pre>"
      ],
      "text/plain": [
       "recommendations finished on 142000/311741 queries. users per second: 425263"
      ]
     },
     "metadata": {},
     "output_type": "display_data"
    },
    {
     "data": {
      "text/html": [
       "<pre>recommendations finished on 143000/311741 queries. users per second: 425340</pre>"
      ],
      "text/plain": [
       "recommendations finished on 143000/311741 queries. users per second: 425340"
      ]
     },
     "metadata": {},
     "output_type": "display_data"
    },
    {
     "data": {
      "text/html": [
       "<pre>recommendations finished on 144000/311741 queries. users per second: 424950</pre>"
      ],
      "text/plain": [
       "recommendations finished on 144000/311741 queries. users per second: 424950"
      ]
     },
     "metadata": {},
     "output_type": "display_data"
    },
    {
     "data": {
      "text/html": [
       "<pre>recommendations finished on 145000/311741 queries. users per second: 424072</pre>"
      ],
      "text/plain": [
       "recommendations finished on 145000/311741 queries. users per second: 424072"
      ]
     },
     "metadata": {},
     "output_type": "display_data"
    },
    {
     "data": {
      "text/html": [
       "<pre>recommendations finished on 146000/311741 queries. users per second: 423748</pre>"
      ],
      "text/plain": [
       "recommendations finished on 146000/311741 queries. users per second: 423748"
      ]
     },
     "metadata": {},
     "output_type": "display_data"
    },
    {
     "data": {
      "text/html": [
       "<pre>recommendations finished on 147000/311741 queries. users per second: 423976</pre>"
      ],
      "text/plain": [
       "recommendations finished on 147000/311741 queries. users per second: 423976"
      ]
     },
     "metadata": {},
     "output_type": "display_data"
    },
    {
     "data": {
      "text/html": [
       "<pre>recommendations finished on 148000/311741 queries. users per second: 422186</pre>"
      ],
      "text/plain": [
       "recommendations finished on 148000/311741 queries. users per second: 422186"
      ]
     },
     "metadata": {},
     "output_type": "display_data"
    },
    {
     "data": {
      "text/html": [
       "<pre>recommendations finished on 149000/311741 queries. users per second: 420723</pre>"
      ],
      "text/plain": [
       "recommendations finished on 149000/311741 queries. users per second: 420723"
      ]
     },
     "metadata": {},
     "output_type": "display_data"
    },
    {
     "data": {
      "text/html": [
       "<pre>recommendations finished on 150000/311741 queries. users per second: 420708</pre>"
      ],
      "text/plain": [
       "recommendations finished on 150000/311741 queries. users per second: 420708"
      ]
     },
     "metadata": {},
     "output_type": "display_data"
    },
    {
     "data": {
      "text/html": [
       "<pre>recommendations finished on 151000/311741 queries. users per second: 420531</pre>"
      ],
      "text/plain": [
       "recommendations finished on 151000/311741 queries. users per second: 420531"
      ]
     },
     "metadata": {},
     "output_type": "display_data"
    },
    {
     "data": {
      "text/html": [
       "<pre>recommendations finished on 152000/311741 queries. users per second: 420945</pre>"
      ],
      "text/plain": [
       "recommendations finished on 152000/311741 queries. users per second: 420945"
      ]
     },
     "metadata": {},
     "output_type": "display_data"
    },
    {
     "data": {
      "text/html": [
       "<pre>recommendations finished on 153000/311741 queries. users per second: 420796</pre>"
      ],
      "text/plain": [
       "recommendations finished on 153000/311741 queries. users per second: 420796"
      ]
     },
     "metadata": {},
     "output_type": "display_data"
    },
    {
     "data": {
      "text/html": [
       "<pre>recommendations finished on 154000/311741 queries. users per second: 419918</pre>"
      ],
      "text/plain": [
       "recommendations finished on 154000/311741 queries. users per second: 419918"
      ]
     },
     "metadata": {},
     "output_type": "display_data"
    },
    {
     "data": {
      "text/html": [
       "<pre>recommendations finished on 155000/311741 queries. users per second: 420089</pre>"
      ],
      "text/plain": [
       "recommendations finished on 155000/311741 queries. users per second: 420089"
      ]
     },
     "metadata": {},
     "output_type": "display_data"
    },
    {
     "data": {
      "text/html": [
       "<pre>recommendations finished on 156000/311741 queries. users per second: 420475</pre>"
      ],
      "text/plain": [
       "recommendations finished on 156000/311741 queries. users per second: 420475"
      ]
     },
     "metadata": {},
     "output_type": "display_data"
    },
    {
     "data": {
      "text/html": [
       "<pre>recommendations finished on 157000/311741 queries. users per second: 421109</pre>"
      ],
      "text/plain": [
       "recommendations finished on 157000/311741 queries. users per second: 421109"
      ]
     },
     "metadata": {},
     "output_type": "display_data"
    },
    {
     "data": {
      "text/html": [
       "<pre>recommendations finished on 158000/311741 queries. users per second: 421493</pre>"
      ],
      "text/plain": [
       "recommendations finished on 158000/311741 queries. users per second: 421493"
      ]
     },
     "metadata": {},
     "output_type": "display_data"
    },
    {
     "data": {
      "text/html": [
       "<pre>recommendations finished on 159000/311741 queries. users per second: 422016</pre>"
      ],
      "text/plain": [
       "recommendations finished on 159000/311741 queries. users per second: 422016"
      ]
     },
     "metadata": {},
     "output_type": "display_data"
    },
    {
     "data": {
      "text/html": [
       "<pre>recommendations finished on 160000/311741 queries. users per second: 422507</pre>"
      ],
      "text/plain": [
       "recommendations finished on 160000/311741 queries. users per second: 422507"
      ]
     },
     "metadata": {},
     "output_type": "display_data"
    },
    {
     "data": {
      "text/html": [
       "<pre>recommendations finished on 161000/311741 queries. users per second: 420820</pre>"
      ],
      "text/plain": [
       "recommendations finished on 161000/311741 queries. users per second: 420820"
      ]
     },
     "metadata": {},
     "output_type": "display_data"
    },
    {
     "data": {
      "text/html": [
       "<pre>recommendations finished on 162000/311741 queries. users per second: 418830</pre>"
      ],
      "text/plain": [
       "recommendations finished on 162000/311741 queries. users per second: 418830"
      ]
     },
     "metadata": {},
     "output_type": "display_data"
    },
    {
     "data": {
      "text/html": [
       "<pre>recommendations finished on 163000/311741 queries. users per second: 419214</pre>"
      ],
      "text/plain": [
       "recommendations finished on 163000/311741 queries. users per second: 419214"
      ]
     },
     "metadata": {},
     "output_type": "display_data"
    },
    {
     "data": {
      "text/html": [
       "<pre>recommendations finished on 164000/311741 queries. users per second: 419769</pre>"
      ],
      "text/plain": [
       "recommendations finished on 164000/311741 queries. users per second: 419769"
      ]
     },
     "metadata": {},
     "output_type": "display_data"
    },
    {
     "data": {
      "text/html": [
       "<pre>recommendations finished on 165000/311741 queries. users per second: 420406</pre>"
      ],
      "text/plain": [
       "recommendations finished on 165000/311741 queries. users per second: 420406"
      ]
     },
     "metadata": {},
     "output_type": "display_data"
    },
    {
     "data": {
      "text/html": [
       "<pre>recommendations finished on 166000/311741 queries. users per second: 420712</pre>"
      ],
      "text/plain": [
       "recommendations finished on 166000/311741 queries. users per second: 420712"
      ]
     },
     "metadata": {},
     "output_type": "display_data"
    },
    {
     "data": {
      "text/html": [
       "<pre>recommendations finished on 167000/311741 queries. users per second: 420876</pre>"
      ],
      "text/plain": [
       "recommendations finished on 167000/311741 queries. users per second: 420876"
      ]
     },
     "metadata": {},
     "output_type": "display_data"
    },
    {
     "data": {
      "text/html": [
       "<pre>recommendations finished on 168000/311741 queries. users per second: 420494</pre>"
      ],
      "text/plain": [
       "recommendations finished on 168000/311741 queries. users per second: 420494"
      ]
     },
     "metadata": {},
     "output_type": "display_data"
    },
    {
     "data": {
      "text/html": [
       "<pre>recommendations finished on 169000/311741 queries. users per second: 420280</pre>"
      ],
      "text/plain": [
       "recommendations finished on 169000/311741 queries. users per second: 420280"
      ]
     },
     "metadata": {},
     "output_type": "display_data"
    },
    {
     "data": {
      "text/html": [
       "<pre>recommendations finished on 170000/311741 queries. users per second: 419979</pre>"
      ],
      "text/plain": [
       "recommendations finished on 170000/311741 queries. users per second: 419979"
      ]
     },
     "metadata": {},
     "output_type": "display_data"
    },
    {
     "data": {
      "text/html": [
       "<pre>recommendations finished on 171000/311741 queries. users per second: 419977</pre>"
      ],
      "text/plain": [
       "recommendations finished on 171000/311741 queries. users per second: 419977"
      ]
     },
     "metadata": {},
     "output_type": "display_data"
    },
    {
     "data": {
      "text/html": [
       "<pre>recommendations finished on 172000/311741 queries. users per second: 420628</pre>"
      ],
      "text/plain": [
       "recommendations finished on 172000/311741 queries. users per second: 420628"
      ]
     },
     "metadata": {},
     "output_type": "display_data"
    },
    {
     "data": {
      "text/html": [
       "<pre>recommendations finished on 173000/311741 queries. users per second: 421114</pre>"
      ],
      "text/plain": [
       "recommendations finished on 173000/311741 queries. users per second: 421114"
      ]
     },
     "metadata": {},
     "output_type": "display_data"
    },
    {
     "data": {
      "text/html": [
       "<pre>recommendations finished on 174000/311741 queries. users per second: 419855</pre>"
      ],
      "text/plain": [
       "recommendations finished on 174000/311741 queries. users per second: 419855"
      ]
     },
     "metadata": {},
     "output_type": "display_data"
    },
    {
     "data": {
      "text/html": [
       "<pre>recommendations finished on 175000/311741 queries. users per second: 419332</pre>"
      ],
      "text/plain": [
       "recommendations finished on 175000/311741 queries. users per second: 419332"
      ]
     },
     "metadata": {},
     "output_type": "display_data"
    },
    {
     "data": {
      "text/html": [
       "<pre>recommendations finished on 176000/311741 queries. users per second: 418612</pre>"
      ],
      "text/plain": [
       "recommendations finished on 176000/311741 queries. users per second: 418612"
      ]
     },
     "metadata": {},
     "output_type": "display_data"
    },
    {
     "data": {
      "text/html": [
       "<pre>recommendations finished on 177000/311741 queries. users per second: 419146</pre>"
      ],
      "text/plain": [
       "recommendations finished on 177000/311741 queries. users per second: 419146"
      ]
     },
     "metadata": {},
     "output_type": "display_data"
    },
    {
     "data": {
      "text/html": [
       "<pre>recommendations finished on 178000/311741 queries. users per second: 419490</pre>"
      ],
      "text/plain": [
       "recommendations finished on 178000/311741 queries. users per second: 419490"
      ]
     },
     "metadata": {},
     "output_type": "display_data"
    },
    {
     "data": {
      "text/html": [
       "<pre>recommendations finished on 179000/311741 queries. users per second: 419816</pre>"
      ],
      "text/plain": [
       "recommendations finished on 179000/311741 queries. users per second: 419816"
      ]
     },
     "metadata": {},
     "output_type": "display_data"
    },
    {
     "data": {
      "text/html": [
       "<pre>recommendations finished on 180000/311741 queries. users per second: 420411</pre>"
      ],
      "text/plain": [
       "recommendations finished on 180000/311741 queries. users per second: 420411"
      ]
     },
     "metadata": {},
     "output_type": "display_data"
    },
    {
     "data": {
      "text/html": [
       "<pre>recommendations finished on 181000/311741 queries. users per second: 420935</pre>"
      ],
      "text/plain": [
       "recommendations finished on 181000/311741 queries. users per second: 420935"
      ]
     },
     "metadata": {},
     "output_type": "display_data"
    },
    {
     "data": {
      "text/html": [
       "<pre>recommendations finished on 182000/311741 queries. users per second: 420715</pre>"
      ],
      "text/plain": [
       "recommendations finished on 182000/311741 queries. users per second: 420715"
      ]
     },
     "metadata": {},
     "output_type": "display_data"
    },
    {
     "data": {
      "text/html": [
       "<pre>recommendations finished on 183000/311741 queries. users per second: 419666</pre>"
      ],
      "text/plain": [
       "recommendations finished on 183000/311741 queries. users per second: 419666"
      ]
     },
     "metadata": {},
     "output_type": "display_data"
    },
    {
     "data": {
      "text/html": [
       "<pre>recommendations finished on 184000/311741 queries. users per second: 419906</pre>"
      ],
      "text/plain": [
       "recommendations finished on 184000/311741 queries. users per second: 419906"
      ]
     },
     "metadata": {},
     "output_type": "display_data"
    },
    {
     "data": {
      "text/html": [
       "<pre>recommendations finished on 185000/311741 queries. users per second: 419746</pre>"
      ],
      "text/plain": [
       "recommendations finished on 185000/311741 queries. users per second: 419746"
      ]
     },
     "metadata": {},
     "output_type": "display_data"
    },
    {
     "data": {
      "text/html": [
       "<pre>recommendations finished on 186000/311741 queries. users per second: 419935</pre>"
      ],
      "text/plain": [
       "recommendations finished on 186000/311741 queries. users per second: 419935"
      ]
     },
     "metadata": {},
     "output_type": "display_data"
    },
    {
     "data": {
      "text/html": [
       "<pre>recommendations finished on 187000/311741 queries. users per second: 420206</pre>"
      ],
      "text/plain": [
       "recommendations finished on 187000/311741 queries. users per second: 420206"
      ]
     },
     "metadata": {},
     "output_type": "display_data"
    },
    {
     "data": {
      "text/html": [
       "<pre>recommendations finished on 188000/311741 queries. users per second: 420373</pre>"
      ],
      "text/plain": [
       "recommendations finished on 188000/311741 queries. users per second: 420373"
      ]
     },
     "metadata": {},
     "output_type": "display_data"
    },
    {
     "data": {
      "text/html": [
       "<pre>recommendations finished on 189000/311741 queries. users per second: 420180</pre>"
      ],
      "text/plain": [
       "recommendations finished on 189000/311741 queries. users per second: 420180"
      ]
     },
     "metadata": {},
     "output_type": "display_data"
    },
    {
     "data": {
      "text/html": [
       "<pre>recommendations finished on 190000/311741 queries. users per second: 420462</pre>"
      ],
      "text/plain": [
       "recommendations finished on 190000/311741 queries. users per second: 420462"
      ]
     },
     "metadata": {},
     "output_type": "display_data"
    },
    {
     "data": {
      "text/html": [
       "<pre>recommendations finished on 191000/311741 queries. users per second: 420811</pre>"
      ],
      "text/plain": [
       "recommendations finished on 191000/311741 queries. users per second: 420811"
      ]
     },
     "metadata": {},
     "output_type": "display_data"
    },
    {
     "data": {
      "text/html": [
       "<pre>recommendations finished on 192000/311741 queries. users per second: 420498</pre>"
      ],
      "text/plain": [
       "recommendations finished on 192000/311741 queries. users per second: 420498"
      ]
     },
     "metadata": {},
     "output_type": "display_data"
    },
    {
     "data": {
      "text/html": [
       "<pre>recommendations finished on 193000/311741 queries. users per second: 420235</pre>"
      ],
      "text/plain": [
       "recommendations finished on 193000/311741 queries. users per second: 420235"
      ]
     },
     "metadata": {},
     "output_type": "display_data"
    },
    {
     "data": {
      "text/html": [
       "<pre>recommendations finished on 194000/311741 queries. users per second: 420610</pre>"
      ],
      "text/plain": [
       "recommendations finished on 194000/311741 queries. users per second: 420610"
      ]
     },
     "metadata": {},
     "output_type": "display_data"
    },
    {
     "data": {
      "text/html": [
       "<pre>recommendations finished on 195000/311741 queries. users per second: 421043</pre>"
      ],
      "text/plain": [
       "recommendations finished on 195000/311741 queries. users per second: 421043"
      ]
     },
     "metadata": {},
     "output_type": "display_data"
    },
    {
     "data": {
      "text/html": [
       "<pre>recommendations finished on 196000/311741 queries. users per second: 420045</pre>"
      ],
      "text/plain": [
       "recommendations finished on 196000/311741 queries. users per second: 420045"
      ]
     },
     "metadata": {},
     "output_type": "display_data"
    },
    {
     "data": {
      "text/html": [
       "<pre>recommendations finished on 197000/311741 queries. users per second: 420071</pre>"
      ],
      "text/plain": [
       "recommendations finished on 197000/311741 queries. users per second: 420071"
      ]
     },
     "metadata": {},
     "output_type": "display_data"
    },
    {
     "data": {
      "text/html": [
       "<pre>recommendations finished on 198000/311741 queries. users per second: 420454</pre>"
      ],
      "text/plain": [
       "recommendations finished on 198000/311741 queries. users per second: 420454"
      ]
     },
     "metadata": {},
     "output_type": "display_data"
    },
    {
     "data": {
      "text/html": [
       "<pre>recommendations finished on 199000/311741 queries. users per second: 420970</pre>"
      ],
      "text/plain": [
       "recommendations finished on 199000/311741 queries. users per second: 420970"
      ]
     },
     "metadata": {},
     "output_type": "display_data"
    },
    {
     "data": {
      "text/html": [
       "<pre>recommendations finished on 200000/311741 queries. users per second: 421187</pre>"
      ],
      "text/plain": [
       "recommendations finished on 200000/311741 queries. users per second: 421187"
      ]
     },
     "metadata": {},
     "output_type": "display_data"
    },
    {
     "data": {
      "text/html": [
       "<pre>recommendations finished on 201000/311741 queries. users per second: 421700</pre>"
      ],
      "text/plain": [
       "recommendations finished on 201000/311741 queries. users per second: 421700"
      ]
     },
     "metadata": {},
     "output_type": "display_data"
    },
    {
     "data": {
      "text/html": [
       "<pre>recommendations finished on 202000/311741 queries. users per second: 422175</pre>"
      ],
      "text/plain": [
       "recommendations finished on 202000/311741 queries. users per second: 422175"
      ]
     },
     "metadata": {},
     "output_type": "display_data"
    },
    {
     "data": {
      "text/html": [
       "<pre>recommendations finished on 203000/311741 queries. users per second: 422339</pre>"
      ],
      "text/plain": [
       "recommendations finished on 203000/311741 queries. users per second: 422339"
      ]
     },
     "metadata": {},
     "output_type": "display_data"
    },
    {
     "data": {
      "text/html": [
       "<pre>recommendations finished on 204000/311741 queries. users per second: 422723</pre>"
      ],
      "text/plain": [
       "recommendations finished on 204000/311741 queries. users per second: 422723"
      ]
     },
     "metadata": {},
     "output_type": "display_data"
    },
    {
     "data": {
      "text/html": [
       "<pre>recommendations finished on 205000/311741 queries. users per second: 422971</pre>"
      ],
      "text/plain": [
       "recommendations finished on 205000/311741 queries. users per second: 422971"
      ]
     },
     "metadata": {},
     "output_type": "display_data"
    },
    {
     "data": {
      "text/html": [
       "<pre>recommendations finished on 206000/311741 queries. users per second: 423328</pre>"
      ],
      "text/plain": [
       "recommendations finished on 206000/311741 queries. users per second: 423328"
      ]
     },
     "metadata": {},
     "output_type": "display_data"
    },
    {
     "data": {
      "text/html": [
       "<pre>recommendations finished on 207000/311741 queries. users per second: 423847</pre>"
      ],
      "text/plain": [
       "recommendations finished on 207000/311741 queries. users per second: 423847"
      ]
     },
     "metadata": {},
     "output_type": "display_data"
    },
    {
     "data": {
      "text/html": [
       "<pre>recommendations finished on 208000/311741 queries. users per second: 424312</pre>"
      ],
      "text/plain": [
       "recommendations finished on 208000/311741 queries. users per second: 424312"
      ]
     },
     "metadata": {},
     "output_type": "display_data"
    },
    {
     "data": {
      "text/html": [
       "<pre>recommendations finished on 209000/311741 queries. users per second: 424830</pre>"
      ],
      "text/plain": [
       "recommendations finished on 209000/311741 queries. users per second: 424830"
      ]
     },
     "metadata": {},
     "output_type": "display_data"
    },
    {
     "data": {
      "text/html": [
       "<pre>recommendations finished on 210000/311741 queries. users per second: 425212</pre>"
      ],
      "text/plain": [
       "recommendations finished on 210000/311741 queries. users per second: 425212"
      ]
     },
     "metadata": {},
     "output_type": "display_data"
    },
    {
     "data": {
      "text/html": [
       "<pre>recommendations finished on 211000/311741 queries. users per second: 425613</pre>"
      ],
      "text/plain": [
       "recommendations finished on 211000/311741 queries. users per second: 425613"
      ]
     },
     "metadata": {},
     "output_type": "display_data"
    },
    {
     "data": {
      "text/html": [
       "<pre>recommendations finished on 212000/311741 queries. users per second: 425623</pre>"
      ],
      "text/plain": [
       "recommendations finished on 212000/311741 queries. users per second: 425623"
      ]
     },
     "metadata": {},
     "output_type": "display_data"
    },
    {
     "data": {
      "text/html": [
       "<pre>recommendations finished on 213000/311741 queries. users per second: 425942</pre>"
      ],
      "text/plain": [
       "recommendations finished on 213000/311741 queries. users per second: 425942"
      ]
     },
     "metadata": {},
     "output_type": "display_data"
    },
    {
     "data": {
      "text/html": [
       "<pre>recommendations finished on 214000/311741 queries. users per second: 426381</pre>"
      ],
      "text/plain": [
       "recommendations finished on 214000/311741 queries. users per second: 426381"
      ]
     },
     "metadata": {},
     "output_type": "display_data"
    },
    {
     "data": {
      "text/html": [
       "<pre>recommendations finished on 215000/311741 queries. users per second: 426571</pre>"
      ],
      "text/plain": [
       "recommendations finished on 215000/311741 queries. users per second: 426571"
      ]
     },
     "metadata": {},
     "output_type": "display_data"
    },
    {
     "data": {
      "text/html": [
       "<pre>recommendations finished on 216000/311741 queries. users per second: 426492</pre>"
      ],
      "text/plain": [
       "recommendations finished on 216000/311741 queries. users per second: 426492"
      ]
     },
     "metadata": {},
     "output_type": "display_data"
    },
    {
     "data": {
      "text/html": [
       "<pre>recommendations finished on 217000/311741 queries. users per second: 426231</pre>"
      ],
      "text/plain": [
       "recommendations finished on 217000/311741 queries. users per second: 426231"
      ]
     },
     "metadata": {},
     "output_type": "display_data"
    },
    {
     "data": {
      "text/html": [
       "<pre>recommendations finished on 218000/311741 queries. users per second: 426266</pre>"
      ],
      "text/plain": [
       "recommendations finished on 218000/311741 queries. users per second: 426266"
      ]
     },
     "metadata": {},
     "output_type": "display_data"
    },
    {
     "data": {
      "text/html": [
       "<pre>recommendations finished on 219000/311741 queries. users per second: 426384</pre>"
      ],
      "text/plain": [
       "recommendations finished on 219000/311741 queries. users per second: 426384"
      ]
     },
     "metadata": {},
     "output_type": "display_data"
    },
    {
     "data": {
      "text/html": [
       "<pre>recommendations finished on 220000/311741 queries. users per second: 425345</pre>"
      ],
      "text/plain": [
       "recommendations finished on 220000/311741 queries. users per second: 425345"
      ]
     },
     "metadata": {},
     "output_type": "display_data"
    },
    {
     "data": {
      "text/html": [
       "<pre>recommendations finished on 221000/311741 queries. users per second: 425647</pre>"
      ],
      "text/plain": [
       "recommendations finished on 221000/311741 queries. users per second: 425647"
      ]
     },
     "metadata": {},
     "output_type": "display_data"
    },
    {
     "name": "stdout",
     "output_type": "stream",
     "text": [
      "+-------------+-------------+----------------------+------+\n",
      "| COD_CLIENTE | COD_PRODUTO |        score         | rank |\n",
      "+-------------+-------------+----------------------+------+\n",
      "|   00000301  |    19729    | 0.10099858045578003  |  1   |\n",
      "|   00000301  |    15558    | 0.07256853580474854  |  2   |\n",
      "|   00000301  |    14537    | 0.053633272647857666 |  3   |\n",
      "|   00000301  |    20966    | 0.023092269897460938 |  4   |\n",
      "|   00000301  |    21821    | 0.021824538707733154 |  5   |\n",
      "|   00000301  |    21823    | 0.018758118152618408 |  6   |\n",
      "|   00000301  |    25240    | 0.01746886968612671  |  7   |\n",
      "|   00000301  |    21515    | 0.013010084629058838 |  8   |\n",
      "|   00000301  |    21653    |  0.0129014253616333  |  9   |\n",
      "|   00000301  |    25241    | 0.009778738021850586 |  10  |\n",
      "|   00001501  |    25727    | 0.07368814945220947  |  1   |\n",
      "|   00001501  |    25729    | 0.022751033306121826 |  2   |\n",
      "|   00001501  |    25728    | 0.021451711654663086 |  3   |\n",
      "|   00001501  |    25996    | 0.02052903175354004  |  4   |\n",
      "|   00001501  |    25172    | 0.01868230104446411  |  5   |\n",
      "|   00001501  |    21653    | 0.017117559909820557 |  6   |\n",
      "|   00001501  |    22617    | 0.016217470169067383 |  7   |\n",
      "|   00001501  |    26247    | 0.01596546173095703  |  8   |\n",
      "|   00001501  |    25981    | 0.01462101936340332  |  9   |\n",
      "|   00001501  |    25354    | 0.014607250690460205 |  10  |\n",
      "|   00002001  |    26243    | 0.06569772958755493  |  1   |\n",
      "|   00002001  |    25996    |  0.0511702299118042  |  2   |\n",
      "|   00002001  |    25545    |  0.0458107590675354  |  3   |\n",
      "|   00002001  |    25998    | 0.04444628953933716  |  4   |\n",
      "|   00002001  |    25355    | 0.04387301206588745  |  5   |\n",
      "|   00002001  |    24716    | 0.03834348917007446  |  6   |\n",
      "|   00002001  |    25997    | 0.03376209735870361  |  7   |\n",
      "|   00002001  |    25354    | 0.033115923404693604 |  8   |\n",
      "|   00002001  |    25546    | 0.03309786319732666  |  9   |\n",
      "|   00002001  |    26325    | 0.032543838024139404 |  10  |\n",
      "+-------------+-------------+----------------------+------+\n",
      "[3117410 rows x 4 columns]\n",
      "\n"
     ]
    },
    {
     "data": {
      "text/html": [
       "<pre>recommendations finished on 222000/311741 queries. users per second: 425950</pre>"
      ],
      "text/plain": [
       "recommendations finished on 222000/311741 queries. users per second: 425950"
      ]
     },
     "metadata": {},
     "output_type": "display_data"
    },
    {
     "data": {
      "text/html": [
       "<pre>recommendations finished on 223000/311741 queries. users per second: 424768</pre>"
      ],
      "text/plain": [
       "recommendations finished on 223000/311741 queries. users per second: 424768"
      ]
     },
     "metadata": {},
     "output_type": "display_data"
    },
    {
     "data": {
      "text/html": [
       "<pre>recommendations finished on 224000/311741 queries. users per second: 424222</pre>"
      ],
      "text/plain": [
       "recommendations finished on 224000/311741 queries. users per second: 424222"
      ]
     },
     "metadata": {},
     "output_type": "display_data"
    },
    {
     "data": {
      "text/html": [
       "<pre>recommendations finished on 225000/311741 queries. users per second: 424455</pre>"
      ],
      "text/plain": [
       "recommendations finished on 225000/311741 queries. users per second: 424455"
      ]
     },
     "metadata": {},
     "output_type": "display_data"
    },
    {
     "data": {
      "text/html": [
       "<pre>recommendations finished on 226000/311741 queries. users per second: 424149</pre>"
      ],
      "text/plain": [
       "recommendations finished on 226000/311741 queries. users per second: 424149"
      ]
     },
     "metadata": {},
     "output_type": "display_data"
    },
    {
     "data": {
      "text/html": [
       "<pre>recommendations finished on 227000/311741 queries. users per second: 423885</pre>"
      ],
      "text/plain": [
       "recommendations finished on 227000/311741 queries. users per second: 423885"
      ]
     },
     "metadata": {},
     "output_type": "display_data"
    },
    {
     "data": {
      "text/html": [
       "<pre>recommendations finished on 228000/311741 queries. users per second: 424177</pre>"
      ],
      "text/plain": [
       "recommendations finished on 228000/311741 queries. users per second: 424177"
      ]
     },
     "metadata": {},
     "output_type": "display_data"
    },
    {
     "data": {
      "text/html": [
       "<pre>recommendations finished on 229000/311741 queries. users per second: 424443</pre>"
      ],
      "text/plain": [
       "recommendations finished on 229000/311741 queries. users per second: 424443"
      ]
     },
     "metadata": {},
     "output_type": "display_data"
    },
    {
     "data": {
      "text/html": [
       "<pre>recommendations finished on 230000/311741 queries. users per second: 424758</pre>"
      ],
      "text/plain": [
       "recommendations finished on 230000/311741 queries. users per second: 424758"
      ]
     },
     "metadata": {},
     "output_type": "display_data"
    },
    {
     "data": {
      "text/html": [
       "<pre>recommendations finished on 231000/311741 queries. users per second: 424923</pre>"
      ],
      "text/plain": [
       "recommendations finished on 231000/311741 queries. users per second: 424923"
      ]
     },
     "metadata": {},
     "output_type": "display_data"
    },
    {
     "data": {
      "text/html": [
       "<pre>recommendations finished on 232000/311741 queries. users per second: 425153</pre>"
      ],
      "text/plain": [
       "recommendations finished on 232000/311741 queries. users per second: 425153"
      ]
     },
     "metadata": {},
     "output_type": "display_data"
    },
    {
     "data": {
      "text/html": [
       "<pre>recommendations finished on 233000/311741 queries. users per second: 424542</pre>"
      ],
      "text/plain": [
       "recommendations finished on 233000/311741 queries. users per second: 424542"
      ]
     },
     "metadata": {},
     "output_type": "display_data"
    },
    {
     "data": {
      "text/html": [
       "<pre>recommendations finished on 234000/311741 queries. users per second: 424084</pre>"
      ],
      "text/plain": [
       "recommendations finished on 234000/311741 queries. users per second: 424084"
      ]
     },
     "metadata": {},
     "output_type": "display_data"
    },
    {
     "data": {
      "text/html": [
       "<pre>recommendations finished on 235000/311741 queries. users per second: 424014</pre>"
      ],
      "text/plain": [
       "recommendations finished on 235000/311741 queries. users per second: 424014"
      ]
     },
     "metadata": {},
     "output_type": "display_data"
    },
    {
     "data": {
      "text/html": [
       "<pre>recommendations finished on 236000/311741 queries. users per second: 424428</pre>"
      ],
      "text/plain": [
       "recommendations finished on 236000/311741 queries. users per second: 424428"
      ]
     },
     "metadata": {},
     "output_type": "display_data"
    },
    {
     "data": {
      "text/html": [
       "<pre>recommendations finished on 237000/311741 queries. users per second: 424911</pre>"
      ],
      "text/plain": [
       "recommendations finished on 237000/311741 queries. users per second: 424911"
      ]
     },
     "metadata": {},
     "output_type": "display_data"
    },
    {
     "data": {
      "text/html": [
       "<pre>recommendations finished on 238000/311741 queries. users per second: 425382</pre>"
      ],
      "text/plain": [
       "recommendations finished on 238000/311741 queries. users per second: 425382"
      ]
     },
     "metadata": {},
     "output_type": "display_data"
    },
    {
     "data": {
      "text/html": [
       "<pre>recommendations finished on 239000/311741 queries. users per second: 425746</pre>"
      ],
      "text/plain": [
       "recommendations finished on 239000/311741 queries. users per second: 425746"
      ]
     },
     "metadata": {},
     "output_type": "display_data"
    },
    {
     "data": {
      "text/html": [
       "<pre>recommendations finished on 240000/311741 queries. users per second: 425978</pre>"
      ],
      "text/plain": [
       "recommendations finished on 240000/311741 queries. users per second: 425978"
      ]
     },
     "metadata": {},
     "output_type": "display_data"
    },
    {
     "data": {
      "text/html": [
       "<pre>recommendations finished on 241000/311741 queries. users per second: 424335</pre>"
      ],
      "text/plain": [
       "recommendations finished on 241000/311741 queries. users per second: 424335"
      ]
     },
     "metadata": {},
     "output_type": "display_data"
    },
    {
     "data": {
      "text/html": [
       "<pre>recommendations finished on 242000/311741 queries. users per second: 424738</pre>"
      ],
      "text/plain": [
       "recommendations finished on 242000/311741 queries. users per second: 424738"
      ]
     },
     "metadata": {},
     "output_type": "display_data"
    },
    {
     "data": {
      "text/html": [
       "<pre>recommendations finished on 243000/311741 queries. users per second: 425097</pre>"
      ],
      "text/plain": [
       "recommendations finished on 243000/311741 queries. users per second: 425097"
      ]
     },
     "metadata": {},
     "output_type": "display_data"
    },
    {
     "data": {
      "text/html": [
       "<pre>recommendations finished on 244000/311741 queries. users per second: 425423</pre>"
      ],
      "text/plain": [
       "recommendations finished on 244000/311741 queries. users per second: 425423"
      ]
     },
     "metadata": {},
     "output_type": "display_data"
    },
    {
     "data": {
      "text/html": [
       "<pre>recommendations finished on 245000/311741 queries. users per second: 425581</pre>"
      ],
      "text/plain": [
       "recommendations finished on 245000/311741 queries. users per second: 425581"
      ]
     },
     "metadata": {},
     "output_type": "display_data"
    },
    {
     "data": {
      "text/html": [
       "<pre>recommendations finished on 246000/311741 queries. users per second: 426057</pre>"
      ],
      "text/plain": [
       "recommendations finished on 246000/311741 queries. users per second: 426057"
      ]
     },
     "metadata": {},
     "output_type": "display_data"
    },
    {
     "data": {
      "text/html": [
       "<pre>recommendations finished on 247000/311741 queries. users per second: 426464</pre>"
      ],
      "text/plain": [
       "recommendations finished on 247000/311741 queries. users per second: 426464"
      ]
     },
     "metadata": {},
     "output_type": "display_data"
    },
    {
     "data": {
      "text/html": [
       "<pre>recommendations finished on 248000/311741 queries. users per second: 426342</pre>"
      ],
      "text/plain": [
       "recommendations finished on 248000/311741 queries. users per second: 426342"
      ]
     },
     "metadata": {},
     "output_type": "display_data"
    },
    {
     "data": {
      "text/html": [
       "<pre>recommendations finished on 249000/311741 queries. users per second: 426634</pre>"
      ],
      "text/plain": [
       "recommendations finished on 249000/311741 queries. users per second: 426634"
      ]
     },
     "metadata": {},
     "output_type": "display_data"
    },
    {
     "data": {
      "text/html": [
       "<pre>recommendations finished on 250000/311741 queries. users per second: 426840</pre>"
      ],
      "text/plain": [
       "recommendations finished on 250000/311741 queries. users per second: 426840"
      ]
     },
     "metadata": {},
     "output_type": "display_data"
    },
    {
     "data": {
      "text/html": [
       "<pre>recommendations finished on 251000/311741 queries. users per second: 427215</pre>"
      ],
      "text/plain": [
       "recommendations finished on 251000/311741 queries. users per second: 427215"
      ]
     },
     "metadata": {},
     "output_type": "display_data"
    },
    {
     "data": {
      "text/html": [
       "<pre>recommendations finished on 252000/311741 queries. users per second: 427601</pre>"
      ],
      "text/plain": [
       "recommendations finished on 252000/311741 queries. users per second: 427601"
      ]
     },
     "metadata": {},
     "output_type": "display_data"
    },
    {
     "data": {
      "text/html": [
       "<pre>recommendations finished on 253000/311741 queries. users per second: 427593</pre>"
      ],
      "text/plain": [
       "recommendations finished on 253000/311741 queries. users per second: 427593"
      ]
     },
     "metadata": {},
     "output_type": "display_data"
    },
    {
     "data": {
      "text/html": [
       "<pre>recommendations finished on 254000/311741 queries. users per second: 427476</pre>"
      ],
      "text/plain": [
       "recommendations finished on 254000/311741 queries. users per second: 427476"
      ]
     },
     "metadata": {},
     "output_type": "display_data"
    },
    {
     "data": {
      "text/html": [
       "<pre>recommendations finished on 255000/311741 queries. users per second: 427609</pre>"
      ],
      "text/plain": [
       "recommendations finished on 255000/311741 queries. users per second: 427609"
      ]
     },
     "metadata": {},
     "output_type": "display_data"
    },
    {
     "data": {
      "text/html": [
       "<pre>recommendations finished on 256000/311741 queries. users per second: 427534</pre>"
      ],
      "text/plain": [
       "recommendations finished on 256000/311741 queries. users per second: 427534"
      ]
     },
     "metadata": {},
     "output_type": "display_data"
    },
    {
     "data": {
      "text/html": [
       "<pre>recommendations finished on 257000/311741 queries. users per second: 427494</pre>"
      ],
      "text/plain": [
       "recommendations finished on 257000/311741 queries. users per second: 427494"
      ]
     },
     "metadata": {},
     "output_type": "display_data"
    },
    {
     "data": {
      "text/html": [
       "<pre>recommendations finished on 258000/311741 queries. users per second: 427122</pre>"
      ],
      "text/plain": [
       "recommendations finished on 258000/311741 queries. users per second: 427122"
      ]
     },
     "metadata": {},
     "output_type": "display_data"
    },
    {
     "data": {
      "text/html": [
       "<pre>recommendations finished on 259000/311741 queries. users per second: 427219</pre>"
      ],
      "text/plain": [
       "recommendations finished on 259000/311741 queries. users per second: 427219"
      ]
     },
     "metadata": {},
     "output_type": "display_data"
    },
    {
     "data": {
      "text/html": [
       "<pre>recommendations finished on 260000/311741 queries. users per second: 427483</pre>"
      ],
      "text/plain": [
       "recommendations finished on 260000/311741 queries. users per second: 427483"
      ]
     },
     "metadata": {},
     "output_type": "display_data"
    },
    {
     "data": {
      "text/html": [
       "<pre>recommendations finished on 261000/311741 queries. users per second: 427911</pre>"
      ],
      "text/plain": [
       "recommendations finished on 261000/311741 queries. users per second: 427911"
      ]
     },
     "metadata": {},
     "output_type": "display_data"
    },
    {
     "data": {
      "text/html": [
       "<pre>recommendations finished on 262000/311741 queries. users per second: 428272</pre>"
      ],
      "text/plain": [
       "recommendations finished on 262000/311741 queries. users per second: 428272"
      ]
     },
     "metadata": {},
     "output_type": "display_data"
    },
    {
     "data": {
      "text/html": [
       "<pre>recommendations finished on 263000/311741 queries. users per second: 428203</pre>"
      ],
      "text/plain": [
       "recommendations finished on 263000/311741 queries. users per second: 428203"
      ]
     },
     "metadata": {},
     "output_type": "display_data"
    },
    {
     "data": {
      "text/html": [
       "<pre>recommendations finished on 264000/311741 queries. users per second: 428273</pre>"
      ],
      "text/plain": [
       "recommendations finished on 264000/311741 queries. users per second: 428273"
      ]
     },
     "metadata": {},
     "output_type": "display_data"
    },
    {
     "data": {
      "text/html": [
       "<pre>recommendations finished on 265000/311741 queries. users per second: 428666</pre>"
      ],
      "text/plain": [
       "recommendations finished on 265000/311741 queries. users per second: 428666"
      ]
     },
     "metadata": {},
     "output_type": "display_data"
    },
    {
     "data": {
      "text/html": [
       "<pre>recommendations finished on 266000/311741 queries. users per second: 429080</pre>"
      ],
      "text/plain": [
       "recommendations finished on 266000/311741 queries. users per second: 429080"
      ]
     },
     "metadata": {},
     "output_type": "display_data"
    },
    {
     "data": {
      "text/html": [
       "<pre>recommendations finished on 267000/311741 queries. users per second: 429519</pre>"
      ],
      "text/plain": [
       "recommendations finished on 267000/311741 queries. users per second: 429519"
      ]
     },
     "metadata": {},
     "output_type": "display_data"
    },
    {
     "data": {
      "text/html": [
       "<pre>recommendations finished on 268000/311741 queries. users per second: 429708</pre>"
      ],
      "text/plain": [
       "recommendations finished on 268000/311741 queries. users per second: 429708"
      ]
     },
     "metadata": {},
     "output_type": "display_data"
    },
    {
     "data": {
      "text/html": [
       "<pre>recommendations finished on 269000/311741 queries. users per second: 429963</pre>"
      ],
      "text/plain": [
       "recommendations finished on 269000/311741 queries. users per second: 429963"
      ]
     },
     "metadata": {},
     "output_type": "display_data"
    },
    {
     "data": {
      "text/html": [
       "<pre>recommendations finished on 270000/311741 queries. users per second: 430368</pre>"
      ],
      "text/plain": [
       "recommendations finished on 270000/311741 queries. users per second: 430368"
      ]
     },
     "metadata": {},
     "output_type": "display_data"
    },
    {
     "data": {
      "text/html": [
       "<pre>recommendations finished on 271000/311741 queries. users per second: 430651</pre>"
      ],
      "text/plain": [
       "recommendations finished on 271000/311741 queries. users per second: 430651"
      ]
     },
     "metadata": {},
     "output_type": "display_data"
    },
    {
     "data": {
      "text/html": [
       "<pre>recommendations finished on 272000/311741 queries. users per second: 430686</pre>"
      ],
      "text/plain": [
       "recommendations finished on 272000/311741 queries. users per second: 430686"
      ]
     },
     "metadata": {},
     "output_type": "display_data"
    },
    {
     "data": {
      "text/html": [
       "<pre>recommendations finished on 273000/311741 queries. users per second: 430914</pre>"
      ],
      "text/plain": [
       "recommendations finished on 273000/311741 queries. users per second: 430914"
      ]
     },
     "metadata": {},
     "output_type": "display_data"
    },
    {
     "data": {
      "text/html": [
       "<pre>recommendations finished on 274000/311741 queries. users per second: 430916</pre>"
      ],
      "text/plain": [
       "recommendations finished on 274000/311741 queries. users per second: 430916"
      ]
     },
     "metadata": {},
     "output_type": "display_data"
    },
    {
     "data": {
      "text/html": [
       "<pre>recommendations finished on 275000/311741 queries. users per second: 431169</pre>"
      ],
      "text/plain": [
       "recommendations finished on 275000/311741 queries. users per second: 431169"
      ]
     },
     "metadata": {},
     "output_type": "display_data"
    },
    {
     "data": {
      "text/html": [
       "<pre>recommendations finished on 276000/311741 queries. users per second: 431499</pre>"
      ],
      "text/plain": [
       "recommendations finished on 276000/311741 queries. users per second: 431499"
      ]
     },
     "metadata": {},
     "output_type": "display_data"
    },
    {
     "data": {
      "text/html": [
       "<pre>recommendations finished on 277000/311741 queries. users per second: 431791</pre>"
      ],
      "text/plain": [
       "recommendations finished on 277000/311741 queries. users per second: 431791"
      ]
     },
     "metadata": {},
     "output_type": "display_data"
    },
    {
     "data": {
      "text/html": [
       "<pre>recommendations finished on 278000/311741 queries. users per second: 431595</pre>"
      ],
      "text/plain": [
       "recommendations finished on 278000/311741 queries. users per second: 431595"
      ]
     },
     "metadata": {},
     "output_type": "display_data"
    },
    {
     "data": {
      "text/html": [
       "<pre>recommendations finished on 279000/311741 queries. users per second: 431402</pre>"
      ],
      "text/plain": [
       "recommendations finished on 279000/311741 queries. users per second: 431402"
      ]
     },
     "metadata": {},
     "output_type": "display_data"
    },
    {
     "data": {
      "text/html": [
       "<pre>recommendations finished on 280000/311741 queries. users per second: 431345</pre>"
      ],
      "text/plain": [
       "recommendations finished on 280000/311741 queries. users per second: 431345"
      ]
     },
     "metadata": {},
     "output_type": "display_data"
    },
    {
     "data": {
      "text/html": [
       "<pre>recommendations finished on 281000/311741 queries. users per second: 430721</pre>"
      ],
      "text/plain": [
       "recommendations finished on 281000/311741 queries. users per second: 430721"
      ]
     },
     "metadata": {},
     "output_type": "display_data"
    },
    {
     "data": {
      "text/html": [
       "<pre>recommendations finished on 282000/311741 queries. users per second: 430616</pre>"
      ],
      "text/plain": [
       "recommendations finished on 282000/311741 queries. users per second: 430616"
      ]
     },
     "metadata": {},
     "output_type": "display_data"
    },
    {
     "data": {
      "text/html": [
       "<pre>recommendations finished on 283000/311741 queries. users per second: 430804</pre>"
      ],
      "text/plain": [
       "recommendations finished on 283000/311741 queries. users per second: 430804"
      ]
     },
     "metadata": {},
     "output_type": "display_data"
    },
    {
     "data": {
      "text/html": [
       "<pre>recommendations finished on 284000/311741 queries. users per second: 430783</pre>"
      ],
      "text/plain": [
       "recommendations finished on 284000/311741 queries. users per second: 430783"
      ]
     },
     "metadata": {},
     "output_type": "display_data"
    },
    {
     "data": {
      "text/html": [
       "<pre>recommendations finished on 285000/311741 queries. users per second: 430890</pre>"
      ],
      "text/plain": [
       "recommendations finished on 285000/311741 queries. users per second: 430890"
      ]
     },
     "metadata": {},
     "output_type": "display_data"
    },
    {
     "data": {
      "text/html": [
       "<pre>recommendations finished on 286000/311741 queries. users per second: 430699</pre>"
      ],
      "text/plain": [
       "recommendations finished on 286000/311741 queries. users per second: 430699"
      ]
     },
     "metadata": {},
     "output_type": "display_data"
    },
    {
     "data": {
      "text/html": [
       "<pre>recommendations finished on 287000/311741 queries. users per second: 430575</pre>"
      ],
      "text/plain": [
       "recommendations finished on 287000/311741 queries. users per second: 430575"
      ]
     },
     "metadata": {},
     "output_type": "display_data"
    },
    {
     "data": {
      "text/html": [
       "<pre>recommendations finished on 288000/311741 queries. users per second: 430578</pre>"
      ],
      "text/plain": [
       "recommendations finished on 288000/311741 queries. users per second: 430578"
      ]
     },
     "metadata": {},
     "output_type": "display_data"
    },
    {
     "data": {
      "text/html": [
       "<pre>recommendations finished on 289000/311741 queries. users per second: 430684</pre>"
      ],
      "text/plain": [
       "recommendations finished on 289000/311741 queries. users per second: 430684"
      ]
     },
     "metadata": {},
     "output_type": "display_data"
    },
    {
     "data": {
      "text/html": [
       "<pre>recommendations finished on 290000/311741 queries. users per second: 430807</pre>"
      ],
      "text/plain": [
       "recommendations finished on 290000/311741 queries. users per second: 430807"
      ]
     },
     "metadata": {},
     "output_type": "display_data"
    },
    {
     "data": {
      "text/html": [
       "<pre>recommendations finished on 291000/311741 queries. users per second: 430344</pre>"
      ],
      "text/plain": [
       "recommendations finished on 291000/311741 queries. users per second: 430344"
      ]
     },
     "metadata": {},
     "output_type": "display_data"
    },
    {
     "data": {
      "text/html": [
       "<pre>recommendations finished on 292000/311741 queries. users per second: 428301</pre>"
      ],
      "text/plain": [
       "recommendations finished on 292000/311741 queries. users per second: 428301"
      ]
     },
     "metadata": {},
     "output_type": "display_data"
    },
    {
     "data": {
      "text/html": [
       "<pre>recommendations finished on 293000/311741 queries. users per second: 426190</pre>"
      ],
      "text/plain": [
       "recommendations finished on 293000/311741 queries. users per second: 426190"
      ]
     },
     "metadata": {},
     "output_type": "display_data"
    },
    {
     "data": {
      "text/html": [
       "<pre>recommendations finished on 294000/311741 queries. users per second: 425166</pre>"
      ],
      "text/plain": [
       "recommendations finished on 294000/311741 queries. users per second: 425166"
      ]
     },
     "metadata": {},
     "output_type": "display_data"
    },
    {
     "data": {
      "text/html": [
       "<pre>recommendations finished on 295000/311741 queries. users per second: 422977</pre>"
      ],
      "text/plain": [
       "recommendations finished on 295000/311741 queries. users per second: 422977"
      ]
     },
     "metadata": {},
     "output_type": "display_data"
    },
    {
     "data": {
      "text/html": [
       "<pre>recommendations finished on 296000/311741 queries. users per second: 419535</pre>"
      ],
      "text/plain": [
       "recommendations finished on 296000/311741 queries. users per second: 419535"
      ]
     },
     "metadata": {},
     "output_type": "display_data"
    },
    {
     "data": {
      "text/html": [
       "<pre>recommendations finished on 297000/311741 queries. users per second: 418387</pre>"
      ],
      "text/plain": [
       "recommendations finished on 297000/311741 queries. users per second: 418387"
      ]
     },
     "metadata": {},
     "output_type": "display_data"
    },
    {
     "data": {
      "text/html": [
       "<pre>recommendations finished on 298000/311741 queries. users per second: 417168</pre>"
      ],
      "text/plain": [
       "recommendations finished on 298000/311741 queries. users per second: 417168"
      ]
     },
     "metadata": {},
     "output_type": "display_data"
    },
    {
     "data": {
      "text/html": [
       "<pre>recommendations finished on 299000/311741 queries. users per second: 416298</pre>"
      ],
      "text/plain": [
       "recommendations finished on 299000/311741 queries. users per second: 416298"
      ]
     },
     "metadata": {},
     "output_type": "display_data"
    },
    {
     "data": {
      "text/html": [
       "<pre>recommendations finished on 300000/311741 queries. users per second: 415655</pre>"
      ],
      "text/plain": [
       "recommendations finished on 300000/311741 queries. users per second: 415655"
      ]
     },
     "metadata": {},
     "output_type": "display_data"
    },
    {
     "data": {
      "text/html": [
       "<pre>recommendations finished on 301000/311741 queries. users per second: 414999</pre>"
      ],
      "text/plain": [
       "recommendations finished on 301000/311741 queries. users per second: 414999"
      ]
     },
     "metadata": {},
     "output_type": "display_data"
    },
    {
     "data": {
      "text/html": [
       "<pre>recommendations finished on 302000/311741 queries. users per second: 414459</pre>"
      ],
      "text/plain": [
       "recommendations finished on 302000/311741 queries. users per second: 414459"
      ]
     },
     "metadata": {},
     "output_type": "display_data"
    },
    {
     "data": {
      "text/html": [
       "<pre>recommendations finished on 303000/311741 queries. users per second: 413848</pre>"
      ],
      "text/plain": [
       "recommendations finished on 303000/311741 queries. users per second: 413848"
      ]
     },
     "metadata": {},
     "output_type": "display_data"
    },
    {
     "data": {
      "text/html": [
       "<pre>recommendations finished on 304000/311741 queries. users per second: 413083</pre>"
      ],
      "text/plain": [
       "recommendations finished on 304000/311741 queries. users per second: 413083"
      ]
     },
     "metadata": {},
     "output_type": "display_data"
    },
    {
     "data": {
      "text/html": [
       "<pre>recommendations finished on 305000/311741 queries. users per second: 411482</pre>"
      ],
      "text/plain": [
       "recommendations finished on 305000/311741 queries. users per second: 411482"
      ]
     },
     "metadata": {},
     "output_type": "display_data"
    },
    {
     "data": {
      "text/html": [
       "<pre>recommendations finished on 306000/311741 queries. users per second: 409578</pre>"
      ],
      "text/plain": [
       "recommendations finished on 306000/311741 queries. users per second: 409578"
      ]
     },
     "metadata": {},
     "output_type": "display_data"
    },
    {
     "data": {
      "text/html": [
       "<pre>recommendations finished on 307000/311741 queries. users per second: 405427</pre>"
      ],
      "text/plain": [
       "recommendations finished on 307000/311741 queries. users per second: 405427"
      ]
     },
     "metadata": {},
     "output_type": "display_data"
    },
    {
     "data": {
      "text/html": [
       "<pre>recommendations finished on 308000/311741 queries. users per second: 403979</pre>"
      ],
      "text/plain": [
       "recommendations finished on 308000/311741 queries. users per second: 403979"
      ]
     },
     "metadata": {},
     "output_type": "display_data"
    },
    {
     "data": {
      "text/html": [
       "<pre>recommendations finished on 309000/311741 queries. users per second: 402103</pre>"
      ],
      "text/plain": [
       "recommendations finished on 309000/311741 queries. users per second: 402103"
      ]
     },
     "metadata": {},
     "output_type": "display_data"
    },
    {
     "data": {
      "text/html": [
       "<pre>recommendations finished on 310000/311741 queries. users per second: 400063</pre>"
      ],
      "text/plain": [
       "recommendations finished on 310000/311741 queries. users per second: 400063"
      ]
     },
     "metadata": {},
     "output_type": "display_data"
    },
    {
     "data": {
      "text/html": [
       "<pre>recommendations finished on 311000/311741 queries. users per second: 398162</pre>"
      ],
      "text/plain": [
       "recommendations finished on 311000/311741 queries. users per second: 398162"
      ]
     },
     "metadata": {},
     "output_type": "display_data"
    }
   ],
   "source": [
    "name = 'cosine'\n",
    "target = 'QUANTIDADE'\n",
    "cos = model(train_data, name, user_id, item_id, target, \n",
    "            users_to_recommend, n_recommendation, n_display)"
   ]
  }
 ],
 "metadata": {
  "kernelspec": {
   "display_name": "Python 3",
   "language": "python",
   "name": "python3"
  },
  "language_info": {
   "codemirror_mode": {
    "name": "ipython",
    "version": 3
   },
   "file_extension": ".py",
   "mimetype": "text/x-python",
   "name": "python",
   "nbconvert_exporter": "python",
   "pygments_lexer": "ipython3",
   "version": "3.6.9"
  }
 },
 "nbformat": 4,
 "nbformat_minor": 4
}
