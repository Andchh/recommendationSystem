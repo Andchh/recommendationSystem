{
 "cells": [
  {
   "cell_type": "markdown",
   "metadata": {},
   "source": [
    "# Purchase-based Recommendation System\n",
    "## Based on Moorissa Tjokro tutorial\n",
    "### Coded by Rebeca Bivar - DB: Armazem Paraíba"
   ]
  },
  {
   "cell_type": "markdown",
   "metadata": {},
   "source": [
    "### Imports and reading file"
   ]
  },
  {
   "cell_type": "code",
   "execution_count": 1,
   "metadata": {},
   "outputs": [],
   "source": [
    "import pandas as pd\n",
    "import numpy as np\n",
    "import matplotlib.pyplot as plt\n",
    "import turicreate as tc\n",
    "from sklearn.model_selection import train_test_split\n",
    "from sklearn.metrics import accuracy_score"
   ]
  },
  {
   "cell_type": "code",
   "execution_count": 23,
   "metadata": {},
   "outputs": [
    {
     "data": {
      "text/html": [
       "<div>\n",
       "<style scoped>\n",
       "    .dataframe tbody tr th:only-of-type {\n",
       "        vertical-align: middle;\n",
       "    }\n",
       "\n",
       "    .dataframe tbody tr th {\n",
       "        vertical-align: top;\n",
       "    }\n",
       "\n",
       "    .dataframe thead th {\n",
       "        text-align: right;\n",
       "    }\n",
       "</style>\n",
       "<table border=\"1\" class=\"dataframe\">\n",
       "  <thead>\n",
       "    <tr style=\"text-align: right;\">\n",
       "      <th></th>\n",
       "      <th>COD_CLIENTE</th>\n",
       "      <th>COD_PRODUTO</th>\n",
       "      <th>NOME_PRODUTO</th>\n",
       "      <th>QUANTIDADE</th>\n",
       "      <th>CANAL</th>\n",
       "    </tr>\n",
       "  </thead>\n",
       "  <tbody>\n",
       "    <tr>\n",
       "      <th>0</th>\n",
       "      <td>5190001</td>\n",
       "      <td>25172</td>\n",
       "      <td>SMARTPHONE LG K9 TV LM-X210BMW PRETO</td>\n",
       "      <td>1</td>\n",
       "      <td>VENDAWEB</td>\n",
       "    </tr>\n",
       "    <tr>\n",
       "      <th>1</th>\n",
       "      <td>37578201</td>\n",
       "      <td>25367</td>\n",
       "      <td>TABLET NB729 MINI MS40G BRANCO</td>\n",
       "      <td>1</td>\n",
       "      <td>VENDAWEB</td>\n",
       "    </tr>\n",
       "    <tr>\n",
       "      <th>2</th>\n",
       "      <td>93168801</td>\n",
       "      <td>25354</td>\n",
       "      <td>TELEVISOR SMART 32\" UN32J4290 SAMSUNG</td>\n",
       "      <td>1</td>\n",
       "      <td>VENDAWEB</td>\n",
       "    </tr>\n",
       "    <tr>\n",
       "      <th>3</th>\n",
       "      <td>62982901</td>\n",
       "      <td>26584</td>\n",
       "      <td>SMARTPHONE MOTOROLA MOTO G8 PLUS 64GB CEREJA</td>\n",
       "      <td>1</td>\n",
       "      <td>VENDAWEB</td>\n",
       "    </tr>\n",
       "    <tr>\n",
       "      <th>4</th>\n",
       "      <td>54509401</td>\n",
       "      <td>21647</td>\n",
       "      <td>DVD D-15 KARAOKE MONDIAL</td>\n",
       "      <td>1</td>\n",
       "      <td>VENDAWEB</td>\n",
       "    </tr>\n",
       "  </tbody>\n",
       "</table>\n",
       "</div>"
      ],
      "text/plain": [
       "  COD_CLIENTE  COD_PRODUTO                                   NOME_PRODUTO  \\\n",
       "0     5190001        25172  SMARTPHONE LG K9 TV LM-X210BMW PRETO            \n",
       "1    37578201        25367  TABLET NB729 MINI MS40G BRANCO                  \n",
       "2    93168801        25354  TELEVISOR SMART 32\" UN32J4290 SAMSUNG           \n",
       "3    62982901        26584  SMARTPHONE MOTOROLA MOTO G8 PLUS 64GB CEREJA    \n",
       "4    54509401        21647  DVD D-15 KARAOKE MONDIAL                        \n",
       "\n",
       "   QUANTIDADE     CANAL  \n",
       "0           1  VENDAWEB  \n",
       "1           1  VENDAWEB  \n",
       "2           1  VENDAWEB  \n",
       "3           1  VENDAWEB  \n",
       "4           1  VENDAWEB  "
      ]
     },
     "execution_count": 23,
     "metadata": {},
     "output_type": "execute_result"
    }
   ],
   "source": [
    "#READING A FILE WITH ONLY CLIENTS, PRODUCTS BOUGHT AND QTDE\n",
    "buyers = pd.read_csv('data_final.csv', sep=';')\n",
    "buyers.head()\n"
   ]
  },
  {
   "cell_type": "markdown",
   "metadata": {},
   "source": [
    "##  Data preparation\n",
    "### Creating dummy table to check if the client has bought a product or not"
   ]
  },
  {
   "cell_type": "code",
   "execution_count": 3,
   "metadata": {},
   "outputs": [],
   "source": [
    "def create_data_dummy(db):\n",
    "    data_dummy = db.copy()\n",
    "    data_dummy['purchase_dummy'] = 1\n",
    "    return data_dummy\n",
    "\n",
    "data_dummy = create_data_dummy(buyers)\n",
    "#data_dummy\n"
   ]
  },
  {
   "cell_type": "markdown",
   "metadata": {},
   "source": [
    "### Normalizing purchase frequency of each item across users "
   ]
  },
  {
   "cell_type": "code",
   "execution_count": 4,
   "metadata": {},
   "outputs": [],
   "source": [
    "#Dummy for marking whether a customer bought that item or not\n",
    "\n",
    "df_matrix = pd.pivot_table(buyers, values = 'QUANTIDADE', index = 'COD_CLIENTE', columns = 'COD_PRODUTO')\n",
    "\n",
    "\n",
    "df_matrix_norm = (df_matrix-df_matrix.min())/(df_matrix.max()-df_matrix.min())\n",
    "\n",
    "# create a table for input to the modeling  \n",
    "data_input = df_matrix_norm.reset_index()\n",
    "data_input.index.names = ['FREQ_COMPRAS']\n",
    "data_norm = pd.melt(data_input, id_vars=['COD_CLIENTE'], \n",
    "                    value_name='FREQ_COMPRAS')\n",
    "\n",
    "#print(data_norm.shape)\n",
    "#data_norm.head()"
   ]
  },
  {
   "cell_type": "code",
   "execution_count": 5,
   "metadata": {},
   "outputs": [],
   "source": [
    "#Just cleaning useless values \n",
    "data_norm = data_norm.dropna()\n",
    "#data_norm"
   ]
  },
  {
   "cell_type": "markdown",
   "metadata": {},
   "source": [
    "### Split data into trainning and testing (80/20)"
   ]
  },
  {
   "cell_type": "code",
   "execution_count": 7,
   "metadata": {},
   "outputs": [
    {
     "name": "stdout",
     "output_type": "stream",
     "text": [
      "Train/Test Split done!\n"
     ]
    }
   ],
   "source": [
    "\n",
    "# Returns train and test datasets as scalable dfs\n",
    "def split_data(data):\n",
    "    train, test = train_test_split(data, test_size = .2)\n",
    "    train_data = tc.SFrame(train)\n",
    "    test_data = tc.SFrame(test)\n",
    "    return train_data, test_data\n",
    "\n",
    "# Now actually splitting purchase_counts, purchase_dummy and purchase_counts_norm\n",
    "train_data, test_data = split_data(buyers)\n",
    "train_data_dummy, test_data_dummy = split_data(data_dummy)\n",
    "train_data_norm, test_data_norm = split_data(data_norm)\n",
    "print(\"Train/Test Split done!\")"
   ]
  },
  {
   "cell_type": "markdown",
   "metadata": {},
   "source": [
    "## Baseline model to compare and evaluate models\n"
   ]
  },
  {
   "cell_type": "code",
   "execution_count": 8,
   "metadata": {},
   "outputs": [],
   "source": [
    "# variables to define field names: \n",
    "user_id = 'COD_CLIENTE'\n",
    "item_id = 'COD_PRODUTO'\n",
    "item_name = 'NOME_PRODUTO'\n",
    "users_to_recommend = list(buyers[user_id])\n",
    "n_recommendation = 10 # itens to recommend\n",
    "n_display = 30 # display the first few rows in an output dataset\n",
    "\n",
    "# Function for all models using turicreate\n",
    "def model(train_data, name, user_id, item_id, target, \n",
    "          users_to_recommend, n_rec, n_display):\n",
    "    if name == 'popularity':\n",
    "        model = tc.popularity_recommender.create(train_data, \n",
    "                                                    user_id = user_id, \n",
    "                                                    item_id = item_id,\n",
    "                                                    target = target)\n",
    "    elif name == 'cosine':\n",
    "        model = tc.item_similarity_recommender.create(train_data, \n",
    "                                                    user_id=user_id, \n",
    "                                                    item_id=item_id, \n",
    "                                                    target=target, \n",
    "                                                    similarity_type='cosine')\n",
    "    elif name == 'pearson':\n",
    "        model = tc.item_similarity_recommender.create(train_data, \n",
    "                                                    user_id=user_id, \n",
    "                                                    item_id=item_id, \n",
    "                                                    target=target, \n",
    "                                                    similarity_type='pearson')\n",
    "        \n",
    "    recom = model.recommend(users=users_to_recommend, k=n_rec)\n",
    "    recom.print_rows(n_display)\n",
    "    return model"
   ]
  },
  {
   "cell_type": "markdown",
   "metadata": {},
   "source": [
    "### Popularity Model\n",
    "   Takes the most popular items for recommendation, which are the products with the highest number of sells across customers."
   ]
  },
  {
   "cell_type": "code",
   "execution_count": null,
   "metadata": {},
   "outputs": [],
   "source": [
    "name = 'popularity'\n",
    "target = 'QUANTIDADE'\n",
    "popularity = model(train_data, name, user_id, item_id, target, \n",
    "                   users_to_recommend, n_recommendation, n_display)\n",
    "popularity"
   ]
  },
  {
   "cell_type": "code",
   "execution_count": null,
   "metadata": {},
   "outputs": [],
   "source": [
    "name = 'popularity'\n",
    "target = 'purchase_dummy'\n",
    "pop_dummy = model(train_data_dummy, name, user_id, item_id, target, \n",
    "                   users_to_recommend, n_recommendation, n_display)"
   ]
  },
  {
   "cell_type": "markdown",
   "metadata": {},
   "source": [
    "### Using scaled purchase count "
   ]
  },
  {
   "cell_type": "code",
   "execution_count": null,
   "metadata": {},
   "outputs": [],
   "source": [
    "name = 'popularity'\n",
    "target = 'FREQ_COMPRAS'\n",
    "pop_norm = model(train_data_norm, name, user_id, item_id, target, \n",
    "                 users_to_recommend, n_recommendation, n_display)"
   ]
  },
  {
   "cell_type": "markdown",
   "metadata": {},
   "source": [
    "### Collaborative Filtering Model\n",
    "\n",
    "   Recommends items based on how similar clients purchase items. Meaning: if customer 1 and customer 2 bought similar items, for example, 1 bought X, Y, Z and 2 bought X, Y, we would recommend an item Z to customer 2.\n",
    "    \n",
    "   - Lets say X and Y have been rated by costumers 1 and 2. \n",
    "   - We then create two item-vectors for both items, then we find the **cosine** or **pearson** distance between these vectors. If the **cosine** value is 1, means total similarity, if it is 0, means no similarity.\n",
    "   - In this case, we will check the similarity between the target item and other items the customer already bought - using the client's purchase count to items already bought by him as weighing factor (some sort of simulated rating). "
   ]
  },
  {
   "cell_type": "markdown",
   "metadata": {},
   "source": [
    "### Using purchase count and purchase frequency\n",
    "### Cosine"
   ]
  },
  {
   "cell_type": "code",
   "execution_count": null,
   "metadata": {},
   "outputs": [],
   "source": [
    "name = 'cosine'\n",
    "target = 'QUANTIDADE'\n",
    "cos = model(train_data, name, user_id, item_id, target, \n",
    "            users_to_recommend, n_recommendation, n_display)"
   ]
  },
  {
   "cell_type": "code",
   "execution_count": null,
   "metadata": {},
   "outputs": [],
   "source": [
    "name = 'cosine'\n",
    "target = 'purchase_dummy'\n",
    "cos_dummy = model(train_data_dummy, name, user_id, item_id, target,\n",
    "                  users_to_recommend, n_recommendation, n_display)"
   ]
  },
  {
   "cell_type": "code",
   "execution_count": null,
   "metadata": {},
   "outputs": [],
   "source": [
    "name = 'cosine'\n",
    "target = 'FREQ_COMPRAS'\n",
    "cos_norm= model(train_data_norm, name, user_id, item_id, target, \n",
    "                   users_to_recommend, n_recommendation, n_display)\n"
   ]
  },
  {
   "cell_type": "markdown",
   "metadata": {},
   "source": [
    "### Using purchase count and purchase frequency\n",
    "### Pearson"
   ]
  },
  {
   "cell_type": "code",
   "execution_count": null,
   "metadata": {},
   "outputs": [],
   "source": [
    "# PURCHASE COUNT\n",
    "name = 'pearson'\n",
    "target = 'QUANTIDADE'\n",
    "pear = model(train_data, name, user_id, item_id, target,\n",
    "             users_to_recommend, n_recommendation, n_display)"
   ]
  },
  {
   "cell_type": "code",
   "execution_count": null,
   "metadata": {},
   "outputs": [],
   "source": [
    "# PURCHASE DUMMY\n",
    "name = 'pearson'\n",
    "target = 'purchase_dummy'\n",
    "pear_dummy = model(train_data_dummy, name, user_id, item_id, target,\n",
    "                   users_to_recommend, n_recommendation, n_display)"
   ]
  },
  {
   "cell_type": "code",
   "execution_count": null,
   "metadata": {},
   "outputs": [],
   "source": [
    "# PURCHASE FREQUENCY\n",
    "name = 'pearson'\n",
    "target = 'FREQ_COMPRAS'\n",
    "pear_norm = model(train_data_norm, name, user_id, item_id, target,\n",
    "                  users_to_recommend, n_recommendation, n_display)"
   ]
  },
  {
   "cell_type": "markdown",
   "metadata": {},
   "source": [
    "## Model Evaluation \n",
    "\n",
    "### RMSE - Root Mean Squared Errors\n",
    "\n",
    "   - Measures the error of predicted values\n",
    "   - Lesser the RMSE values, better the recommendations\n",
    "   \n",
    "### Precision-Recall\n",
    "\n",
    "   - Recall: Percentage of products that a customer buys that are actually recommended. \n",
    "   - Precision: How many itens the customer liked out of the recommended?\n",
    "   - The idea is to optimze both recall and precision to be close as 1 as possible\n"
   ]
  },
  {
   "cell_type": "code",
   "execution_count": null,
   "metadata": {},
   "outputs": [],
   "source": [
    "# Variables for model evaluation\n",
    "\n",
    "models_counts = [popularity, cos, pear]\n",
    "models_dummy = [pop_dummy, cos_dummy, pear_dummy]\n",
    "models_norm = [pop_norm, cos_norm, pear_norm]\n",
    "\n",
    "names_counts = ['Popularity Model on Purchase Counts', \n",
    "                  'Cosine Similarity on Purchase Counts', \n",
    "                  'Pearson Similarity on Purchase Counts']\n",
    "names_dummy = ['Popularity Model on Purchase Dummy', \n",
    "                 'Cosine Similarity on Purchase Dummy', \n",
    "                 'Pearson Similarity on Purchase Dummy']\n",
    "names_norm = ['Popularity Model on Scaled Purchase Counts', \n",
    "                'Cosine Similarity on Scaled Purchase Counts', \n",
    "                'Pearson Similarity on Scaled Purchase Counts']\n",
    "\n",
    "\n",
    "eval_counts = tc.recommender.util.compare_models(test_data, models_counts, \n",
    "                                                 model_names=names_counts)\n",
    "eval_dummy = tc.recommender.util.compare_models(test_data_dummy, models_dummy,\n",
    "                                                model_names=names_dummy)\n",
    "eval_norm = tc.recommender.util.compare_models(test_data_norm, models_norm, \n",
    "                                               model_names=names_norm)"
   ]
  },
  {
   "cell_type": "markdown",
   "metadata": {},
   "source": [
    "## Final Model\n",
    "\n",
    "### Cosine Similarity - Purchase Dummy"
   ]
  },
  {
   "cell_type": "code",
   "execution_count": 13,
   "metadata": {
    "collapsed": true
   },
   "outputs": [
    {
     "data": {
      "text/html": [
       "<pre>Preparing data set.</pre>"
      ],
      "text/plain": [
       "Preparing data set."
      ]
     },
     "metadata": {},
     "output_type": "display_data"
    },
    {
     "data": {
      "text/html": [
       "<pre>    Data has 266198 observations with 207287 users and 243 items.</pre>"
      ],
      "text/plain": [
       "    Data has 266198 observations with 207287 users and 243 items."
      ]
     },
     "metadata": {},
     "output_type": "display_data"
    },
    {
     "data": {
      "text/html": [
       "<pre>    Data prepared in: 0.237581s</pre>"
      ],
      "text/plain": [
       "    Data prepared in: 0.237581s"
      ]
     },
     "metadata": {},
     "output_type": "display_data"
    },
    {
     "data": {
      "text/html": [
       "<pre>Training model from provided data.</pre>"
      ],
      "text/plain": [
       "Training model from provided data."
      ]
     },
     "metadata": {},
     "output_type": "display_data"
    },
    {
     "data": {
      "text/html": [
       "<pre>Gathering per-item and per-user statistics.</pre>"
      ],
      "text/plain": [
       "Gathering per-item and per-user statistics."
      ]
     },
     "metadata": {},
     "output_type": "display_data"
    },
    {
     "data": {
      "text/html": [
       "<pre>+--------------------------------+------------+</pre>"
      ],
      "text/plain": [
       "+--------------------------------+------------+"
      ]
     },
     "metadata": {},
     "output_type": "display_data"
    },
    {
     "data": {
      "text/html": [
       "<pre>| Elapsed Time (Item Statistics) | % Complete |</pre>"
      ],
      "text/plain": [
       "| Elapsed Time (Item Statistics) | % Complete |"
      ]
     },
     "metadata": {},
     "output_type": "display_data"
    },
    {
     "data": {
      "text/html": [
       "<pre>+--------------------------------+------------+</pre>"
      ],
      "text/plain": [
       "+--------------------------------+------------+"
      ]
     },
     "metadata": {},
     "output_type": "display_data"
    },
    {
     "data": {
      "text/html": [
       "<pre>| 21.677ms                       | 0.25       |</pre>"
      ],
      "text/plain": [
       "| 21.677ms                       | 0.25       |"
      ]
     },
     "metadata": {},
     "output_type": "display_data"
    },
    {
     "data": {
      "text/html": [
       "<pre>| 39.662ms                       | 100        |</pre>"
      ],
      "text/plain": [
       "| 39.662ms                       | 100        |"
      ]
     },
     "metadata": {},
     "output_type": "display_data"
    },
    {
     "data": {
      "text/html": [
       "<pre>+--------------------------------+------------+</pre>"
      ],
      "text/plain": [
       "+--------------------------------+------------+"
      ]
     },
     "metadata": {},
     "output_type": "display_data"
    },
    {
     "data": {
      "text/html": [
       "<pre>Setting up lookup tables.</pre>"
      ],
      "text/plain": [
       "Setting up lookup tables."
      ]
     },
     "metadata": {},
     "output_type": "display_data"
    },
    {
     "data": {
      "text/html": [
       "<pre>Processing data in one pass using dense lookup tables.</pre>"
      ],
      "text/plain": [
       "Processing data in one pass using dense lookup tables."
      ]
     },
     "metadata": {},
     "output_type": "display_data"
    },
    {
     "data": {
      "text/html": [
       "<pre>+-------------------------------------+------------------+-----------------+</pre>"
      ],
      "text/plain": [
       "+-------------------------------------+------------------+-----------------+"
      ]
     },
     "metadata": {},
     "output_type": "display_data"
    },
    {
     "data": {
      "text/html": [
       "<pre>| Elapsed Time (Constructing Lookups) | Total % Complete | Items Processed |</pre>"
      ],
      "text/plain": [
       "| Elapsed Time (Constructing Lookups) | Total % Complete | Items Processed |"
      ]
     },
     "metadata": {},
     "output_type": "display_data"
    },
    {
     "data": {
      "text/html": [
       "<pre>+-------------------------------------+------------------+-----------------+</pre>"
      ],
      "text/plain": [
       "+-------------------------------------+------------------+-----------------+"
      ]
     },
     "metadata": {},
     "output_type": "display_data"
    },
    {
     "data": {
      "text/html": [
       "<pre>| 74.607ms                            | 0                | 0               |</pre>"
      ],
      "text/plain": [
       "| 74.607ms                            | 0                | 0               |"
      ]
     },
     "metadata": {},
     "output_type": "display_data"
    },
    {
     "data": {
      "text/html": [
       "<pre>| 105.571ms                           | 100              | 243             |</pre>"
      ],
      "text/plain": [
       "| 105.571ms                           | 100              | 243             |"
      ]
     },
     "metadata": {},
     "output_type": "display_data"
    },
    {
     "data": {
      "text/html": [
       "<pre>+-------------------------------------+------------------+-----------------+</pre>"
      ],
      "text/plain": [
       "+-------------------------------------+------------------+-----------------+"
      ]
     },
     "metadata": {},
     "output_type": "display_data"
    },
    {
     "data": {
      "text/html": [
       "<pre>Finalizing lookup tables.</pre>"
      ],
      "text/plain": [
       "Finalizing lookup tables."
      ]
     },
     "metadata": {},
     "output_type": "display_data"
    },
    {
     "data": {
      "text/html": [
       "<pre>Generating candidate set for working with new users.</pre>"
      ],
      "text/plain": [
       "Generating candidate set for working with new users."
      ]
     },
     "metadata": {},
     "output_type": "display_data"
    },
    {
     "data": {
      "text/html": [
       "<pre>Finished training in 1.12688s</pre>"
      ],
      "text/plain": [
       "Finished training in 1.12688s"
      ]
     },
     "metadata": {},
     "output_type": "display_data"
    },
    {
     "data": {
      "text/html": [
       "<pre>recommendations finished on 1000/291086 queries. users per second: 148898</pre>"
      ],
      "text/plain": [
       "recommendations finished on 1000/291086 queries. users per second: 148898"
      ]
     },
     "metadata": {},
     "output_type": "display_data"
    },
    {
     "data": {
      "text/html": [
       "<pre>recommendations finished on 2000/291086 queries. users per second: 251953</pre>"
      ],
      "text/plain": [
       "recommendations finished on 2000/291086 queries. users per second: 251953"
      ]
     },
     "metadata": {},
     "output_type": "display_data"
    },
    {
     "data": {
      "text/html": [
       "<pre>recommendations finished on 3000/291086 queries. users per second: 328192</pre>"
      ],
      "text/plain": [
       "recommendations finished on 3000/291086 queries. users per second: 328192"
      ]
     },
     "metadata": {},
     "output_type": "display_data"
    },
    {
     "data": {
      "text/html": [
       "<pre>recommendations finished on 4000/291086 queries. users per second: 384468</pre>"
      ],
      "text/plain": [
       "recommendations finished on 4000/291086 queries. users per second: 384468"
      ]
     },
     "metadata": {},
     "output_type": "display_data"
    },
    {
     "data": {
      "text/html": [
       "<pre>recommendations finished on 5000/291086 queries. users per second: 423765</pre>"
      ],
      "text/plain": [
       "recommendations finished on 5000/291086 queries. users per second: 423765"
      ]
     },
     "metadata": {},
     "output_type": "display_data"
    },
    {
     "data": {
      "text/html": [
       "<pre>recommendations finished on 6000/291086 queries. users per second: 429799</pre>"
      ],
      "text/plain": [
       "recommendations finished on 6000/291086 queries. users per second: 429799"
      ]
     },
     "metadata": {},
     "output_type": "display_data"
    },
    {
     "data": {
      "text/html": [
       "<pre>recommendations finished on 7000/291086 queries. users per second: 461924</pre>"
      ],
      "text/plain": [
       "recommendations finished on 7000/291086 queries. users per second: 461924"
      ]
     },
     "metadata": {},
     "output_type": "display_data"
    },
    {
     "data": {
      "text/html": [
       "<pre>recommendations finished on 8000/291086 queries. users per second: 482189</pre>"
      ],
      "text/plain": [
       "recommendations finished on 8000/291086 queries. users per second: 482189"
      ]
     },
     "metadata": {},
     "output_type": "display_data"
    },
    {
     "data": {
      "text/html": [
       "<pre>recommendations finished on 9000/291086 queries. users per second: 491266</pre>"
      ],
      "text/plain": [
       "recommendations finished on 9000/291086 queries. users per second: 491266"
      ]
     },
     "metadata": {},
     "output_type": "display_data"
    },
    {
     "data": {
      "text/html": [
       "<pre>recommendations finished on 10000/291086 queries. users per second: 500125</pre>"
      ],
      "text/plain": [
       "recommendations finished on 10000/291086 queries. users per second: 500125"
      ]
     },
     "metadata": {},
     "output_type": "display_data"
    },
    {
     "data": {
      "text/html": [
       "<pre>recommendations finished on 11000/291086 queries. users per second: 505677</pre>"
      ],
      "text/plain": [
       "recommendations finished on 11000/291086 queries. users per second: 505677"
      ]
     },
     "metadata": {},
     "output_type": "display_data"
    },
    {
     "data": {
      "text/html": [
       "<pre>recommendations finished on 12000/291086 queries. users per second: 520043</pre>"
      ],
      "text/plain": [
       "recommendations finished on 12000/291086 queries. users per second: 520043"
      ]
     },
     "metadata": {},
     "output_type": "display_data"
    },
    {
     "data": {
      "text/html": [
       "<pre>recommendations finished on 13000/291086 queries. users per second: 532002</pre>"
      ],
      "text/plain": [
       "recommendations finished on 13000/291086 queries. users per second: 532002"
      ]
     },
     "metadata": {},
     "output_type": "display_data"
    },
    {
     "data": {
      "text/html": [
       "<pre>recommendations finished on 14000/291086 queries. users per second: 543605</pre>"
      ],
      "text/plain": [
       "recommendations finished on 14000/291086 queries. users per second: 543605"
      ]
     },
     "metadata": {},
     "output_type": "display_data"
    },
    {
     "data": {
      "text/html": [
       "<pre>recommendations finished on 15000/291086 queries. users per second: 537885</pre>"
      ],
      "text/plain": [
       "recommendations finished on 15000/291086 queries. users per second: 537885"
      ]
     },
     "metadata": {},
     "output_type": "display_data"
    },
    {
     "data": {
      "text/html": [
       "<pre>recommendations finished on 16000/291086 queries. users per second: 545758</pre>"
      ],
      "text/plain": [
       "recommendations finished on 16000/291086 queries. users per second: 545758"
      ]
     },
     "metadata": {},
     "output_type": "display_data"
    },
    {
     "data": {
      "text/html": [
       "<pre>recommendations finished on 17000/291086 queries. users per second: 556265</pre>"
      ],
      "text/plain": [
       "recommendations finished on 17000/291086 queries. users per second: 556265"
      ]
     },
     "metadata": {},
     "output_type": "display_data"
    },
    {
     "data": {
      "text/html": [
       "<pre>recommendations finished on 18000/291086 queries. users per second: 565842</pre>"
      ],
      "text/plain": [
       "recommendations finished on 18000/291086 queries. users per second: 565842"
      ]
     },
     "metadata": {},
     "output_type": "display_data"
    },
    {
     "data": {
      "text/html": [
       "<pre>recommendations finished on 19000/291086 queries. users per second: 573118</pre>"
      ],
      "text/plain": [
       "recommendations finished on 19000/291086 queries. users per second: 573118"
      ]
     },
     "metadata": {},
     "output_type": "display_data"
    },
    {
     "data": {
      "text/html": [
       "<pre>recommendations finished on 20000/291086 queries. users per second: 542358</pre>"
      ],
      "text/plain": [
       "recommendations finished on 20000/291086 queries. users per second: 542358"
      ]
     },
     "metadata": {},
     "output_type": "display_data"
    },
    {
     "data": {
      "text/html": [
       "<pre>recommendations finished on 21000/291086 queries. users per second: 531363</pre>"
      ],
      "text/plain": [
       "recommendations finished on 21000/291086 queries. users per second: 531363"
      ]
     },
     "metadata": {},
     "output_type": "display_data"
    },
    {
     "data": {
      "text/html": [
       "<pre>recommendations finished on 22000/291086 queries. users per second: 531478</pre>"
      ],
      "text/plain": [
       "recommendations finished on 22000/291086 queries. users per second: 531478"
      ]
     },
     "metadata": {},
     "output_type": "display_data"
    },
    {
     "data": {
      "text/html": [
       "<pre>recommendations finished on 23000/291086 queries. users per second: 538982</pre>"
      ],
      "text/plain": [
       "recommendations finished on 23000/291086 queries. users per second: 538982"
      ]
     },
     "metadata": {},
     "output_type": "display_data"
    },
    {
     "data": {
      "text/html": [
       "<pre>recommendations finished on 24000/291086 queries. users per second: 544205</pre>"
      ],
      "text/plain": [
       "recommendations finished on 24000/291086 queries. users per second: 544205"
      ]
     },
     "metadata": {},
     "output_type": "display_data"
    },
    {
     "data": {
      "text/html": [
       "<pre>recommendations finished on 25000/291086 queries. users per second: 544354</pre>"
      ],
      "text/plain": [
       "recommendations finished on 25000/291086 queries. users per second: 544354"
      ]
     },
     "metadata": {},
     "output_type": "display_data"
    },
    {
     "data": {
      "text/html": [
       "<pre>recommendations finished on 26000/291086 queries. users per second: 538871</pre>"
      ],
      "text/plain": [
       "recommendations finished on 26000/291086 queries. users per second: 538871"
      ]
     },
     "metadata": {},
     "output_type": "display_data"
    },
    {
     "data": {
      "text/html": [
       "<pre>recommendations finished on 27000/291086 queries. users per second: 541039</pre>"
      ],
      "text/plain": [
       "recommendations finished on 27000/291086 queries. users per second: 541039"
      ]
     },
     "metadata": {},
     "output_type": "display_data"
    },
    {
     "data": {
      "text/html": [
       "<pre>recommendations finished on 28000/291086 queries. users per second: 547142</pre>"
      ],
      "text/plain": [
       "recommendations finished on 28000/291086 queries. users per second: 547142"
      ]
     },
     "metadata": {},
     "output_type": "display_data"
    },
    {
     "data": {
      "text/html": [
       "<pre>recommendations finished on 29000/291086 queries. users per second: 553097</pre>"
      ],
      "text/plain": [
       "recommendations finished on 29000/291086 queries. users per second: 553097"
      ]
     },
     "metadata": {},
     "output_type": "display_data"
    },
    {
     "data": {
      "text/html": [
       "<pre>recommendations finished on 30000/291086 queries. users per second: 556617</pre>"
      ],
      "text/plain": [
       "recommendations finished on 30000/291086 queries. users per second: 556617"
      ]
     },
     "metadata": {},
     "output_type": "display_data"
    },
    {
     "data": {
      "text/html": [
       "<pre>recommendations finished on 31000/291086 queries. users per second: 554423</pre>"
      ],
      "text/plain": [
       "recommendations finished on 31000/291086 queries. users per second: 554423"
      ]
     },
     "metadata": {},
     "output_type": "display_data"
    },
    {
     "data": {
      "text/html": [
       "<pre>recommendations finished on 32000/291086 queries. users per second: 554372</pre>"
      ],
      "text/plain": [
       "recommendations finished on 32000/291086 queries. users per second: 554372"
      ]
     },
     "metadata": {},
     "output_type": "display_data"
    },
    {
     "data": {
      "text/html": [
       "<pre>recommendations finished on 33000/291086 queries. users per second: 556089</pre>"
      ],
      "text/plain": [
       "recommendations finished on 33000/291086 queries. users per second: 556089"
      ]
     },
     "metadata": {},
     "output_type": "display_data"
    },
    {
     "data": {
      "text/html": [
       "<pre>recommendations finished on 34000/291086 queries. users per second: 559606</pre>"
      ],
      "text/plain": [
       "recommendations finished on 34000/291086 queries. users per second: 559606"
      ]
     },
     "metadata": {},
     "output_type": "display_data"
    },
    {
     "data": {
      "text/html": [
       "<pre>recommendations finished on 35000/291086 queries. users per second: 561077</pre>"
      ],
      "text/plain": [
       "recommendations finished on 35000/291086 queries. users per second: 561077"
      ]
     },
     "metadata": {},
     "output_type": "display_data"
    },
    {
     "data": {
      "text/html": [
       "<pre>recommendations finished on 36000/291086 queries. users per second: 545818</pre>"
      ],
      "text/plain": [
       "recommendations finished on 36000/291086 queries. users per second: 545818"
      ]
     },
     "metadata": {},
     "output_type": "display_data"
    },
    {
     "data": {
      "text/html": [
       "<pre>recommendations finished on 37000/291086 queries. users per second: 541958</pre>"
      ],
      "text/plain": [
       "recommendations finished on 37000/291086 queries. users per second: 541958"
      ]
     },
     "metadata": {},
     "output_type": "display_data"
    },
    {
     "data": {
      "text/html": [
       "<pre>recommendations finished on 38000/291086 queries. users per second: 510238</pre>"
      ],
      "text/plain": [
       "recommendations finished on 38000/291086 queries. users per second: 510238"
      ]
     },
     "metadata": {},
     "output_type": "display_data"
    },
    {
     "data": {
      "text/html": [
       "<pre>recommendations finished on 39000/291086 queries. users per second: 502649</pre>"
      ],
      "text/plain": [
       "recommendations finished on 39000/291086 queries. users per second: 502649"
      ]
     },
     "metadata": {},
     "output_type": "display_data"
    },
    {
     "data": {
      "text/html": [
       "<pre>recommendations finished on 40000/291086 queries. users per second: 497568</pre>"
      ],
      "text/plain": [
       "recommendations finished on 40000/291086 queries. users per second: 497568"
      ]
     },
     "metadata": {},
     "output_type": "display_data"
    },
    {
     "data": {
      "text/html": [
       "<pre>recommendations finished on 41000/291086 queries. users per second: 392026</pre>"
      ],
      "text/plain": [
       "recommendations finished on 41000/291086 queries. users per second: 392026"
      ]
     },
     "metadata": {},
     "output_type": "display_data"
    },
    {
     "data": {
      "text/html": [
       "<pre>recommendations finished on 42000/291086 queries. users per second: 394296</pre>"
      ],
      "text/plain": [
       "recommendations finished on 42000/291086 queries. users per second: 394296"
      ]
     },
     "metadata": {},
     "output_type": "display_data"
    },
    {
     "data": {
      "text/html": [
       "<pre>recommendations finished on 43000/291086 queries. users per second: 392275</pre>"
      ],
      "text/plain": [
       "recommendations finished on 43000/291086 queries. users per second: 392275"
      ]
     },
     "metadata": {},
     "output_type": "display_data"
    },
    {
     "data": {
      "text/html": [
       "<pre>recommendations finished on 44000/291086 queries. users per second: 387751</pre>"
      ],
      "text/plain": [
       "recommendations finished on 44000/291086 queries. users per second: 387751"
      ]
     },
     "metadata": {},
     "output_type": "display_data"
    },
    {
     "data": {
      "text/html": [
       "<pre>recommendations finished on 45000/291086 queries. users per second: 365672</pre>"
      ],
      "text/plain": [
       "recommendations finished on 45000/291086 queries. users per second: 365672"
      ]
     },
     "metadata": {},
     "output_type": "display_data"
    },
    {
     "data": {
      "text/html": [
       "<pre>recommendations finished on 46000/291086 queries. users per second: 353219</pre>"
      ],
      "text/plain": [
       "recommendations finished on 46000/291086 queries. users per second: 353219"
      ]
     },
     "metadata": {},
     "output_type": "display_data"
    },
    {
     "data": {
      "text/html": [
       "<pre>recommendations finished on 47000/291086 queries. users per second: 352002</pre>"
      ],
      "text/plain": [
       "recommendations finished on 47000/291086 queries. users per second: 352002"
      ]
     },
     "metadata": {},
     "output_type": "display_data"
    },
    {
     "data": {
      "text/html": [
       "<pre>recommendations finished on 48000/291086 queries. users per second: 353144</pre>"
      ],
      "text/plain": [
       "recommendations finished on 48000/291086 queries. users per second: 353144"
      ]
     },
     "metadata": {},
     "output_type": "display_data"
    },
    {
     "data": {
      "text/html": [
       "<pre>recommendations finished on 49000/291086 queries. users per second: 353334</pre>"
      ],
      "text/plain": [
       "recommendations finished on 49000/291086 queries. users per second: 353334"
      ]
     },
     "metadata": {},
     "output_type": "display_data"
    },
    {
     "data": {
      "text/html": [
       "<pre>recommendations finished on 50000/291086 queries. users per second: 356265</pre>"
      ],
      "text/plain": [
       "recommendations finished on 50000/291086 queries. users per second: 356265"
      ]
     },
     "metadata": {},
     "output_type": "display_data"
    },
    {
     "data": {
      "text/html": [
       "<pre>recommendations finished on 51000/291086 queries. users per second: 359454</pre>"
      ],
      "text/plain": [
       "recommendations finished on 51000/291086 queries. users per second: 359454"
      ]
     },
     "metadata": {},
     "output_type": "display_data"
    },
    {
     "data": {
      "text/html": [
       "<pre>recommendations finished on 52000/291086 queries. users per second: 362964</pre>"
      ],
      "text/plain": [
       "recommendations finished on 52000/291086 queries. users per second: 362964"
      ]
     },
     "metadata": {},
     "output_type": "display_data"
    },
    {
     "data": {
      "text/html": [
       "<pre>recommendations finished on 53000/291086 queries. users per second: 365759</pre>"
      ],
      "text/plain": [
       "recommendations finished on 53000/291086 queries. users per second: 365759"
      ]
     },
     "metadata": {},
     "output_type": "display_data"
    },
    {
     "data": {
      "text/html": [
       "<pre>recommendations finished on 54000/291086 queries. users per second: 368523</pre>"
      ],
      "text/plain": [
       "recommendations finished on 54000/291086 queries. users per second: 368523"
      ]
     },
     "metadata": {},
     "output_type": "display_data"
    },
    {
     "data": {
      "text/html": [
       "<pre>recommendations finished on 55000/291086 queries. users per second: 371341</pre>"
      ],
      "text/plain": [
       "recommendations finished on 55000/291086 queries. users per second: 371341"
      ]
     },
     "metadata": {},
     "output_type": "display_data"
    },
    {
     "data": {
      "text/html": [
       "<pre>recommendations finished on 56000/291086 queries. users per second: 374332</pre>"
      ],
      "text/plain": [
       "recommendations finished on 56000/291086 queries. users per second: 374332"
      ]
     },
     "metadata": {},
     "output_type": "display_data"
    },
    {
     "data": {
      "text/html": [
       "<pre>recommendations finished on 57000/291086 queries. users per second: 376835</pre>"
      ],
      "text/plain": [
       "recommendations finished on 57000/291086 queries. users per second: 376835"
      ]
     },
     "metadata": {},
     "output_type": "display_data"
    },
    {
     "data": {
      "text/html": [
       "<pre>recommendations finished on 58000/291086 queries. users per second: 379050</pre>"
      ],
      "text/plain": [
       "recommendations finished on 58000/291086 queries. users per second: 379050"
      ]
     },
     "metadata": {},
     "output_type": "display_data"
    },
    {
     "data": {
      "text/html": [
       "<pre>recommendations finished on 59000/291086 queries. users per second: 379734</pre>"
      ],
      "text/plain": [
       "recommendations finished on 59000/291086 queries. users per second: 379734"
      ]
     },
     "metadata": {},
     "output_type": "display_data"
    },
    {
     "data": {
      "text/html": [
       "<pre>recommendations finished on 60000/291086 queries. users per second: 381764</pre>"
      ],
      "text/plain": [
       "recommendations finished on 60000/291086 queries. users per second: 381764"
      ]
     },
     "metadata": {},
     "output_type": "display_data"
    },
    {
     "data": {
      "text/html": [
       "<pre>recommendations finished on 61000/291086 queries. users per second: 383515</pre>"
      ],
      "text/plain": [
       "recommendations finished on 61000/291086 queries. users per second: 383515"
      ]
     },
     "metadata": {},
     "output_type": "display_data"
    },
    {
     "data": {
      "text/html": [
       "<pre>recommendations finished on 62000/291086 queries. users per second: 386363</pre>"
      ],
      "text/plain": [
       "recommendations finished on 62000/291086 queries. users per second: 386363"
      ]
     },
     "metadata": {},
     "output_type": "display_data"
    },
    {
     "data": {
      "text/html": [
       "<pre>recommendations finished on 63000/291086 queries. users per second: 389163</pre>"
      ],
      "text/plain": [
       "recommendations finished on 63000/291086 queries. users per second: 389163"
      ]
     },
     "metadata": {},
     "output_type": "display_data"
    },
    {
     "data": {
      "text/html": [
       "<pre>recommendations finished on 64000/291086 queries. users per second: 391583</pre>"
      ],
      "text/plain": [
       "recommendations finished on 64000/291086 queries. users per second: 391583"
      ]
     },
     "metadata": {},
     "output_type": "display_data"
    },
    {
     "data": {
      "text/html": [
       "<pre>recommendations finished on 65000/291086 queries. users per second: 393591</pre>"
      ],
      "text/plain": [
       "recommendations finished on 65000/291086 queries. users per second: 393591"
      ]
     },
     "metadata": {},
     "output_type": "display_data"
    },
    {
     "data": {
      "text/html": [
       "<pre>recommendations finished on 66000/291086 queries. users per second: 396418</pre>"
      ],
      "text/plain": [
       "recommendations finished on 66000/291086 queries. users per second: 396418"
      ]
     },
     "metadata": {},
     "output_type": "display_data"
    },
    {
     "data": {
      "text/html": [
       "<pre>recommendations finished on 67000/291086 queries. users per second: 398772</pre>"
      ],
      "text/plain": [
       "recommendations finished on 67000/291086 queries. users per second: 398772"
      ]
     },
     "metadata": {},
     "output_type": "display_data"
    },
    {
     "data": {
      "text/html": [
       "<pre>recommendations finished on 68000/291086 queries. users per second: 400811</pre>"
      ],
      "text/plain": [
       "recommendations finished on 68000/291086 queries. users per second: 400811"
      ]
     },
     "metadata": {},
     "output_type": "display_data"
    },
    {
     "data": {
      "text/html": [
       "<pre>recommendations finished on 69000/291086 queries. users per second: 400123</pre>"
      ],
      "text/plain": [
       "recommendations finished on 69000/291086 queries. users per second: 400123"
      ]
     },
     "metadata": {},
     "output_type": "display_data"
    },
    {
     "data": {
      "text/html": [
       "<pre>recommendations finished on 70000/291086 queries. users per second: 396008</pre>"
      ],
      "text/plain": [
       "recommendations finished on 70000/291086 queries. users per second: 396008"
      ]
     },
     "metadata": {},
     "output_type": "display_data"
    },
    {
     "data": {
      "text/html": [
       "<pre>recommendations finished on 71000/291086 queries. users per second: 391038</pre>"
      ],
      "text/plain": [
       "recommendations finished on 71000/291086 queries. users per second: 391038"
      ]
     },
     "metadata": {},
     "output_type": "display_data"
    },
    {
     "data": {
      "text/html": [
       "<pre>recommendations finished on 72000/291086 queries. users per second: 390202</pre>"
      ],
      "text/plain": [
       "recommendations finished on 72000/291086 queries. users per second: 390202"
      ]
     },
     "metadata": {},
     "output_type": "display_data"
    },
    {
     "data": {
      "text/html": [
       "<pre>recommendations finished on 73000/291086 queries. users per second: 390845</pre>"
      ],
      "text/plain": [
       "recommendations finished on 73000/291086 queries. users per second: 390845"
      ]
     },
     "metadata": {},
     "output_type": "display_data"
    },
    {
     "data": {
      "text/html": [
       "<pre>recommendations finished on 74000/291086 queries. users per second: 388115</pre>"
      ],
      "text/plain": [
       "recommendations finished on 74000/291086 queries. users per second: 388115"
      ]
     },
     "metadata": {},
     "output_type": "display_data"
    },
    {
     "data": {
      "text/html": [
       "<pre>recommendations finished on 75000/291086 queries. users per second: 386985</pre>"
      ],
      "text/plain": [
       "recommendations finished on 75000/291086 queries. users per second: 386985"
      ]
     },
     "metadata": {},
     "output_type": "display_data"
    },
    {
     "data": {
      "text/html": [
       "<pre>recommendations finished on 76000/291086 queries. users per second: 387113</pre>"
      ],
      "text/plain": [
       "recommendations finished on 76000/291086 queries. users per second: 387113"
      ]
     },
     "metadata": {},
     "output_type": "display_data"
    },
    {
     "data": {
      "text/html": [
       "<pre>recommendations finished on 77000/291086 queries. users per second: 388581</pre>"
      ],
      "text/plain": [
       "recommendations finished on 77000/291086 queries. users per second: 388581"
      ]
     },
     "metadata": {},
     "output_type": "display_data"
    },
    {
     "data": {
      "text/html": [
       "<pre>recommendations finished on 78000/291086 queries. users per second: 386863</pre>"
      ],
      "text/plain": [
       "recommendations finished on 78000/291086 queries. users per second: 386863"
      ]
     },
     "metadata": {},
     "output_type": "display_data"
    },
    {
     "data": {
      "text/html": [
       "<pre>recommendations finished on 79000/291086 queries. users per second: 388757</pre>"
      ],
      "text/plain": [
       "recommendations finished on 79000/291086 queries. users per second: 388757"
      ]
     },
     "metadata": {},
     "output_type": "display_data"
    },
    {
     "data": {
      "text/html": [
       "<pre>recommendations finished on 80000/291086 queries. users per second: 389884</pre>"
      ],
      "text/plain": [
       "recommendations finished on 80000/291086 queries. users per second: 389884"
      ]
     },
     "metadata": {},
     "output_type": "display_data"
    },
    {
     "data": {
      "text/html": [
       "<pre>recommendations finished on 81000/291086 queries. users per second: 391905</pre>"
      ],
      "text/plain": [
       "recommendations finished on 81000/291086 queries. users per second: 391905"
      ]
     },
     "metadata": {},
     "output_type": "display_data"
    },
    {
     "data": {
      "text/html": [
       "<pre>recommendations finished on 82000/291086 queries. users per second: 393807</pre>"
      ],
      "text/plain": [
       "recommendations finished on 82000/291086 queries. users per second: 393807"
      ]
     },
     "metadata": {},
     "output_type": "display_data"
    },
    {
     "data": {
      "text/html": [
       "<pre>recommendations finished on 83000/291086 queries. users per second: 394888</pre>"
      ],
      "text/plain": [
       "recommendations finished on 83000/291086 queries. users per second: 394888"
      ]
     },
     "metadata": {},
     "output_type": "display_data"
    },
    {
     "data": {
      "text/html": [
       "<pre>recommendations finished on 84000/291086 queries. users per second: 395216</pre>"
      ],
      "text/plain": [
       "recommendations finished on 84000/291086 queries. users per second: 395216"
      ]
     },
     "metadata": {},
     "output_type": "display_data"
    },
    {
     "data": {
      "text/html": [
       "<pre>recommendations finished on 85000/291086 queries. users per second: 395189</pre>"
      ],
      "text/plain": [
       "recommendations finished on 85000/291086 queries. users per second: 395189"
      ]
     },
     "metadata": {},
     "output_type": "display_data"
    },
    {
     "data": {
      "text/html": [
       "<pre>recommendations finished on 86000/291086 queries. users per second: 396743</pre>"
      ],
      "text/plain": [
       "recommendations finished on 86000/291086 queries. users per second: 396743"
      ]
     },
     "metadata": {},
     "output_type": "display_data"
    },
    {
     "data": {
      "text/html": [
       "<pre>recommendations finished on 87000/291086 queries. users per second: 397780</pre>"
      ],
      "text/plain": [
       "recommendations finished on 87000/291086 queries. users per second: 397780"
      ]
     },
     "metadata": {},
     "output_type": "display_data"
    },
    {
     "data": {
      "text/html": [
       "<pre>recommendations finished on 88000/291086 queries. users per second: 399352</pre>"
      ],
      "text/plain": [
       "recommendations finished on 88000/291086 queries. users per second: 399352"
      ]
     },
     "metadata": {},
     "output_type": "display_data"
    },
    {
     "data": {
      "text/html": [
       "<pre>recommendations finished on 89000/291086 queries. users per second: 397682</pre>"
      ],
      "text/plain": [
       "recommendations finished on 89000/291086 queries. users per second: 397682"
      ]
     },
     "metadata": {},
     "output_type": "display_data"
    },
    {
     "data": {
      "text/html": [
       "<pre>recommendations finished on 90000/291086 queries. users per second: 397620</pre>"
      ],
      "text/plain": [
       "recommendations finished on 90000/291086 queries. users per second: 397620"
      ]
     },
     "metadata": {},
     "output_type": "display_data"
    },
    {
     "data": {
      "text/html": [
       "<pre>recommendations finished on 91000/291086 queries. users per second: 397899</pre>"
      ],
      "text/plain": [
       "recommendations finished on 91000/291086 queries. users per second: 397899"
      ]
     },
     "metadata": {},
     "output_type": "display_data"
    },
    {
     "data": {
      "text/html": [
       "<pre>recommendations finished on 92000/291086 queries. users per second: 395694</pre>"
      ],
      "text/plain": [
       "recommendations finished on 92000/291086 queries. users per second: 395694"
      ]
     },
     "metadata": {},
     "output_type": "display_data"
    },
    {
     "data": {
      "text/html": [
       "<pre>recommendations finished on 93000/291086 queries. users per second: 394514</pre>"
      ],
      "text/plain": [
       "recommendations finished on 93000/291086 queries. users per second: 394514"
      ]
     },
     "metadata": {},
     "output_type": "display_data"
    },
    {
     "data": {
      "text/html": [
       "<pre>recommendations finished on 94000/291086 queries. users per second: 392753</pre>"
      ],
      "text/plain": [
       "recommendations finished on 94000/291086 queries. users per second: 392753"
      ]
     },
     "metadata": {},
     "output_type": "display_data"
    },
    {
     "data": {
      "text/html": [
       "<pre>recommendations finished on 95000/291086 queries. users per second: 392397</pre>"
      ],
      "text/plain": [
       "recommendations finished on 95000/291086 queries. users per second: 392397"
      ]
     },
     "metadata": {},
     "output_type": "display_data"
    },
    {
     "data": {
      "text/html": [
       "<pre>recommendations finished on 96000/291086 queries. users per second: 393996</pre>"
      ],
      "text/plain": [
       "recommendations finished on 96000/291086 queries. users per second: 393996"
      ]
     },
     "metadata": {},
     "output_type": "display_data"
    },
    {
     "data": {
      "text/html": [
       "<pre>recommendations finished on 97000/291086 queries. users per second: 395531</pre>"
      ],
      "text/plain": [
       "recommendations finished on 97000/291086 queries. users per second: 395531"
      ]
     },
     "metadata": {},
     "output_type": "display_data"
    },
    {
     "data": {
      "text/html": [
       "<pre>recommendations finished on 98000/291086 queries. users per second: 397018</pre>"
      ],
      "text/plain": [
       "recommendations finished on 98000/291086 queries. users per second: 397018"
      ]
     },
     "metadata": {},
     "output_type": "display_data"
    },
    {
     "data": {
      "text/html": [
       "<pre>recommendations finished on 99000/291086 queries. users per second: 398166</pre>"
      ],
      "text/plain": [
       "recommendations finished on 99000/291086 queries. users per second: 398166"
      ]
     },
     "metadata": {},
     "output_type": "display_data"
    },
    {
     "data": {
      "text/html": [
       "<pre>recommendations finished on 100000/291086 queries. users per second: 399730</pre>"
      ],
      "text/plain": [
       "recommendations finished on 100000/291086 queries. users per second: 399730"
      ]
     },
     "metadata": {},
     "output_type": "display_data"
    },
    {
     "data": {
      "text/html": [
       "<pre>recommendations finished on 101000/291086 queries. users per second: 400449</pre>"
      ],
      "text/plain": [
       "recommendations finished on 101000/291086 queries. users per second: 400449"
      ]
     },
     "metadata": {},
     "output_type": "display_data"
    },
    {
     "data": {
      "text/html": [
       "<pre>recommendations finished on 102000/291086 queries. users per second: 399744</pre>"
      ],
      "text/plain": [
       "recommendations finished on 102000/291086 queries. users per second: 399744"
      ]
     },
     "metadata": {},
     "output_type": "display_data"
    },
    {
     "data": {
      "text/html": [
       "<pre>recommendations finished on 103000/291086 queries. users per second: 400241</pre>"
      ],
      "text/plain": [
       "recommendations finished on 103000/291086 queries. users per second: 400241"
      ]
     },
     "metadata": {},
     "output_type": "display_data"
    },
    {
     "data": {
      "text/html": [
       "<pre>recommendations finished on 104000/291086 queries. users per second: 401538</pre>"
      ],
      "text/plain": [
       "recommendations finished on 104000/291086 queries. users per second: 401538"
      ]
     },
     "metadata": {},
     "output_type": "display_data"
    },
    {
     "data": {
      "text/html": [
       "<pre>recommendations finished on 105000/291086 queries. users per second: 403274</pre>"
      ],
      "text/plain": [
       "recommendations finished on 105000/291086 queries. users per second: 403274"
      ]
     },
     "metadata": {},
     "output_type": "display_data"
    },
    {
     "data": {
      "text/html": [
       "<pre>recommendations finished on 106000/291086 queries. users per second: 404979</pre>"
      ],
      "text/plain": [
       "recommendations finished on 106000/291086 queries. users per second: 404979"
      ]
     },
     "metadata": {},
     "output_type": "display_data"
    },
    {
     "data": {
      "text/html": [
       "<pre>recommendations finished on 107000/291086 queries. users per second: 405690</pre>"
      ],
      "text/plain": [
       "recommendations finished on 107000/291086 queries. users per second: 405690"
      ]
     },
     "metadata": {},
     "output_type": "display_data"
    },
    {
     "data": {
      "text/html": [
       "<pre>recommendations finished on 108000/291086 queries. users per second: 406996</pre>"
      ],
      "text/plain": [
       "recommendations finished on 108000/291086 queries. users per second: 406996"
      ]
     },
     "metadata": {},
     "output_type": "display_data"
    },
    {
     "data": {
      "text/html": [
       "<pre>recommendations finished on 109000/291086 queries. users per second: 408749</pre>"
      ],
      "text/plain": [
       "recommendations finished on 109000/291086 queries. users per second: 408749"
      ]
     },
     "metadata": {},
     "output_type": "display_data"
    },
    {
     "data": {
      "text/html": [
       "<pre>recommendations finished on 110000/291086 queries. users per second: 410609</pre>"
      ],
      "text/plain": [
       "recommendations finished on 110000/291086 queries. users per second: 410609"
      ]
     },
     "metadata": {},
     "output_type": "display_data"
    },
    {
     "data": {
      "text/html": [
       "<pre>recommendations finished on 111000/291086 queries. users per second: 411927</pre>"
      ],
      "text/plain": [
       "recommendations finished on 111000/291086 queries. users per second: 411927"
      ]
     },
     "metadata": {},
     "output_type": "display_data"
    },
    {
     "data": {
      "text/html": [
       "<pre>recommendations finished on 112000/291086 queries. users per second: 413095</pre>"
      ],
      "text/plain": [
       "recommendations finished on 112000/291086 queries. users per second: 413095"
      ]
     },
     "metadata": {},
     "output_type": "display_data"
    },
    {
     "data": {
      "text/html": [
       "<pre>recommendations finished on 113000/291086 queries. users per second: 414522</pre>"
      ],
      "text/plain": [
       "recommendations finished on 113000/291086 queries. users per second: 414522"
      ]
     },
     "metadata": {},
     "output_type": "display_data"
    },
    {
     "data": {
      "text/html": [
       "<pre>recommendations finished on 114000/291086 queries. users per second: 415929</pre>"
      ],
      "text/plain": [
       "recommendations finished on 114000/291086 queries. users per second: 415929"
      ]
     },
     "metadata": {},
     "output_type": "display_data"
    },
    {
     "data": {
      "text/html": [
       "<pre>recommendations finished on 115000/291086 queries. users per second: 417573</pre>"
      ],
      "text/plain": [
       "recommendations finished on 115000/291086 queries. users per second: 417573"
      ]
     },
     "metadata": {},
     "output_type": "display_data"
    },
    {
     "data": {
      "text/html": [
       "<pre>recommendations finished on 116000/291086 queries. users per second: 418898</pre>"
      ],
      "text/plain": [
       "recommendations finished on 116000/291086 queries. users per second: 418898"
      ]
     },
     "metadata": {},
     "output_type": "display_data"
    },
    {
     "data": {
      "text/html": [
       "<pre>recommendations finished on 117000/291086 queries. users per second: 420372</pre>"
      ],
      "text/plain": [
       "recommendations finished on 117000/291086 queries. users per second: 420372"
      ]
     },
     "metadata": {},
     "output_type": "display_data"
    },
    {
     "data": {
      "text/html": [
       "<pre>recommendations finished on 118000/291086 queries. users per second: 421879</pre>"
      ],
      "text/plain": [
       "recommendations finished on 118000/291086 queries. users per second: 421879"
      ]
     },
     "metadata": {},
     "output_type": "display_data"
    },
    {
     "data": {
      "text/html": [
       "<pre>recommendations finished on 119000/291086 queries. users per second: 423299</pre>"
      ],
      "text/plain": [
       "recommendations finished on 119000/291086 queries. users per second: 423299"
      ]
     },
     "metadata": {},
     "output_type": "display_data"
    },
    {
     "data": {
      "text/html": [
       "<pre>recommendations finished on 120000/291086 queries. users per second: 424571</pre>"
      ],
      "text/plain": [
       "recommendations finished on 120000/291086 queries. users per second: 424571"
      ]
     },
     "metadata": {},
     "output_type": "display_data"
    },
    {
     "data": {
      "text/html": [
       "<pre>recommendations finished on 121000/291086 queries. users per second: 425965</pre>"
      ],
      "text/plain": [
       "recommendations finished on 121000/291086 queries. users per second: 425965"
      ]
     },
     "metadata": {},
     "output_type": "display_data"
    },
    {
     "data": {
      "text/html": [
       "<pre>recommendations finished on 122000/291086 queries. users per second: 427292</pre>"
      ],
      "text/plain": [
       "recommendations finished on 122000/291086 queries. users per second: 427292"
      ]
     },
     "metadata": {},
     "output_type": "display_data"
    },
    {
     "data": {
      "text/html": [
       "<pre>recommendations finished on 123000/291086 queries. users per second: 428142</pre>"
      ],
      "text/plain": [
       "recommendations finished on 123000/291086 queries. users per second: 428142"
      ]
     },
     "metadata": {},
     "output_type": "display_data"
    },
    {
     "data": {
      "text/html": [
       "<pre>recommendations finished on 124000/291086 queries. users per second: 429637</pre>"
      ],
      "text/plain": [
       "recommendations finished on 124000/291086 queries. users per second: 429637"
      ]
     },
     "metadata": {},
     "output_type": "display_data"
    },
    {
     "data": {
      "text/html": [
       "<pre>recommendations finished on 125000/291086 queries. users per second: 431087</pre>"
      ],
      "text/plain": [
       "recommendations finished on 125000/291086 queries. users per second: 431087"
      ]
     },
     "metadata": {},
     "output_type": "display_data"
    },
    {
     "data": {
      "text/html": [
       "<pre>recommendations finished on 126000/291086 queries. users per second: 432581</pre>"
      ],
      "text/plain": [
       "recommendations finished on 126000/291086 queries. users per second: 432581"
      ]
     },
     "metadata": {},
     "output_type": "display_data"
    },
    {
     "data": {
      "text/html": [
       "<pre>recommendations finished on 127000/291086 queries. users per second: 433952</pre>"
      ],
      "text/plain": [
       "recommendations finished on 127000/291086 queries. users per second: 433952"
      ]
     },
     "metadata": {},
     "output_type": "display_data"
    },
    {
     "data": {
      "text/html": [
       "<pre>recommendations finished on 128000/291086 queries. users per second: 435308</pre>"
      ],
      "text/plain": [
       "recommendations finished on 128000/291086 queries. users per second: 435308"
      ]
     },
     "metadata": {},
     "output_type": "display_data"
    },
    {
     "data": {
      "text/html": [
       "<pre>recommendations finished on 129000/291086 queries. users per second: 436026</pre>"
      ],
      "text/plain": [
       "recommendations finished on 129000/291086 queries. users per second: 436026"
      ]
     },
     "metadata": {},
     "output_type": "display_data"
    },
    {
     "data": {
      "text/html": [
       "<pre>recommendations finished on 130000/291086 queries. users per second: 436227</pre>"
      ],
      "text/plain": [
       "recommendations finished on 130000/291086 queries. users per second: 436227"
      ]
     },
     "metadata": {},
     "output_type": "display_data"
    },
    {
     "data": {
      "text/html": [
       "<pre>recommendations finished on 131000/291086 queries. users per second: 436850</pre>"
      ],
      "text/plain": [
       "recommendations finished on 131000/291086 queries. users per second: 436850"
      ]
     },
     "metadata": {},
     "output_type": "display_data"
    },
    {
     "data": {
      "text/html": [
       "<pre>recommendations finished on 132000/291086 queries. users per second: 438234</pre>"
      ],
      "text/plain": [
       "recommendations finished on 132000/291086 queries. users per second: 438234"
      ]
     },
     "metadata": {},
     "output_type": "display_data"
    },
    {
     "data": {
      "text/html": [
       "<pre>recommendations finished on 133000/291086 queries. users per second: 439762</pre>"
      ],
      "text/plain": [
       "recommendations finished on 133000/291086 queries. users per second: 439762"
      ]
     },
     "metadata": {},
     "output_type": "display_data"
    },
    {
     "data": {
      "text/html": [
       "<pre>recommendations finished on 134000/291086 queries. users per second: 441274</pre>"
      ],
      "text/plain": [
       "recommendations finished on 134000/291086 queries. users per second: 441274"
      ]
     },
     "metadata": {},
     "output_type": "display_data"
    },
    {
     "data": {
      "text/html": [
       "<pre>recommendations finished on 135000/291086 queries. users per second: 442331</pre>"
      ],
      "text/plain": [
       "recommendations finished on 135000/291086 queries. users per second: 442331"
      ]
     },
     "metadata": {},
     "output_type": "display_data"
    },
    {
     "data": {
      "text/html": [
       "<pre>recommendations finished on 136000/291086 queries. users per second: 443385</pre>"
      ],
      "text/plain": [
       "recommendations finished on 136000/291086 queries. users per second: 443385"
      ]
     },
     "metadata": {},
     "output_type": "display_data"
    },
    {
     "data": {
      "text/html": [
       "<pre>recommendations finished on 137000/291086 queries. users per second: 444163</pre>"
      ],
      "text/plain": [
       "recommendations finished on 137000/291086 queries. users per second: 444163"
      ]
     },
     "metadata": {},
     "output_type": "display_data"
    },
    {
     "data": {
      "text/html": [
       "<pre>recommendations finished on 138000/291086 queries. users per second: 442887</pre>"
      ],
      "text/plain": [
       "recommendations finished on 138000/291086 queries. users per second: 442887"
      ]
     },
     "metadata": {},
     "output_type": "display_data"
    },
    {
     "data": {
      "text/html": [
       "<pre>recommendations finished on 139000/291086 queries. users per second: 442285</pre>"
      ],
      "text/plain": [
       "recommendations finished on 139000/291086 queries. users per second: 442285"
      ]
     },
     "metadata": {},
     "output_type": "display_data"
    },
    {
     "data": {
      "text/html": [
       "<pre>recommendations finished on 140000/291086 queries. users per second: 442891</pre>"
      ],
      "text/plain": [
       "recommendations finished on 140000/291086 queries. users per second: 442891"
      ]
     },
     "metadata": {},
     "output_type": "display_data"
    },
    {
     "data": {
      "text/html": [
       "<pre>recommendations finished on 141000/291086 queries. users per second: 444204</pre>"
      ],
      "text/plain": [
       "recommendations finished on 141000/291086 queries. users per second: 444204"
      ]
     },
     "metadata": {},
     "output_type": "display_data"
    },
    {
     "data": {
      "text/html": [
       "<pre>recommendations finished on 142000/291086 queries. users per second: 445387</pre>"
      ],
      "text/plain": [
       "recommendations finished on 142000/291086 queries. users per second: 445387"
      ]
     },
     "metadata": {},
     "output_type": "display_data"
    },
    {
     "data": {
      "text/html": [
       "<pre>recommendations finished on 143000/291086 queries. users per second: 446744</pre>"
      ],
      "text/plain": [
       "recommendations finished on 143000/291086 queries. users per second: 446744"
      ]
     },
     "metadata": {},
     "output_type": "display_data"
    },
    {
     "data": {
      "text/html": [
       "<pre>recommendations finished on 144000/291086 queries. users per second: 447749</pre>"
      ],
      "text/plain": [
       "recommendations finished on 144000/291086 queries. users per second: 447749"
      ]
     },
     "metadata": {},
     "output_type": "display_data"
    },
    {
     "data": {
      "text/html": [
       "<pre>recommendations finished on 145000/291086 queries. users per second: 448480</pre>"
      ],
      "text/plain": [
       "recommendations finished on 145000/291086 queries. users per second: 448480"
      ]
     },
     "metadata": {},
     "output_type": "display_data"
    },
    {
     "data": {
      "text/html": [
       "<pre>recommendations finished on 146000/291086 queries. users per second: 449632</pre>"
      ],
      "text/plain": [
       "recommendations finished on 146000/291086 queries. users per second: 449632"
      ]
     },
     "metadata": {},
     "output_type": "display_data"
    },
    {
     "data": {
      "text/html": [
       "<pre>recommendations finished on 147000/291086 queries. users per second: 450647</pre>"
      ],
      "text/plain": [
       "recommendations finished on 147000/291086 queries. users per second: 450647"
      ]
     },
     "metadata": {},
     "output_type": "display_data"
    },
    {
     "data": {
      "text/html": [
       "<pre>recommendations finished on 148000/291086 queries. users per second: 451644</pre>"
      ],
      "text/plain": [
       "recommendations finished on 148000/291086 queries. users per second: 451644"
      ]
     },
     "metadata": {},
     "output_type": "display_data"
    },
    {
     "data": {
      "text/html": [
       "<pre>recommendations finished on 149000/291086 queries. users per second: 452633</pre>"
      ],
      "text/plain": [
       "recommendations finished on 149000/291086 queries. users per second: 452633"
      ]
     },
     "metadata": {},
     "output_type": "display_data"
    },
    {
     "data": {
      "text/html": [
       "<pre>recommendations finished on 150000/291086 queries. users per second: 451941</pre>"
      ],
      "text/plain": [
       "recommendations finished on 150000/291086 queries. users per second: 451941"
      ]
     },
     "metadata": {},
     "output_type": "display_data"
    },
    {
     "data": {
      "text/html": [
       "<pre>recommendations finished on 151000/291086 queries. users per second: 451332</pre>"
      ],
      "text/plain": [
       "recommendations finished on 151000/291086 queries. users per second: 451332"
      ]
     },
     "metadata": {},
     "output_type": "display_data"
    },
    {
     "data": {
      "text/html": [
       "<pre>recommendations finished on 152000/291086 queries. users per second: 451801</pre>"
      ],
      "text/plain": [
       "recommendations finished on 152000/291086 queries. users per second: 451801"
      ]
     },
     "metadata": {},
     "output_type": "display_data"
    },
    {
     "data": {
      "text/html": [
       "<pre>recommendations finished on 153000/291086 queries. users per second: 451963</pre>"
      ],
      "text/plain": [
       "recommendations finished on 153000/291086 queries. users per second: 451963"
      ]
     },
     "metadata": {},
     "output_type": "display_data"
    },
    {
     "data": {
      "text/html": [
       "<pre>recommendations finished on 154000/291086 queries. users per second: 451253</pre>"
      ],
      "text/plain": [
       "recommendations finished on 154000/291086 queries. users per second: 451253"
      ]
     },
     "metadata": {},
     "output_type": "display_data"
    },
    {
     "data": {
      "text/html": [
       "<pre>recommendations finished on 155000/291086 queries. users per second: 451609</pre>"
      ],
      "text/plain": [
       "recommendations finished on 155000/291086 queries. users per second: 451609"
      ]
     },
     "metadata": {},
     "output_type": "display_data"
    },
    {
     "data": {
      "text/html": [
       "<pre>recommendations finished on 156000/291086 queries. users per second: 451953</pre>"
      ],
      "text/plain": [
       "recommendations finished on 156000/291086 queries. users per second: 451953"
      ]
     },
     "metadata": {},
     "output_type": "display_data"
    },
    {
     "data": {
      "text/html": [
       "<pre>recommendations finished on 157000/291086 queries. users per second: 452160</pre>"
      ],
      "text/plain": [
       "recommendations finished on 157000/291086 queries. users per second: 452160"
      ]
     },
     "metadata": {},
     "output_type": "display_data"
    },
    {
     "data": {
      "text/html": [
       "<pre>recommendations finished on 158000/291086 queries. users per second: 452590</pre>"
      ],
      "text/plain": [
       "recommendations finished on 158000/291086 queries. users per second: 452590"
      ]
     },
     "metadata": {},
     "output_type": "display_data"
    },
    {
     "data": {
      "text/html": [
       "<pre>recommendations finished on 159000/291086 queries. users per second: 452423</pre>"
      ],
      "text/plain": [
       "recommendations finished on 159000/291086 queries. users per second: 452423"
      ]
     },
     "metadata": {},
     "output_type": "display_data"
    },
    {
     "data": {
      "text/html": [
       "<pre>recommendations finished on 160000/291086 queries. users per second: 453440</pre>"
      ],
      "text/plain": [
       "recommendations finished on 160000/291086 queries. users per second: 453440"
      ]
     },
     "metadata": {},
     "output_type": "display_data"
    },
    {
     "data": {
      "text/html": [
       "<pre>recommendations finished on 161000/291086 queries. users per second: 454302</pre>"
      ],
      "text/plain": [
       "recommendations finished on 161000/291086 queries. users per second: 454302"
      ]
     },
     "metadata": {},
     "output_type": "display_data"
    },
    {
     "data": {
      "text/html": [
       "<pre>recommendations finished on 162000/291086 queries. users per second: 454842</pre>"
      ],
      "text/plain": [
       "recommendations finished on 162000/291086 queries. users per second: 454842"
      ]
     },
     "metadata": {},
     "output_type": "display_data"
    },
    {
     "data": {
      "text/html": [
       "<pre>recommendations finished on 163000/291086 queries. users per second: 455889</pre>"
      ],
      "text/plain": [
       "recommendations finished on 163000/291086 queries. users per second: 455889"
      ]
     },
     "metadata": {},
     "output_type": "display_data"
    },
    {
     "data": {
      "text/html": [
       "<pre>recommendations finished on 164000/291086 queries. users per second: 457049</pre>"
      ],
      "text/plain": [
       "recommendations finished on 164000/291086 queries. users per second: 457049"
      ]
     },
     "metadata": {},
     "output_type": "display_data"
    },
    {
     "data": {
      "text/html": [
       "<pre>recommendations finished on 165000/291086 queries. users per second: 458005</pre>"
      ],
      "text/plain": [
       "recommendations finished on 165000/291086 queries. users per second: 458005"
      ]
     },
     "metadata": {},
     "output_type": "display_data"
    },
    {
     "data": {
      "text/html": [
       "<pre>recommendations finished on 166000/291086 queries. users per second: 458938</pre>"
      ],
      "text/plain": [
       "recommendations finished on 166000/291086 queries. users per second: 458938"
      ]
     },
     "metadata": {},
     "output_type": "display_data"
    },
    {
     "data": {
      "text/html": [
       "<pre>recommendations finished on 167000/291086 queries. users per second: 459589</pre>"
      ],
      "text/plain": [
       "recommendations finished on 167000/291086 queries. users per second: 459589"
      ]
     },
     "metadata": {},
     "output_type": "display_data"
    },
    {
     "data": {
      "text/html": [
       "<pre>recommendations finished on 168000/291086 queries. users per second: 460089</pre>"
      ],
      "text/plain": [
       "recommendations finished on 168000/291086 queries. users per second: 460089"
      ]
     },
     "metadata": {},
     "output_type": "display_data"
    },
    {
     "data": {
      "text/html": [
       "<pre>recommendations finished on 169000/291086 queries. users per second: 460546</pre>"
      ],
      "text/plain": [
       "recommendations finished on 169000/291086 queries. users per second: 460546"
      ]
     },
     "metadata": {},
     "output_type": "display_data"
    },
    {
     "data": {
      "text/html": [
       "<pre>recommendations finished on 170000/291086 queries. users per second: 461134</pre>"
      ],
      "text/plain": [
       "recommendations finished on 170000/291086 queries. users per second: 461134"
      ]
     },
     "metadata": {},
     "output_type": "display_data"
    },
    {
     "data": {
      "text/html": [
       "<pre>recommendations finished on 171000/291086 queries. users per second: 461891</pre>"
      ],
      "text/plain": [
       "recommendations finished on 171000/291086 queries. users per second: 461891"
      ]
     },
     "metadata": {},
     "output_type": "display_data"
    },
    {
     "data": {
      "text/html": [
       "<pre>recommendations finished on 172000/291086 queries. users per second: 461312</pre>"
      ],
      "text/plain": [
       "recommendations finished on 172000/291086 queries. users per second: 461312"
      ]
     },
     "metadata": {},
     "output_type": "display_data"
    },
    {
     "data": {
      "text/html": [
       "<pre>recommendations finished on 173000/291086 queries. users per second: 462047</pre>"
      ],
      "text/plain": [
       "recommendations finished on 173000/291086 queries. users per second: 462047"
      ]
     },
     "metadata": {},
     "output_type": "display_data"
    },
    {
     "data": {
      "text/html": [
       "<pre>recommendations finished on 174000/291086 queries. users per second: 462403</pre>"
      ],
      "text/plain": [
       "recommendations finished on 174000/291086 queries. users per second: 462403"
      ]
     },
     "metadata": {},
     "output_type": "display_data"
    },
    {
     "data": {
      "text/html": [
       "<pre>recommendations finished on 175000/291086 queries. users per second: 461891</pre>"
      ],
      "text/plain": [
       "recommendations finished on 175000/291086 queries. users per second: 461891"
      ]
     },
     "metadata": {},
     "output_type": "display_data"
    },
    {
     "data": {
      "text/html": [
       "<pre>recommendations finished on 176000/291086 queries. users per second: 462349</pre>"
      ],
      "text/plain": [
       "recommendations finished on 176000/291086 queries. users per second: 462349"
      ]
     },
     "metadata": {},
     "output_type": "display_data"
    },
    {
     "data": {
      "text/html": [
       "<pre>recommendations finished on 177000/291086 queries. users per second: 463182</pre>"
      ],
      "text/plain": [
       "recommendations finished on 177000/291086 queries. users per second: 463182"
      ]
     },
     "metadata": {},
     "output_type": "display_data"
    },
    {
     "data": {
      "text/html": [
       "<pre>recommendations finished on 178000/291086 queries. users per second: 464165</pre>"
      ],
      "text/plain": [
       "recommendations finished on 178000/291086 queries. users per second: 464165"
      ]
     },
     "metadata": {},
     "output_type": "display_data"
    },
    {
     "data": {
      "text/html": [
       "<pre>recommendations finished on 179000/291086 queries. users per second: 465386</pre>"
      ],
      "text/plain": [
       "recommendations finished on 179000/291086 queries. users per second: 465386"
      ]
     },
     "metadata": {},
     "output_type": "display_data"
    },
    {
     "data": {
      "text/html": [
       "<pre>recommendations finished on 180000/291086 queries. users per second: 466320</pre>"
      ],
      "text/plain": [
       "recommendations finished on 180000/291086 queries. users per second: 466320"
      ]
     },
     "metadata": {},
     "output_type": "display_data"
    },
    {
     "data": {
      "text/html": [
       "<pre>recommendations finished on 181000/291086 queries. users per second: 467014</pre>"
      ],
      "text/plain": [
       "recommendations finished on 181000/291086 queries. users per second: 467014"
      ]
     },
     "metadata": {},
     "output_type": "display_data"
    },
    {
     "data": {
      "text/html": [
       "<pre>recommendations finished on 182000/291086 queries. users per second: 466396</pre>"
      ],
      "text/plain": [
       "recommendations finished on 182000/291086 queries. users per second: 466396"
      ]
     },
     "metadata": {},
     "output_type": "display_data"
    },
    {
     "data": {
      "text/html": [
       "<pre>recommendations finished on 183000/291086 queries. users per second: 467241</pre>"
      ],
      "text/plain": [
       "recommendations finished on 183000/291086 queries. users per second: 467241"
      ]
     },
     "metadata": {},
     "output_type": "display_data"
    },
    {
     "data": {
      "text/html": [
       "<pre>recommendations finished on 184000/291086 queries. users per second: 467748</pre>"
      ],
      "text/plain": [
       "recommendations finished on 184000/291086 queries. users per second: 467748"
      ]
     },
     "metadata": {},
     "output_type": "display_data"
    },
    {
     "data": {
      "text/html": [
       "<pre>recommendations finished on 185000/291086 queries. users per second: 468103</pre>"
      ],
      "text/plain": [
       "recommendations finished on 185000/291086 queries. users per second: 468103"
      ]
     },
     "metadata": {},
     "output_type": "display_data"
    },
    {
     "data": {
      "text/html": [
       "<pre>recommendations finished on 186000/291086 queries. users per second: 468755</pre>"
      ],
      "text/plain": [
       "recommendations finished on 186000/291086 queries. users per second: 468755"
      ]
     },
     "metadata": {},
     "output_type": "display_data"
    },
    {
     "data": {
      "text/html": [
       "<pre>recommendations finished on 187000/291086 queries. users per second: 469702</pre>"
      ],
      "text/plain": [
       "recommendations finished on 187000/291086 queries. users per second: 469702"
      ]
     },
     "metadata": {},
     "output_type": "display_data"
    },
    {
     "data": {
      "text/html": [
       "<pre>recommendations finished on 188000/291086 queries. users per second: 470824</pre>"
      ],
      "text/plain": [
       "recommendations finished on 188000/291086 queries. users per second: 470824"
      ]
     },
     "metadata": {},
     "output_type": "display_data"
    },
    {
     "data": {
      "text/html": [
       "<pre>recommendations finished on 189000/291086 queries. users per second: 471995</pre>"
      ],
      "text/plain": [
       "recommendations finished on 189000/291086 queries. users per second: 471995"
      ]
     },
     "metadata": {},
     "output_type": "display_data"
    },
    {
     "data": {
      "text/html": [
       "<pre>recommendations finished on 190000/291086 queries. users per second: 473123</pre>"
      ],
      "text/plain": [
       "recommendations finished on 190000/291086 queries. users per second: 473123"
      ]
     },
     "metadata": {},
     "output_type": "display_data"
    },
    {
     "data": {
      "text/html": [
       "<pre>recommendations finished on 191000/291086 queries. users per second: 474234</pre>"
      ],
      "text/plain": [
       "recommendations finished on 191000/291086 queries. users per second: 474234"
      ]
     },
     "metadata": {},
     "output_type": "display_data"
    },
    {
     "data": {
      "text/html": [
       "<pre>recommendations finished on 192000/291086 queries. users per second: 474624</pre>"
      ],
      "text/plain": [
       "recommendations finished on 192000/291086 queries. users per second: 474624"
      ]
     },
     "metadata": {},
     "output_type": "display_data"
    },
    {
     "data": {
      "text/html": [
       "<pre>recommendations finished on 193000/291086 queries. users per second: 473616</pre>"
      ],
      "text/plain": [
       "recommendations finished on 193000/291086 queries. users per second: 473616"
      ]
     },
     "metadata": {},
     "output_type": "display_data"
    },
    {
     "data": {
      "text/html": [
       "<pre>recommendations finished on 194000/291086 queries. users per second: 474127</pre>"
      ],
      "text/plain": [
       "recommendations finished on 194000/291086 queries. users per second: 474127"
      ]
     },
     "metadata": {},
     "output_type": "display_data"
    },
    {
     "data": {
      "text/html": [
       "<pre>recommendations finished on 195000/291086 queries. users per second: 475062</pre>"
      ],
      "text/plain": [
       "recommendations finished on 195000/291086 queries. users per second: 475062"
      ]
     },
     "metadata": {},
     "output_type": "display_data"
    },
    {
     "data": {
      "text/html": [
       "<pre>recommendations finished on 196000/291086 queries. users per second: 475845</pre>"
      ],
      "text/plain": [
       "recommendations finished on 196000/291086 queries. users per second: 475845"
      ]
     },
     "metadata": {},
     "output_type": "display_data"
    },
    {
     "data": {
      "text/html": [
       "<pre>recommendations finished on 197000/291086 queries. users per second: 475450</pre>"
      ],
      "text/plain": [
       "recommendations finished on 197000/291086 queries. users per second: 475450"
      ]
     },
     "metadata": {},
     "output_type": "display_data"
    },
    {
     "data": {
      "text/html": [
       "<pre>recommendations finished on 198000/291086 queries. users per second: 475565</pre>"
      ],
      "text/plain": [
       "recommendations finished on 198000/291086 queries. users per second: 475565"
      ]
     },
     "metadata": {},
     "output_type": "display_data"
    },
    {
     "data": {
      "text/html": [
       "<pre>recommendations finished on 199000/291086 queries. users per second: 476254</pre>"
      ],
      "text/plain": [
       "recommendations finished on 199000/291086 queries. users per second: 476254"
      ]
     },
     "metadata": {},
     "output_type": "display_data"
    },
    {
     "data": {
      "text/html": [
       "<pre>recommendations finished on 200000/291086 queries. users per second: 477153</pre>"
      ],
      "text/plain": [
       "recommendations finished on 200000/291086 queries. users per second: 477153"
      ]
     },
     "metadata": {},
     "output_type": "display_data"
    },
    {
     "data": {
      "text/html": [
       "<pre>recommendations finished on 201000/291086 queries. users per second: 477834</pre>"
      ],
      "text/plain": [
       "recommendations finished on 201000/291086 queries. users per second: 477834"
      ]
     },
     "metadata": {},
     "output_type": "display_data"
    },
    {
     "data": {
      "text/html": [
       "<pre>recommendations finished on 202000/291086 queries. users per second: 478323</pre>"
      ],
      "text/plain": [
       "recommendations finished on 202000/291086 queries. users per second: 478323"
      ]
     },
     "metadata": {},
     "output_type": "display_data"
    },
    {
     "data": {
      "text/html": [
       "<pre>recommendations finished on 203000/291086 queries. users per second: 478933</pre>"
      ],
      "text/plain": [
       "recommendations finished on 203000/291086 queries. users per second: 478933"
      ]
     },
     "metadata": {},
     "output_type": "display_data"
    },
    {
     "data": {
      "text/html": [
       "<pre>recommendations finished on 204000/291086 queries. users per second: 479446</pre>"
      ],
      "text/plain": [
       "recommendations finished on 204000/291086 queries. users per second: 479446"
      ]
     },
     "metadata": {},
     "output_type": "display_data"
    },
    {
     "data": {
      "text/html": [
       "<pre>recommendations finished on 205000/291086 queries. users per second: 480302</pre>"
      ],
      "text/plain": [
       "recommendations finished on 205000/291086 queries. users per second: 480302"
      ]
     },
     "metadata": {},
     "output_type": "display_data"
    },
    {
     "data": {
      "text/html": [
       "<pre>recommendations finished on 206000/291086 queries. users per second: 480487</pre>"
      ],
      "text/plain": [
       "recommendations finished on 206000/291086 queries. users per second: 480487"
      ]
     },
     "metadata": {},
     "output_type": "display_data"
    },
    {
     "data": {
      "text/html": [
       "<pre>recommendations finished on 207000/291086 queries. users per second: 480283</pre>"
      ],
      "text/plain": [
       "recommendations finished on 207000/291086 queries. users per second: 480283"
      ]
     },
     "metadata": {},
     "output_type": "display_data"
    },
    {
     "data": {
      "text/html": [
       "<pre>recommendations finished on 208000/291086 queries. users per second: 481077</pre>"
      ],
      "text/plain": [
       "recommendations finished on 208000/291086 queries. users per second: 481077"
      ]
     },
     "metadata": {},
     "output_type": "display_data"
    },
    {
     "data": {
      "text/html": [
       "<pre>recommendations finished on 209000/291086 queries. users per second: 482016</pre>"
      ],
      "text/plain": [
       "recommendations finished on 209000/291086 queries. users per second: 482016"
      ]
     },
     "metadata": {},
     "output_type": "display_data"
    },
    {
     "data": {
      "text/html": [
       "<pre>recommendations finished on 210000/291086 queries. users per second: 483024</pre>"
      ],
      "text/plain": [
       "recommendations finished on 210000/291086 queries. users per second: 483024"
      ]
     },
     "metadata": {},
     "output_type": "display_data"
    },
    {
     "data": {
      "text/html": [
       "<pre>recommendations finished on 211000/291086 queries. users per second: 483914</pre>"
      ],
      "text/plain": [
       "recommendations finished on 211000/291086 queries. users per second: 483914"
      ]
     },
     "metadata": {},
     "output_type": "display_data"
    },
    {
     "data": {
      "text/html": [
       "<pre>recommendations finished on 212000/291086 queries. users per second: 484546</pre>"
      ],
      "text/plain": [
       "recommendations finished on 212000/291086 queries. users per second: 484546"
      ]
     },
     "metadata": {},
     "output_type": "display_data"
    },
    {
     "data": {
      "text/html": [
       "<pre>recommendations finished on 213000/291086 queries. users per second: 484220</pre>"
      ],
      "text/plain": [
       "recommendations finished on 213000/291086 queries. users per second: 484220"
      ]
     },
     "metadata": {},
     "output_type": "display_data"
    },
    {
     "data": {
      "text/html": [
       "<pre>recommendations finished on 214000/291086 queries. users per second: 485025</pre>"
      ],
      "text/plain": [
       "recommendations finished on 214000/291086 queries. users per second: 485025"
      ]
     },
     "metadata": {},
     "output_type": "display_data"
    },
    {
     "data": {
      "text/html": [
       "<pre>recommendations finished on 215000/291086 queries. users per second: 485899</pre>"
      ],
      "text/plain": [
       "recommendations finished on 215000/291086 queries. users per second: 485899"
      ]
     },
     "metadata": {},
     "output_type": "display_data"
    },
    {
     "data": {
      "text/html": [
       "<pre>recommendations finished on 216000/291086 queries. users per second: 486378</pre>"
      ],
      "text/plain": [
       "recommendations finished on 216000/291086 queries. users per second: 486378"
      ]
     },
     "metadata": {},
     "output_type": "display_data"
    },
    {
     "data": {
      "text/html": [
       "<pre>recommendations finished on 217000/291086 queries. users per second: 487300</pre>"
      ],
      "text/plain": [
       "recommendations finished on 217000/291086 queries. users per second: 487300"
      ]
     },
     "metadata": {},
     "output_type": "display_data"
    },
    {
     "data": {
      "text/html": [
       "<pre>recommendations finished on 218000/291086 queries. users per second: 488184</pre>"
      ],
      "text/plain": [
       "recommendations finished on 218000/291086 queries. users per second: 488184"
      ]
     },
     "metadata": {},
     "output_type": "display_data"
    },
    {
     "data": {
      "text/html": [
       "<pre>recommendations finished on 219000/291086 queries. users per second: 487566</pre>"
      ],
      "text/plain": [
       "recommendations finished on 219000/291086 queries. users per second: 487566"
      ]
     },
     "metadata": {},
     "output_type": "display_data"
    },
    {
     "data": {
      "text/html": [
       "<pre>recommendations finished on 220000/291086 queries. users per second: 488597</pre>"
      ],
      "text/plain": [
       "recommendations finished on 220000/291086 queries. users per second: 488597"
      ]
     },
     "metadata": {},
     "output_type": "display_data"
    },
    {
     "data": {
      "text/html": [
       "<pre>recommendations finished on 221000/291086 queries. users per second: 489473</pre>"
      ],
      "text/plain": [
       "recommendations finished on 221000/291086 queries. users per second: 489473"
      ]
     },
     "metadata": {},
     "output_type": "display_data"
    },
    {
     "data": {
      "text/html": [
       "<pre>recommendations finished on 222000/291086 queries. users per second: 485719</pre>"
      ],
      "text/plain": [
       "recommendations finished on 222000/291086 queries. users per second: 485719"
      ]
     },
     "metadata": {},
     "output_type": "display_data"
    },
    {
     "data": {
      "text/html": [
       "<pre>recommendations finished on 223000/291086 queries. users per second: 486539</pre>"
      ],
      "text/plain": [
       "recommendations finished on 223000/291086 queries. users per second: 486539"
      ]
     },
     "metadata": {},
     "output_type": "display_data"
    },
    {
     "data": {
      "text/html": [
       "<pre>recommendations finished on 224000/291086 queries. users per second: 487356</pre>"
      ],
      "text/plain": [
       "recommendations finished on 224000/291086 queries. users per second: 487356"
      ]
     },
     "metadata": {},
     "output_type": "display_data"
    },
    {
     "data": {
      "text/html": [
       "<pre>recommendations finished on 225000/291086 queries. users per second: 487811</pre>"
      ],
      "text/plain": [
       "recommendations finished on 225000/291086 queries. users per second: 487811"
      ]
     },
     "metadata": {},
     "output_type": "display_data"
    },
    {
     "data": {
      "text/html": [
       "<pre>recommendations finished on 226000/291086 queries. users per second: 488453</pre>"
      ],
      "text/plain": [
       "recommendations finished on 226000/291086 queries. users per second: 488453"
      ]
     },
     "metadata": {},
     "output_type": "display_data"
    },
    {
     "data": {
      "text/html": [
       "<pre>recommendations finished on 227000/291086 queries. users per second: 489365</pre>"
      ],
      "text/plain": [
       "recommendations finished on 227000/291086 queries. users per second: 489365"
      ]
     },
     "metadata": {},
     "output_type": "display_data"
    },
    {
     "data": {
      "text/html": [
       "<pre>recommendations finished on 228000/291086 queries. users per second: 490309</pre>"
      ],
      "text/plain": [
       "recommendations finished on 228000/291086 queries. users per second: 490309"
      ]
     },
     "metadata": {},
     "output_type": "display_data"
    },
    {
     "data": {
      "text/html": [
       "<pre>recommendations finished on 229000/291086 queries. users per second: 491100</pre>"
      ],
      "text/plain": [
       "recommendations finished on 229000/291086 queries. users per second: 491100"
      ]
     },
     "metadata": {},
     "output_type": "display_data"
    },
    {
     "data": {
      "text/html": [
       "<pre>recommendations finished on 230000/291086 queries. users per second: 491884</pre>"
      ],
      "text/plain": [
       "recommendations finished on 230000/291086 queries. users per second: 491884"
      ]
     },
     "metadata": {},
     "output_type": "display_data"
    },
    {
     "data": {
      "text/html": [
       "<pre>recommendations finished on 231000/291086 queries. users per second: 492782</pre>"
      ],
      "text/plain": [
       "recommendations finished on 231000/291086 queries. users per second: 492782"
      ]
     },
     "metadata": {},
     "output_type": "display_data"
    },
    {
     "data": {
      "text/html": [
       "<pre>recommendations finished on 232000/291086 queries. users per second: 493323</pre>"
      ],
      "text/plain": [
       "recommendations finished on 232000/291086 queries. users per second: 493323"
      ]
     },
     "metadata": {},
     "output_type": "display_data"
    },
    {
     "data": {
      "text/html": [
       "<pre>recommendations finished on 233000/291086 queries. users per second: 489377</pre>"
      ],
      "text/plain": [
       "recommendations finished on 233000/291086 queries. users per second: 489377"
      ]
     },
     "metadata": {},
     "output_type": "display_data"
    },
    {
     "data": {
      "text/html": [
       "<pre>recommendations finished on 234000/291086 queries. users per second: 490153</pre>"
      ],
      "text/plain": [
       "recommendations finished on 234000/291086 queries. users per second: 490153"
      ]
     },
     "metadata": {},
     "output_type": "display_data"
    },
    {
     "data": {
      "text/html": [
       "<pre>recommendations finished on 235000/291086 queries. users per second: 490993</pre>"
      ],
      "text/plain": [
       "recommendations finished on 235000/291086 queries. users per second: 490993"
      ]
     },
     "metadata": {},
     "output_type": "display_data"
    },
    {
     "data": {
      "text/html": [
       "<pre>recommendations finished on 236000/291086 queries. users per second: 491894</pre>"
      ],
      "text/plain": [
       "recommendations finished on 236000/291086 queries. users per second: 491894"
      ]
     },
     "metadata": {},
     "output_type": "display_data"
    },
    {
     "data": {
      "text/html": [
       "<pre>recommendations finished on 237000/291086 queries. users per second: 492708</pre>"
      ],
      "text/plain": [
       "recommendations finished on 237000/291086 queries. users per second: 492708"
      ]
     },
     "metadata": {},
     "output_type": "display_data"
    },
    {
     "data": {
      "text/html": [
       "<pre>recommendations finished on 238000/291086 queries. users per second: 493600</pre>"
      ],
      "text/plain": [
       "recommendations finished on 238000/291086 queries. users per second: 493600"
      ]
     },
     "metadata": {},
     "output_type": "display_data"
    },
    {
     "data": {
      "text/html": [
       "<pre>recommendations finished on 239000/291086 queries. users per second: 494353</pre>"
      ],
      "text/plain": [
       "recommendations finished on 239000/291086 queries. users per second: 494353"
      ]
     },
     "metadata": {},
     "output_type": "display_data"
    },
    {
     "data": {
      "text/html": [
       "<pre>recommendations finished on 240000/291086 queries. users per second: 495225</pre>"
      ],
      "text/plain": [
       "recommendations finished on 240000/291086 queries. users per second: 495225"
      ]
     },
     "metadata": {},
     "output_type": "display_data"
    },
    {
     "data": {
      "text/html": [
       "<pre>recommendations finished on 241000/291086 queries. users per second: 495888</pre>"
      ],
      "text/plain": [
       "recommendations finished on 241000/291086 queries. users per second: 495888"
      ]
     },
     "metadata": {},
     "output_type": "display_data"
    },
    {
     "data": {
      "text/html": [
       "<pre>recommendations finished on 242000/291086 queries. users per second: 495593</pre>"
      ],
      "text/plain": [
       "recommendations finished on 242000/291086 queries. users per second: 495593"
      ]
     },
     "metadata": {},
     "output_type": "display_data"
    },
    {
     "data": {
      "text/html": [
       "<pre>recommendations finished on 243000/291086 queries. users per second: 495565</pre>"
      ],
      "text/plain": [
       "recommendations finished on 243000/291086 queries. users per second: 495565"
      ]
     },
     "metadata": {},
     "output_type": "display_data"
    },
    {
     "data": {
      "text/html": [
       "<pre>recommendations finished on 244000/291086 queries. users per second: 495197</pre>"
      ],
      "text/plain": [
       "recommendations finished on 244000/291086 queries. users per second: 495197"
      ]
     },
     "metadata": {},
     "output_type": "display_data"
    },
    {
     "data": {
      "text/html": [
       "<pre>recommendations finished on 245000/291086 queries. users per second: 495275</pre>"
      ],
      "text/plain": [
       "recommendations finished on 245000/291086 queries. users per second: 495275"
      ]
     },
     "metadata": {},
     "output_type": "display_data"
    },
    {
     "data": {
      "text/html": [
       "<pre>recommendations finished on 246000/291086 queries. users per second: 495373</pre>"
      ],
      "text/plain": [
       "recommendations finished on 246000/291086 queries. users per second: 495373"
      ]
     },
     "metadata": {},
     "output_type": "display_data"
    },
    {
     "data": {
      "text/html": [
       "<pre>recommendations finished on 247000/291086 queries. users per second: 495200</pre>"
      ],
      "text/plain": [
       "recommendations finished on 247000/291086 queries. users per second: 495200"
      ]
     },
     "metadata": {},
     "output_type": "display_data"
    },
    {
     "data": {
      "text/html": [
       "<pre>recommendations finished on 248000/291086 queries. users per second: 495121</pre>"
      ],
      "text/plain": [
       "recommendations finished on 248000/291086 queries. users per second: 495121"
      ]
     },
     "metadata": {},
     "output_type": "display_data"
    },
    {
     "data": {
      "text/html": [
       "<pre>recommendations finished on 249000/291086 queries. users per second: 495323</pre>"
      ],
      "text/plain": [
       "recommendations finished on 249000/291086 queries. users per second: 495323"
      ]
     },
     "metadata": {},
     "output_type": "display_data"
    },
    {
     "data": {
      "text/html": [
       "<pre>recommendations finished on 250000/291086 queries. users per second: 494592</pre>"
      ],
      "text/plain": [
       "recommendations finished on 250000/291086 queries. users per second: 494592"
      ]
     },
     "metadata": {},
     "output_type": "display_data"
    },
    {
     "data": {
      "text/html": [
       "<pre>recommendations finished on 251000/291086 queries. users per second: 492825</pre>"
      ],
      "text/plain": [
       "recommendations finished on 251000/291086 queries. users per second: 492825"
      ]
     },
     "metadata": {},
     "output_type": "display_data"
    },
    {
     "data": {
      "text/html": [
       "<pre>recommendations finished on 252000/291086 queries. users per second: 491679</pre>"
      ],
      "text/plain": [
       "recommendations finished on 252000/291086 queries. users per second: 491679"
      ]
     },
     "metadata": {},
     "output_type": "display_data"
    },
    {
     "data": {
      "text/html": [
       "<pre>recommendations finished on 253000/291086 queries. users per second: 490206</pre>"
      ],
      "text/plain": [
       "recommendations finished on 253000/291086 queries. users per second: 490206"
      ]
     },
     "metadata": {},
     "output_type": "display_data"
    },
    {
     "data": {
      "text/html": [
       "<pre>recommendations finished on 254000/291086 queries. users per second: 490269</pre>"
      ],
      "text/plain": [
       "recommendations finished on 254000/291086 queries. users per second: 490269"
      ]
     },
     "metadata": {},
     "output_type": "display_data"
    },
    {
     "data": {
      "text/html": [
       "<pre>recommendations finished on 255000/291086 queries. users per second: 490620</pre>"
      ],
      "text/plain": [
       "recommendations finished on 255000/291086 queries. users per second: 490620"
      ]
     },
     "metadata": {},
     "output_type": "display_data"
    },
    {
     "data": {
      "text/html": [
       "<pre>recommendations finished on 256000/291086 queries. users per second: 489683</pre>"
      ],
      "text/plain": [
       "recommendations finished on 256000/291086 queries. users per second: 489683"
      ]
     },
     "metadata": {},
     "output_type": "display_data"
    },
    {
     "data": {
      "text/html": [
       "<pre>recommendations finished on 257000/291086 queries. users per second: 489078</pre>"
      ],
      "text/plain": [
       "recommendations finished on 257000/291086 queries. users per second: 489078"
      ]
     },
     "metadata": {},
     "output_type": "display_data"
    },
    {
     "data": {
      "text/html": [
       "<pre>recommendations finished on 258000/291086 queries. users per second: 488821</pre>"
      ],
      "text/plain": [
       "recommendations finished on 258000/291086 queries. users per second: 488821"
      ]
     },
     "metadata": {},
     "output_type": "display_data"
    },
    {
     "data": {
      "text/html": [
       "<pre>recommendations finished on 259000/291086 queries. users per second: 489164</pre>"
      ],
      "text/plain": [
       "recommendations finished on 259000/291086 queries. users per second: 489164"
      ]
     },
     "metadata": {},
     "output_type": "display_data"
    },
    {
     "data": {
      "text/html": [
       "<pre>recommendations finished on 260000/291086 queries. users per second: 489480</pre>"
      ],
      "text/plain": [
       "recommendations finished on 260000/291086 queries. users per second: 489480"
      ]
     },
     "metadata": {},
     "output_type": "display_data"
    },
    {
     "data": {
      "text/html": [
       "<pre>recommendations finished on 261000/291086 queries. users per second: 489802</pre>"
      ],
      "text/plain": [
       "recommendations finished on 261000/291086 queries. users per second: 489802"
      ]
     },
     "metadata": {},
     "output_type": "display_data"
    },
    {
     "data": {
      "text/html": [
       "<pre>recommendations finished on 262000/291086 queries. users per second: 489988</pre>"
      ],
      "text/plain": [
       "recommendations finished on 262000/291086 queries. users per second: 489988"
      ]
     },
     "metadata": {},
     "output_type": "display_data"
    },
    {
     "data": {
      "text/html": [
       "<pre>recommendations finished on 263000/291086 queries. users per second: 490054</pre>"
      ],
      "text/plain": [
       "recommendations finished on 263000/291086 queries. users per second: 490054"
      ]
     },
     "metadata": {},
     "output_type": "display_data"
    },
    {
     "data": {
      "text/html": [
       "<pre>recommendations finished on 264000/291086 queries. users per second: 487005</pre>"
      ],
      "text/plain": [
       "recommendations finished on 264000/291086 queries. users per second: 487005"
      ]
     },
     "metadata": {},
     "output_type": "display_data"
    },
    {
     "data": {
      "text/html": [
       "<pre>recommendations finished on 265000/291086 queries. users per second: 483212</pre>"
      ],
      "text/plain": [
       "recommendations finished on 265000/291086 queries. users per second: 483212"
      ]
     },
     "metadata": {},
     "output_type": "display_data"
    },
    {
     "data": {
      "text/html": [
       "<pre>recommendations finished on 266000/291086 queries. users per second: 482380</pre>"
      ],
      "text/plain": [
       "recommendations finished on 266000/291086 queries. users per second: 482380"
      ]
     },
     "metadata": {},
     "output_type": "display_data"
    },
    {
     "data": {
      "text/html": [
       "<pre>recommendations finished on 267000/291086 queries. users per second: 482145</pre>"
      ],
      "text/plain": [
       "recommendations finished on 267000/291086 queries. users per second: 482145"
      ]
     },
     "metadata": {},
     "output_type": "display_data"
    },
    {
     "data": {
      "text/html": [
       "<pre>recommendations finished on 268000/291086 queries. users per second: 481773</pre>"
      ],
      "text/plain": [
       "recommendations finished on 268000/291086 queries. users per second: 481773"
      ]
     },
     "metadata": {},
     "output_type": "display_data"
    },
    {
     "data": {
      "text/html": [
       "<pre>recommendations finished on 269000/291086 queries. users per second: 481967</pre>"
      ],
      "text/plain": [
       "recommendations finished on 269000/291086 queries. users per second: 481967"
      ]
     },
     "metadata": {},
     "output_type": "display_data"
    },
    {
     "data": {
      "text/html": [
       "<pre>recommendations finished on 270000/291086 queries. users per second: 481914</pre>"
      ],
      "text/plain": [
       "recommendations finished on 270000/291086 queries. users per second: 481914"
      ]
     },
     "metadata": {},
     "output_type": "display_data"
    },
    {
     "data": {
      "text/html": [
       "<pre>recommendations finished on 271000/291086 queries. users per second: 481576</pre>"
      ],
      "text/plain": [
       "recommendations finished on 271000/291086 queries. users per second: 481576"
      ]
     },
     "metadata": {},
     "output_type": "display_data"
    },
    {
     "data": {
      "text/html": [
       "<pre>recommendations finished on 272000/291086 queries. users per second: 481410</pre>"
      ],
      "text/plain": [
       "recommendations finished on 272000/291086 queries. users per second: 481410"
      ]
     },
     "metadata": {},
     "output_type": "display_data"
    },
    {
     "data": {
      "text/html": [
       "<pre>recommendations finished on 273000/291086 queries. users per second: 479895</pre>"
      ],
      "text/plain": [
       "recommendations finished on 273000/291086 queries. users per second: 479895"
      ]
     },
     "metadata": {},
     "output_type": "display_data"
    },
    {
     "data": {
      "text/html": [
       "<pre>recommendations finished on 274000/291086 queries. users per second: 480045</pre>"
      ],
      "text/plain": [
       "recommendations finished on 274000/291086 queries. users per second: 480045"
      ]
     },
     "metadata": {},
     "output_type": "display_data"
    },
    {
     "data": {
      "text/html": [
       "<pre>recommendations finished on 275000/291086 queries. users per second: 480195</pre>"
      ],
      "text/plain": [
       "recommendations finished on 275000/291086 queries. users per second: 480195"
      ]
     },
     "metadata": {},
     "output_type": "display_data"
    },
    {
     "data": {
      "text/html": [
       "<pre>recommendations finished on 276000/291086 queries. users per second: 480236</pre>"
      ],
      "text/plain": [
       "recommendations finished on 276000/291086 queries. users per second: 480236"
      ]
     },
     "metadata": {},
     "output_type": "display_data"
    },
    {
     "data": {
      "text/html": [
       "<pre>recommendations finished on 277000/291086 queries. users per second: 479633</pre>"
      ],
      "text/plain": [
       "recommendations finished on 277000/291086 queries. users per second: 479633"
      ]
     },
     "metadata": {},
     "output_type": "display_data"
    },
    {
     "data": {
      "text/html": [
       "<pre>recommendations finished on 278000/291086 queries. users per second: 479143</pre>"
      ],
      "text/plain": [
       "recommendations finished on 278000/291086 queries. users per second: 479143"
      ]
     },
     "metadata": {},
     "output_type": "display_data"
    },
    {
     "data": {
      "text/html": [
       "<pre>recommendations finished on 279000/291086 queries. users per second: 477840</pre>"
      ],
      "text/plain": [
       "recommendations finished on 279000/291086 queries. users per second: 477840"
      ]
     },
     "metadata": {},
     "output_type": "display_data"
    },
    {
     "data": {
      "text/html": [
       "<pre>recommendations finished on 280000/291086 queries. users per second: 477552</pre>"
      ],
      "text/plain": [
       "recommendations finished on 280000/291086 queries. users per second: 477552"
      ]
     },
     "metadata": {},
     "output_type": "display_data"
    },
    {
     "data": {
      "text/html": [
       "<pre>recommendations finished on 281000/291086 queries. users per second: 477507</pre>"
      ],
      "text/plain": [
       "recommendations finished on 281000/291086 queries. users per second: 477507"
      ]
     },
     "metadata": {},
     "output_type": "display_data"
    },
    {
     "data": {
      "text/html": [
       "<pre>recommendations finished on 282000/291086 queries. users per second: 477472</pre>"
      ],
      "text/plain": [
       "recommendations finished on 282000/291086 queries. users per second: 477472"
      ]
     },
     "metadata": {},
     "output_type": "display_data"
    },
    {
     "data": {
      "text/html": [
       "<pre>recommendations finished on 283000/291086 queries. users per second: 477271</pre>"
      ],
      "text/plain": [
       "recommendations finished on 283000/291086 queries. users per second: 477271"
      ]
     },
     "metadata": {},
     "output_type": "display_data"
    },
    {
     "data": {
      "text/html": [
       "<pre>recommendations finished on 284000/291086 queries. users per second: 476728</pre>"
      ],
      "text/plain": [
       "recommendations finished on 284000/291086 queries. users per second: 476728"
      ]
     },
     "metadata": {},
     "output_type": "display_data"
    },
    {
     "data": {
      "text/html": [
       "<pre>recommendations finished on 285000/291086 queries. users per second: 476873</pre>"
      ],
      "text/plain": [
       "recommendations finished on 285000/291086 queries. users per second: 476873"
      ]
     },
     "metadata": {},
     "output_type": "display_data"
    },
    {
     "data": {
      "text/html": [
       "<pre>recommendations finished on 286000/291086 queries. users per second: 476700</pre>"
      ],
      "text/plain": [
       "recommendations finished on 286000/291086 queries. users per second: 476700"
      ]
     },
     "metadata": {},
     "output_type": "display_data"
    },
    {
     "data": {
      "text/html": [
       "<pre>recommendations finished on 287000/291086 queries. users per second: 476397</pre>"
      ],
      "text/plain": [
       "recommendations finished on 287000/291086 queries. users per second: 476397"
      ]
     },
     "metadata": {},
     "output_type": "display_data"
    },
    {
     "data": {
      "text/html": [
       "<pre>recommendations finished on 288000/291086 queries. users per second: 476266</pre>"
      ],
      "text/plain": [
       "recommendations finished on 288000/291086 queries. users per second: 476266"
      ]
     },
     "metadata": {},
     "output_type": "display_data"
    },
    {
     "data": {
      "text/html": [
       "<pre>recommendations finished on 289000/291086 queries. users per second: 475811</pre>"
      ],
      "text/plain": [
       "recommendations finished on 289000/291086 queries. users per second: 475811"
      ]
     },
     "metadata": {},
     "output_type": "display_data"
    },
    {
     "data": {
      "text/html": [
       "<pre>recommendations finished on 290000/291086 queries. users per second: 475459</pre>"
      ],
      "text/plain": [
       "recommendations finished on 290000/291086 queries. users per second: 475459"
      ]
     },
     "metadata": {},
     "output_type": "display_data"
    },
    {
     "data": {
      "text/html": [
       "<pre>recommendations finished on 291000/291086 queries. users per second: 470567</pre>"
      ],
      "text/plain": [
       "recommendations finished on 291000/291086 queries. users per second: 470567"
      ]
     },
     "metadata": {},
     "output_type": "display_data"
    }
   ],
   "source": [
    "# variables to define field names: \n",
    "user_id = 'COD_CLIENTE'\n",
    "item_id = 'COD_PRODUTO'\n",
    "item_name = 'NOME_PRODUTO'\n",
    "users_to_recommend = list(buyers[user_id])\n",
    "n_recommendation = 10 # itens to recommend\n",
    "\n",
    "\n",
    "# Chosen model\n",
    "def recom_model(train_data, user_id, item_id, \n",
    "          users_to_recommend, n_rec):\n",
    "    model = tc.item_similarity_recommender.create(tc.SFrame(train_data),\n",
    "                                                   user_id = user_id,\n",
    "                                                   item_id = item_id,\n",
    "                                                   target = 'FREQ_COMPRAS',\n",
    "                                                   similarity_type='cosine')\n",
    "    recom = model.recommend(users=users_to_recommend, k=n_rec)\n",
    "    return recom\n",
    "\n",
    "\n",
    "recom = recom_model(data_norm, user_id, item_id, users_to_recommend, n_recommendation)\n",
    "#recom.print_rows(n_display)"
   ]
  },
  {
   "cell_type": "code",
   "execution_count": 14,
   "metadata": {},
   "outputs": [
    {
     "name": "stdout",
     "output_type": "stream",
     "text": [
      "(2910860, 4)\n"
     ]
    },
    {
     "data": {
      "text/html": [
       "<div>\n",
       "<style scoped>\n",
       "    .dataframe tbody tr th:only-of-type {\n",
       "        vertical-align: middle;\n",
       "    }\n",
       "\n",
       "    .dataframe tbody tr th {\n",
       "        vertical-align: top;\n",
       "    }\n",
       "\n",
       "    .dataframe thead th {\n",
       "        text-align: right;\n",
       "    }\n",
       "</style>\n",
       "<table border=\"1\" class=\"dataframe\">\n",
       "  <thead>\n",
       "    <tr style=\"text-align: right;\">\n",
       "      <th></th>\n",
       "      <th>COD_CLIENTE</th>\n",
       "      <th>COD_PRODUTO</th>\n",
       "      <th>score</th>\n",
       "      <th>rank</th>\n",
       "    </tr>\n",
       "  </thead>\n",
       "  <tbody>\n",
       "    <tr>\n",
       "      <th>0</th>\n",
       "      <td>5190001</td>\n",
       "      <td>18662</td>\n",
       "      <td>0.0</td>\n",
       "      <td>1</td>\n",
       "    </tr>\n",
       "    <tr>\n",
       "      <th>1</th>\n",
       "      <td>5190001</td>\n",
       "      <td>18247</td>\n",
       "      <td>0.0</td>\n",
       "      <td>2</td>\n",
       "    </tr>\n",
       "    <tr>\n",
       "      <th>2</th>\n",
       "      <td>5190001</td>\n",
       "      <td>17868</td>\n",
       "      <td>0.0</td>\n",
       "      <td>3</td>\n",
       "    </tr>\n",
       "    <tr>\n",
       "      <th>3</th>\n",
       "      <td>5190001</td>\n",
       "      <td>17591</td>\n",
       "      <td>0.0</td>\n",
       "      <td>4</td>\n",
       "    </tr>\n",
       "    <tr>\n",
       "      <th>4</th>\n",
       "      <td>5190001</td>\n",
       "      <td>17372</td>\n",
       "      <td>0.0</td>\n",
       "      <td>5</td>\n",
       "    </tr>\n",
       "  </tbody>\n",
       "</table>\n",
       "</div>"
      ],
      "text/plain": [
       "  COD_CLIENTE  COD_PRODUTO  score  rank\n",
       "0     5190001        18662    0.0     1\n",
       "1     5190001        18247    0.0     2\n",
       "2     5190001        17868    0.0     3\n",
       "3     5190001        17591    0.0     4\n",
       "4     5190001        17372    0.0     5"
      ]
     },
     "execution_count": 14,
     "metadata": {},
     "output_type": "execute_result"
    }
   ],
   "source": [
    "df_rec = recom.to_dataframe()\n",
    "print(df_rec.shape)\n",
    "df_rec.head()"
   ]
  },
  {
   "cell_type": "markdown",
   "metadata": {},
   "source": [
    "## Output Dataframe\n",
    "\n",
    "    Contains all recommendations"
   ]
  },
  {
   "cell_type": "code",
   "execution_count": 24,
   "metadata": {},
   "outputs": [],
   "source": [
    "def create_output(model, users_to_recommend, n_rec, print_csv=True):\n",
    "    recomendation = model\n",
    "    #recomendation = model.recommend(users=users_to_recommend, k=n_rec)\n",
    "    df_rec = recomendation.to_dataframe()\n",
    "    df_rec['recommendedProducts'] = df_rec.groupby([user_id])[item_id] \\\n",
    "        .transform(lambda x: '|'.join(x.astype(str)))\n",
    "    df_output = df_rec[['COD_CLIENTE', 'recommendedProducts']].drop_duplicates() \\\n",
    "        .sort_values('COD_CLIENTE').set_index('COD_CLIENTE')\n",
    "    if print_csv:\n",
    "        df_output.to_csv('output.csv', sep=';')\n",
    "        print(\"An output file can be found with name 'output.csv'\")\n",
    "    return df_output"
   ]
  },
  {
   "cell_type": "code",
   "execution_count": 25,
   "metadata": {},
   "outputs": [
    {
     "name": "stdout",
     "output_type": "stream",
     "text": [
      "An output file can be found with name 'output.csv'\n",
      "(217013, 1)\n"
     ]
    },
    {
     "data": {
      "text/html": [
       "<div>\n",
       "<style scoped>\n",
       "    .dataframe tbody tr th:only-of-type {\n",
       "        vertical-align: middle;\n",
       "    }\n",
       "\n",
       "    .dataframe tbody tr th {\n",
       "        vertical-align: top;\n",
       "    }\n",
       "\n",
       "    .dataframe thead th {\n",
       "        text-align: right;\n",
       "    }\n",
       "</style>\n",
       "<table border=\"1\" class=\"dataframe\">\n",
       "  <thead>\n",
       "    <tr style=\"text-align: right;\">\n",
       "      <th></th>\n",
       "      <th>recommendedProducts</th>\n",
       "    </tr>\n",
       "    <tr>\n",
       "      <th>COD_CLIENTE</th>\n",
       "      <th></th>\n",
       "    </tr>\n",
       "  </thead>\n",
       "  <tbody>\n",
       "    <tr>\n",
       "      <th>000P3D01</th>\n",
       "      <td>15558|26460|19729|26589|24526|24632|26588|1453...</td>\n",
       "    </tr>\n",
       "    <tr>\n",
       "      <th>000P3J01</th>\n",
       "      <td>18662|18247|17868|17591|17372|15713|15712|1555...</td>\n",
       "    </tr>\n",
       "    <tr>\n",
       "      <th>000P4C01</th>\n",
       "      <td>18662|18247|17868|17591|17372|15713|15712|1555...</td>\n",
       "    </tr>\n",
       "    <tr>\n",
       "      <th>000P4M01</th>\n",
       "      <td>18662|18247|17868|17591|17372|15713|15712|1555...</td>\n",
       "    </tr>\n",
       "    <tr>\n",
       "      <th>000P4X01</th>\n",
       "      <td>18662|18247|17868|17591|17372|15713|15712|1555...</td>\n",
       "    </tr>\n",
       "  </tbody>\n",
       "</table>\n",
       "</div>"
      ],
      "text/plain": [
       "                                           recommendedProducts\n",
       "COD_CLIENTE                                                   \n",
       "000P3D01     15558|26460|19729|26589|24526|24632|26588|1453...\n",
       "000P3J01     18662|18247|17868|17591|17372|15713|15712|1555...\n",
       "000P4C01     18662|18247|17868|17591|17372|15713|15712|1555...\n",
       "000P4M01     18662|18247|17868|17591|17372|15713|15712|1555...\n",
       "000P4X01     18662|18247|17868|17591|17372|15713|15712|1555..."
      ]
     },
     "execution_count": 25,
     "metadata": {},
     "output_type": "execute_result"
    }
   ],
   "source": [
    "op = create_output(recom, users_to_recommend, 10, print_csv=True )\n",
    "print(op.shape)\n",
    "op.head()"
   ]
  },
  {
   "cell_type": "markdown",
   "metadata": {},
   "source": [
    "## Customer Recommendation\n",
    "\n",
    "### Given a 'Client Code', shows all suggested products"
   ]
  },
  {
   "cell_type": "code",
   "execution_count": 28,
   "metadata": {},
   "outputs": [],
   "source": [
    "def customer_recomendation(customer_id):\n",
    "    if customer_id not in op.index:\n",
    "        print('Customer not found.')\n",
    "        return customer_id\n",
    "    return op.loc[customer_id]"
   ]
  },
  {
   "cell_type": "code",
   "execution_count": 30,
   "metadata": {},
   "outputs": [
    {
     "data": {
      "text/plain": [
       "recommendedProducts    18662|18247|17868|17591|17372|15713|15712|1555...\n",
       "Name: 000P3J01, dtype: object"
      ]
     },
     "execution_count": 30,
     "metadata": {},
     "output_type": "execute_result"
    }
   ],
   "source": [
    "customer_recomendation('000P3J01')"
   ]
  },
  {
   "cell_type": "code",
   "execution_count": null,
   "metadata": {},
   "outputs": [],
   "source": []
  }
 ],
 "metadata": {
  "kernelspec": {
   "display_name": "Python 3",
   "language": "python",
   "name": "python3"
  },
  "language_info": {
   "codemirror_mode": {
    "name": "ipython",
    "version": 3
   },
   "file_extension": ".py",
   "mimetype": "text/x-python",
   "name": "python",
   "nbconvert_exporter": "python",
   "pygments_lexer": "ipython3",
   "version": "3.6.9"
  }
 },
 "nbformat": 4,
 "nbformat_minor": 4
}
